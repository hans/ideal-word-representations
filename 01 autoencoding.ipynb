{
 "cells": [
  {
   "cell_type": "code",
   "execution_count": 41,
   "id": "2aae03ff-4a62-41a1-8055-76133fffe48b",
   "metadata": {
    "tags": []
   },
   "outputs": [],
   "source": [
    "from hydra import initialize, compose\n",
    "from omegaconf import OmegaConf\n",
    "\n",
    "import numpy as np\n",
    "import pandas as pd\n",
    "import torch\n",
    "from torch import nn, optim\n",
    "from torch.utils.data import TensorDataset, DataLoader, RandomSampler, WeightedRandomSampler\n",
    "\n",
    "from models import Vocabulary\n",
    "from models.autoencoder import EncoderRNN, DecoderRNN, Autoencoder"
   ]
  },
  {
   "cell_type": "code",
   "execution_count": 13,
   "id": "59fbbfd6-80c2-4cd1-92c0-a6180b21135d",
   "metadata": {
    "tags": []
   },
   "outputs": [
    {
     "data": {
      "text/plain": [
       "{'trainer': {'batch_size': 32}, 'autoencoder': {'data': {'sampler': {'strategy': 'word', 'weights': 'uniform'}, 'representation': {'form': 'phone-sequence', 'drop_extras': True}}}}"
      ]
     },
     "execution_count": 13,
     "metadata": {},
     "output_type": "execute_result"
    }
   ],
   "source": [
    "with initialize(version_base=None, config_path=\"conf\"):\n",
    "    cfg = compose(config_name=\"config\", overrides=[\"+autoencoder=phone_word_uniform\"])\n",
    "cfg"
   ]
  },
  {
   "cell_type": "code",
   "execution_count": 14,
   "id": "05f4b494-fd73-4323-8166-f9fb9b434870",
   "metadata": {
    "tags": []
   },
   "outputs": [
    {
     "name": "stdout",
     "output_type": "stream",
     "text": [
      "The autoreload extension is already loaded. To reload it, use:\n",
      "  %reload_ext autoreload\n"
     ]
    }
   ],
   "source": [
    "%load_ext autoreload\n",
    "%autoreload 2"
   ]
  },
  {
   "cell_type": "markdown",
   "id": "56547c3a-b738-44d2-a546-cf4390b95847",
   "metadata": {
    "tags": []
   },
   "source": [
    "## Prepare dataset"
   ]
  },
  {
   "cell_type": "code",
   "execution_count": 15,
   "id": "9ee6721b-0aed-4418-bad0-0f771cf39ff5",
   "metadata": {
    "tags": []
   },
   "outputs": [],
   "source": [
    "# \"Extra\" phones in TIMIT not corresponding to speech sounds\n",
    "timit_extras = [\"pau\", \"epi\", \"h#\"]"
   ]
  },
  {
   "cell_type": "code",
   "execution_count": 16,
   "id": "be51af06-0217-46da-a12c-b5add90e445d",
   "metadata": {
    "tags": []
   },
   "outputs": [],
   "source": [
    "df = pd.read_csv(\"timit_merged.csv\")"
   ]
  },
  {
   "cell_type": "code",
   "execution_count": 17,
   "id": "bba310ab-deaf-424d-876a-44a3fc20e069",
   "metadata": {
    "tags": []
   },
   "outputs": [],
   "source": [
    "if cfg.autoencoder.data.representation.drop_extras:\n",
    "    df = df[~df.phone.isin(timit_extras)]"
   ]
  },
  {
   "cell_type": "code",
   "execution_count": 18,
   "id": "6206d240-53ef-4904-a8da-3288b557fdce",
   "metadata": {
    "tags": []
   },
   "outputs": [],
   "source": [
    "all_words = df.groupby([\"dialect\", \"speaker\", \"sentence_idx\", \"word_idx\"]).apply(lambda xs: xs.phone.str.cat(sep=\" \")).value_counts()\n",
    "all_words, all_word_freqs = [tuple(word.split(\" \")) for word in all_words.index], list(all_words)"
   ]
  },
  {
   "cell_type": "code",
   "execution_count": 19,
   "id": "8946a5c5-52c3-4e69-95b0-b323e47eb23b",
   "metadata": {
    "tags": []
   },
   "outputs": [],
   "source": [
    "vocab = Vocabulary(\"\")\n",
    "for word in all_words:\n",
    "    vocab.add_sequence(word)"
   ]
  },
  {
   "cell_type": "code",
   "execution_count": 35,
   "id": "8f8f5a51-3e67-4dcd-9e7d-9c4aebe75c30",
   "metadata": {
    "tags": []
   },
   "outputs": [],
   "source": [
    "# Prepare input tensor\n",
    "max_length = 10\n",
    "n = len(all_words)\n",
    "input_ids = np.zeros((n, max_length), dtype=np.int32)\n",
    "# target_ids = np.zeros((n, max_length), dtype=np.int32)\n",
    "\n",
    "for idx, seq in enumerate(all_words):\n",
    "    input_ids_i = [vocab.sos_token_id] + \\\n",
    "        [vocab.token2index[token] for token in seq][:max_length - 2] + \\\n",
    "        [vocab.eos_token_id]\n",
    "    input_ids[idx, :len(input_ids_i)] = input_ids_i\n",
    "    \n",
    "train_data = TensorDataset(torch.LongTensor(input_ids))\n",
    "\n",
    "if cfg.autoencoder.data.sampler.strategy != \"word\":\n",
    "    raise NotImplementedError()\n",
    "if cfg.autoencoder.data.sampler.weights == \"uniform\":\n",
    "    train_sampler = RandomSampler(train_data)\n",
    "elif cfg.autoencoder.data.sampler.weights == \"unigram\":\n",
    "    train_sampler = WeightedRandomSampler(all_word_freqs)\n",
    "train_dataloader = DataLoader(train_data, sampler=train_sampler, batch_size=cfg.trainer.batch_size)"
   ]
  },
  {
   "cell_type": "markdown",
   "id": "c93529b0-7205-4830-b1e0-e64e185eae4f",
   "metadata": {},
   "source": [
    "## Train"
   ]
  },
  {
   "cell_type": "code",
   "execution_count": 40,
   "id": "c02f9565-74a5-4179-b229-45dbaf73faf5",
   "metadata": {
    "tags": []
   },
   "outputs": [],
   "source": [
    "def train_epoch(dataloader, autoencoder, opt, criterion):\n",
    "    total_loss = 0\n",
    "    for data in dataloader:\n",
    "        opt.zero_grad()\n",
    "        \n",
    "        batch_input, = data\n",
    "        batch_target, = data\n",
    "        \n",
    "        dec_outputs, _ = autoencoder(batch_input, batch_target)\n",
    "        \n",
    "        loss = criterion(\n",
    "            dec_outputs.view(-1, dec_outputs.size(-1)),\n",
    "            batch_target.view(-1)\n",
    "        )\n",
    "        loss.backward()\n",
    "        \n",
    "        opt.step()\n",
    "        total_loss += loss.item()\n",
    "        \n",
    "    return total_loss / len(dataloader)"
   ]
  },
  {
   "cell_type": "code",
   "execution_count": 45,
   "id": "f833e840-1a34-4bd8-9757-59b217e67d46",
   "metadata": {
    "tags": []
   },
   "outputs": [],
   "source": [
    "def train(train_dataloader, autoencoder, n_epochs,\n",
    "          learning_rate=0.01, print_every=100):\n",
    "    print_loss_total = 0\n",
    "    \n",
    "    opt = optim.Adam(autoencoder.parameters(), lr=learning_rate)\n",
    "    criterion = nn.NLLLoss()\n",
    "    \n",
    "    for epoch in range(1, n_epochs + 1):\n",
    "        loss = train_epoch(train_dataloader, autoencoder, opt, criterion)\n",
    "        print_loss_total += loss\n",
    "        \n",
    "        if epoch % print_every == 0:\n",
    "            print_loss_avg = print_loss_total / print_every\n",
    "            print_loss_total = 0\n",
    "            print(\"%d %.4f\" % (epoch, print_loss_avg))"
   ]
  },
  {
   "cell_type": "code",
   "execution_count": 43,
   "id": "3bee1333-4f2b-4484-bbc1-32b8f7532592",
   "metadata": {
    "tags": []
   },
   "outputs": [],
   "source": [
    "hidden_size = 32\n",
    "autoencoder = Autoencoder(hidden_size, vocab)"
   ]
  },
  {
   "cell_type": "code",
   "execution_count": 46,
   "id": "bcb64fae-d29c-4f06-bcc0-a8b7099ef6ff",
   "metadata": {
    "tags": []
   },
   "outputs": [
    {
     "name": "stdout",
     "output_type": "stream",
     "text": [
      "1 1.7004\n",
      "2 1.2246\n",
      "3 0.9881\n",
      "4 0.8487\n",
      "5 0.7524\n",
      "6 0.6769\n",
      "7 0.6239\n",
      "8 0.5877\n",
      "9 0.5458\n",
      "10 0.5275\n"
     ]
    }
   ],
   "source": [
    "train(train_dataloader, autoencoder, 10, print_every=1)"
   ]
  },
  {
   "cell_type": "code",
   "execution_count": null,
   "id": "e1124a79-61cf-4946-8976-e3c17c89483b",
   "metadata": {},
   "outputs": [],
   "source": []
  }
 ],
 "metadata": {
  "kernelspec": {
   "display_name": "Python 3 (ipykernel)",
   "language": "python",
   "name": "python3"
  },
  "language_info": {
   "codemirror_mode": {
    "name": "ipython",
    "version": 3
   },
   "file_extension": ".py",
   "mimetype": "text/x-python",
   "name": "python",
   "nbconvert_exporter": "python",
   "pygments_lexer": "ipython3",
   "version": "3.10.13"
  }
 },
 "nbformat": 4,
 "nbformat_minor": 5
}
