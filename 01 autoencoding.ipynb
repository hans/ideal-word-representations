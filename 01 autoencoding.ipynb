{
 "cells": [
  {
   "cell_type": "code",
   "execution_count": 1,
   "id": "2aae03ff-4a62-41a1-8055-76133fffe48b",
   "metadata": {
    "tags": []
   },
   "outputs": [],
   "source": [
    "from hydra import initialize, compose\n",
    "from omegaconf import OmegaConf\n",
    "\n",
    "import numpy as np\n",
    "import pandas as pd\n",
    "import torch\n",
    "from torch import nn, optim\n",
    "from torch.utils.data import TensorDataset, DataLoader, RandomSampler, WeightedRandomSampler, random_split\n",
    "\n",
    "from models import Vocabulary\n",
    "from models.autoencoder import EncoderRNN, DecoderRNN, Autoencoder"
   ]
  },
  {
   "cell_type": "code",
   "execution_count": 2,
   "id": "59fbbfd6-80c2-4cd1-92c0-a6180b21135d",
   "metadata": {
    "tags": []
   },
   "outputs": [
    {
     "data": {
      "text/plain": [
       "{'trainer': {'batch_size': 32}, 'autoencoder': {'data': {'sampler': {'strategy': 'word', 'weights': 'uniform'}, 'representation': {'form': 'phone-sequence', 'drop_extras': True}}}}"
      ]
     },
     "execution_count": 2,
     "metadata": {},
     "output_type": "execute_result"
    }
   ],
   "source": [
    "with initialize(version_base=None, config_path=\"conf\"):\n",
    "    cfg = compose(config_name=\"config\", overrides=[\"+autoencoder=phone_word_uniform\"])\n",
    "cfg"
   ]
  },
  {
   "cell_type": "code",
   "execution_count": 3,
   "id": "05f4b494-fd73-4323-8166-f9fb9b434870",
   "metadata": {
    "tags": []
   },
   "outputs": [],
   "source": [
    "%load_ext autoreload\n",
    "%autoreload 2"
   ]
  },
  {
   "cell_type": "markdown",
   "id": "56547c3a-b738-44d2-a546-cf4390b95847",
   "metadata": {
    "tags": []
   },
   "source": [
    "## Prepare dataset"
   ]
  },
  {
   "cell_type": "code",
   "execution_count": 4,
   "id": "9ee6721b-0aed-4418-bad0-0f771cf39ff5",
   "metadata": {
    "tags": []
   },
   "outputs": [],
   "source": [
    "# \"Extra\" phones in TIMIT not corresponding to speech sounds\n",
    "timit_extras = [\"pau\", \"epi\", \"h#\"]"
   ]
  },
  {
   "cell_type": "code",
   "execution_count": 5,
   "id": "be51af06-0217-46da-a12c-b5add90e445d",
   "metadata": {
    "tags": []
   },
   "outputs": [],
   "source": [
    "df = pd.read_csv(\"timit_merged.csv\")"
   ]
  },
  {
   "cell_type": "code",
   "execution_count": 6,
   "id": "bba310ab-deaf-424d-876a-44a3fc20e069",
   "metadata": {
    "tags": []
   },
   "outputs": [],
   "source": [
    "if cfg.autoencoder.data.representation.drop_extras:\n",
    "    df = df[~df.phone.isin(timit_extras)]"
   ]
  },
  {
   "cell_type": "code",
   "execution_count": 7,
   "id": "6206d240-53ef-4904-a8da-3288b557fdce",
   "metadata": {
    "tags": []
   },
   "outputs": [],
   "source": [
    "all_words = df.groupby([\"dialect\", \"speaker\", \"sentence_idx\", \"word_idx\"]).apply(lambda xs: xs.phone.str.cat(sep=\" \")).value_counts()\n",
    "all_words, all_word_freqs = [tuple(word.split(\" \")) for word in all_words.index], list(all_words)"
   ]
  },
  {
   "cell_type": "code",
   "execution_count": 8,
   "id": "8946a5c5-52c3-4e69-95b0-b323e47eb23b",
   "metadata": {
    "tags": []
   },
   "outputs": [],
   "source": [
    "vocab = Vocabulary(\"\")\n",
    "for word in all_words:\n",
    "    vocab.add_sequence(word)"
   ]
  },
  {
   "cell_type": "code",
   "execution_count": 9,
   "id": "8f8f5a51-3e67-4dcd-9e7d-9c4aebe75c30",
   "metadata": {
    "tags": []
   },
   "outputs": [],
   "source": [
    "# Prepare input tensor\n",
    "max_length = 10\n",
    "n = len(all_words)\n",
    "input_ids = np.zeros((n, max_length), dtype=np.int32)\n",
    "# target_ids = np.zeros((n, max_length), dtype=np.int32)\n",
    "\n",
    "for idx, seq in enumerate(all_words):\n",
    "    input_ids_i = [vocab.sos_token_id] + \\\n",
    "        [vocab.token2index[token] for token in seq][:max_length - 2] + \\\n",
    "        [vocab.eos_token_id]\n",
    "    input_ids[idx, :len(input_ids_i)] = input_ids_i\n",
    "    \n",
    "all_data = TensorDataset(torch.LongTensor(input_ids))\n",
    "train_data, val_data, test_data = random_split(all_data, [0.8, 0.1, 0.1])\n",
    "\n",
    "if cfg.autoencoder.data.sampler.strategy != \"word\":\n",
    "    raise NotImplementedError()\n",
    "if cfg.autoencoder.data.sampler.weights == \"uniform\":\n",
    "    train_sampler = RandomSampler(train_data)\n",
    "elif cfg.autoencoder.data.sampler.weights == \"unigram\":\n",
    "    train_sampler = WeightedRandomSampler(all_word_freqs)\n",
    "\n",
    "train_dataloader = DataLoader(train_data, sampler=train_sampler, batch_size=cfg.trainer.batch_size)\n",
    "val_dataloader = DataLoader(val_data)"
   ]
  },
  {
   "cell_type": "markdown",
   "id": "c93529b0-7205-4830-b1e0-e64e185eae4f",
   "metadata": {},
   "source": [
    "## Train"
   ]
  },
  {
   "cell_type": "code",
   "execution_count": 10,
   "id": "c02f9565-74a5-4179-b229-45dbaf73faf5",
   "metadata": {
    "tags": []
   },
   "outputs": [],
   "source": [
    "def train_epoch(dataloader, autoencoder, opt, criterion):\n",
    "    total_loss = 0\n",
    "    for data in dataloader:\n",
    "        opt.zero_grad()\n",
    "        \n",
    "        batch_input, = data\n",
    "        batch_target, = data\n",
    "        \n",
    "        dec_outputs, _ = autoencoder(batch_input, batch_target)\n",
    "        \n",
    "        loss = criterion(\n",
    "            dec_outputs.view(-1, dec_outputs.size(-1)),\n",
    "            batch_target.view(-1)\n",
    "        )\n",
    "        loss.backward()\n",
    "        \n",
    "        opt.step()\n",
    "        total_loss += loss.item()\n",
    "        \n",
    "    return total_loss / len(dataloader)"
   ]
  },
  {
   "cell_type": "code",
   "execution_count": 42,
   "id": "bd114ea3-f89a-4fa2-863d-79231d35ccb8",
   "metadata": {
    "tags": []
   },
   "outputs": [],
   "source": [
    "def evaluate(dataloader, autoencoder, criterion):\n",
    "    with torch.no_grad():\n",
    "        total_loss = 0\n",
    "        decoded_sequences = []\n",
    "        for data in dataloader:\n",
    "            batch_input, = data\n",
    "            batch_target, = data\n",
    "            \n",
    "            dec_outputs, _ = autoencoder(batch_input, batch_target)\n",
    "            loss = criterion(\n",
    "                dec_outputs.view(-1, dec_outputs.size(-1)),\n",
    "                batch_target.view(-1)\n",
    "            )\n",
    "            total_loss += loss.item()\n",
    "            \n",
    "            _, topi = dec_outputs.topk(1)\n",
    "            decoded_ids = topi.squeeze()\n",
    "            decoded_tokens = []\n",
    "            for idx in decoded_ids:\n",
    "                if idx == autoencoder.vocabulary.eos_token_id:\n",
    "                    decoded_tokens.append(\"<EOS>\")\n",
    "                    break\n",
    "                decoded_tokens.append(autoencoder.vocabulary.index2token[idx.item()])\n",
    "                \n",
    "            decoded_sequences.append(decoded_tokens)\n",
    "    \n",
    "    total_loss /= len(val_dataloader)\n",
    "    return total_loss, decoded_sequences"
   ]
  },
  {
   "cell_type": "code",
   "execution_count": 63,
   "id": "f833e840-1a34-4bd8-9757-59b217e67d46",
   "metadata": {
    "tags": []
   },
   "outputs": [],
   "source": [
    "def train(train_dataloader, val_dataloader, autoencoder, n_epochs,\n",
    "          learning_rate=0.01, print_every=100, val_every=100):\n",
    "    print_loss_total = 0\n",
    "    \n",
    "    opt = optim.Adam(autoencoder.parameters(), lr=learning_rate)\n",
    "    criterion = nn.NLLLoss()\n",
    "    \n",
    "    for epoch in range(1, n_epochs + 1):\n",
    "        loss = train_epoch(train_dataloader, autoencoder, opt, criterion)\n",
    "        print_loss_total += loss\n",
    "        \n",
    "        if epoch % print_every == 0:\n",
    "            print_loss_avg = print_loss_total / print_every\n",
    "            print_loss_total = 0\n",
    "            print(\"%d %.4f\" % (epoch, print_loss_avg))\n",
    "            \n",
    "        if epoch % val_every == 0:\n",
    "            val_loss, _ = evaluate(val_dataloader, autoencoder, criterion)\n",
    "            print(\"--- val loss: %.4f\" % val_loss)"
   ]
  },
  {
   "cell_type": "code",
   "execution_count": 73,
   "id": "3bee1333-4f2b-4484-bbc1-32b8f7532592",
   "metadata": {
    "tags": []
   },
   "outputs": [],
   "source": [
    "hidden_size = 256\n",
    "autoencoder = Autoencoder(hidden_size, vocab)"
   ]
  },
  {
   "cell_type": "code",
   "execution_count": 74,
   "id": "bcb64fae-d29c-4f06-bcc0-a8b7099ef6ff",
   "metadata": {
    "tags": []
   },
   "outputs": [
    {
     "name": "stdout",
     "output_type": "stream",
     "text": [
      "1 0.8865\n",
      "--- val loss: 0.4856\n",
      "2 0.3730\n",
      "--- val loss: 0.3971\n",
      "3 0.3076\n",
      "--- val loss: 0.3355\n",
      "4 0.2793\n",
      "--- val loss: 0.3177\n"
     ]
    }
   ],
   "source": [
    "train(train_dataloader, val_dataloader, autoencoder, 4, print_every=1, val_every=1)"
   ]
  },
  {
   "cell_type": "markdown",
   "id": "f1314409-a7d7-4aed-b3bd-2ddf8ad1f661",
   "metadata": {},
   "source": [
    "## Decode"
   ]
  },
  {
   "cell_type": "code",
   "execution_count": 75,
   "id": "93723c32-d756-4dbe-a360-3ee407fed4c3",
   "metadata": {
    "tags": []
   },
   "outputs": [],
   "source": [
    "val_loss, val_outputs = evaluate(val_dataloader, autoencoder, nn.NLLLoss())"
   ]
  },
  {
   "cell_type": "code",
   "execution_count": 76,
   "id": "6a31bbe9-d722-4d58-a2a1-6728e4599b48",
   "metadata": {
    "tags": []
   },
   "outputs": [
    {
     "data": {
      "text/plain": [
       "0.31559363552704894"
      ]
     },
     "execution_count": 76,
     "metadata": {},
     "output_type": "execute_result"
    }
   ],
   "source": [
    "val_loss"
   ]
  },
  {
   "cell_type": "code",
   "execution_count": 77,
   "id": "5e840e6a-b457-4bd1-b300-615553074395",
   "metadata": {
    "tags": []
   },
   "outputs": [],
   "source": [
    "val_inputs = [\" \".join(autoencoder.vocabulary.index2token[idx.item()] for idx in seq.squeeze())\n",
    "              for seq, in val_dataloader]"
   ]
  },
  {
   "cell_type": "code",
   "execution_count": 78,
   "id": "a376d3fe-c889-42f9-ad00-10bc68c3c68b",
   "metadata": {
    "tags": []
   },
   "outputs": [
    {
     "data": {
      "text/plain": [
       "[('<SOS> kcl k ax n tcl t ey n <EOS>', '<SOS> kcl k ax n tcl t ey v <EOS>'),\n",
       " ('<SOS> dcl d ey dx ix <EOS> <SOS> <SOS> <SOS>',\n",
       "  '<SOS> dcl d ey dx ix ng <SOS> <SOS> <SOS>'),\n",
       " ('<SOS> n ah m bcl b er <EOS> <SOS> <SOS>', '<SOS> n ah m bcl b er <EOS>'),\n",
       " ('<SOS> ix kcl k s pcl p er ih <EOS>', '<SOS> ix kcl k s pcl p er ih <EOS>'),\n",
       " ('<SOS> pcl p r aa s eh s tcl <EOS>', '<SOS> pcl p r aa s tcl tcl tcl <EOS>'),\n",
       " ('<SOS> r iy ix sh er ix ng <EOS> <SOS>', '<SOS> r ix ix ng er ix ng <EOS>'),\n",
       " ('<SOS> kcl k ax n s er n <EOS> <SOS>', '<SOS> kcl k ax n s er s <EOS>'),\n",
       " ('<SOS> bcl b aa dh axr <EOS> <SOS> <SOS> <SOS>',\n",
       "  '<SOS> bcl b aa dh axr <EOS>'),\n",
       " ('<SOS> pcl p ow eh m z <EOS> <SOS> <SOS>', '<SOS> pcl p ow m z z <EOS>'),\n",
       " ('<SOS> r ix z uh l tcl t s <EOS>', '<SOS> r uh z l l tcl t s <EOS>'),\n",
       " ('<SOS> sh er l iy <EOS> <SOS> <SOS> <SOS> <SOS>', '<SOS> sh er l iy <EOS>'),\n",
       " ('<SOS> b aa bcl k ae tcl <EOS> <SOS> <SOS>',\n",
       "  '<SOS> b aa tcl b ae tcl <EOS>'),\n",
       " ('<SOS> hh ix pcl p ix kcl k r <EOS>', '<SOS> hh ix kcl p ix kcl k <EOS>'),\n",
       " ('<SOS> sh er l ih <EOS> <SOS> <SOS> <SOS> <SOS>', '<SOS> sh er l ih <EOS>'),\n",
       " ('<SOS> kcl k ah s tcl t em axr <EOS>',\n",
       "  '<SOS> kcl k ah s tcl t axr axr <EOS>'),\n",
       " ('<SOS> gcl g aa q <EOS> <SOS> <SOS> <SOS> <SOS>', '<SOS> gcl g aa q <EOS>'),\n",
       " ('<SOS> w ah l th iy <EOS> <SOS> <SOS> <SOS>', '<SOS> w ah l ah iy <EOS>'),\n",
       " ('<SOS> kcl k l ah bcl <EOS> <SOS> <SOS> <SOS>',\n",
       "  '<SOS> kcl k l aa l b <SOS> <SOS> <SOS>'),\n",
       " ('<SOS> s tcl t ae tcl ch uw w <EOS>',\n",
       "  '<SOS> tcl tcl t uw tcl ch uw tcl <EOS>'),\n",
       " ('<SOS> p ao r kcl k ux pcl p <EOS>', '<SOS> p ao r ux k ux ao p <EOS>')]"
      ]
     },
     "execution_count": 78,
     "metadata": {},
     "output_type": "execute_result"
    }
   ],
   "source": [
    "list(zip(val_inputs[:20], [\" \".join(toks) for toks in val_outputs[:20]]))"
   ]
  },
  {
   "cell_type": "code",
   "execution_count": null,
   "id": "ff4bcdad-d4b1-4ee4-b1fb-3a9407067f7d",
   "metadata": {},
   "outputs": [],
   "source": [
    "\n"
   ]
  }
 ],
 "metadata": {
  "kernelspec": {
   "display_name": "Python 3 (ipykernel)",
   "language": "python",
   "name": "python3"
  },
  "language_info": {
   "codemirror_mode": {
    "name": "ipython",
    "version": 3
   },
   "file_extension": ".py",
   "mimetype": "text/x-python",
   "name": "python",
   "nbconvert_exporter": "python",
   "pygments_lexer": "ipython3",
   "version": "3.10.13"
  }
 },
 "nbformat": 4,
 "nbformat_minor": 5
}
