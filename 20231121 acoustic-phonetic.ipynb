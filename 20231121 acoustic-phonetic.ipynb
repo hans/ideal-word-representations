{
 "cells": [
  {
   "cell_type": "code",
   "execution_count": 1,
   "metadata": {},
   "outputs": [],
   "source": [
    "import os\n",
    "os.environ[\"CUDA_VISIBLE_DEVICES\"] = \"\""
   ]
  },
  {
   "cell_type": "code",
   "execution_count": 2,
   "metadata": {},
   "outputs": [],
   "source": [
    "from collections import defaultdict\n",
    "\n",
    "import mat73\n",
    "import numpy as np\n",
    "import pandas as pd\n",
    "import matplotlib.pyplot as plt\n",
    "import seaborn as sns\n",
    "\n",
    "import datasets\n",
    "import transformers\n",
    "import torch"
   ]
  },
  {
   "cell_type": "markdown",
   "metadata": {},
   "source": [
    "## Prep"
   ]
  },
  {
   "cell_type": "code",
   "execution_count": 84,
   "metadata": {},
   "outputs": [],
   "source": [
    "model_name = \"facebook/wav2vec2-base\"\n",
    "dataset_path = \"data/timit_phoneme\""
   ]
  },
  {
   "cell_type": "code",
   "execution_count": 85,
   "metadata": {},
   "outputs": [
    {
     "name": "stderr",
     "output_type": "stream",
     "text": [
      "The tokenizer class you load from this checkpoint is not the same type as the class this function is called from. It may result in unexpected tokenization. \n",
      "The tokenizer class you load from this checkpoint is 'Wav2Vec2CTCTokenizer'. \n",
      "The class this function is called from is 'Wav2Vec2Tokenizer'.\n",
      "/userdata/jgauthier/transformers/lib/python3.10/site-packages/transformers/models/wav2vec2/tokenization_wav2vec2.py:792: FutureWarning: The class `Wav2Vec2Tokenizer` is deprecated and will be removed in version 5 of Transformers. Please use `Wav2Vec2Processor` or `Wav2Vec2CTCTokenizer` instead.\n",
      "  warnings.warn(\n",
      "Special tokens have been added in the vocabulary, make sure the associated word embeddings are fine-tuned or trained.\n",
      "/userdata/jgauthier/transformers/lib/python3.10/site-packages/transformers/configuration_utils.py:380: UserWarning: Passing `gradient_checkpointing` to a config initialization is deprecated and will be removed in v5 Transformers. Using `model.gradient_checkpointing_enable()` instead, or if you are using the `Trainer` API, pass `gradient_checkpointing=True` in your `TrainingArguments`.\n",
      "  warnings.warn(\n"
     ]
    }
   ],
   "source": [
    "tokenizer = transformers.Wav2Vec2Tokenizer.from_pretrained(\"charsiu/tokenizer_en_cmu\")\n",
    "model = transformers.Wav2Vec2Model.from_pretrained(model_name)\n",
    "feature_extractor = transformers.Wav2Vec2FeatureExtractor(feature_size=1, sampling_rate=16000, padding_value=0.0, do_normalize=True, return_attention_mask=False)\n",
    "processor = transformers.Wav2Vec2Processor(feature_extractor=feature_extractor, tokenizer=tokenizer)"
   ]
  },
  {
   "cell_type": "code",
   "execution_count": 5,
   "metadata": {},
   "outputs": [],
   "source": [
    "dataset = datasets.load_from_disk(dataset_path)"
   ]
  },
  {
   "cell_type": "markdown",
   "metadata": {},
   "source": [
    "### Load TIMIT annotations"
   ]
  },
  {
   "cell_type": "code",
   "execution_count": 6,
   "metadata": {},
   "outputs": [],
   "source": [
    "annot_sent_names = mat73.loadmat(\"data/timit_annotations/sent_names.mat\")[\"sent_names\"]\n",
    "annot_data = mat73.loadmat(\"data/timit_annotations/TIMIT_ecog_info.mat\")[\"sentdet\"][\"sentdet\"]"
   ]
  },
  {
   "cell_type": "code",
   "execution_count": 7,
   "metadata": {},
   "outputs": [],
   "source": [
    "assert len(annot_sent_names) == len(annot_data)"
   ]
  },
  {
   "cell_type": "code",
   "execution_count": 8,
   "metadata": {},
   "outputs": [
    {
     "data": {
      "text/html": [
       "<div>\n",
       "<style scoped>\n",
       "    .dataframe tbody tr th:only-of-type {\n",
       "        vertical-align: middle;\n",
       "    }\n",
       "\n",
       "    .dataframe tbody tr th {\n",
       "        vertical-align: top;\n",
       "    }\n",
       "\n",
       "    .dataframe thead th {\n",
       "        text-align: right;\n",
       "    }\n",
       "</style>\n",
       "<table border=\"1\" class=\"dataframe\">\n",
       "  <thead>\n",
       "    <tr style=\"text-align: right;\">\n",
       "      <th></th>\n",
       "      <th>sentence</th>\n",
       "      <th>speaker_id</th>\n",
       "    </tr>\n",
       "  </thead>\n",
       "  <tbody>\n",
       "    <tr>\n",
       "      <th>0</th>\n",
       "      <td>SI1279</td>\n",
       "      <td>ADG0</td>\n",
       "    </tr>\n",
       "    <tr>\n",
       "      <th>1</th>\n",
       "      <td>SI2022</td>\n",
       "      <td>AEM0</td>\n",
       "    </tr>\n",
       "    <tr>\n",
       "      <th>2</th>\n",
       "      <td>SI1955</td>\n",
       "      <td>ALR0</td>\n",
       "    </tr>\n",
       "    <tr>\n",
       "      <th>3</th>\n",
       "      <td>SI1000</td>\n",
       "      <td>AWF0</td>\n",
       "    </tr>\n",
       "    <tr>\n",
       "      <th>4</th>\n",
       "      <td>SI1612</td>\n",
       "      <td>BCG1</td>\n",
       "    </tr>\n",
       "    <tr>\n",
       "      <th>...</th>\n",
       "      <td>...</td>\n",
       "      <td>...</td>\n",
       "    </tr>\n",
       "    <tr>\n",
       "      <th>494</th>\n",
       "      <td>SI1687</td>\n",
       "      <td>WRE0</td>\n",
       "    </tr>\n",
       "    <tr>\n",
       "      <th>495</th>\n",
       "      <td>SI2317</td>\n",
       "      <td>WRE0</td>\n",
       "    </tr>\n",
       "    <tr>\n",
       "      <th>496</th>\n",
       "      <td>SI1525</td>\n",
       "      <td>WRP0</td>\n",
       "    </tr>\n",
       "    <tr>\n",
       "      <th>497</th>\n",
       "      <td>SI2256</td>\n",
       "      <td>WSB0</td>\n",
       "    </tr>\n",
       "    <tr>\n",
       "      <th>498</th>\n",
       "      <td>SI1796</td>\n",
       "      <td>ZMB0</td>\n",
       "    </tr>\n",
       "  </tbody>\n",
       "</table>\n",
       "<p>499 rows × 2 columns</p>\n",
       "</div>"
      ],
      "text/plain": [
       "    sentence speaker_id\n",
       "0     SI1279       ADG0\n",
       "1     SI2022       AEM0\n",
       "2     SI1955       ALR0\n",
       "3     SI1000       AWF0\n",
       "4     SI1612       BCG1\n",
       "..       ...        ...\n",
       "494   SI1687       WRE0\n",
       "495   SI2317       WRE0\n",
       "496   SI1525       WRP0\n",
       "497   SI2256       WSB0\n",
       "498   SI1796       ZMB0\n",
       "\n",
       "[499 rows x 2 columns]"
      ]
     },
     "execution_count": 8,
     "metadata": {},
     "output_type": "execute_result"
    }
   ],
   "source": [
    "annot_sent_df = pd.DataFrame({\"sent_name\": annot_sent_names})\n",
    "annot_sent_df[[\"speaker_conj\", \"sentence\"]] = annot_sent_df[\"sent_name\"].str.upper().str.split(\"_\", expand=True)\n",
    "annot_sent_df[\"speaker_id\"] = annot_sent_df.speaker_conj.str[1:]\n",
    "annot_sent_df = annot_sent_df.drop(columns=[\"sent_name\", \"speaker_conj\"])\n",
    "annot_sent_df"
   ]
  },
  {
   "cell_type": "markdown",
   "metadata": {},
   "source": [
    "#### Check for overlap with dataset"
   ]
  },
  {
   "cell_type": "code",
   "execution_count": 9,
   "metadata": {},
   "outputs": [
    {
     "data": {
      "text/html": [
       "<div>\n",
       "<style scoped>\n",
       "    .dataframe tbody tr th:only-of-type {\n",
       "        vertical-align: middle;\n",
       "    }\n",
       "\n",
       "    .dataframe tbody tr th {\n",
       "        vertical-align: top;\n",
       "    }\n",
       "\n",
       "    .dataframe thead th {\n",
       "        text-align: right;\n",
       "    }\n",
       "</style>\n",
       "<table border=\"1\" class=\"dataframe\">\n",
       "  <thead>\n",
       "    <tr style=\"text-align: right;\">\n",
       "      <th></th>\n",
       "      <th></th>\n",
       "      <th>sentence</th>\n",
       "      <th>speaker_id</th>\n",
       "    </tr>\n",
       "    <tr>\n",
       "      <th>dataset</th>\n",
       "      <th></th>\n",
       "      <th></th>\n",
       "      <th></th>\n",
       "    </tr>\n",
       "  </thead>\n",
       "  <tbody>\n",
       "    <tr>\n",
       "      <th rowspan=\"5\" valign=\"top\">train</th>\n",
       "      <th>0</th>\n",
       "      <td>SA1</td>\n",
       "      <td>CJF0</td>\n",
       "    </tr>\n",
       "    <tr>\n",
       "      <th>1</th>\n",
       "      <td>SA2</td>\n",
       "      <td>CJF0</td>\n",
       "    </tr>\n",
       "    <tr>\n",
       "      <th>2</th>\n",
       "      <td>SI1027</td>\n",
       "      <td>CJF0</td>\n",
       "    </tr>\n",
       "    <tr>\n",
       "      <th>3</th>\n",
       "      <td>SI1657</td>\n",
       "      <td>CJF0</td>\n",
       "    </tr>\n",
       "    <tr>\n",
       "      <th>4</th>\n",
       "      <td>SI648</td>\n",
       "      <td>CJF0</td>\n",
       "    </tr>\n",
       "    <tr>\n",
       "      <th>...</th>\n",
       "      <th>...</th>\n",
       "      <td>...</td>\n",
       "      <td>...</td>\n",
       "    </tr>\n",
       "    <tr>\n",
       "      <th rowspan=\"5\" valign=\"top\">test</th>\n",
       "      <th>1675</th>\n",
       "      <td>SX113</td>\n",
       "      <td>SLB0</td>\n",
       "    </tr>\n",
       "    <tr>\n",
       "      <th>1676</th>\n",
       "      <td>SX203</td>\n",
       "      <td>SLB0</td>\n",
       "    </tr>\n",
       "    <tr>\n",
       "      <th>1677</th>\n",
       "      <td>SX23</td>\n",
       "      <td>SLB0</td>\n",
       "    </tr>\n",
       "    <tr>\n",
       "      <th>1678</th>\n",
       "      <td>SX293</td>\n",
       "      <td>SLB0</td>\n",
       "    </tr>\n",
       "    <tr>\n",
       "      <th>1679</th>\n",
       "      <td>SX383</td>\n",
       "      <td>SLB0</td>\n",
       "    </tr>\n",
       "  </tbody>\n",
       "</table>\n",
       "<p>6300 rows × 2 columns</p>\n",
       "</div>"
      ],
      "text/plain": [
       "             sentence speaker_id\n",
       "dataset                         \n",
       "train   0         SA1       CJF0\n",
       "        1         SA2       CJF0\n",
       "        2      SI1027       CJF0\n",
       "        3      SI1657       CJF0\n",
       "        4       SI648       CJF0\n",
       "...               ...        ...\n",
       "test    1675    SX113       SLB0\n",
       "        1676    SX203       SLB0\n",
       "        1677     SX23       SLB0\n",
       "        1678    SX293       SLB0\n",
       "        1679    SX383       SLB0\n",
       "\n",
       "[6300 rows x 2 columns]"
      ]
     },
     "execution_count": 9,
     "metadata": {},
     "output_type": "execute_result"
    }
   ],
   "source": [
    "dataset_sent_df = pd.concat([\n",
    "    pd.DataFrame({\"sentence\": dataset[\"train\"][\"id\"], \"speaker_id\": dataset[\"train\"][\"speaker_id\"]}),\n",
    "    pd.DataFrame({\"sentence\": dataset[\"test\"][\"id\"], \"speaker_id\": dataset[\"test\"][\"speaker_id\"]}),\n",
    "], names=[\"dataset\"], keys=[\"train\", \"test\"])\n",
    "dataset_sent_df"
   ]
  },
  {
   "cell_type": "code",
   "execution_count": 10,
   "metadata": {},
   "outputs": [
    {
     "data": {
      "text/html": [
       "<div>\n",
       "<style scoped>\n",
       "    .dataframe tbody tr th:only-of-type {\n",
       "        vertical-align: middle;\n",
       "    }\n",
       "\n",
       "    .dataframe tbody tr th {\n",
       "        vertical-align: top;\n",
       "    }\n",
       "\n",
       "    .dataframe thead th {\n",
       "        text-align: right;\n",
       "    }\n",
       "</style>\n",
       "<table border=\"1\" class=\"dataframe\">\n",
       "  <thead>\n",
       "    <tr style=\"text-align: right;\">\n",
       "      <th></th>\n",
       "      <th>sentence</th>\n",
       "      <th>speaker_id</th>\n",
       "      <th>dataset</th>\n",
       "    </tr>\n",
       "  </thead>\n",
       "  <tbody>\n",
       "    <tr>\n",
       "      <th>0</th>\n",
       "      <td>SI1279</td>\n",
       "      <td>ADG0</td>\n",
       "      <td>test</td>\n",
       "    </tr>\n",
       "    <tr>\n",
       "      <th>1</th>\n",
       "      <td>SI2022</td>\n",
       "      <td>AEM0</td>\n",
       "      <td>train</td>\n",
       "    </tr>\n",
       "    <tr>\n",
       "      <th>2</th>\n",
       "      <td>SI1955</td>\n",
       "      <td>ALR0</td>\n",
       "      <td>train</td>\n",
       "    </tr>\n",
       "    <tr>\n",
       "      <th>3</th>\n",
       "      <td>SI1000</td>\n",
       "      <td>AWF0</td>\n",
       "      <td>test</td>\n",
       "    </tr>\n",
       "    <tr>\n",
       "      <th>4</th>\n",
       "      <td>SI1612</td>\n",
       "      <td>BCG1</td>\n",
       "      <td>train</td>\n",
       "    </tr>\n",
       "    <tr>\n",
       "      <th>...</th>\n",
       "      <td>...</td>\n",
       "      <td>...</td>\n",
       "      <td>...</td>\n",
       "    </tr>\n",
       "    <tr>\n",
       "      <th>494</th>\n",
       "      <td>SI1687</td>\n",
       "      <td>WRE0</td>\n",
       "      <td>train</td>\n",
       "    </tr>\n",
       "    <tr>\n",
       "      <th>495</th>\n",
       "      <td>SI2317</td>\n",
       "      <td>WRE0</td>\n",
       "      <td>train</td>\n",
       "    </tr>\n",
       "    <tr>\n",
       "      <th>496</th>\n",
       "      <td>SI1525</td>\n",
       "      <td>WRP0</td>\n",
       "      <td>train</td>\n",
       "    </tr>\n",
       "    <tr>\n",
       "      <th>497</th>\n",
       "      <td>SI2256</td>\n",
       "      <td>WSB0</td>\n",
       "      <td>train</td>\n",
       "    </tr>\n",
       "    <tr>\n",
       "      <th>498</th>\n",
       "      <td>SI1796</td>\n",
       "      <td>ZMB0</td>\n",
       "      <td>train</td>\n",
       "    </tr>\n",
       "  </tbody>\n",
       "</table>\n",
       "<p>499 rows × 3 columns</p>\n",
       "</div>"
      ],
      "text/plain": [
       "    sentence speaker_id dataset\n",
       "0     SI1279       ADG0    test\n",
       "1     SI2022       AEM0   train\n",
       "2     SI1955       ALR0   train\n",
       "3     SI1000       AWF0    test\n",
       "4     SI1612       BCG1   train\n",
       "..       ...        ...     ...\n",
       "494   SI1687       WRE0   train\n",
       "495   SI2317       WRE0   train\n",
       "496   SI1525       WRP0   train\n",
       "497   SI2256       WSB0   train\n",
       "498   SI1796       ZMB0   train\n",
       "\n",
       "[499 rows x 3 columns]"
      ]
     },
     "execution_count": 10,
     "metadata": {},
     "output_type": "execute_result"
    }
   ],
   "source": [
    "merged_df = pd.merge(annot_sent_df, dataset_sent_df.reset_index(), on=[\"sentence\", \"speaker_id\"], how=\"inner\",\n",
    "                     validate=\"one_to_one\").drop(columns=[\"level_1\"])\n",
    "merged_df"
   ]
  },
  {
   "cell_type": "code",
   "execution_count": 11,
   "metadata": {},
   "outputs": [
    {
     "data": {
      "text/plain": [
       "dataset\n",
       "train    374\n",
       "test     125\n",
       "Name: count, dtype: int64"
      ]
     },
     "execution_count": 11,
     "metadata": {},
     "output_type": "execute_result"
    }
   ],
   "source": [
    "merged_df.dataset.value_counts()"
   ]
  },
  {
   "cell_type": "markdown",
   "metadata": {},
   "source": [
    "### Visualize one"
   ]
  },
  {
   "cell_type": "code",
   "execution_count": 12,
   "metadata": {},
   "outputs": [
    {
     "name": "stdout",
     "output_type": "stream",
     "text": [
      "sentence      SI1689\n",
      "speaker_id      KLR0\n",
      "dataset        train\n",
      "Name: 334, dtype: object\n"
     ]
    }
   ],
   "source": [
    "viz_idx = np.random.choice(len(merged_df))\n",
    "viz_row = merged_df.iloc[viz_idx]\n",
    "print(viz_row)"
   ]
  },
  {
   "cell_type": "code",
   "execution_count": 13,
   "metadata": {},
   "outputs": [],
   "source": [
    "viz_item_idx = np.where((np.array(dataset[viz_row.dataset][\"id\"]) == viz_row.sentence) & (np.array(dataset[viz_row.dataset][\"speaker_id\"]) == viz_row.speaker_id))[0].item()\n",
    "viz_item = dataset[viz_row.dataset][viz_item_idx]"
   ]
  },
  {
   "cell_type": "code",
   "execution_count": 14,
   "metadata": {},
   "outputs": [
    {
     "data": {
      "text/plain": [
       "dict_keys(['EC129', 'EC131', 'EC133', 'EC137', 'EC142', 'EC156', 'F13P', 'F1Trans', 'F23P', 'F2Trans', 'aud', 'befaft', 'cycleDur', 'cycleId', 'dataf', 'duration', 'envmin', 'envminLog', 'formants', 'frmMedOns', 'loudness', 'loudnessExtLoc', 'loudnessExtVal', 'loudnessRelExtLoc', 'loudnessSentOns', 'loudness_delta', 'loudness_old', 'loudnessall', 'loudnessallNames', 'loudnesscyclePeakPhn', 'loudnessfrmMedVal', 'loudnesssentIdlong', 'name', 'onsOff', 'phnfeat', 'phnfeatNames', 'phnfeatonset', 'phnmat', 'phnmatonset', 'sentId', 'sentIdlong', 'sentence_onset', 'sound', 'soundOns', 'soundf', 'stress', 'sylOns', 'syllableNumber', 'syltype', 'vowel', 'vowelTimes', 'wrdOns'])"
      ]
     },
     "execution_count": 14,
     "metadata": {},
     "output_type": "execute_result"
    }
   ],
   "source": [
    "viz_annot = annot_data[viz_idx]\n",
    "viz_annot.keys()"
   ]
  },
  {
   "cell_type": "code",
   "execution_count": 15,
   "metadata": {},
   "outputs": [
    {
     "data": {
      "image/png": "[encoded data removed]",
      "text/plain": [
       "<Figure size 640x480 with 1 Axes>"
      ]
     },
     "metadata": {},
     "output_type": "display_data"
    }
   ],
   "source": [
    "def calc_peak_rate(audio):\n",
    "    import scipy.signal\n",
    "    from scipy.signal import hilbert\n",
    "    n_samples = audio.shape[0]\n",
    "    env = np.abs(hilbert(audio))[:n_samples]\n",
    "    b, a = scipy.signal.butter(3, 0.01)\n",
    "    env = scipy.signal.filtfilt(b, a, env)\n",
    "\n",
    "    # normalize envelope to between -1 and 1\n",
    "    env_norm = env/np.max(np.abs(env))\n",
    "\n",
    "    # discrete loudness (peak env)\n",
    "    peak_idx, props = scipy.signal.find_peaks(env_norm, height=0.1)\n",
    "    peakEnv = np.zeros(len(env_norm))\n",
    "    peakEnv[peak_idx] = props['peak_heights'] \n",
    "\n",
    "    # max envelope\n",
    "    maxEnv = np.zeros(len(env_norm))\n",
    "    maxEnv[peak_idx[np.nanargmax(props['peak_heights'])]] = 1\n",
    "\n",
    "    # first temporal derivative of TS\n",
    "    diff_loudness = np.diff(env_norm)\n",
    "\n",
    "    # discrete delta loudness (peak rate)\n",
    "    diff_loudness[diff_loudness<0] = 0\n",
    "    diff_loudness = diff_loudness / np.max(diff_loudness)\n",
    "    # SJ: Stores the derivative of pitch at timepoints where\n",
    "    # the pitch rose (\"delta upwards\") and by more than 10%\n",
    "    # (since its normed to 0-1)\n",
    "    peak_idx, props = scipy.signal.find_peaks(diff_loudness, height=0.1)\n",
    "    peakRate = np.zeros(len(diff_loudness))\n",
    "    peakRate[peak_idx] = props['peak_heights']\n",
    "\n",
    "    # loudest moment peakrate\n",
    "    maxRate = np.zeros(len(diff_loudness))\n",
    "    maxRate[peak_idx[np.nanargmax(props['peak_heights'])]] = 1\n",
    "\n",
    "    return peakRate, maxRate\n",
    "\n",
    "# duration = viz_item[\"audio\"][\"array\"].shape[0] / 16000\n",
    "# ts = np.arange(0, duration, step=1/100)\n",
    "# audio_resamp = np.interp(ts, np.arange(0, duration, step=1/16000), viz_item[\"audio\"][\"array\"])\n",
    "audio_resamp = viz_item[\"audio\"][\"array\"]\n",
    "peak_rates, max_rates = calc_peak_rate(audio_resamp)#viz_item[\"audio\"][\"array\"])\n",
    "# ts = np.arange(peak_rates.shape[0]) / 100\n",
    "ts = np.arange(peak_rates.shape[0]) / 16000\n",
    "plt.plot(ts, audio_resamp[:len(peak_rates)])\n",
    "plt.plot(ts, peak_rates / 1, alpha=0.75)\n",
    "plt.plot(ts, max_rates / 10, alpha=0.75, color=\"red\")\n",
    "\n",
    "for start, stop, word in zip(viz_item[\"word_detail\"][\"start\"], viz_item[\"word_detail\"][\"stop\"], viz_item[\"word_detail\"][\"utterance\"]):\n",
    "    plt.axvspan(start / 16000, stop / 16000, alpha=0.2, color=\"green\")\n",
    "    plt.text(start / 16000, 0, word, fontsize=8, ha=\"left\", va=\"center\")"
   ]
  },
  {
   "cell_type": "code",
   "execution_count": 16,
   "metadata": {},
   "outputs": [
    {
     "data": {
      "text/plain": [
       "dict_keys(['file', 'audio', 'text', 'phonetic_detail', 'word_detail', 'dialect_region', 'sentence_type', 'speaker_id', 'id', 'phonemic_detail', 'word_phonetic_detail', 'word_phonemic_detail', 'input_values', 'phone_targets'])"
      ]
     },
     "execution_count": 16,
     "metadata": {},
     "output_type": "execute_result"
    }
   ],
   "source": [
    "viz_item.keys()"
   ]
  },
  {
   "cell_type": "code",
   "execution_count": 17,
   "metadata": {},
   "outputs": [
    {
     "data": {
      "image/png": "[encoded data removed]",
      "text/plain": [
       "<Figure size 640x480 with 1 Axes>"
      ]
     },
     "metadata": {},
     "output_type": "display_data"
    }
   ],
   "source": [
    "# ts = np.arange(viz_annot[\"formants\"].shape[1]) / 100\n",
    "# plt.plot(ts, viz_annot[\"formants\"][0] / 10000)\n",
    "\n",
    "key = \"phnfeat\"  # over span of phone; use \"phnfeatonset\" for just phone onset\n",
    "key = \"stress\"\n",
    "key = \"envmin\"\n",
    "viz_annot_data = viz_annot[key]\n",
    "# Remove padding\n",
    "padding_samples = int(0.5 * viz_annot[\"dataf\"])\n",
    "viz_annot_data = viz_annot_data[padding_samples:-padding_samples]\n",
    "# viz_annot_data = viz_annot[\"phnfeatonset\"][4]\n",
    "num_samples = viz_annot_data.shape[-1]\n",
    "ts = np.arange(num_samples) / viz_annot[\"dataf\"]\n",
    "plt.plot(ts, viz_annot_data / 10)\n",
    "\n",
    "viz_audio = viz_item[\"audio\"][\"array\"]\n",
    "audio_resamp = np.interp(ts, np.arange(len(viz_audio)) / 16000, viz_audio)\n",
    "plt.plot(ts, audio_resamp)\n",
    "\n",
    "for start, stop, word in zip(viz_item[\"word_detail\"][\"start\"], viz_item[\"word_detail\"][\"stop\"], viz_item[\"word_detail\"][\"utterance\"]):\n",
    "    plt.axvspan(start / 16000, stop / 16000, alpha=0.2, color=\"green\")\n",
    "    plt.text(start / 16000, 0, word, fontsize=8, ha=\"left\", va=\"center\")\n",
    "\n",
    "onset_feature = \"sylOns\"\n",
    "for onset_time in viz_annot[onset_feature]:\n",
    "    plt.axvline(onset_time, alpha=0.2, color=\"red\")"
   ]
  },
  {
   "cell_type": "markdown",
   "metadata": {},
   "source": [
    "## Run evaluation"
   ]
  },
  {
   "cell_type": "code",
   "execution_count": 18,
   "metadata": {},
   "outputs": [
    {
     "data": {
      "text/plain": [
       "{('SI1000', 'AWF0'),\n",
       " ('SI1001', 'JBR0'),\n",
       " ('SI1008', 'RAV0'),\n",
       " ('SI1026', 'LAS0'),\n",
       " ('SI1028', 'JMD0'),\n",
       " ('SI1029', 'PAM1'),\n",
       " ('SI1030', 'REW0'),\n",
       " ('SI1033', 'JFC0'),\n",
       " ('SI1034', 'PEB0'),\n",
       " ('SI1049', 'SAH1'),\n",
       " ('SI1066', 'DKS0'),\n",
       " ('SI1067', 'PSW0'),\n",
       " ('SI1070', 'LTM0'),\n",
       " ('SI1074', 'AJP0'),\n",
       " ('SI1083', 'CMM0'),\n",
       " ('SI1089', 'MWH0'),\n",
       " ('SI1092', 'CRC0'),\n",
       " ('SI1095', 'RJM0'),\n",
       " ('SI1111', 'CKE0'),\n",
       " ('SI1114', 'JRF0'),\n",
       " ('SI1116', 'JRE0'),\n",
       " ('SI1119', 'HMR0'),\n",
       " ('SI1125', 'JRH0'),\n",
       " ('SI1143', 'JWS0'),\n",
       " ('SI1144', 'CTT0'),\n",
       " ('SI1148', 'ETB0'),\n",
       " ('SI1159', 'VKB0'),\n",
       " ('SI1161', 'JDC0'),\n",
       " ('SI1167', 'RDS0'),\n",
       " ('SI1169', 'BML0'),\n",
       " ('SI1171', 'SJS0'),\n",
       " ('SI1174', 'DRB0'),\n",
       " ('SI1179', 'GJD0'),\n",
       " ('SI1185', 'KXL0'),\n",
       " ('SI1188', 'ARC0'),\n",
       " ('SI1191', 'JPG0'),\n",
       " ('SI1192', 'TJS0'),\n",
       " ('SI1193', 'SLB0'),\n",
       " ('SI1199', 'RGG0'),\n",
       " ('SI1200', 'DTB0'),\n",
       " ('SI1205', 'PRB0'),\n",
       " ('SI1213', 'KLT0'),\n",
       " ('SI1218', 'DMS0'),\n",
       " ('SI1223', 'RCS0'),\n",
       " ('SI1224', 'RAB0'),\n",
       " ('SI1238', 'DMA0'),\n",
       " ('SI1243', 'LMA0'),\n",
       " ('SI1245', 'EAC0'),\n",
       " ('SI1249', 'FWK0'),\n",
       " ('SI1254', 'MJF0'),\n",
       " ('SI1262', 'SFV0'),\n",
       " ('SI1266', 'DAS0'),\n",
       " ('SI1274', 'TDP0'),\n",
       " ('SI1277', 'JJB0'),\n",
       " ('SI1279', 'ADG0'),\n",
       " ('SI1289', 'MAH0'),\n",
       " ('SI1295', 'ADD0'),\n",
       " ('SI1329', 'TAJ0'),\n",
       " ('SI1345', 'TBW0'),\n",
       " ('SI1348', 'EWM0'),\n",
       " ('SI1352', 'AKR0'),\n",
       " ('SI1361', 'WEW0'),\n",
       " ('SI1369', 'LKD0'),\n",
       " ('SI1374', 'EDR0'),\n",
       " ('SI1382', 'DRD0'),\n",
       " ('SI1393', 'WEM0'),\n",
       " ('SI1398', 'CEM0'),\n",
       " ('SI1406', 'DAW0'),\n",
       " ('SI1407', 'LNS0'),\n",
       " ('SI1423', 'DRW0'),\n",
       " ('SI1425', 'KCH0'),\n",
       " ('SI1445', 'DWA0'),\n",
       " ('SI1475', 'HRM0'),\n",
       " ('SI1479', 'CAJ0'),\n",
       " ('SI1481', 'GES0'),\n",
       " ('SI1489', 'RJM4'),\n",
       " ('SI1493', 'CMH1'),\n",
       " ('SI1494', 'MAB1'),\n",
       " ('SI1497', 'GRL0'),\n",
       " ('SI1500', 'REW1'),\n",
       " ('SI1503', 'CAG0'),\n",
       " ('SI1506', 'JLG0'),\n",
       " ('SI1511', 'DXW0'),\n",
       " ('SI1513', 'CDD0'),\n",
       " ('SI1514', 'RLL0'),\n",
       " ('SI1522', 'NKL0'),\n",
       " ('SI1523', 'RJS0'),\n",
       " ('SI1525', 'WRP0'),\n",
       " ('SI1527', 'MLM0'),\n",
       " ('SI1530', 'DHS0'),\n",
       " ('SI1531', 'BWP0'),\n",
       " ('SI1532', 'TMG0'),\n",
       " ('SI1533', 'KLS0'),\n",
       " ('SI1535', 'JMP0'),\n",
       " ('SI1543', 'DLD0'),\n",
       " ('SI1544', 'DRD1'),\n",
       " ('SI1555', 'MDM2'),\n",
       " ('SI1560', 'HLM0'),\n",
       " ('SI1562', 'JKL0'),\n",
       " ('SI1565', 'DJH0'),\n",
       " ('SI1577', 'BPM0'),\n",
       " ('SI1585', 'RXB0'),\n",
       " ('SI1590', 'PLS0'),\n",
       " ('SI1592', 'EJL0'),\n",
       " ('SI1593', 'PAZ0'),\n",
       " ('SI1595', 'RDM0'),\n",
       " ('SI1603', 'RWA0'),\n",
       " ('SI1607', 'CJS0'),\n",
       " ('SI1612', 'BCG1'),\n",
       " ('SI1617', 'MDB0'),\n",
       " ('SI1618', 'GDP0'),\n",
       " ('SI1620', 'ABC0'),\n",
       " ('SI1623', 'TRC0'),\n",
       " ('SI1624', 'RJO0'),\n",
       " ('SI1625', 'MDB1'),\n",
       " ('SI1627', 'TAT1'),\n",
       " ('SI1629', 'TWH0'),\n",
       " ('SI1634', 'CHH0'),\n",
       " ('SI1635', 'FXV0'),\n",
       " ('SI1636', 'DBB1'),\n",
       " ('SI1640', 'JSW0'),\n",
       " ('SI1641', 'CAG0'),\n",
       " ('SI1643', 'DRM0'),\n",
       " ('SI1644', 'BOM0'),\n",
       " ('SI1649', 'ERS0'),\n",
       " ('SI1650', 'MDM1'),\n",
       " ('SI1652', 'JHK0'),\n",
       " ('SI1653', 'EDW0'),\n",
       " ('SI1658', 'JMD0'),\n",
       " ('SI1660', 'CLK0'),\n",
       " ('SI1661', 'JDA0'),\n",
       " ('SI1662', 'JRK0'),\n",
       " ('SI1663', 'JFC0'),\n",
       " ('SI1664', 'ABW0'),\n",
       " ('SI1665', 'RBC0'),\n",
       " ('SI1668', 'MAM0'),\n",
       " ('SI1669', 'DAB0'),\n",
       " ('SI1674', 'FXS0'),\n",
       " ('SI1678', 'KLC1'),\n",
       " ('SI1679', 'SAH1'),\n",
       " ('SI1681', 'LEH0'),\n",
       " ('SI1683', 'DPK0'),\n",
       " ('SI1685', 'BBR0'),\n",
       " ('SI1687', 'WRE0'),\n",
       " ('SI1689', 'KLR0'),\n",
       " ('SI1690', 'TXS0'),\n",
       " ('SI1694', 'GAR0'),\n",
       " ('SI1696', 'DKS0'),\n",
       " ('SI1699', 'SBK0'),\n",
       " ('SI1701', 'MWS1'),\n",
       " ('SI1702', 'MKC0'),\n",
       " ('SI1705', 'JDG0'),\n",
       " ('SI1706', 'RFK0'),\n",
       " ('SI1708', 'LJA0'),\n",
       " ('SI1713', 'DSS1'),\n",
       " ('SI1716', 'RRK0'),\n",
       " ('SI1717', 'FRM0'),\n",
       " ('SI1718', 'CRH0'),\n",
       " ('SI1719', 'SRH0'),\n",
       " ('SI1720', 'HPG0'),\n",
       " ('SI1721', 'KCL0'),\n",
       " ('SI1723', 'RTK0'),\n",
       " ('SI1724', 'JBG0'),\n",
       " ('SI1725', 'CRE0'),\n",
       " ('SI1728', 'SKP0'),\n",
       " ('SI1732', 'RWS0'),\n",
       " ('SI1735', 'CMR0'),\n",
       " ('SI1746', 'JRE0'),\n",
       " ('SI1749', 'WAD0'),\n",
       " ('SI1758', 'JVW0'),\n",
       " ('SI1763', 'JSP0'),\n",
       " ('SI1764', 'TLB0'),\n",
       " ('SI1766', 'BMH0'),\n",
       " ('SI1768', 'CAL0'),\n",
       " ('SI1769', 'JJB0'),\n",
       " ('SI1770', 'RVG0'),\n",
       " ('SI1777', 'VLO0'),\n",
       " ('SI1779', 'DML0'),\n",
       " ('SI1781', 'MBS0'),\n",
       " ('SI1783', 'PMY0'),\n",
       " ('SI1786', 'RFL0'),\n",
       " ('SI1789', 'VKB0'),\n",
       " ('SI1790', 'MBG0'),\n",
       " ('SI1793', 'JJJ0'),\n",
       " ('SI1794', 'RJB0'),\n",
       " ('SI1795', 'JXL0'),\n",
       " ('SI1796', 'ZMB0'),\n",
       " ('SI1804', 'CAJ0'),\n",
       " ('SI1805', 'RJT0'),\n",
       " ('SI1808', 'CFT0'),\n",
       " ('SI1809', 'RJM3'),\n",
       " ('SI1810', 'MCM0'),\n",
       " ('SI1814', 'RPP0'),\n",
       " ('SI1818', 'ARC0'),\n",
       " ('SI1827', 'LHD0'),\n",
       " ('SI1830', 'DTB0'),\n",
       " ('SI1832', 'DMT0'),\n",
       " ('SI1833', 'JCS0'),\n",
       " ('SI1835', 'JRP0'),\n",
       " ('SI1837', 'DAC0'),\n",
       " ('SI1839', 'CTH0'),\n",
       " ('SI1842', 'GAR0'),\n",
       " ('SI1844', 'KLW0'),\n",
       " ('SI1847', 'RES0'),\n",
       " ('SI1851', 'SRG0'),\n",
       " ('SI1852', 'BMA0'),\n",
       " ('SI1855', 'LJC0'),\n",
       " ('SI1861', 'JLR0'),\n",
       " ('SI1864', 'DLM0'),\n",
       " ('SI1869', 'LBC0'),\n",
       " ('SI1874', 'SAH0'),\n",
       " ('SI1876', 'LEL0'),\n",
       " ('SI1877', 'BJV0'),\n",
       " ('SI1878', 'CEG0'),\n",
       " ('SI1879', 'FWK0'),\n",
       " ('SI1881', 'DSS0'),\n",
       " ('SI1882', 'EAR0'),\n",
       " ('SI1884', 'MJF0'),\n",
       " ('SI1885', 'JMM0'),\n",
       " ('SI1888', 'PFU0'),\n",
       " ('SI1895', 'WCH0'),\n",
       " ('SI1897', 'JPM1'),\n",
       " ('SI1898', 'CMB0'),\n",
       " ('SI1899', 'SJS1'),\n",
       " ('SI1905', 'RAM0'),\n",
       " ('SI1906', 'ARW0'),\n",
       " ('SI1907', 'SMC0'),\n",
       " ('SI1910', 'REW0'),\n",
       " ('SI1911', 'BEF0'),\n",
       " ('SI1917', 'LOD0'),\n",
       " ('SI1922', 'CDC0'),\n",
       " ('SI1925', 'DWH0'),\n",
       " ('SI1926', 'JTH0'),\n",
       " ('SI1930', 'SAK0'),\n",
       " ('SI1931', 'SRH0'),\n",
       " ('SI1934', 'BWM0'),\n",
       " ('SI1937', 'JDM0'),\n",
       " ('SI1941', 'MDM0'),\n",
       " ('SI1947', 'GRP0'),\n",
       " ('SI1948', 'DFB0'),\n",
       " ('SI1949', 'BAR0'),\n",
       " ('SI1950', 'WEM0'),\n",
       " ('SI1952', 'MGK0'),\n",
       " ('SI1955', 'ALR0'),\n",
       " ('SI1956', 'AEO0'),\n",
       " ('SI1962', 'ESG0'),\n",
       " ('SI1967', 'EGJ0'),\n",
       " ('SI1968', 'MCC0'),\n",
       " ('SI1972', 'TCS0'),\n",
       " ('SI1973', 'MDS0'),\n",
       " ('SI1976', 'PAD0'),\n",
       " ('SI1978', 'EWM0'),\n",
       " ('SI1983', 'BSB0'),\n",
       " ('SI1984', 'JDH0'),\n",
       " ('SI1986', 'RGS0'),\n",
       " ('SI1987', 'MEB0'),\n",
       " ('SI1988', 'JAR0'),\n",
       " ('SI1990', 'GRW0'),\n",
       " ('SI1993', 'LLL0'),\n",
       " ('SI1996', 'JRG0'),\n",
       " ('SI2002', 'LMC0'),\n",
       " ('SI2003', 'CTW0'),\n",
       " ('SI2008', 'KCH0'),\n",
       " ('SI2010', 'DFB0'),\n",
       " ('SI2011', 'PAC0'),\n",
       " ('SI2013', 'TPG0'),\n",
       " ('SI2015', 'TAS0'),\n",
       " ('SI2017', 'WDK0'),\n",
       " ('SI2018', 'MEA0'),\n",
       " ('SI2019', 'MJU0'),\n",
       " ('SI2022', 'AEM0'),\n",
       " ('SI2026', 'RPC1'),\n",
       " ('SI2030', 'JAS0'),\n",
       " ('SI2031', 'TDB0'),\n",
       " ('SI2032', 'RTJ0'),\n",
       " ('SI2034', 'MRP0'),\n",
       " ('SI2035', 'MDG0'),\n",
       " ('SI2043', 'MDM1'),\n",
       " ('SI2045', 'DCD0'),\n",
       " ('SI2049', 'DDC0'),\n",
       " ('SI2050', 'RLJ0'),\n",
       " ('SI2051', 'RML0'),\n",
       " ('SI2053', 'CRZ0'),\n",
       " ('SI2055', 'JWB1'),\n",
       " ('SI2061', 'PRD0'),\n",
       " ('SI2063', 'SMS0'),\n",
       " ('SI2068', 'CLT0'),\n",
       " ('SI2074', 'RJS0'),\n",
       " ('SI2075', 'DML0'),\n",
       " ('SI2079', 'JLN0'),\n",
       " ('SI2080', 'GRT0'),\n",
       " ('SI2084', 'CMH0'),\n",
       " ('SI2091', 'DAS1'),\n",
       " ('SI2092', 'DSJ0'),\n",
       " ('SI2094', 'LAG0'),\n",
       " ('SI2095', 'AJC0'),\n",
       " ('SI2099', 'CCS0'),\n",
       " ('SI2100', 'RMS0'),\n",
       " ('SI2103', 'JRK0'),\n",
       " ('SI2107', 'GMD0'),\n",
       " ('SI2113', 'SDH0'),\n",
       " ('SI2114', 'JSJ0'),\n",
       " ('SI2115', 'VRW0'),\n",
       " ('SI2119', 'RJM4'),\n",
       " ('SI2122', 'FER0'),\n",
       " ('SI2124', 'MAB1'),\n",
       " ('SI2130', 'REW1'),\n",
       " ('SI2135', 'EME0'),\n",
       " ('SI2138', 'TPP0'),\n",
       " ('SI2139', 'MAH1'),\n",
       " ('SI2141', 'DXW0'),\n",
       " ('SI2142', 'TWH1'),\n",
       " ('SI2144', 'DLC1'),\n",
       " ('SI2146', 'LJD0'),\n",
       " ('SI2147', 'KJO0'),\n",
       " ('SI2148', 'JAC0'),\n",
       " ('SI2152', 'NKL0'),\n",
       " ('SI2153', 'KDT0'),\n",
       " ('SI2154', 'JAE0'),\n",
       " ('SI2155', 'JWG0'),\n",
       " ('SI2156', 'SAT0'),\n",
       " ('SI2157', 'TJG0'),\n",
       " ('SI2160', 'DHS0'),\n",
       " ('SI2161', 'LAC0'),\n",
       " ('SI2162', 'TMG0'),\n",
       " ('SI2163', 'ILB0'),\n",
       " ('SI2164', 'GLB0'),\n",
       " ('SI2165', 'JDC0'),\n",
       " ('SI2168', 'PKT0'),\n",
       " ('SI2171', 'RCZ0'),\n",
       " ('SI2174', 'DVC0'),\n",
       " ('SI2175', 'KLS1'),\n",
       " ('SI2177', 'EAL0'),\n",
       " ('SI2182', 'BJL0'),\n",
       " ('SI2184', 'MGC0'),\n",
       " ('SI2189', 'DHC0'),\n",
       " ('SI2192', 'JKL0'),\n",
       " ('SI2193', 'DEF0'),\n",
       " ('SI2199', 'AFM0'),\n",
       " ('SI2202', 'TAB0'),\n",
       " ('SI2207', 'BMA1'),\n",
       " ('SI2209', 'ISB0'),\n",
       " ('SI2210', 'NJM0'),\n",
       " ('SI2213', 'DLF0'),\n",
       " ('SI2221', 'KDE0'),\n",
       " ('SI2224', 'RLD0'),\n",
       " ('SI2225', 'FXS0'),\n",
       " ('SI2227', 'MAM0'),\n",
       " ('SI2229', 'REH1'),\n",
       " ('SI2234', 'SDC0'),\n",
       " ('SI2235', 'JFR0'),\n",
       " ('SI2237', 'CJS0'),\n",
       " ('SI2238', 'KFB0'),\n",
       " ('SI2239', 'KAG0'),\n",
       " ('SI2240', 'SDH0'),\n",
       " ('SI2241', 'LJG0'),\n",
       " ('SI2242', 'BCG1'),\n",
       " ('SI2243', 'HIT0'),\n",
       " ('SI2244', 'DLC2'),\n",
       " ('SI2245', 'KLC0'),\n",
       " ('SI2246', 'JLB0'),\n",
       " ('SI2247', 'JAR0'),\n",
       " ('SI2250', 'AEB0'),\n",
       " ('SI2253', 'LBW0'),\n",
       " ('SI2254', 'TDT0'),\n",
       " ('SI2256', 'WSB0'),\n",
       " ('SI2257', 'ESJ0'),\n",
       " ('SI2258', 'DLS0'),\n",
       " ('SI2261', 'JBR0'),\n",
       " ('SI2263', 'JJG0'),\n",
       " ('SI2264', 'MBG0'),\n",
       " ('SI2267', 'SDB0'),\n",
       " ('SI2269', 'TJU0'),\n",
       " ('SI2270', 'JSW0'),\n",
       " ('SI2273', 'DRM0'),\n",
       " ('SI2274', 'BOM0'),\n",
       " ('SI2275', 'THC0'),\n",
       " ('SI2280', 'JPM1'),\n",
       " ('SI2285', 'SJK1'),\n",
       " ('SI2287', 'DNC0'),\n",
       " ('SI2292', 'VFB0'),\n",
       " ('SI2294', 'ABW0'),\n",
       " ('SI2295', 'LMK0'),\n",
       " ('SI2296', 'GAK0'),\n",
       " ('SI2298', 'DSC0'),\n",
       " ('SI2304', 'FXS0'),\n",
       " ('SI2305', 'WAR0'),\n",
       " ('SI2306', 'JLG0'),\n",
       " ('SI2308', 'KLC1'),\n",
       " ('SI2315', 'BBR0'),\n",
       " ('SI2317', 'WRE0'),\n",
       " ('SI2319', 'KLR0'),\n",
       " ('SI2321', 'MPM0'),\n",
       " ('SI2322', 'WAD0'),\n",
       " ('SI2327', 'PSW0'),\n",
       " ('SI2328', 'NTW0'),\n",
       " ('SI2330', 'LTM0'),\n",
       " ('SI2331', 'MWS1'),\n",
       " ('SI2332', 'RLJ1'),\n",
       " ('SI2336', 'RFK0'),\n",
       " ('SI2338', 'LJA0'),\n",
       " ('SI2341', 'DMT0'),\n",
       " ('SI2342', 'SSB0'),\n",
       " ('SI453', 'CMM0'),\n",
       " ('SI455', 'JDM1'),\n",
       " ('SI463', 'JDE0'),\n",
       " ('SI466', 'JLS0'),\n",
       " ('SI470', 'KJL0'),\n",
       " ('SI471', 'EEH0'),\n",
       " ('SI474', 'TAJ0'),\n",
       " ('SI475', 'CMR0'),\n",
       " ('SI480', 'TQC0'),\n",
       " ('SI485', 'SDJ0'),\n",
       " ('SI486', 'BCG0'),\n",
       " ('SI494', 'WJG0'),\n",
       " ('SI495', 'PRT0'),\n",
       " ('SI506', 'TPR0'),\n",
       " ('SI508', 'CAL0'),\n",
       " ('SI510', 'RVG0'),\n",
       " ('SI534', 'GSL0'),\n",
       " ('SI535', 'GAW0'),\n",
       " ('SI539', 'BML0'),\n",
       " ('SI545', 'BJK0'),\n",
       " ('SI548', 'CFT0'),\n",
       " ('SI552', 'DPK0'),\n",
       " ('SI555', 'JHI0'),\n",
       " ('SI557', 'DWD0'),\n",
       " ('SI559', 'MWS0'),\n",
       " ('SI569', 'RGG0'),\n",
       " ('SI573', 'NTB0'),\n",
       " ('SI574', 'DLH0'),\n",
       " ('SI583', 'KLT0'),\n",
       " ('SI588', 'KDB0'),\n",
       " ('SI592', 'BMA0'),\n",
       " ('SI594', 'RAB0'),\n",
       " ('SI596', 'TAA0'),\n",
       " ('SI597', 'TRT0'),\n",
       " ('SI611', 'SPM0'),\n",
       " ('SI618', 'CEG0'),\n",
       " ('SI621', 'DSS0'),\n",
       " ('SI625', 'JMM0'),\n",
       " ('SI628', 'PFU0'),\n",
       " ('SI639', 'SJS1'),\n",
       " ('SI644', 'SLB1'),\n",
       " ('SI645', 'GAG0'),\n",
       " ('SI646', 'ARW0'),\n",
       " ('SI652', 'GAF0'),\n",
       " ('SI656', 'JEB0'),\n",
       " ('SI672', 'JRB0'),\n",
       " ('SI677', 'ROA0'),\n",
       " ('SI678', 'NLP0'),\n",
       " ('SI681', 'MDM0'),\n",
       " ('SI685', 'REH0'),\n",
       " ('SI713', 'MDS0'),\n",
       " ('SI717', 'MRP0'),\n",
       " ('SI720', 'CTM0'),\n",
       " ('SI721', 'CXM0'),\n",
       " ('SI722', 'AKR0'),\n",
       " ('SI724', 'JDH0'),\n",
       " ('SI727', 'MEB0'),\n",
       " ('SI731', 'WEW0'),\n",
       " ('SI740', 'TLS0'),\n",
       " ('SI743', 'CTW0'),\n",
       " ('SI745', 'REB0'),\n",
       " ('SI755', 'TAS0'),\n",
       " ('SI757', 'BTH0'),\n",
       " ('SI765', 'DLC0'),\n",
       " ('SI766', 'STF0'),\n",
       " ('SI775', 'SMR0'),\n",
       " ('SI776', 'GJF0'),\n",
       " ('SI778', 'MJB1'),\n",
       " ('SI780', 'PGR0'),\n",
       " ('SI786', 'SKC0'),\n",
       " ('SI802', 'JRP1'),\n",
       " ('SI804', 'JSP0'),\n",
       " ('SI815', 'BMJ0'),\n",
       " ('SI833', 'BDG0'),\n",
       " ('SI854', 'JSJ0'),\n",
       " ('SI856', 'GCS0'),\n",
       " ('SI876', 'MXS0'),\n",
       " ('SI877', 'JXA0'),\n",
       " ('SI878', 'TPP0'),\n",
       " ('SI886', 'LJD0'),\n",
       " ('SI896', 'SAT0'),\n",
       " ('SI897', 'MLM0'),\n",
       " ('SI901', 'LAC0'),\n",
       " ('SI910', 'DWK0'),\n",
       " ('SI914', 'RJH0'),\n",
       " ('SI924', 'PGH0'),\n",
       " ('SI925', 'MLD0'),\n",
       " ('SI933', 'RPC0'),\n",
       " ('SI944', 'PAS0'),\n",
       " ('SI946', 'PAR0'),\n",
       " ('SI961', 'REM0'),\n",
       " ('SI974', 'JDM0'),\n",
       " ('SI986', 'JLB0'),\n",
       " ('SI993', 'TRC0'),\n",
       " ('SI998', 'DLS0'),\n",
       " ('SI999', 'DAC2')}"
      ]
     },
     "execution_count": 18,
     "metadata": {},
     "output_type": "execute_result"
    }
   ],
   "source": [
    "eval_idxs = set(merged_df[[\"sentence\", \"speaker_id\"]].to_records(index=False).tolist())\n",
    "eval_idxs"
   ]
  },
  {
   "cell_type": "code",
   "execution_count": 19,
   "metadata": {},
   "outputs": [],
   "source": [
    "train_ds_idxs = [idx for idx, (sentence, speaker_id) in enumerate(zip(dataset[\"train\"][\"id\"], dataset[\"train\"][\"speaker_id\"]))\n",
    "                if (sentence, speaker_id) in eval_idxs]\n",
    "test_ds_idxs = [idx for idx, (sentence, speaker_id) in enumerate(zip(dataset[\"test\"][\"id\"], dataset[\"test\"][\"speaker_id\"]))\n",
    "               if (sentence, speaker_id) in eval_idxs]\n",
    "eval_dataset = datasets.concatenate_datasets([dataset[\"train\"].select(train_ds_idxs), dataset[\"test\"].select(test_ds_idxs)])"
   ]
  },
  {
   "cell_type": "code",
   "execution_count": 20,
   "metadata": {},
   "outputs": [
    {
     "data": {
      "application/vnd.jupyter.widget-view+json": {
       "model_id": "e9b5480fc85940758fb48396a162f774",
       "version_major": 2,
       "version_minor": 0
      },
      "text/plain": [
       "Map:   0%|          | 0/499 [00:00<?, ? examples/s]"
      ]
     },
     "metadata": {},
     "output_type": "display_data"
    }
   ],
   "source": [
    "def add_hidden_state(item):\n",
    "    with torch.no_grad():\n",
    "        hidden_states = model(torch.tensor(item[\"input_values\"]).unsqueeze(0), output_hidden_states=True).hidden_states\n",
    "        for i, hidden_i in enumerate(hidden_states):\n",
    "            item[f\"hidden_state_{i}\"] = hidden_i.squeeze(0)\n",
    "    return item\n",
    "eval_dataset = eval_dataset.map(add_hidden_state, batched=False)"
   ]
  },
  {
   "cell_type": "code",
   "execution_count": 21,
   "metadata": {},
   "outputs": [],
   "source": [
    "from sklearn.decomposition import PCA\n",
    "from sklearn.linear_model import LogisticRegressionCV, LogisticRegression\n",
    "from sklearn.metrics import roc_auc_score, roc_curve\n",
    "from sklearn.metrics import precision_recall_fscore_support\n",
    "from sklearn.model_selection import train_test_split, StratifiedKFold\n",
    "from tqdm.auto import tqdm, trange"
   ]
  },
  {
   "cell_type": "code",
   "execution_count": 22,
   "metadata": {},
   "outputs": [
    {
     "data": {
      "application/vnd.jupyter.widget-view+json": {
       "model_id": "42c53f0b51c84a29a9bfb9e4ffd6c8f7",
       "version_major": 2,
       "version_minor": 0
      },
      "text/plain": [
       "Map:   0%|          | 0/499 [00:00<?, ? examples/s]"
      ]
     },
     "metadata": {},
     "output_type": "display_data"
    }
   ],
   "source": [
    "# Prepare target labels\n",
    "def prepare_target_labels(item, idx, padding_time=0.5):\n",
    "    annot_item = annot_data[idx]\n",
    "\n",
    "    phn_feat_names = [x[0] for x in annot_item[\"phnfeatNames\"]]\n",
    "\n",
    "    for idx, phn_feat_name in enumerate(phn_feat_names):\n",
    "        phn_feat = annot_item[\"phnfeat\"][idx]\n",
    "\n",
    "        # Remove padding\n",
    "        padding_samples = int(padding_time * annot_item[\"dataf\"])\n",
    "        phn_feat = phn_feat[padding_samples:-padding_samples]\n",
    "\n",
    "        # Resample to match hidden state\n",
    "        duration = len(item[\"input_values\"]) / 16000\n",
    "        num_samples = len(item[\"hidden_state_0\"])\n",
    "        phn_feat = np.interp(np.linspace(0, duration, num_samples),\n",
    "                             np.arange(phn_feat.shape[0]) / annot_item[\"dataf\"],\n",
    "                             phn_feat)\n",
    "        assert len(item[\"hidden_state_0\"]) == phn_feat.shape[0]\n",
    "\n",
    "        item[f\"phn_feat_{phn_feat_name}\"] = phn_feat\n",
    "\n",
    "    return item\n",
    "\n",
    "eval_dataset = eval_dataset.map(prepare_target_labels, with_indices=True)"
   ]
  },
  {
   "cell_type": "code",
   "execution_count": 23,
   "metadata": {},
   "outputs": [],
   "source": [
    "classifiers = {}\n",
    "classifier_scores = {}"
   ]
  },
  {
   "cell_type": "code",
   "execution_count": 24,
   "metadata": {},
   "outputs": [
    {
     "data": {
      "application/vnd.jupyter.widget-view+json": {
       "model_id": "18af91d187e64d70aebd6538f95baee0",
       "version_major": 2,
       "version_minor": 0
      },
      "text/plain": [
       "  0%|          | 0/195 [00:00<?, ?it/s]"
      ]
     },
     "metadata": {},
     "output_type": "display_data"
    },
    {
     "name": "stdout",
     "output_type": "stream",
     "text": [
      "No valid labels for 0 names\n",
      "No valid labels for 1 names\n",
      "No valid labels for 2 names\n",
      "No valid labels for 3 names\n",
      "No valid labels for 4 names\n",
      "No valid labels for 5 names\n",
      "No valid labels for 6 names\n",
      "No valid labels for 7 names\n",
      "No valid labels for 8 names\n",
      "No valid labels for 9 names\n",
      "No valid labels for 10 names\n",
      "No valid labels for 11 names\n",
      "No valid labels for 12 names\n"
     ]
    }
   ],
   "source": [
    "retrain_classifiers = False\n",
    "\n",
    "eval_layers = list(range(13))\n",
    "eval_features = [x[0] for x in annot_data[0][\"phnfeatNames\"]]\n",
    "n_components = 32\n",
    "\n",
    "import itertools\n",
    "import pickle\n",
    "\n",
    "if retrain_classifiers:\n",
    "    for eval_layer, eval_feature in tqdm(list(itertools.product(eval_layers, eval_features))):\n",
    "        if (eval_layer, eval_feature) in classifiers:\n",
    "            continue\n",
    "        X = np.concatenate([np.array(state) for state in eval_dataset[f\"hidden_state_{eval_layer}\"]])\n",
    "        y = np.concatenate([np.array(phn_feat) for phn_feat in eval_dataset[f\"phn_feat_{eval_feature}\"]])\n",
    "        if y.sum() == 0:\n",
    "            print(\"No valid labels for\", eval_layer, eval_feature)\n",
    "            continue\n",
    "        assert X.shape[0] == y.shape[0]\n",
    "\n",
    "        # Convert to binary features\n",
    "        y = (y > 0).astype(int)\n",
    "        X_pca = PCA(n_components=n_components).fit_transform((X - X.mean(axis=0)) / X.std(axis=0))\n",
    "\n",
    "        X_train, X_test, y_train, y_test = train_test_split(\n",
    "            X_pca, y, stratify=y, test_size=0.2, random_state=42)\n",
    "\n",
    "        lr_model = LogisticRegressionCV(cv=StratifiedKFold(4, shuffle=True),\n",
    "                                        scoring=\"roc_auc\", class_weight=\"balanced\",\n",
    "                                        random_state=42)\n",
    "        lr_model.fit(X_train, y_train)\n",
    "\n",
    "        classifiers[eval_layer, eval_feature] = lr_model\n",
    "        classifier_scores[eval_layer, eval_feature] = precision_recall_fscore_support(y_test, lr_model.predict(X_test), average=\"binary\")\n",
    "\n",
    "        with open(\"classifiers.pkl\", \"wb\") as f:\n",
    "            pickle.dump({\"classifiers\": classifiers, \"scores\": classifier_scores}, f)"
   ]
  },
  {
   "cell_type": "markdown",
   "metadata": {},
   "source": [
    "## Feature selectivity index\n",
    "\n",
    "Estimate on TIMIT since we don't have the diphone audio stimuli at the moment"
   ]
  },
  {
   "cell_type": "code",
   "execution_count": 53,
   "metadata": {},
   "outputs": [
    {
     "data": {
      "application/vnd.jupyter.widget-view+json": {
       "model_id": "dc5a3ba8b97f4dc2b7c14aaabf041584",
       "version_major": 2,
       "version_minor": 0
      },
      "text/plain": [
       "Saving the dataset (0/5 shards):   0%|          | 0/499 [00:00<?, ? examples/s]"
      ]
     },
     "metadata": {},
     "output_type": "display_data"
    }
   ],
   "source": [
    "eval_dataset.save_to_disk(\"eval_dataset_for_feature_selectivity\")"
   ]
  },
  {
   "cell_type": "code",
   "execution_count": 25,
   "metadata": {},
   "outputs": [
    {
     "name": "stderr",
     "output_type": "stream",
     "text": [
      "Parameter 'function'=<function add_feature_responses at 0x7f16e4d731c0> of the transform datasets.arrow_dataset.Dataset._map_single couldn't be hashed properly, a random hash was used instead. Make sure your transforms and parameters are serializable with pickle or dill for the dataset fingerprinting and caching to work. If you reuse this transform, the caching mechanism will consider it to be different from the previous calls and recompute everything. This warning is only showed once. Subsequent hashing failures won't be showed.\n"
     ]
    },
    {
     "data": {
      "application/vnd.jupyter.widget-view+json": {
       "model_id": "7c0d89f2c4624a3096ca6c9fdc459794",
       "version_major": 2,
       "version_minor": 0
      },
      "text/plain": [
       "Map:   0%|          | 0/499 [00:00<?, ? examples/s]"
      ]
     },
     "metadata": {},
     "output_type": "display_data"
    },
    {
     "data": {
      "text/plain": [
       "Dataset({\n",
       "    features: ['file', 'audio', 'text', 'phonetic_detail', 'word_detail', 'dialect_region', 'sentence_type', 'speaker_id', 'id', 'phonemic_detail', 'word_phonetic_detail', 'word_phonemic_detail', 'input_values', 'phone_targets', 'hidden_state_0', 'hidden_state_1', 'hidden_state_2', 'hidden_state_3', 'hidden_state_4', 'hidden_state_5', 'hidden_state_6', 'hidden_state_7', 'hidden_state_8', 'hidden_state_9', 'hidden_state_10', 'hidden_state_11', 'hidden_state_12', 'phn_feat_dorsal', 'phn_feat_coronal', 'phn_feat_labial', 'phn_feat_high', 'phn_feat_front', 'phn_feat_low', 'phn_feat_back', 'phn_feat_plosive', 'phn_feat_fricative', 'phn_feat_syllabic', 'phn_feat_nasal', 'phn_feat_voiced', 'phn_feat_obstruent', 'phn_feat_sonorant', 'phn_feat_names'],\n",
       "    num_rows: 499\n",
       "})"
      ]
     },
     "execution_count": 25,
     "metadata": {},
     "output_type": "execute_result"
    }
   ],
   "source": [
    "feature_names = [x[0] for x in annot_data[0][\"phnfeatNames\"] if x[0] != \"names\"]\n",
    "feature_eval_layers = list(range(13))\n",
    "\n",
    "# First characterize the response of each hidden unit to each feature\n",
    "# as the mean activation of the hidden unit over a 0-60ms time window\n",
    "# with the onset of the feature.\n",
    "feature_responses = defaultdict(list)\n",
    "feature_response_window = 0.06\n",
    "feature_agg_fn = np.mean\n",
    "\n",
    "def add_feature_responses(item, eval_layers=None, model_sfreq=50):\n",
    "    if eval_layers is None:\n",
    "        eval_layers = feature_eval_layers[:]\n",
    "\n",
    "    for feature in feature_names:\n",
    "        # Resampling may have made some values fractional -- fix that\n",
    "        feature_values = np.array(item[f\"phn_feat_{feature}\"])\n",
    "        feature_values = (feature_values > 0).astype(int)\n",
    "        # Now convert span representation to onset representation\n",
    "        feature_onsets = (feature_values - np.roll(feature_values, 1)) == 1\n",
    "        feature_onset_samples = np.where(feature_onsets)[0]\n",
    "\n",
    "        for layer in eval_layers:\n",
    "            hidden_state = np.array(item[f\"hidden_state_{layer}\"])\n",
    "\n",
    "            for sample in feature_onset_samples:\n",
    "                start_idx = sample\n",
    "                end_idx = min(hidden_state.shape[0], int(sample + feature_response_window * model_sfreq))\n",
    "                feature_response = feature_agg_fn(hidden_state[start_idx:end_idx], axis=0)\n",
    "                feature_responses[layer, feature].append(feature_response)\n",
    "\n",
    "eval_dataset.map(add_feature_responses, fn_kwargs={\"eval_layers\": feature_eval_layers})"
   ]
  },
  {
   "cell_type": "code",
   "execution_count": 265,
   "metadata": {},
   "outputs": [],
   "source": [
    "# feature_responses_mat: num_layers * hidden_size * num_features\n",
    "# # Z-scoring each layer's responses to each feature\n",
    "# feature_responses_mat = []\n",
    "# for layer in tqdm(feature_eval_layers):\n",
    "#     responses_i = []\n",
    "\n",
    "#     all_layer_responses = np.concatenate([np.array(feature_responses[layer, feature])\n",
    "#                                           for feature in feature_names])\n",
    "#     layer_mean, layer_std = all_layer_responses.mean(axis=0, keepdims=True), all_layer_responses.std(axis=0, keepdims=True)\n",
    "#     for feature in feature_names:\n",
    "#         responses_ij = np.array(feature_responses[layer, feature])\n",
    "#         responses_ij = (responses_ij - layer_mean) / layer_std\n",
    "#         responses_i.append(responses_ij.mean(axis=0))\n",
    "\n",
    "#     feature_responses_mat.append(np.array(responses_i))\n",
    "\n",
    "# feature_responses_mat = np.array(feature_responses_mat)\n",
    "\n",
    "feature_responses_mat = np.array([[np.array(feature_responses[layer, feature]).mean(axis=0)\n",
    "                                   for feature in feature_names]\n",
    "                                  for layer in feature_eval_layers])\n",
    "feature_responses_mat = feature_responses_mat.transpose(0, 2, 1)"
   ]
  },
  {
   "cell_type": "code",
   "execution_count": 266,
   "metadata": {},
   "outputs": [
    {
     "data": {
      "text/plain": [
       "(13, 768, 14)"
      ]
     },
     "execution_count": 266,
     "metadata": {},
     "output_type": "execute_result"
    }
   ],
   "source": [
    "feature_responses_mat.shape"
   ]
  },
  {
   "cell_type": "code",
   "execution_count": 216,
   "metadata": {},
   "outputs": [],
   "source": [
    "# feature_responses_mat -= feature_responses_mat.mean(axis=2, keepdims=True)\n",
    "# feature_responses_mat /= feature_responses_mat.std(axis=2, keepdims=True)"
   ]
  },
  {
   "cell_type": "code",
   "execution_count": 276,
   "metadata": {},
   "outputs": [],
   "source": [
    "# For each feature--hidden unit pair, calculate feature selectivity index:\n",
    "# FSI_ij receives 1 point for every feature to which hidden unit i responds\n",
    "# more weakly than it did to feature j by a threshold (0.15).\n",
    "feature_selectivity_threshold = 0.01\n",
    "feature_selectivity = np.zeros_like(feature_responses_mat)\n",
    "\n",
    "for layer_idx in range(feature_selectivity.shape[0]):\n",
    "    for hidden_idx in range(feature_selectivity.shape[1]):\n",
    "        for feature_idx in range(feature_selectivity.shape[2]):\n",
    "            feature_response = feature_responses_mat[layer_idx, hidden_idx, feature_idx]\n",
    "\n",
    "            other_feature_responses = np.concatenate([\n",
    "                feature_responses_mat[layer_idx, hidden_idx, :feature_idx],\n",
    "                feature_responses_mat[layer_idx, hidden_idx, feature_idx + 1:],\n",
    "            ])\n",
    "            feature_selectivity[layer_idx, hidden_idx, feature_idx] = (np.abs(feature_response - other_feature_responses) > feature_selectivity_threshold).sum()"
   ]
  },
  {
   "cell_type": "code",
   "execution_count": 277,
   "metadata": {},
   "outputs": [
    {
     "data": {
      "text/plain": [
       "13.0"
      ]
     },
     "execution_count": 277,
     "metadata": {},
     "output_type": "execute_result"
    }
   ],
   "source": [
    "feature_selectivity.max()"
   ]
  },
  {
   "cell_type": "code",
   "execution_count": 338,
   "metadata": {},
   "outputs": [
    {
     "name": "stdout",
     "output_type": "stream",
     "text": [
      "(14, 128)\n"
     ]
    },
    {
     "data": {
      "text/plain": [
       "<seaborn.matrix.ClusterGrid at 0x7f16ecfce410>"
      ]
     },
     "execution_count": 338,
     "metadata": {},
     "output_type": "execute_result"
    },
    {
     "data": {
      "image/png": "[encoded data removed]",
      "text/plain": [
       "<Figure size 1000x1000 with 4 Axes>"
      ]
     },
     "metadata": {},
     "output_type": "display_data"
    }
   ],
   "source": [
    "plot_layer = 6\n",
    "plot_data = feature_selectivity[plot_layer].T\n",
    "# plot_data = plot_data[:, plot_data.sum(axis=0) > 5]\n",
    "plot_data = plot_data[:, np.random.choice(plot_data.shape[1], size=128, replace=False)]\n",
    "print(plot_data.shape)\n",
    "sns.clustermap(plot_data, yticklabels=feature_names, xticklabels=False, dendrogram_ratio=0.1,)"
   ]
  },
  {
   "cell_type": "markdown",
   "metadata": {},
   "source": [
    "### Phoneme selectivity index"
   ]
  },
  {
   "cell_type": "code",
   "execution_count": 45,
   "metadata": {},
   "outputs": [
    {
     "data": {
      "application/vnd.jupyter.widget-view+json": {
       "model_id": "8c5a890b783a4296b634e6252d569a21",
       "version_major": 2,
       "version_minor": 0
      },
      "text/plain": [
       "Map:   0%|          | 0/499 [00:00<?, ? examples/s]"
      ]
     },
     "metadata": {},
     "output_type": "display_data"
    }
   ],
   "source": [
    "all_phonemes = set()\n",
    "def update_all_phonemes(item):\n",
    "    all_phonemes.update(item[\"phonemic_detail\"][\"utterance\"])\n",
    "eval_dataset.map(update_all_phonemes)\n",
    "all_phonemes = sorted(all_phonemes)"
   ]
  },
  {
   "cell_type": "code",
   "execution_count": 107,
   "metadata": {},
   "outputs": [
    {
     "data": {
      "application/vnd.jupyter.widget-view+json": {
       "model_id": "e46ddd08b2784017b291eb2f451734c9",
       "version_major": 2,
       "version_minor": 0
      },
      "text/plain": [
       "Map:   0%|          | 0/499 [00:00<?, ? examples/s]"
      ]
     },
     "metadata": {},
     "output_type": "display_data"
    },
    {
     "name": "stderr",
     "output_type": "stream",
     "text": [
      "/userdata/jgauthier/transformers/lib/python3.10/site-packages/numpy/core/fromnumeric.py:3432: RuntimeWarning: Mean of empty slice.\n",
      "  return _methods._mean(a, axis=axis, dtype=dtype,\n",
      "/userdata/jgauthier/transformers/lib/python3.10/site-packages/numpy/core/_methods.py:182: RuntimeWarning: invalid value encountered in divide\n",
      "  ret = um.true_divide(\n"
     ]
    },
    {
     "data": {
      "text/plain": [
       "Dataset({\n",
       "    features: ['file', 'audio', 'text', 'phonetic_detail', 'word_detail', 'dialect_region', 'sentence_type', 'speaker_id', 'id', 'phonemic_detail', 'word_phonetic_detail', 'word_phonemic_detail', 'input_values', 'phone_targets', 'hidden_state_0', 'hidden_state_1', 'hidden_state_2', 'hidden_state_3', 'hidden_state_4', 'hidden_state_5', 'hidden_state_6', 'hidden_state_7', 'hidden_state_8', 'hidden_state_9', 'hidden_state_10', 'hidden_state_11', 'hidden_state_12', 'phn_feat_dorsal', 'phn_feat_coronal', 'phn_feat_labial', 'phn_feat_high', 'phn_feat_front', 'phn_feat_low', 'phn_feat_back', 'phn_feat_plosive', 'phn_feat_fricative', 'phn_feat_syllabic', 'phn_feat_nasal', 'phn_feat_voiced', 'phn_feat_obstruent', 'phn_feat_sonorant', 'phn_feat_names', 'idx'],\n",
       "    num_rows: 499\n",
       "})"
      ]
     },
     "execution_count": 107,
     "metadata": {},
     "output_type": "execute_result"
    }
   ],
   "source": [
    "# DEV\n",
    "phoneme_eval_layers = [0, 3, 5]\n",
    "\n",
    "# First characterize the response of each hidden unit to each feature\n",
    "# as the mean activation of the hidden unit over a 0-60ms time window\n",
    "# with the onset of the feature.\n",
    "phoneme_responses = defaultdict(list)\n",
    "phoneme_response_window = 0.06\n",
    "phoneme_agg_fn = np.mean\n",
    "\n",
    "def add_phoneme_responses(item, eval_layers=None, model_sfreq=50):\n",
    "    if eval_layers is None:\n",
    "        eval_layers = phoneme_eval_layers[:]\n",
    "\n",
    "    compression_ratio = (model._get_feat_extract_output_lengths(len(item[\"input_values\"])) / len(item[\"input_values\"])).item()\n",
    "    for layer in eval_layers:\n",
    "        hidden_state = np.array(item[f\"hidden_state_{layer}\"])\n",
    "        for start, stop, phoneme in zip(item[\"phonemic_detail\"][\"start\"], item[\"phonemic_detail\"][\"stop\"], item[\"phonemic_detail\"][\"utterance\"]):\n",
    "            start_frame = int(start * compression_ratio)\n",
    "            stop_frame = int(stop * compression_ratio)\n",
    "            stop_frame = int(min(stop_frame, start_frame + phoneme_response_window * model_sfreq, hidden_state.shape[0]))\n",
    "\n",
    "            phoneme_response = phoneme_agg_fn(hidden_state[start_frame:stop_frame], axis=0)\n",
    "            if not np.isnan(phoneme_response).any():\n",
    "                phoneme_responses[layer, phoneme].append(phoneme_response)\n",
    "\n",
    "eval_dataset.map(add_phoneme_responses, fn_kwargs={\"eval_layers\": phoneme_eval_layers})"
   ]
  },
  {
   "cell_type": "code",
   "execution_count": 280,
   "metadata": {},
   "outputs": [],
   "source": [
    "# phoneme_responses_mat: num_layers * hidden_size * num_phonemes\n",
    "phoneme_responses_mat = np.array([[np.array(phoneme_responses[layer, phoneme]).mean(axis=0)\n",
    "                                   for phoneme in all_phonemes]\n",
    "                                  for layer in phoneme_eval_layers])\n",
    "phoneme_responses_mat = phoneme_responses_mat.transpose(0, 2, 1)"
   ]
  },
  {
   "cell_type": "code",
   "execution_count": 109,
   "metadata": {},
   "outputs": [],
   "source": [
    "# phoneme_responses_mat -= phoneme_responses_mat.mean(axis=2, keepdims=True)\n",
    "# phoneme_responses_mat /= phoneme_responses_mat.std(axis=2, keepdims=True)"
   ]
  },
  {
   "cell_type": "code",
   "execution_count": 294,
   "metadata": {},
   "outputs": [],
   "source": [
    "# For each feature--hidden unit pair, calculate feature selectivity index:\n",
    "# FSI_ij receives 1 point for every feature to which hidden unit i responds\n",
    "# more weakly than it did to feature j by a threshold (0.15).\n",
    "phoneme_selectivity_threshold = 0.5\n",
    "phoneme_selectivity = np.zeros_like(phoneme_responses_mat)\n",
    "\n",
    "for layer_idx in range(phoneme_selectivity.shape[0]):\n",
    "    for hidden_idx in range(phoneme_selectivity.shape[1]):\n",
    "        for phoneme_idx in range(phoneme_selectivity.shape[2]):\n",
    "            phoneme_response = phoneme_responses_mat[layer_idx, hidden_idx, phoneme_idx]\n",
    "\n",
    "            other_phoneme_responses = np.concatenate([\n",
    "                phoneme_responses_mat[layer_idx, hidden_idx, :phoneme_idx],\n",
    "                phoneme_responses_mat[layer_idx, hidden_idx, phoneme_idx + 1:],\n",
    "            ])\n",
    "            phoneme_selectivity[layer_idx, hidden_idx, phoneme_idx] = (np.abs(phoneme_response - other_phoneme_responses) > phoneme_selectivity_threshold).sum()"
   ]
  },
  {
   "cell_type": "code",
   "execution_count": 295,
   "metadata": {},
   "outputs": [
    {
     "name": "stdout",
     "output_type": "stream",
     "text": [
      "(40, 102)\n"
     ]
    },
    {
     "data": {
      "text/plain": [
       "<seaborn.matrix.ClusterGrid at 0x7f16c72160e0>"
      ]
     },
     "execution_count": 295,
     "metadata": {},
     "output_type": "execute_result"
    },
    {
     "data": {
      "image/png": "[encoded data removed]",
      "text/plain": [
       "<Figure size 1000x1000 with 4 Axes>"
      ]
     },
     "metadata": {},
     "output_type": "display_data"
    }
   ],
   "source": [
    "plot_layer = 2\n",
    "plot_data = phoneme_selectivity[plot_layer].T\n",
    "plot_data = plot_data[:, plot_data.sum(axis=0) > 0]\n",
    "# plot_data = plot_data[:, np.random.choice(plot_data.shape[1], size=100, replace=False)]\n",
    "print(plot_data.shape)\n",
    "sns.clustermap(plot_data, yticklabels=all_phonemes, xticklabels=False, dendrogram_ratio=0.1,)"
   ]
  },
  {
   "cell_type": "markdown",
   "metadata": {},
   "source": [
    "## Redo this for RNN states"
   ]
  },
  {
   "cell_type": "code",
   "execution_count": 117,
   "metadata": {},
   "outputs": [],
   "source": [
    "from copy import deepcopy\n",
    "from src.models.frame_level import FrameLevelLexicalAccess, LexicalAccessDataCollator\n",
    "from src.models.rnn import ExposedLSTM\n",
    "from torch.utils.data import DataLoader\n",
    "\n",
    "model_checkpoint_path = \"outputs/outputs_dualhead0.5/models/w2v2_drop6_rnn/checkpoint-5150/\"\n",
    "frame_model: FrameLevelLexicalAccess = FrameLevelLexicalAccess.from_pretrained(model_checkpoint_path)\n",
    "\n",
    "collator = LexicalAccessDataCollator(\n",
    "    processor=processor,\n",
    "    model=frame_model,\n",
    "    padding=True,\n",
    "    num_labels=frame_model.config.num_labels,\n",
    "    regression_target_size=frame_model.config.regressor_target_size,\n",
    ")"
   ]
  },
  {
   "cell_type": "code",
   "execution_count": 118,
   "metadata": {},
   "outputs": [
    {
     "data": {
      "application/vnd.jupyter.widget-view+json": {
       "model_id": "1c32902ddee7496ab0bc221ba90842a8",
       "version_major": 2,
       "version_minor": 0
      },
      "text/plain": [
       "Map:   0%|          | 0/499 [00:00<?, ? examples/s]"
      ]
     },
     "metadata": {},
     "output_type": "display_data"
    }
   ],
   "source": [
    "def add_indices(item, idx):\n",
    "    item[\"idx\"] = idx\n",
    "    return item\n",
    "eval_dataset = eval_dataset.map(add_indices, batched=True, batch_size=2000, with_indices=True)"
   ]
  },
  {
   "cell_type": "code",
   "execution_count": 119,
   "metadata": {},
   "outputs": [],
   "source": [
    "rnn_state = deepcopy(frame_model.rnn.state_dict())\n",
    "exposed_lstm = ExposedLSTM(\n",
    "    input_size=frame_model.rnn.input_size,\n",
    "    hidden_size=frame_model.rnn.hidden_size,\n",
    "    num_layers=frame_model.rnn.num_layers,\n",
    "    bias=frame_model.rnn.bias,\n",
    "    batch_first=frame_model.rnn.batch_first,\n",
    ")\n",
    "exposed_lstm.load_state_dict(rnn_state)\n",
    "\n",
    "frame_model.rnn = exposed_lstm\n",
    "frame_model.config.expose_rnn = True"
   ]
  },
  {
   "cell_type": "code",
   "execution_count": 64,
   "metadata": {},
   "outputs": [
    {
     "data": {
      "application/vnd.jupyter.widget-view+json": {
       "model_id": "7aeda0855a0348819a22330152153990",
       "version_major": 2,
       "version_minor": 0
      },
      "text/plain": [
       "  0%|          | 0/63 [00:00<?, ?it/s]"
      ]
     },
     "metadata": {},
     "output_type": "display_data"
    },
    {
     "name": "stderr",
     "output_type": "stream",
     "text": [
      "/userdata/jgauthier/projects/ideal-word-representations/src/models/frame_level.py:247: UserWarning: To copy construct from a tensor, it is recommended to use sourceTensor.clone().detach() or sourceTensor.clone().detach().requires_grad_(True), rather than torch.tensor(sourceTensor).\n",
      "  targets[i][onset:offset, :] = torch.tensor(self.model.word_representations[word_id])\n",
      "Unused kwargs: {'idx': tensor([0, 1, 2, 3, 4, 5, 6, 7])}\n",
      "Unused kwargs: {'idx': tensor([ 8,  9, 10, 11, 12, 13, 14, 15])}\n",
      "Unused kwargs: {'idx': tensor([16, 17, 18, 19, 20, 21, 22, 23])}\n",
      "Unused kwargs: {'idx': tensor([24, 25, 26, 27, 28, 29, 30, 31])}\n",
      "Unused kwargs: {'idx': tensor([32, 33, 34, 35, 36, 37, 38, 39])}\n",
      "Unused kwargs: {'idx': tensor([40, 41, 42, 43, 44, 45, 46, 47])}\n",
      "Unused kwargs: {'idx': tensor([48, 49, 50, 51, 52, 53, 54, 55])}\n",
      "Unused kwargs: {'idx': tensor([56, 57, 58, 59, 60, 61, 62, 63])}\n",
      "Unused kwargs: {'idx': tensor([64, 65, 66, 67, 68, 69, 70, 71])}\n",
      "Unused kwargs: {'idx': tensor([72, 73, 74, 75, 76, 77, 78, 79])}\n",
      "Unused kwargs: {'idx': tensor([80, 81, 82, 83, 84, 85, 86, 87])}\n",
      "Unused kwargs: {'idx': tensor([88, 89, 90, 91, 92, 93, 94, 95])}\n",
      "Unused kwargs: {'idx': tensor([ 96,  97,  98,  99, 100, 101, 102, 103])}\n",
      "Unused kwargs: {'idx': tensor([104, 105, 106, 107, 108, 109, 110, 111])}\n",
      "Unused kwargs: {'idx': tensor([112, 113, 114, 115, 116, 117, 118, 119])}\n",
      "Unused kwargs: {'idx': tensor([120, 121, 122, 123, 124, 125, 126, 127])}\n",
      "Unused kwargs: {'idx': tensor([128, 129, 130, 131, 132, 133, 134, 135])}\n",
      "Unused kwargs: {'idx': tensor([136, 137, 138, 139, 140, 141, 142, 143])}\n",
      "Unused kwargs: {'idx': tensor([144, 145, 146, 147, 148, 149, 150, 151])}\n",
      "Unused kwargs: {'idx': tensor([152, 153, 154, 155, 156, 157, 158, 159])}\n",
      "Unused kwargs: {'idx': tensor([160, 161, 162, 163, 164, 165, 166, 167])}\n",
      "Unused kwargs: {'idx': tensor([168, 169, 170, 171, 172, 173, 174, 175])}\n",
      "Unused kwargs: {'idx': tensor([176, 177, 178, 179, 180, 181, 182, 183])}\n",
      "Unused kwargs: {'idx': tensor([184, 185, 186, 187, 188, 189, 190, 191])}\n",
      "Unused kwargs: {'idx': tensor([192, 193, 194, 195, 196, 197, 198, 199])}\n",
      "Unused kwargs: {'idx': tensor([200, 201, 202, 203, 204, 205, 206, 207])}\n",
      "Unused kwargs: {'idx': tensor([208, 209, 210, 211, 212, 213, 214, 215])}\n",
      "Unused kwargs: {'idx': tensor([216, 217, 218, 219, 220, 221, 222, 223])}\n",
      "Unused kwargs: {'idx': tensor([224, 225, 226, 227, 228, 229, 230, 231])}\n",
      "Unused kwargs: {'idx': tensor([232, 233, 234, 235, 236, 237, 238, 239])}\n",
      "Unused kwargs: {'idx': tensor([240, 241, 242, 243, 244, 245, 246, 247])}\n",
      "Unused kwargs: {'idx': tensor([248, 249, 250, 251, 252, 253, 254, 255])}\n",
      "Unused kwargs: {'idx': tensor([256, 257, 258, 259, 260, 261, 262, 263])}\n",
      "Unused kwargs: {'idx': tensor([264, 265, 266, 267, 268, 269, 270, 271])}\n",
      "Unused kwargs: {'idx': tensor([272, 273, 274, 275, 276, 277, 278, 279])}\n",
      "Unused kwargs: {'idx': tensor([280, 281, 282, 283, 284, 285, 286, 287])}\n",
      "Unused kwargs: {'idx': tensor([288, 289, 290, 291, 292, 293, 294, 295])}\n",
      "Unused kwargs: {'idx': tensor([296, 297, 298, 299, 300, 301, 302, 303])}\n",
      "Unused kwargs: {'idx': tensor([304, 305, 306, 307, 308, 309, 310, 311])}\n",
      "Unused kwargs: {'idx': tensor([312, 313, 314, 315, 316, 317, 318, 319])}\n",
      "Unused kwargs: {'idx': tensor([320, 321, 322, 323, 324, 325, 326, 327])}\n",
      "Unused kwargs: {'idx': tensor([328, 329, 330, 331, 332, 333, 334, 335])}\n",
      "Unused kwargs: {'idx': tensor([336, 337, 338, 339, 340, 341, 342, 343])}\n",
      "Unused kwargs: {'idx': tensor([344, 345, 346, 347, 348, 349, 350, 351])}\n",
      "Unused kwargs: {'idx': tensor([352, 353, 354, 355, 356, 357, 358, 359])}\n",
      "Unused kwargs: {'idx': tensor([360, 361, 362, 363, 364, 365, 366, 367])}\n",
      "Unused kwargs: {'idx': tensor([368, 369, 370, 371, 372, 373, 374, 375])}\n",
      "Unused kwargs: {'idx': tensor([376, 377, 378, 379, 380, 381, 382, 383])}\n",
      "Unused kwargs: {'idx': tensor([384, 385, 386, 387, 388, 389, 390, 391])}\n",
      "Unused kwargs: {'idx': tensor([392, 393, 394, 395, 396, 397, 398, 399])}\n",
      "Unused kwargs: {'idx': tensor([400, 401, 402, 403, 404, 405, 406, 407])}\n",
      "Unused kwargs: {'idx': tensor([408, 409, 410, 411, 412, 413, 414, 415])}\n",
      "Unused kwargs: {'idx': tensor([416, 417, 418, 419, 420, 421, 422, 423])}\n",
      "Unused kwargs: {'idx': tensor([424, 425, 426, 427, 428, 429, 430, 431])}\n",
      "Unused kwargs: {'idx': tensor([432, 433, 434, 435, 436, 437, 438, 439])}\n",
      "Unused kwargs: {'idx': tensor([440, 441, 442, 443, 444, 445, 446, 447])}\n",
      "Unused kwargs: {'idx': tensor([448, 449, 450, 451, 452, 453, 454, 455])}\n",
      "Unused kwargs: {'idx': tensor([456, 457, 458, 459, 460, 461, 462, 463])}\n",
      "Unused kwargs: {'idx': tensor([464, 465, 466, 467, 468, 469, 470, 471])}\n",
      "Unused kwargs: {'idx': tensor([472, 473, 474, 475, 476, 477, 478, 479])}\n",
      "Unused kwargs: {'idx': tensor([480, 481, 482, 483, 484, 485, 486, 487])}\n",
      "Unused kwargs: {'idx': tensor([488, 489, 490, 491, 492, 493, 494, 495])}\n",
      "Unused kwargs: {'idx': tensor([496, 497, 498])}\n"
     ]
    }
   ],
   "source": [
    "# Flat representation of all hidden states etc.\n",
    "flat_idxs = []\n",
    "rnn_hidden_states = []\n",
    "\n",
    "dataloader = DataLoader(eval_dataset, batch_size=8,\n",
    "                        collate_fn=collator, shuffle=False)\n",
    "for batch in tqdm(dataloader):\n",
    "    with torch.no_grad():\n",
    "        batch_output = frame_model(output_hidden_states=True, **batch)\n",
    "\n",
    "    batch_hidden, batch_cell, batch_input_gate, batch_forget_gate, batch_cell_gate, batch_output_gate = \\\n",
    "        batch_output.rnn_hidden_states\n",
    "    batch_hidden = batch_hidden.permute(1, 2, 0, 3)\n",
    "    # batch_cell = batch_cell.permute(1, 2, 0, 3)\n",
    "    # batch_input_gate = batch_input_gate.permute(1, 2, 0, 3)\n",
    "    # batch_forget_gate = batch_forget_gate.permute(1, 2, 0, 3)\n",
    "    # batch_cell_gate = batch_cell_gate.permute(1, 2, 0, 3)\n",
    "    # batch_output_gate = batch_output_gate.permute(1, 2, 0, 3)\n",
    "\n",
    "    # we are now in batch * seq_len * num_layers * hidden_size\n",
    "\n",
    "    real_frames = batch.target_mask.sum(dim=1)\n",
    "    for i, (idx) in enumerate(batch.idx):\n",
    "        real_frames_i = real_frames[i]\n",
    "        flat_idxs.extend([(idx.item(), i) for i in range(real_frames_i)])\n",
    "        rnn_hidden_states.append(batch_hidden[i, :real_frames_i])\n",
    "        # cell_states.append(batch_cell[i, :real_frames_i])\n",
    "        # input_gates.append(batch_input_gate[i, :real_frames_i])\n",
    "        # forget_gates.append(batch_forget_gate[i, :real_frames_i])\n",
    "        # cell_gates.append(batch_cell_gate[i, :real_frames_i])\n",
    "        # output_gates.append(batch_output_gate[i, :real_frames_i])"
   ]
  },
  {
   "cell_type": "code",
   "execution_count": 73,
   "metadata": {},
   "outputs": [
    {
     "ename": "TypeError",
     "evalue": "cat() received an invalid combination of arguments - got (numpy.ndarray, dim=int), but expected one of:\n * (tuple of Tensors tensors, int dim, *, Tensor out)\n * (tuple of Tensors tensors, name dim, *, Tensor out)\n",
     "output_type": "error",
     "traceback": [
      "\u001b[0;31m---------------------------------------------------------------------------\u001b[0m",
      "\u001b[0;31mTypeError\u001b[0m                                 Traceback (most recent call last)",
      "\u001b[1;32m/home/jgauthier/u/projects/ideal-word-representations/20231121 acoustic-phonetic.ipynb Cell 53\u001b[0m line \u001b[0;36m1\n\u001b[0;32m----> <a href='vscode-notebook-cell://ssh-remote%2Bspirit/home/jgauthier/u/projects/ideal-word-representations/20231121%20acoustic-phonetic.ipynb#Y102sdnNjb2RlLXJlbW90ZQ%3D%3D?line=0'>1</a>\u001b[0m rnn_hidden_states \u001b[39m=\u001b[39m torch\u001b[39m.\u001b[39;49mcat(rnn_hidden_states, dim\u001b[39m=\u001b[39;49m\u001b[39m0\u001b[39;49m)\u001b[39m.\u001b[39mnumpy()\n\u001b[1;32m      <a href='vscode-notebook-cell://ssh-remote%2Bspirit/home/jgauthier/u/projects/ideal-word-representations/20231121%20acoustic-phonetic.ipynb#Y102sdnNjb2RlLXJlbW90ZQ%3D%3D?line=1'>2</a>\u001b[0m rnn_hidden_states\u001b[39m.\u001b[39mshape\n",
      "\u001b[0;31mTypeError\u001b[0m: cat() received an invalid combination of arguments - got (numpy.ndarray, dim=int), but expected one of:\n * (tuple of Tensors tensors, int dim, *, Tensor out)\n * (tuple of Tensors tensors, name dim, *, Tensor out)\n"
     ]
    }
   ],
   "source": [
    "rnn_hidden_states = torch.cat(rnn_hidden_states, dim=0).numpy()\n",
    "rnn_hidden_states.shape"
   ]
  },
  {
   "cell_type": "code",
   "execution_count": 76,
   "metadata": {},
   "outputs": [],
   "source": [
    "rnn_hidden_state_source_to_flat_idx = {idx: i for i, idx in enumerate(flat_idxs)}"
   ]
  },
  {
   "cell_type": "code",
   "execution_count": 340,
   "metadata": {},
   "outputs": [],
   "source": [
    "rnn_hidden_states_normed = (rnn_hidden_states - rnn_hidden_states.mean(axis=0)) / rnn_hidden_states.std(axis=0)"
   ]
  },
  {
   "cell_type": "markdown",
   "metadata": {},
   "source": [
    "### Feature selectivity index"
   ]
  },
  {
   "cell_type": "code",
   "execution_count": 341,
   "metadata": {},
   "outputs": [
    {
     "data": {
      "application/vnd.jupyter.widget-view+json": {
       "model_id": "0975b4e72c3c43dbbe6c9424b6046bf9",
       "version_major": 2,
       "version_minor": 0
      },
      "text/plain": [
       "Map:   0%|          | 0/499 [00:00<?, ? examples/s]"
      ]
     },
     "metadata": {},
     "output_type": "display_data"
    },
    {
     "name": "stderr",
     "output_type": "stream",
     "text": [
      "/userdata/jgauthier/transformers/lib/python3.10/site-packages/numpy/core/fromnumeric.py:3432: RuntimeWarning: Mean of empty slice.\n",
      "  return _methods._mean(a, axis=axis, dtype=dtype,\n",
      "/userdata/jgauthier/transformers/lib/python3.10/site-packages/numpy/core/_methods.py:182: RuntimeWarning: invalid value encountered in divide\n",
      "  ret = um.true_divide(\n"
     ]
    },
    {
     "data": {
      "text/plain": [
       "Dataset({\n",
       "    features: ['file', 'audio', 'text', 'phonetic_detail', 'word_detail', 'dialect_region', 'sentence_type', 'speaker_id', 'id', 'phonemic_detail', 'word_phonetic_detail', 'word_phonemic_detail', 'input_values', 'phone_targets', 'hidden_state_0', 'hidden_state_1', 'hidden_state_2', 'hidden_state_3', 'hidden_state_4', 'hidden_state_5', 'hidden_state_6', 'hidden_state_7', 'hidden_state_8', 'hidden_state_9', 'hidden_state_10', 'hidden_state_11', 'hidden_state_12', 'phn_feat_dorsal', 'phn_feat_coronal', 'phn_feat_labial', 'phn_feat_high', 'phn_feat_front', 'phn_feat_low', 'phn_feat_back', 'phn_feat_plosive', 'phn_feat_fricative', 'phn_feat_syllabic', 'phn_feat_nasal', 'phn_feat_voiced', 'phn_feat_obstruent', 'phn_feat_sonorant', 'phn_feat_names', 'idx'],\n",
       "    num_rows: 499\n",
       "})"
      ]
     },
     "execution_count": 341,
     "metadata": {},
     "output_type": "execute_result"
    }
   ],
   "source": [
    "rnn_feature_eval_layers = [0, 1]\n",
    "\n",
    "# First characterize the response of each hidden unit to each feature\n",
    "# as the mean activation of the hidden unit over a 0-60ms time window\n",
    "# with the onset of the feature.\n",
    "rnn_feature_responses = defaultdict(list)\n",
    "rnn_feature_response_window = 0.06\n",
    "rnn_feature_agg_fn = np.mean\n",
    "\n",
    "def add_feature_responses(item, idx, eval_layers=None, model_sfreq=50, normed=True):\n",
    "    if eval_layers is None:\n",
    "        eval_layers = rnn_feature_eval_layers[:]\n",
    "\n",
    "    item_num_frames = frame_model.encoder._get_feat_extract_output_lengths(len(item[\"input_values\"])).item()\n",
    "    compression_ratio = item_num_frames / len(item[\"input_values\"])\n",
    "\n",
    "    for feature in feature_names:\n",
    "        # Resampling may have made some values fractional -- fix that\n",
    "        feature_values = np.array(item[f\"phn_feat_{feature}\"])\n",
    "        feature_values = (feature_values > 0).astype(int)\n",
    "        # Now convert span representation to onset representation\n",
    "        feature_onsets = (feature_values - np.roll(feature_values, 1)) == 1\n",
    "        feature_onset_samples = np.where(feature_onsets)[0]\n",
    "\n",
    "        for layer in eval_layers:\n",
    "            for sample in feature_onset_samples:\n",
    "                start_frame = sample\n",
    "                end_frame = int(min(sample + rnn_feature_response_window * model_sfreq, item_num_frames - 1))\n",
    "\n",
    "                hidden_state_reference = rnn_hidden_states_normed if normed else rnn_hidden_states\n",
    "                hidden_state = hidden_state_reference[rnn_hidden_state_source_to_flat_idx[idx, start_frame] : rnn_hidden_state_source_to_flat_idx[idx, end_frame],\n",
    "                                                 layer]\n",
    "                feature_response = rnn_feature_agg_fn(hidden_state, axis=0)\n",
    "                if not np.isnan(feature_response).any():\n",
    "                    rnn_feature_responses[layer, feature].append(feature_response)\n",
    "\n",
    "eval_dataset.map(add_feature_responses, with_indices=True, fn_kwargs={\"eval_layers\": rnn_feature_eval_layers})"
   ]
  },
  {
   "cell_type": "code",
   "execution_count": 342,
   "metadata": {},
   "outputs": [],
   "source": [
    "# feature_responses_mat: num_layers * hidden_size * num_features\n",
    "rnn_feature_responses_mat = np.array([[np.array(rnn_feature_responses[layer, feature]).mean(axis=0)\n",
    "                                   for feature in feature_names]\n",
    "                                  for layer in rnn_feature_eval_layers])\n",
    "rnn_feature_responses_mat = rnn_feature_responses_mat.transpose(0, 2, 1)\n",
    "\n",
    "# rnn_feature_responses_mat -= rnn_feature_responses_mat.mean(axis=2, keepdims=True)\n",
    "# rnn_feature_responses_mat /= rnn_feature_responses_mat.std(axis=2, keepdims=True)"
   ]
  },
  {
   "cell_type": "code",
   "execution_count": 361,
   "metadata": {},
   "outputs": [],
   "source": [
    "# For each feature--hidden unit pair, calculate feature selectivity index:\n",
    "# FSI_ij receives 1 point for every feature to which hidden unit i responds\n",
    "# more weakly than it did to feature j by a threshold (0.15).\n",
    "# rnn_feature_selectivity_threshold = 2\n",
    "rnn_feature_selectivity_threshold = 0.05\n",
    "rnn_feature_selectivity = np.zeros_like(rnn_feature_responses_mat)\n",
    "\n",
    "for layer_idx in range(rnn_feature_selectivity.shape[0]):\n",
    "    for hidden_idx in range(rnn_feature_selectivity.shape[1]):\n",
    "        for feature_idx in range(rnn_feature_selectivity.shape[2]):\n",
    "            feature_response = rnn_feature_responses_mat[layer_idx, hidden_idx, feature_idx]\n",
    "\n",
    "            other_feature_responses = np.concatenate([\n",
    "                rnn_feature_responses_mat[layer_idx, hidden_idx, :feature_idx],\n",
    "                rnn_feature_responses_mat[layer_idx, hidden_idx, feature_idx + 1:],\n",
    "            ])\n",
    "            rnn_feature_selectivity[layer_idx, hidden_idx, feature_idx] = (np.abs(feature_response - other_feature_responses) > rnn_feature_selectivity_threshold).sum()"
   ]
  },
  {
   "cell_type": "code",
   "execution_count": 362,
   "metadata": {},
   "outputs": [
    {
     "name": "stdout",
     "output_type": "stream",
     "text": [
      "(14, 128)\n"
     ]
    },
    {
     "data": {
      "image/png": "[encoded data removed]",
      "text/plain": [
       "<Figure size 1000x1000 with 4 Axes>"
      ]
     },
     "metadata": {},
     "output_type": "display_data"
    }
   ],
   "source": [
    "plot_layer = 0\n",
    "plot_data = rnn_feature_selectivity[plot_layer].T\n",
    "# plot_data = plot_data[:, plot_data.sum(axis=0) > 0]\n",
    "# plot_data = plot_data[:, np.random.choice(plot_data.shape[1], size=100, replace=False)]\n",
    "print(plot_data.shape)\n",
    "clustergrid = sns.clustermap(plot_data, yticklabels=feature_names, xticklabels=False, dendrogram_ratio=0.1,)"
   ]
  },
  {
   "cell_type": "code",
   "execution_count": 363,
   "metadata": {},
   "outputs": [
    {
     "name": "stdout",
     "output_type": "stream",
     "text": [
      "(14, 128)\n"
     ]
    },
    {
     "data": {
      "text/plain": [
       "<seaborn.matrix.ClusterGrid at 0x7f16f6c35000>"
      ]
     },
     "execution_count": 363,
     "metadata": {},
     "output_type": "execute_result"
    },
    {
     "data": {
      "image/png": "[encoded data removed]",
      "text/plain": [
       "<Figure size 1000x1000 with 4 Axes>"
      ]
     },
     "metadata": {},
     "output_type": "display_data"
    }
   ],
   "source": [
    "plot_layer = 1\n",
    "plot_data = rnn_feature_selectivity[plot_layer].T\n",
    "# plot_data = plot_data[:, plot_data.sum(axis=0) > 0]\n",
    "# plot_data = plot_data[:, np.random.choice(plot_data.shape[1], size=100, replace=False)]\n",
    "print(plot_data.shape)\n",
    "sns.clustermap(plot_data, yticklabels=feature_names, xticklabels=False, dendrogram_ratio=0.1,)"
   ]
  },
  {
   "cell_type": "markdown",
   "metadata": {},
   "source": [
    "### Phoneme selectivity index"
   ]
  },
  {
   "cell_type": "code",
   "execution_count": 346,
   "metadata": {},
   "outputs": [
    {
     "data": {
      "application/vnd.jupyter.widget-view+json": {
       "model_id": "2486c2ddcb104d5083a1b7b868b037e6",
       "version_major": 2,
       "version_minor": 0
      },
      "text/plain": [
       "Map:   0%|          | 0/499 [00:00<?, ? examples/s]"
      ]
     },
     "metadata": {},
     "output_type": "display_data"
    },
    {
     "name": "stderr",
     "output_type": "stream",
     "text": [
      "/userdata/jgauthier/transformers/lib/python3.10/site-packages/numpy/core/fromnumeric.py:3432: RuntimeWarning: Mean of empty slice.\n",
      "  return _methods._mean(a, axis=axis, dtype=dtype,\n",
      "/userdata/jgauthier/transformers/lib/python3.10/site-packages/numpy/core/_methods.py:182: RuntimeWarning: invalid value encountered in divide\n",
      "  ret = um.true_divide(\n"
     ]
    },
    {
     "data": {
      "text/plain": [
       "Dataset({\n",
       "    features: ['file', 'audio', 'text', 'phonetic_detail', 'word_detail', 'dialect_region', 'sentence_type', 'speaker_id', 'id', 'phonemic_detail', 'word_phonetic_detail', 'word_phonemic_detail', 'input_values', 'phone_targets', 'hidden_state_0', 'hidden_state_1', 'hidden_state_2', 'hidden_state_3', 'hidden_state_4', 'hidden_state_5', 'hidden_state_6', 'hidden_state_7', 'hidden_state_8', 'hidden_state_9', 'hidden_state_10', 'hidden_state_11', 'hidden_state_12', 'phn_feat_dorsal', 'phn_feat_coronal', 'phn_feat_labial', 'phn_feat_high', 'phn_feat_front', 'phn_feat_low', 'phn_feat_back', 'phn_feat_plosive', 'phn_feat_fricative', 'phn_feat_syllabic', 'phn_feat_nasal', 'phn_feat_voiced', 'phn_feat_obstruent', 'phn_feat_sonorant', 'phn_feat_names', 'idx'],\n",
       "    num_rows: 499\n",
       "})"
      ]
     },
     "execution_count": 346,
     "metadata": {},
     "output_type": "execute_result"
    }
   ],
   "source": [
    "rnn_phoneme_eval_layers = [0, 1]\n",
    "\n",
    "# First characterize the response of each hidden unit to each feature\n",
    "# as the mean activation of the hidden unit over a 0-60ms time window\n",
    "# with the onset of the feature.\n",
    "rnn_phoneme_responses = defaultdict(list)\n",
    "rnn_phoneme_response_window = 0.06\n",
    "rnn_phoneme_agg_fn = np.mean\n",
    "\n",
    "def add_phoneme_responses(item, idx, eval_layers=None, model_sfreq=50, normed=True):\n",
    "    if eval_layers is None:\n",
    "        eval_layers = rnn_phoneme_eval_layers[:]\n",
    "\n",
    "    compression_ratio = (frame_model.encoder._get_feat_extract_output_lengths(len(item[\"input_values\"])) / len(item[\"input_values\"])).item()\n",
    "    for layer in eval_layers:\n",
    "        for start, stop, phoneme in zip(item[\"phonemic_detail\"][\"start\"], item[\"phonemic_detail\"][\"stop\"], item[\"phonemic_detail\"][\"utterance\"]):\n",
    "            start_frame = int(start * compression_ratio)\n",
    "            stop_frame = int(stop * compression_ratio)\n",
    "            stop_frame = int(min(stop_frame, start_frame + rnn_phoneme_response_window * model_sfreq))\n",
    "\n",
    "            hidden_state_reference = rnn_hidden_states_normed if normed else rnn_hidden_states\n",
    "            hidden_state = hidden_state_reference[rnn_hidden_state_source_to_flat_idx[idx, start_frame] : rnn_hidden_state_source_to_flat_idx[idx, stop_frame],\n",
    "                                             layer]\n",
    "            phoneme_response = rnn_phoneme_agg_fn(hidden_state, axis=0)\n",
    "            if not np.isnan(phoneme_response).any():\n",
    "                rnn_phoneme_responses[layer, phoneme].append(phoneme_response)\n",
    "\n",
    "eval_dataset.map(add_phoneme_responses, with_indices=True, fn_kwargs={\"eval_layers\": rnn_phoneme_eval_layers})"
   ]
  },
  {
   "cell_type": "code",
   "execution_count": 347,
   "metadata": {},
   "outputs": [],
   "source": [
    "# phoneme_responses_mat: num_layers * hidden_size * num_phonemes\n",
    "rnn_phoneme_responses_mat = np.array([[np.array(rnn_phoneme_responses[layer, phoneme]).mean(axis=0)\n",
    "                                   for phoneme in all_phonemes]\n",
    "                                  for layer in rnn_phoneme_eval_layers])\n",
    "rnn_phoneme_responses_mat = rnn_phoneme_responses_mat.transpose(0, 2, 1)"
   ]
  },
  {
   "cell_type": "code",
   "execution_count": 348,
   "metadata": {},
   "outputs": [
    {
     "data": {
      "text/plain": [
       "(2, 128, 40)"
      ]
     },
     "execution_count": 348,
     "metadata": {},
     "output_type": "execute_result"
    }
   ],
   "source": [
    "rnn_phoneme_responses_mat.shape"
   ]
  },
  {
   "cell_type": "code",
   "execution_count": 367,
   "metadata": {},
   "outputs": [],
   "source": [
    "# For each feature--hidden unit pair, calculate feature selectivity index:\n",
    "# FSI_ij receives 1 point for every feature to which hidden unit i responds\n",
    "# more weakly than it did to feature j by a threshold (0.15).\n",
    "rnn_phoneme_selectivity_threshold = 0.5\n",
    "rnn_phoneme_selectivity = np.zeros_like(rnn_phoneme_responses_mat)\n",
    "\n",
    "for layer_idx in range(rnn_phoneme_selectivity.shape[0]):\n",
    "    for hidden_idx in range(rnn_phoneme_selectivity.shape[1]):\n",
    "        for phoneme_idx in range(rnn_phoneme_selectivity.shape[2]):\n",
    "            phoneme_response = rnn_phoneme_responses_mat[layer_idx, hidden_idx, phoneme_idx]\n",
    "\n",
    "            other_phoneme_responses = np.concatenate([\n",
    "                rnn_phoneme_responses_mat[layer_idx, hidden_idx, :phoneme_idx],\n",
    "                rnn_phoneme_responses_mat[layer_idx, hidden_idx, phoneme_idx + 1:],\n",
    "            ])\n",
    "            rnn_phoneme_selectivity[layer_idx, hidden_idx, phoneme_idx] = (np.abs(phoneme_response - other_phoneme_responses) > rnn_phoneme_selectivity_threshold).sum()"
   ]
  },
  {
   "cell_type": "code",
   "execution_count": 368,
   "metadata": {},
   "outputs": [
    {
     "name": "stdout",
     "output_type": "stream",
     "text": [
      "(40, 98)\n"
     ]
    },
    {
     "data": {
      "text/plain": [
       "<seaborn.matrix.ClusterGrid at 0x7f1695a960b0>"
      ]
     },
     "execution_count": 368,
     "metadata": {},
     "output_type": "execute_result"
    },
    {
     "data": {
      "image/png": "[encoded data removed]",
      "text/plain": [
       "<Figure size 1000x1000 with 4 Axes>"
      ]
     },
     "metadata": {},
     "output_type": "display_data"
    }
   ],
   "source": [
    "plot_layer = 0\n",
    "plot_data = rnn_phoneme_selectivity[plot_layer].T\n",
    "plot_data = plot_data[:, plot_data.sum(axis=0) > 0]\n",
    "print(plot_data.shape)\n",
    "sns.clustermap(plot_data, yticklabels=all_phonemes, xticklabels=False, dendrogram_ratio=0.1,)"
   ]
  },
  {
   "cell_type": "code",
   "execution_count": 370,
   "metadata": {},
   "outputs": [
    {
     "name": "stdout",
     "output_type": "stream",
     "text": [
      "(40, 122)\n"
     ]
    },
    {
     "data": {
      "text/plain": [
       "<seaborn.matrix.ClusterGrid at 0x7f16fd4dab60>"
      ]
     },
     "execution_count": 370,
     "metadata": {},
     "output_type": "execute_result"
    },
    {
     "data": {
      "image/png": "[encoded data removed]",
      "text/plain": [
       "<Figure size 1000x1000 with 4 Axes>"
      ]
     },
     "metadata": {},
     "output_type": "display_data"
    }
   ],
   "source": [
    "plot_layer = 1\n",
    "plot_data = rnn_phoneme_selectivity[plot_layer].T\n",
    "plot_data = plot_data[:, plot_data.sum(axis=0) > 0]\n",
    "print(plot_data.shape)\n",
    "sns.clustermap(plot_data, yticklabels=all_phonemes, xticklabels=False, dendrogram_ratio=0.1,)"
   ]
  }
 ],
 "metadata": {
  "kernelspec": {
   "display_name": "Python 3",
   "language": "python",
   "name": "python3"
  },
  "language_info": {
   "codemirror_mode": {
    "name": "ipython",
    "version": 3
   },
   "file_extension": ".py",
   "mimetype": "text/x-python",
   "name": "python",
   "nbconvert_exporter": "python",
   "pygments_lexer": "ipython3",
   "version": "3.10.13"
  }
 },
 "nbformat": 4,
 "nbformat_minor": 2
}
