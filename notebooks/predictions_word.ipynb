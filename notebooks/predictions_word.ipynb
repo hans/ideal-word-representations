{
 "cells": [
  {
   "cell_type": "markdown",
   "id": "f9040c26",
   "metadata": {
    "papermill": {
     "duration": 0.007351,
     "end_time": "2024-02-08T21:23:22.407316",
     "exception": false,
     "start_time": "2024-02-08T21:23:22.399965",
     "status": "completed"
    },
    "tags": []
   },
   "source": [
    "Inspect integrator output values, grouping by different equivalence classings on the dataset."
   ]
  },
  {
   "cell_type": "code",
   "execution_count": null,
   "id": "ade54774",
   "metadata": {
    "papermill": {
     "duration": 0.016549,
     "end_time": "2024-02-08T21:23:22.429703",
     "exception": false,
     "start_time": "2024-02-08T21:23:22.413154",
     "status": "completed"
    },
    "tags": []
   },
   "outputs": [],
   "source": [
    "import os\n",
    "os.environ[\"CUDA_VISIBLE_DEVICES\"] = \"\""
   ]
  },
  {
   "cell_type": "code",
   "execution_count": null,
   "id": "731b72ca",
   "metadata": {
    "papermill": {
     "duration": 7.573896,
     "end_time": "2024-02-08T21:23:30.009559",
     "exception": false,
     "start_time": "2024-02-08T21:23:22.435663",
     "status": "completed"
    },
    "tags": []
   },
   "outputs": [],
   "source": [
    "from collections import Counter\n",
    "from pathlib import Path\n",
    "\n",
    "import datasets\n",
    "import matplotlib.pyplot as plt\n",
    "import numpy as np\n",
    "import pandas as pd\n",
    "import seaborn as sns\n",
    "import torch\n",
    "from tqdm.auto import tqdm\n",
    "\n",
    "from src.datasets.speech_equivalence import SpeechEquivalenceDataset, SpeechHiddenStateDataset\n",
    "from src.models import get_best_checkpoint\n",
    "from src.models.integrator import ContrastiveEmbeddingModel, iter_dataset"
   ]
  },
  {
   "cell_type": "code",
   "execution_count": null,
   "id": "5f050a7b",
   "metadata": {
    "editable": true,
    "papermill": {
     "duration": 0.01296,
     "end_time": "2024-02-08T21:23:30.030589",
     "exception": false,
     "start_time": "2024-02-08T21:23:30.017629",
     "status": "completed"
    },
    "slideshow": {
     "slide_type": ""
    },
    "tags": [
     "parameters"
    ]
   },
   "outputs": [],
   "source": [
    "model_name = \"syllable\"\n",
    "model_dir = f\"outputs/models/timit/w2v2_8/rnn_8-weightdecay0.01/{model_name}_10frames\"\n",
    "output_dir = f\"outputs/notebooks/timit/w2v2_8/rnn_8-weightdecay0.01/{model_name}_10frames/state_space\"\n",
    "dataset_path = \"outputs/preprocessed_data/timit\"\n",
    "equivalence_path = f\"outputs/equivalence_datasets/timit/w2v2_8/{model_name}_10frames/equivalence.pkl\"\n",
    "hidden_states_path = \"outputs/hidden_states/timit/w2v2_8/hidden_states.h5\"\n",
    "state_space_specs_path = \"outputs/state_space_specs/timit/w2v2_8/state_space_specs.pkl\"\n",
    "embeddings_path = f\"outputs/model_embeddings/timit/w2v2_8/rnn_8-weightdecay0.01/{model_name}_10frames/embeddings.npy\"\n",
    "word_equivalence_path = f\"outputs/equivalence_datasets/timit/w2v2_8/word_broad_10frames/equivalence.pkl\"\n",
    "\n",
    "metric = \"cosine\""
   ]
  },
  {
   "cell_type": "code",
   "execution_count": null,
   "id": "85450044",
   "metadata": {
    "editable": true,
    "papermill": {
     "duration": 0.040521,
     "end_time": "2024-02-08T21:23:30.095552",
     "exception": false,
     "start_time": "2024-02-08T21:23:30.055031",
     "status": "completed"
    },
    "slideshow": {
     "slide_type": ""
    },
    "tags": []
   },
   "outputs": [],
   "source": [
    "model = ContrastiveEmbeddingModel.from_pretrained(get_best_checkpoint(model_dir))\n",
    "model.eval()"
   ]
  },
  {
   "cell_type": "code",
   "execution_count": null,
   "id": "46c820cd",
   "metadata": {
    "papermill": {
     "duration": 1.806329,
     "end_time": "2024-02-08T21:23:31.908559",
     "exception": false,
     "start_time": "2024-02-08T21:23:30.102230",
     "status": "completed"
    },
    "tags": []
   },
   "outputs": [],
   "source": [
    "with open(word_equivalence_path, \"rb\") as f:\n",
    "    equiv_dataset: SpeechEquivalenceDataset = torch.load(f)"
   ]
  },
  {
   "cell_type": "code",
   "execution_count": null,
   "id": "b9b77aa6",
   "metadata": {
    "editable": true,
    "papermill": {
     "duration": 114.31175,
     "end_time": "2024-02-08T21:25:26.228508",
     "exception": false,
     "start_time": "2024-02-08T21:23:31.916758",
     "status": "completed"
    },
    "slideshow": {
     "slide_type": ""
    },
    "tags": []
   },
   "outputs": [],
   "source": [
    "ds = datasets.Dataset.from_generator(\n",
    "    iter_dataset, gen_kwargs=dict(equiv_dataset_path=word_equivalence_path,\n",
    "                                    hidden_states_path=hidden_states_path,\n",
    "                                    max_length=model.config.max_length,\n",
    "                                    num_examples=min(10000, equiv_dataset.num_instances),\n",
    "                                    infinite=False)) \\\n",
    "    .with_format(\"torch\")"
   ]
  },
  {
   "cell_type": "code",
   "execution_count": null,
   "id": "5a97b0dc",
   "metadata": {
    "papermill": {
     "duration": 0.528782,
     "end_time": "2024-02-08T21:25:26.767426",
     "exception": false,
     "start_time": "2024-02-08T21:25:26.238644",
     "status": "completed"
    },
    "tags": []
   },
   "outputs": [],
   "source": [
    "Counter([\"\".join(equiv_dataset.class_labels[label_idx]) for label_idx in ds[\"example_class\"].numpy()]).most_common(10)"
   ]
  },
  {
   "cell_type": "code",
   "execution_count": null,
   "id": "9270247f",
   "metadata": {
    "papermill": {
     "duration": 24.202056,
     "end_time": "2024-02-08T21:25:50.989817",
     "exception": false,
     "start_time": "2024-02-08T21:25:26.787761",
     "status": "completed"
    },
    "tags": []
   },
   "outputs": [],
   "source": [
    "losses, idxs = [], []\n",
    "\n",
    "def compute_loss_batch(batch, batch_idxs):\n",
    "    with torch.no_grad():\n",
    "        model_output = model(batch[\"example\"], batch[\"example_length\"],\n",
    "                             batch[\"pos\"], batch[\"pos_length\"],\n",
    "                             batch[\"neg\"], batch[\"neg_length\"],\n",
    "                             in_batch_soft_negatives=False,\n",
    "                             loss_reduction=None)\n",
    "    losses.append(model_output.loss.numpy())\n",
    "    idxs.append(batch[\"example_idx\"].numpy())\n",
    "ds.map(compute_loss_batch, batched=True, with_indices=True, batch_size=32)\n",
    "\n",
    "losses = np.concatenate(losses)\n",
    "idxs = np.concatenate(idxs)\n",
    "\n",
    "loss_df = pd.DataFrame({\"loss\": losses, \"idx\": idxs,\n",
    "                        \"class\": equiv_dataset.Q[idxs].numpy(),\n",
    "                        \"position\": idxs - equiv_dataset.S[idxs].numpy()})\n",
    "loss_df[\"class_label\"] = loss_df[\"class\"].map(lambda idx: \" \".join(equiv_dataset.class_labels[idx]))\n",
    "loss_df[\"word_length\"] = loss_df.class_label.str.count(\" \") + 1"
   ]
  },
  {
   "cell_type": "code",
   "execution_count": null,
   "id": "651e336b",
   "metadata": {
    "papermill": {
     "duration": 0.033518,
     "end_time": "2024-02-08T21:25:51.034675",
     "exception": false,
     "start_time": "2024-02-08T21:25:51.001157",
     "status": "completed"
    },
    "tags": []
   },
   "outputs": [],
   "source": [
    "loss_df"
   ]
  },
  {
   "cell_type": "code",
   "execution_count": null,
   "id": "50ae0a3e",
   "metadata": {
    "papermill": {
     "duration": 0.188231,
     "end_time": "2024-02-08T21:25:51.231315",
     "exception": false,
     "start_time": "2024-02-08T21:25:51.043084",
     "status": "completed"
    },
    "tags": []
   },
   "outputs": [],
   "source": [
    "sns.boxplot(data=loss_df, x=\"loss\")"
   ]
  },
  {
   "cell_type": "code",
   "execution_count": null,
   "id": "fb1f6269",
   "metadata": {
    "papermill": {
     "duration": 0.04669,
     "end_time": "2024-02-08T21:25:51.286601",
     "exception": false,
     "start_time": "2024-02-08T21:25:51.239911",
     "status": "completed"
    },
    "tags": []
   },
   "outputs": [],
   "source": [
    "loss_df.to_csv(Path(output_dir) / \"loss.csv\", index=False)"
   ]
  },
  {
   "cell_type": "code",
   "execution_count": null,
   "id": "d327799e",
   "metadata": {
    "papermill": {
     "duration": 1.581871,
     "end_time": "2024-02-08T21:25:52.877496",
     "exception": false,
     "start_time": "2024-02-08T21:25:51.295625",
     "status": "completed"
    },
    "scrolled": true,
    "tags": []
   },
   "outputs": [],
   "source": [
    "sns.lineplot(data=loss_df, x=\"word_length\", y=\"loss\")"
   ]
  },
  {
   "cell_type": "code",
   "execution_count": null,
   "id": "bb6fefcb",
   "metadata": {},
   "outputs": [],
   "source": [
    "sns.lineplot(data=loss_df, x=\"position\", y=\"loss\")"
   ]
  },
  {
   "cell_type": "code",
   "execution_count": null,
   "id": "dc6b40c7-c9e4-4756-a0bc-9f9f7139c9be",
   "metadata": {},
   "outputs": [],
   "source": []
  }
 ],
 "metadata": {
  "kernelspec": {
   "display_name": "Python 3 (ipykernel)",
   "language": "python",
   "name": "python3"
  },
  "language_info": {
   "codemirror_mode": {
    "name": "ipython",
    "version": 3
   },
   "file_extension": ".py",
   "mimetype": "text/x-python",
   "name": "python",
   "nbconvert_exporter": "python",
   "pygments_lexer": "ipython3",
   "version": "3.10.13"
  },
  "papermill": {
   "default_parameters": {},
   "duration": 154.533812,
   "end_time": "2024-02-08T21:25:54.810177",
   "environment_variables": {},
   "exception": null,
   "input_path": "notebooks/predictions.ipynb",
   "output_path": "outputs/notebooks/w2v2_32/phoneme_within_word_prefix/predictions/predictions.ipynb",
   "parameters": {
    "model_dir": "outputs/models/w2v2_32/phoneme_within_word_prefix",
    "output_dir": "outputs/notebooks/w2v2_32/phoneme_within_word_prefix/predictions"
   },
   "start_time": "2024-02-08T21:23:20.276365",
   "version": "2.5.0"
  },
  "widgets": {
   "application/vnd.jupyter.widget-state+json": {
    "state": {
     "26827613b50c44cea52e258902882f57": {
      "model_module": "@jupyter-widgets/controls",
      "model_module_version": "2.0.0",
      "model_name": "ProgressStyleModel",
      "state": {
       "_model_module": "@jupyter-widgets/controls",
       "_model_module_version": "2.0.0",
       "_model_name": "ProgressStyleModel",
       "_view_count": null,
       "_view_module": "@jupyter-widgets/base",
       "_view_module_version": "2.0.0",
       "_view_name": "StyleView",
       "bar_color": null,
       "description_width": ""
      }
     },
     "35e731e7ad6146cba9078074c14e7ea3": {
      "model_module": "@jupyter-widgets/base",
      "model_module_version": "2.0.0",
      "model_name": "LayoutModel",
      "state": {
       "_model_module": "@jupyter-widgets/base",
       "_model_module_version": "2.0.0",
       "_model_name": "LayoutModel",
       "_view_count": null,
       "_view_module": "@jupyter-widgets/base",
       "_view_module_version": "2.0.0",
       "_view_name": "LayoutView",
       "align_content": null,
       "align_items": null,
       "align_self": null,
       "border_bottom": null,
       "border_left": null,
       "border_right": null,
       "border_top": null,
       "bottom": null,
       "display": null,
       "flex": null,
       "flex_flow": null,
       "grid_area": null,
       "grid_auto_columns": null,
       "grid_auto_flow": null,
       "grid_auto_rows": null,
       "grid_column": null,
       "grid_gap": null,
       "grid_row": null,
       "grid_template_areas": null,
       "grid_template_columns": null,
       "grid_template_rows": null,
       "height": null,
       "justify_content": null,
       "justify_items": null,
       "left": null,
       "margin": null,
       "max_height": null,
       "max_width": null,
       "min_height": null,
       "min_width": null,
       "object_fit": null,
       "object_position": null,
       "order": null,
       "overflow": null,
       "padding": null,
       "right": null,
       "top": null,
       "visibility": null,
       "width": null
      }
     },
     "3ace601676bc4330bc5988580800efb1": {
      "model_module": "@jupyter-widgets/controls",
      "model_module_version": "2.0.0",
      "model_name": "HTMLStyleModel",
      "state": {
       "_model_module": "@jupyter-widgets/controls",
       "_model_module_version": "2.0.0",
       "_model_name": "HTMLStyleModel",
       "_view_count": null,
       "_view_module": "@jupyter-widgets/base",
       "_view_module_version": "2.0.0",
       "_view_name": "StyleView",
       "background": null,
       "description_width": "",
       "font_size": null,
       "text_color": null
      }
     },
     "44d190e5549d4eacb51472185aea4437": {
      "model_module": "@jupyter-widgets/controls",
      "model_module_version": "2.0.0",
      "model_name": "FloatProgressModel",
      "state": {
       "_dom_classes": [],
       "_model_module": "@jupyter-widgets/controls",
       "_model_module_version": "2.0.0",
       "_model_name": "FloatProgressModel",
       "_view_count": null,
       "_view_module": "@jupyter-widgets/controls",
       "_view_module_version": "2.0.0",
       "_view_name": "ProgressView",
       "bar_style": "success",
       "description": "",
       "description_allow_html": false,
       "layout": "IPY_MODEL_8c61f6a4f47b4a7cbe48fa1080ffcefd",
       "max": 10000,
       "min": 0,
       "orientation": "horizontal",
       "style": "IPY_MODEL_26827613b50c44cea52e258902882f57",
       "tabbable": null,
       "tooltip": null,
       "value": 10000
      }
     },
     "4f9f1c6236124d44995e170a6185235d": {
      "model_module": "@jupyter-widgets/base",
      "model_module_version": "2.0.0",
      "model_name": "LayoutModel",
      "state": {
       "_model_module": "@jupyter-widgets/base",
       "_model_module_version": "2.0.0",
       "_model_name": "LayoutModel",
       "_view_count": null,
       "_view_module": "@jupyter-widgets/base",
       "_view_module_version": "2.0.0",
       "_view_name": "LayoutView",
       "align_content": null,
       "align_items": null,
       "align_self": null,
       "border_bottom": null,
       "border_left": null,
       "border_right": null,
       "border_top": null,
       "bottom": null,
       "display": null,
       "flex": null,
       "flex_flow": null,
       "grid_area": null,
       "grid_auto_columns": null,
       "grid_auto_flow": null,
       "grid_auto_rows": null,
       "grid_column": null,
       "grid_gap": null,
       "grid_row": null,
       "grid_template_areas": null,
       "grid_template_columns": null,
       "grid_template_rows": null,
       "height": null,
       "justify_content": null,
       "justify_items": null,
       "left": null,
       "margin": null,
       "max_height": null,
       "max_width": null,
       "min_height": null,
       "min_width": null,
       "object_fit": null,
       "object_position": null,
       "order": null,
       "overflow": null,
       "padding": null,
       "right": null,
       "top": null,
       "visibility": null,
       "width": null
      }
     },
     "594899b2939e41f0bbdc8fae7e963d29": {
      "model_module": "@jupyter-widgets/controls",
      "model_module_version": "2.0.0",
      "model_name": "HBoxModel",
      "state": {
       "_dom_classes": [],
       "_model_module": "@jupyter-widgets/controls",
       "_model_module_version": "2.0.0",
       "_model_name": "HBoxModel",
       "_view_count": null,
       "_view_module": "@jupyter-widgets/controls",
       "_view_module_version": "2.0.0",
       "_view_name": "HBoxView",
       "box_style": "",
       "children": [
        "IPY_MODEL_eb7787d58e864e379eb0b9add146d6d5",
        "IPY_MODEL_8e1cada6eef3473e8e2ea8c8b9212c8f",
        "IPY_MODEL_720e66c48ea1420c90d38156d2d13abc"
       ],
       "layout": "IPY_MODEL_35e731e7ad6146cba9078074c14e7ea3",
       "tabbable": null,
       "tooltip": null
      }
     },
     "6188eaf8503c4157b017b08b6834d836": {
      "model_module": "@jupyter-widgets/base",
      "model_module_version": "2.0.0",
      "model_name": "LayoutModel",
      "state": {
       "_model_module": "@jupyter-widgets/base",
       "_model_module_version": "2.0.0",
       "_model_name": "LayoutModel",
       "_view_count": null,
       "_view_module": "@jupyter-widgets/base",
       "_view_module_version": "2.0.0",
       "_view_name": "LayoutView",
       "align_content": null,
       "align_items": null,
       "align_self": null,
       "border_bottom": null,
       "border_left": null,
       "border_right": null,
       "border_top": null,
       "bottom": null,
       "display": null,
       "flex": null,
       "flex_flow": null,
       "grid_area": null,
       "grid_auto_columns": null,
       "grid_auto_flow": null,
       "grid_auto_rows": null,
       "grid_column": null,
       "grid_gap": null,
       "grid_row": null,
       "grid_template_areas": null,
       "grid_template_columns": null,
       "grid_template_rows": null,
       "height": null,
       "justify_content": null,
       "justify_items": null,
       "left": null,
       "margin": null,
       "max_height": null,
       "max_width": null,
       "min_height": null,
       "min_width": null,
       "object_fit": null,
       "object_position": null,
       "order": null,
       "overflow": null,
       "padding": null,
       "right": null,
       "top": null,
       "visibility": null,
       "width": null
      }
     },
     "720e66c48ea1420c90d38156d2d13abc": {
      "model_module": "@jupyter-widgets/controls",
      "model_module_version": "2.0.0",
      "model_name": "HTMLModel",
      "state": {
       "_dom_classes": [],
       "_model_module": "@jupyter-widgets/controls",
       "_model_module_version": "2.0.0",
       "_model_name": "HTMLModel",
       "_view_count": null,
       "_view_module": "@jupyter-widgets/controls",
       "_view_module_version": "2.0.0",
       "_view_name": "HTMLView",
       "description": "",
       "description_allow_html": false,
       "layout": "IPY_MODEL_d897cea6080a47bd9c25737976f8db43",
       "placeholder": "​",
       "style": "IPY_MODEL_f8f833cbbb5a4211bef5ca9690114984",
       "tabbable": null,
       "tooltip": null,
       "value": " 10000/10000 [00:24&lt;00:00, 416.46 examples/s]"
      }
     },
     "81340dad4ed84984bb77099b3e732dcb": {
      "model_module": "@jupyter-widgets/controls",
      "model_module_version": "2.0.0",
      "model_name": "HTMLModel",
      "state": {
       "_dom_classes": [],
       "_model_module": "@jupyter-widgets/controls",
       "_model_module_version": "2.0.0",
       "_model_name": "HTMLModel",
       "_view_count": null,
       "_view_module": "@jupyter-widgets/controls",
       "_view_module_version": "2.0.0",
       "_view_name": "HTMLView",
       "description": "",
       "description_allow_html": false,
       "layout": "IPY_MODEL_c919d0e7a2a44fc190449d44d96d4028",
       "placeholder": "​",
       "style": "IPY_MODEL_bf6317a2b0de4d07a4c88f6ca971c4e0",
       "tabbable": null,
       "tooltip": null,
       "value": "100%"
      }
     },
     "8c61f6a4f47b4a7cbe48fa1080ffcefd": {
      "model_module": "@jupyter-widgets/base",
      "model_module_version": "2.0.0",
      "model_name": "LayoutModel",
      "state": {
       "_model_module": "@jupyter-widgets/base",
       "_model_module_version": "2.0.0",
       "_model_name": "LayoutModel",
       "_view_count": null,
       "_view_module": "@jupyter-widgets/base",
       "_view_module_version": "2.0.0",
       "_view_name": "LayoutView",
       "align_content": null,
       "align_items": null,
       "align_self": null,
       "border_bottom": null,
       "border_left": null,
       "border_right": null,
       "border_top": null,
       "bottom": null,
       "display": null,
       "flex": null,
       "flex_flow": null,
       "grid_area": null,
       "grid_auto_columns": null,
       "grid_auto_flow": null,
       "grid_auto_rows": null,
       "grid_column": null,
       "grid_gap": null,
       "grid_row": null,
       "grid_template_areas": null,
       "grid_template_columns": null,
       "grid_template_rows": null,
       "height": null,
       "justify_content": null,
       "justify_items": null,
       "left": null,
       "margin": null,
       "max_height": null,
       "max_width": null,
       "min_height": null,
       "min_width": null,
       "object_fit": null,
       "object_position": null,
       "order": null,
       "overflow": null,
       "padding": null,
       "right": null,
       "top": null,
       "visibility": null,
       "width": null
      }
     },
     "8e1cada6eef3473e8e2ea8c8b9212c8f": {
      "model_module": "@jupyter-widgets/controls",
      "model_module_version": "2.0.0",
      "model_name": "FloatProgressModel",
      "state": {
       "_dom_classes": [],
       "_model_module": "@jupyter-widgets/controls",
       "_model_module_version": "2.0.0",
       "_model_name": "FloatProgressModel",
       "_view_count": null,
       "_view_module": "@jupyter-widgets/controls",
       "_view_module_version": "2.0.0",
       "_view_name": "ProgressView",
       "bar_style": "success",
       "description": "",
       "description_allow_html": false,
       "layout": "IPY_MODEL_6188eaf8503c4157b017b08b6834d836",
       "max": 10000,
       "min": 0,
       "orientation": "horizontal",
       "style": "IPY_MODEL_a49138826ca4456ba5c43fc4fe04266d",
       "tabbable": null,
       "tooltip": null,
       "value": 10000
      }
     },
     "a49138826ca4456ba5c43fc4fe04266d": {
      "model_module": "@jupyter-widgets/controls",
      "model_module_version": "2.0.0",
      "model_name": "ProgressStyleModel",
      "state": {
       "_model_module": "@jupyter-widgets/controls",
       "_model_module_version": "2.0.0",
       "_model_name": "ProgressStyleModel",
       "_view_count": null,
       "_view_module": "@jupyter-widgets/base",
       "_view_module_version": "2.0.0",
       "_view_name": "StyleView",
       "bar_color": null,
       "description_width": ""
      }
     },
     "a819a29e562f418787d38535255d1992": {
      "model_module": "@jupyter-widgets/base",
      "model_module_version": "2.0.0",
      "model_name": "LayoutModel",
      "state": {
       "_model_module": "@jupyter-widgets/base",
       "_model_module_version": "2.0.0",
       "_model_name": "LayoutModel",
       "_view_count": null,
       "_view_module": "@jupyter-widgets/base",
       "_view_module_version": "2.0.0",
       "_view_name": "LayoutView",
       "align_content": null,
       "align_items": null,
       "align_self": null,
       "border_bottom": null,
       "border_left": null,
       "border_right": null,
       "border_top": null,
       "bottom": null,
       "display": null,
       "flex": null,
       "flex_flow": null,
       "grid_area": null,
       "grid_auto_columns": null,
       "grid_auto_flow": null,
       "grid_auto_rows": null,
       "grid_column": null,
       "grid_gap": null,
       "grid_row": null,
       "grid_template_areas": null,
       "grid_template_columns": null,
       "grid_template_rows": null,
       "height": null,
       "justify_content": null,
       "justify_items": null,
       "left": null,
       "margin": null,
       "max_height": null,
       "max_width": null,
       "min_height": null,
       "min_width": null,
       "object_fit": null,
       "object_position": null,
       "order": null,
       "overflow": null,
       "padding": null,
       "right": null,
       "top": null,
       "visibility": null,
       "width": null
      }
     },
     "bf6317a2b0de4d07a4c88f6ca971c4e0": {
      "model_module": "@jupyter-widgets/controls",
      "model_module_version": "2.0.0",
      "model_name": "HTMLStyleModel",
      "state": {
       "_model_module": "@jupyter-widgets/controls",
       "_model_module_version": "2.0.0",
       "_model_name": "HTMLStyleModel",
       "_view_count": null,
       "_view_module": "@jupyter-widgets/base",
       "_view_module_version": "2.0.0",
       "_view_name": "StyleView",
       "background": null,
       "description_width": "",
       "font_size": null,
       "text_color": null
      }
     },
     "c919d0e7a2a44fc190449d44d96d4028": {
      "model_module": "@jupyter-widgets/base",
      "model_module_version": "2.0.0",
      "model_name": "LayoutModel",
      "state": {
       "_model_module": "@jupyter-widgets/base",
       "_model_module_version": "2.0.0",
       "_model_name": "LayoutModel",
       "_view_count": null,
       "_view_module": "@jupyter-widgets/base",
       "_view_module_version": "2.0.0",
       "_view_name": "LayoutView",
       "align_content": null,
       "align_items": null,
       "align_self": null,
       "border_bottom": null,
       "border_left": null,
       "border_right": null,
       "border_top": null,
       "bottom": null,
       "display": null,
       "flex": null,
       "flex_flow": null,
       "grid_area": null,
       "grid_auto_columns": null,
       "grid_auto_flow": null,
       "grid_auto_rows": null,
       "grid_column": null,
       "grid_gap": null,
       "grid_row": null,
       "grid_template_areas": null,
       "grid_template_columns": null,
       "grid_template_rows": null,
       "height": null,
       "justify_content": null,
       "justify_items": null,
       "left": null,
       "margin": null,
       "max_height": null,
       "max_width": null,
       "min_height": null,
       "min_width": null,
       "object_fit": null,
       "object_position": null,
       "order": null,
       "overflow": null,
       "padding": null,
       "right": null,
       "top": null,
       "visibility": null,
       "width": null
      }
     },
     "d41db1499a224a1cbd452dac6f5dcc4f": {
      "model_module": "@jupyter-widgets/controls",
      "model_module_version": "2.0.0",
      "model_name": "HTMLModel",
      "state": {
       "_dom_classes": [],
       "_model_module": "@jupyter-widgets/controls",
       "_model_module_version": "2.0.0",
       "_model_name": "HTMLModel",
       "_view_count": null,
       "_view_module": "@jupyter-widgets/controls",
       "_view_module_version": "2.0.0",
       "_view_name": "HTMLView",
       "description": "",
       "description_allow_html": false,
       "layout": "IPY_MODEL_4f9f1c6236124d44995e170a6185235d",
       "placeholder": "​",
       "style": "IPY_MODEL_3ace601676bc4330bc5988580800efb1",
       "tabbable": null,
       "tooltip": null,
       "value": " 10000/10000 [01:39&lt;00:00, 101.13it/s]"
      }
     },
     "d58174d20e3c4720b3e2e2cf70cbff6d": {
      "model_module": "@jupyter-widgets/base",
      "model_module_version": "2.0.0",
      "model_name": "LayoutModel",
      "state": {
       "_model_module": "@jupyter-widgets/base",
       "_model_module_version": "2.0.0",
       "_model_name": "LayoutModel",
       "_view_count": null,
       "_view_module": "@jupyter-widgets/base",
       "_view_module_version": "2.0.0",
       "_view_name": "LayoutView",
       "align_content": null,
       "align_items": null,
       "align_self": null,
       "border_bottom": null,
       "border_left": null,
       "border_right": null,
       "border_top": null,
       "bottom": null,
       "display": null,
       "flex": null,
       "flex_flow": null,
       "grid_area": null,
       "grid_auto_columns": null,
       "grid_auto_flow": null,
       "grid_auto_rows": null,
       "grid_column": null,
       "grid_gap": null,
       "grid_row": null,
       "grid_template_areas": null,
       "grid_template_columns": null,
       "grid_template_rows": null,
       "height": null,
       "justify_content": null,
       "justify_items": null,
       "left": null,
       "margin": null,
       "max_height": null,
       "max_width": null,
       "min_height": null,
       "min_width": null,
       "object_fit": null,
       "object_position": null,
       "order": null,
       "overflow": null,
       "padding": null,
       "right": null,
       "top": null,
       "visibility": null,
       "width": null
      }
     },
     "d897cea6080a47bd9c25737976f8db43": {
      "model_module": "@jupyter-widgets/base",
      "model_module_version": "2.0.0",
      "model_name": "LayoutModel",
      "state": {
       "_model_module": "@jupyter-widgets/base",
       "_model_module_version": "2.0.0",
       "_model_name": "LayoutModel",
       "_view_count": null,
       "_view_module": "@jupyter-widgets/base",
       "_view_module_version": "2.0.0",
       "_view_name": "LayoutView",
       "align_content": null,
       "align_items": null,
       "align_self": null,
       "border_bottom": null,
       "border_left": null,
       "border_right": null,
       "border_top": null,
       "bottom": null,
       "display": null,
       "flex": null,
       "flex_flow": null,
       "grid_area": null,
       "grid_auto_columns": null,
       "grid_auto_flow": null,
       "grid_auto_rows": null,
       "grid_column": null,
       "grid_gap": null,
       "grid_row": null,
       "grid_template_areas": null,
       "grid_template_columns": null,
       "grid_template_rows": null,
       "height": null,
       "justify_content": null,
       "justify_items": null,
       "left": null,
       "margin": null,
       "max_height": null,
       "max_width": null,
       "min_height": null,
       "min_width": null,
       "object_fit": null,
       "object_position": null,
       "order": null,
       "overflow": null,
       "padding": null,
       "right": null,
       "top": null,
       "visibility": null,
       "width": null
      }
     },
     "e36fa92255d14628ba5540587f7dc887": {
      "model_module": "@jupyter-widgets/controls",
      "model_module_version": "2.0.0",
      "model_name": "HBoxModel",
      "state": {
       "_dom_classes": [],
       "_model_module": "@jupyter-widgets/controls",
       "_model_module_version": "2.0.0",
       "_model_name": "HBoxModel",
       "_view_count": null,
       "_view_module": "@jupyter-widgets/controls",
       "_view_module_version": "2.0.0",
       "_view_name": "HBoxView",
       "box_style": "",
       "children": [
        "IPY_MODEL_81340dad4ed84984bb77099b3e732dcb",
        "IPY_MODEL_44d190e5549d4eacb51472185aea4437",
        "IPY_MODEL_d41db1499a224a1cbd452dac6f5dcc4f"
       ],
       "layout": "IPY_MODEL_a819a29e562f418787d38535255d1992",
       "tabbable": null,
       "tooltip": null
      }
     },
     "eb7787d58e864e379eb0b9add146d6d5": {
      "model_module": "@jupyter-widgets/controls",
      "model_module_version": "2.0.0",
      "model_name": "HTMLModel",
      "state": {
       "_dom_classes": [],
       "_model_module": "@jupyter-widgets/controls",
       "_model_module_version": "2.0.0",
       "_model_name": "HTMLModel",
       "_view_count": null,
       "_view_module": "@jupyter-widgets/controls",
       "_view_module_version": "2.0.0",
       "_view_name": "HTMLView",
       "description": "",
       "description_allow_html": false,
       "layout": "IPY_MODEL_d58174d20e3c4720b3e2e2cf70cbff6d",
       "placeholder": "​",
       "style": "IPY_MODEL_fba9632ffaa44daf8e573b5b11dcfc76",
       "tabbable": null,
       "tooltip": null,
       "value": "Map: 100%"
      }
     },
     "f8f833cbbb5a4211bef5ca9690114984": {
      "model_module": "@jupyter-widgets/controls",
      "model_module_version": "2.0.0",
      "model_name": "HTMLStyleModel",
      "state": {
       "_model_module": "@jupyter-widgets/controls",
       "_model_module_version": "2.0.0",
       "_model_name": "HTMLStyleModel",
       "_view_count": null,
       "_view_module": "@jupyter-widgets/base",
       "_view_module_version": "2.0.0",
       "_view_name": "StyleView",
       "background": null,
       "description_width": "",
       "font_size": null,
       "text_color": null
      }
     },
     "fba9632ffaa44daf8e573b5b11dcfc76": {
      "model_module": "@jupyter-widgets/controls",
      "model_module_version": "2.0.0",
      "model_name": "HTMLStyleModel",
      "state": {
       "_model_module": "@jupyter-widgets/controls",
       "_model_module_version": "2.0.0",
       "_model_name": "HTMLStyleModel",
       "_view_count": null,
       "_view_module": "@jupyter-widgets/base",
       "_view_module_version": "2.0.0",
       "_view_name": "StyleView",
       "background": null,
       "description_width": "",
       "font_size": null,
       "text_color": null
      }
     }
    },
    "version_major": 2,
    "version_minor": 0
   }
  }
 },
 "nbformat": 4,
 "nbformat_minor": 5
}
