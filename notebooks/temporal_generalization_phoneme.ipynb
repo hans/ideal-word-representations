{
 "cells": [
  {
   "cell_type": "code",
   "execution_count": 1,
   "metadata": {},
   "outputs": [],
   "source": [
    "import os\n",
    "os.environ[\"CUDA_VISIBLE_DEVICES\"] = \"\""
   ]
  },
  {
   "cell_type": "code",
   "execution_count": 2,
   "metadata": {},
   "outputs": [],
   "source": [
    "import sys\n",
    "sys.path.append(\"../\")"
   ]
  },
  {
   "cell_type": "code",
   "execution_count": 3,
   "metadata": {},
   "outputs": [],
   "source": [
    "\n",
    "from collections import defaultdict\n",
    "from dataclasses import replace\n",
    "import itertools\n",
    "from pathlib import Path\n",
    "import pickle\n",
    "\n",
    "import datasets\n",
    "import matplotlib.pyplot as plt\n",
    "import numpy as np\n",
    "import pandas as pd\n",
    "from scipy.spatial.distance import pdist, cdist\n",
    "import seaborn as sns\n",
    "from sklearn.decomposition import PCA\n",
    "from tqdm.auto import tqdm\n",
    "\n",
    "from src.analysis.state_space import prepare_state_trajectory, StateSpaceAnalysisSpec\n",
    "from src.datasets.speech_equivalence import SpeechEquivalenceDataset\n",
    "from src.models import get_best_checkpoint\n",
    "from src.models.integrator import ContrastiveEmbeddingModel, compute_embeddings, load_or_compute_embeddings\n",
    "\n",
    "from sklearn.linear_model import LinearRegression, RidgeCV\n",
    "from sklearn.model_selection import KFold, cross_val_score"
   ]
  },
  {
   "cell_type": "code",
   "execution_count": 7,
   "metadata": {
    "tags": [
     "parameters"
    ]
   },
   "outputs": [],
   "source": [
    "model_dir = \"outputs/models/w2v2_32/phoneme\"\n",
    "# equiv_dataset_path = \"../data/timit_equiv_phoneme_within_word_prefix_1.pkl\"\n",
    "# model_checkpoint = \"../out/ce_model_phoneme_6_32/checkpoint-800/\"\n",
    "equiv_dataset_path = \"data/timit_equiv_phoneme_6_1.pkl\"\n",
    "\n",
    "state_space_spec_path = \"out/state_space_specs/all_phonemes_by_identity.pkl\"\n",
    "output_dir = \".\"\n",
    "\n",
    "# Add 4 frames prior to phoneme onset to each trajectory\n",
    "expand_frame_window = (4, 0)\n",
    "\n",
    "metric = \"cosine\""
   ]
  },
  {
   "cell_type": "code",
   "execution_count": 8,
   "metadata": {},
   "outputs": [
    {
     "data": {
      "text/plain": [
       "ContrastiveEmbeddingModel(\n",
       "  (rnn): RNNModel(\n",
       "    (rnn): LSTM(768, 32, batch_first=True)\n",
       "    (fc): Linear(in_features=32, out_features=32, bias=True)\n",
       "  )\n",
       ")"
      ]
     },
     "execution_count": 8,
     "metadata": {},
     "output_type": "execute_result"
    }
   ],
   "source": [
    "model = ContrastiveEmbeddingModel.from_pretrained(get_best_checkpoint(model_dir))\n",
    "model.eval()"
   ]
  },
  {
   "cell_type": "code",
   "execution_count": 9,
   "metadata": {},
   "outputs": [],
   "source": [
    "with open(equiv_dataset_path, \"rb\") as f:\n",
    "    equiv_dataset: SpeechEquivalenceDataset = pickle.load(f)"
   ]
  },
  {
   "cell_type": "code",
   "execution_count": 10,
   "metadata": {},
   "outputs": [
    {
     "ename": "AssertionError",
     "evalue": "",
     "output_type": "error",
     "traceback": [
      "\u001b[0;31m---------------------------------------------------------------------------\u001b[0m",
      "\u001b[0;31mAssertionError\u001b[0m                            Traceback (most recent call last)",
      "Cell \u001b[0;32mIn[10], line 3\u001b[0m\n\u001b[1;32m      1\u001b[0m \u001b[38;5;28;01mwith\u001b[39;00m \u001b[38;5;28mopen\u001b[39m(state_space_spec_path, \u001b[38;5;124m\"\u001b[39m\u001b[38;5;124mrb\u001b[39m\u001b[38;5;124m\"\u001b[39m) \u001b[38;5;28;01mas\u001b[39;00m f:\n\u001b[1;32m      2\u001b[0m     state_space_spec: StateSpaceAnalysisSpec \u001b[38;5;241m=\u001b[39m pickle\u001b[38;5;241m.\u001b[39mload(f)\n\u001b[0;32m----> 3\u001b[0m \u001b[38;5;28;01massert\u001b[39;00m state_space_spec\u001b[38;5;241m.\u001b[39mis_compatible_with(equiv_dataset)\n",
      "\u001b[0;31mAssertionError\u001b[0m: "
     ]
    }
   ],
   "source": [
    "with open(state_space_spec_path, \"rb\") as f:\n",
    "    state_space_spec: StateSpaceAnalysisSpec = pickle.load(f)\n",
    "assert state_space_spec.is_compatible_with(equiv_dataset)"
   ]
  },
  {
   "cell_type": "code",
   "execution_count": 13,
   "metadata": {},
   "outputs": [],
   "source": [
    "model_representations = load_or_compute_embeddings(model, equiv_dataset, model_dir, equiv_dataset_path)"
   ]
  },
  {
   "cell_type": "code",
   "execution_count": 14,
   "metadata": {},
   "outputs": [],
   "source": [
    "trajectory = prepare_state_trajectory(model_representations, state_space_spec, expand_window=expand_frame_window, pad=np.nan)"
   ]
  },
  {
   "cell_type": "code",
   "execution_count": 15,
   "metadata": {},
   "outputs": [],
   "source": [
    "lengths = [np.isnan(traj_i[:, :, 0]).argmax(axis=1) for traj_i in trajectory]"
   ]
  },
  {
   "cell_type": "code",
   "execution_count": 16,
   "metadata": {},
   "outputs": [],
   "source": [
    "def evaluate_temporal_generalization(trajectory, lengths, train_frame, test_frame):\n",
    "    X, Y = [], []\n",
    "    for traj_i, lengths_i in zip(trajectory, lengths):\n",
    "        analyze = ((lengths_i > test_frame) & (lengths_i > train_frame)).nonzero()[0]\n",
    "        for idx in analyze:\n",
    "            X.append(traj_i[idx, train_frame])\n",
    "            Y.append(traj_i[idx, test_frame])\n",
    "\n",
    "    if len(X) < 100:\n",
    "        return np.nan\n",
    "\n",
    "    X = np.stack(X)\n",
    "    Y = np.stack(Y)\n",
    "\n",
    "    # Fit linear model\n",
    "    model = RidgeCV()\n",
    "    return cross_val_score(model, X, Y, cv=KFold(5, shuffle=True), scoring=\"r2\")"
   ]
  },
  {
   "cell_type": "code",
   "execution_count": 17,
   "metadata": {},
   "outputs": [
    {
     "data": {
      "application/vnd.jupyter.widget-view+json": {
       "model_id": "3d3246e48d244145a937000106dd2cd7",
       "version_major": 2,
       "version_minor": 0
      },
      "text/plain": [
       "  0%|          | 0/529 [00:00<?, ?it/s]"
      ]
     },
     "metadata": {},
     "output_type": "display_data"
    }
   ],
   "source": [
    "temporal_generalization_scores = np.zeros((trajectory[0].shape[1], trajectory[0].shape[1])) * np.nan\n",
    "for train_frame, test_frame in tqdm(list(itertools.product(range(trajectory[0].shape[1]), repeat=2))):\n",
    "    scores = evaluate_temporal_generalization(trajectory, lengths, train_frame, test_frame)\n",
    "    temporal_generalization_scores[train_frame, test_frame] = np.mean(scores)"
   ]
  },
  {
   "cell_type": "code",
   "execution_count": 18,
   "metadata": {},
   "outputs": [
    {
     "data": {
      "text/html": [
       "<div>\n",
       "<style scoped>\n",
       "    .dataframe tbody tr th:only-of-type {\n",
       "        vertical-align: middle;\n",
       "    }\n",
       "\n",
       "    .dataframe tbody tr th {\n",
       "        vertical-align: top;\n",
       "    }\n",
       "\n",
       "    .dataframe thead th {\n",
       "        text-align: right;\n",
       "    }\n",
       "</style>\n",
       "<table border=\"1\" class=\"dataframe\">\n",
       "  <thead>\n",
       "    <tr style=\"text-align: right;\">\n",
       "      <th>test_frame</th>\n",
       "      <th>0</th>\n",
       "      <th>1</th>\n",
       "      <th>2</th>\n",
       "      <th>3</th>\n",
       "      <th>4</th>\n",
       "      <th>5</th>\n",
       "      <th>6</th>\n",
       "      <th>7</th>\n",
       "      <th>8</th>\n",
       "      <th>9</th>\n",
       "      <th>...</th>\n",
       "      <th>13</th>\n",
       "      <th>14</th>\n",
       "      <th>15</th>\n",
       "      <th>16</th>\n",
       "      <th>17</th>\n",
       "      <th>18</th>\n",
       "      <th>19</th>\n",
       "      <th>20</th>\n",
       "      <th>21</th>\n",
       "      <th>22</th>\n",
       "    </tr>\n",
       "    <tr>\n",
       "      <th>train_frame</th>\n",
       "      <th></th>\n",
       "      <th></th>\n",
       "      <th></th>\n",
       "      <th></th>\n",
       "      <th></th>\n",
       "      <th></th>\n",
       "      <th></th>\n",
       "      <th></th>\n",
       "      <th></th>\n",
       "      <th></th>\n",
       "      <th></th>\n",
       "      <th></th>\n",
       "      <th></th>\n",
       "      <th></th>\n",
       "      <th></th>\n",
       "      <th></th>\n",
       "      <th></th>\n",
       "      <th></th>\n",
       "      <th></th>\n",
       "      <th></th>\n",
       "      <th></th>\n",
       "    </tr>\n",
       "  </thead>\n",
       "  <tbody>\n",
       "    <tr>\n",
       "      <th>0</th>\n",
       "      <td>0.999994</td>\n",
       "      <td>0.690819</td>\n",
       "      <td>0.397259</td>\n",
       "      <td>0.222876</td>\n",
       "      <td>0.096103</td>\n",
       "      <td>0.060253</td>\n",
       "      <td>0.034907</td>\n",
       "      <td>0.007550</td>\n",
       "      <td>-0.018040</td>\n",
       "      <td>-0.029711</td>\n",
       "      <td>...</td>\n",
       "      <td>-0.086668</td>\n",
       "      <td>-0.125701</td>\n",
       "      <td>-0.117325</td>\n",
       "      <td>-0.338117</td>\n",
       "      <td>-0.775979</td>\n",
       "      <td>NaN</td>\n",
       "      <td>NaN</td>\n",
       "      <td>NaN</td>\n",
       "      <td>NaN</td>\n",
       "      <td>NaN</td>\n",
       "    </tr>\n",
       "    <tr>\n",
       "      <th>1</th>\n",
       "      <td>0.692750</td>\n",
       "      <td>0.999994</td>\n",
       "      <td>0.696121</td>\n",
       "      <td>0.404941</td>\n",
       "      <td>0.167142</td>\n",
       "      <td>0.098127</td>\n",
       "      <td>0.054179</td>\n",
       "      <td>0.018722</td>\n",
       "      <td>-0.011858</td>\n",
       "      <td>-0.024844</td>\n",
       "      <td>...</td>\n",
       "      <td>-0.087752</td>\n",
       "      <td>-0.122856</td>\n",
       "      <td>-0.122780</td>\n",
       "      <td>-0.288473</td>\n",
       "      <td>-0.711758</td>\n",
       "      <td>NaN</td>\n",
       "      <td>NaN</td>\n",
       "      <td>NaN</td>\n",
       "      <td>NaN</td>\n",
       "      <td>NaN</td>\n",
       "    </tr>\n",
       "    <tr>\n",
       "      <th>2</th>\n",
       "      <td>0.403512</td>\n",
       "      <td>0.698191</td>\n",
       "      <td>0.999994</td>\n",
       "      <td>0.710157</td>\n",
       "      <td>0.309679</td>\n",
       "      <td>0.176879</td>\n",
       "      <td>0.091594</td>\n",
       "      <td>0.036464</td>\n",
       "      <td>-0.004278</td>\n",
       "      <td>-0.023547</td>\n",
       "      <td>...</td>\n",
       "      <td>-0.089292</td>\n",
       "      <td>-0.120931</td>\n",
       "      <td>-0.123472</td>\n",
       "      <td>-0.287109</td>\n",
       "      <td>-0.730745</td>\n",
       "      <td>NaN</td>\n",
       "      <td>NaN</td>\n",
       "      <td>NaN</td>\n",
       "      <td>NaN</td>\n",
       "      <td>NaN</td>\n",
       "    </tr>\n",
       "    <tr>\n",
       "      <th>3</th>\n",
       "      <td>0.232327</td>\n",
       "      <td>0.411055</td>\n",
       "      <td>0.711929</td>\n",
       "      <td>0.999994</td>\n",
       "      <td>0.544360</td>\n",
       "      <td>0.327126</td>\n",
       "      <td>0.162101</td>\n",
       "      <td>0.068723</td>\n",
       "      <td>0.011313</td>\n",
       "      <td>-0.014502</td>\n",
       "      <td>...</td>\n",
       "      <td>-0.088885</td>\n",
       "      <td>-0.122142</td>\n",
       "      <td>-0.119184</td>\n",
       "      <td>-0.306773</td>\n",
       "      <td>-0.734586</td>\n",
       "      <td>NaN</td>\n",
       "      <td>NaN</td>\n",
       "      <td>NaN</td>\n",
       "      <td>NaN</td>\n",
       "      <td>NaN</td>\n",
       "    </tr>\n",
       "    <tr>\n",
       "      <th>4</th>\n",
       "      <td>0.114134</td>\n",
       "      <td>0.183844</td>\n",
       "      <td>0.323079</td>\n",
       "      <td>0.551153</td>\n",
       "      <td>0.999993</td>\n",
       "      <td>0.755825</td>\n",
       "      <td>0.407355</td>\n",
       "      <td>0.190640</td>\n",
       "      <td>0.079794</td>\n",
       "      <td>0.036397</td>\n",
       "      <td>...</td>\n",
       "      <td>-0.060885</td>\n",
       "      <td>-0.121616</td>\n",
       "      <td>-0.125094</td>\n",
       "      <td>-0.298670</td>\n",
       "      <td>-0.691120</td>\n",
       "      <td>NaN</td>\n",
       "      <td>NaN</td>\n",
       "      <td>NaN</td>\n",
       "      <td>NaN</td>\n",
       "      <td>NaN</td>\n",
       "    </tr>\n",
       "  </tbody>\n",
       "</table>\n",
       "<p>5 rows × 23 columns</p>\n",
       "</div>"
      ],
      "text/plain": [
       "test_frame         0         1         2         3         4         5    \n",
       "train_frame                                                               \n",
       "0            0.999994  0.690819  0.397259  0.222876  0.096103  0.060253  \\\n",
       "1            0.692750  0.999994  0.696121  0.404941  0.167142  0.098127   \n",
       "2            0.403512  0.698191  0.999994  0.710157  0.309679  0.176879   \n",
       "3            0.232327  0.411055  0.711929  0.999994  0.544360  0.327126   \n",
       "4            0.114134  0.183844  0.323079  0.551153  0.999993  0.755825   \n",
       "\n",
       "test_frame         6         7         8         9   ...        13        14   \n",
       "train_frame                                          ...                       \n",
       "0            0.034907  0.007550 -0.018040 -0.029711  ... -0.086668 -0.125701  \\\n",
       "1            0.054179  0.018722 -0.011858 -0.024844  ... -0.087752 -0.122856   \n",
       "2            0.091594  0.036464 -0.004278 -0.023547  ... -0.089292 -0.120931   \n",
       "3            0.162101  0.068723  0.011313 -0.014502  ... -0.088885 -0.122142   \n",
       "4            0.407355  0.190640  0.079794  0.036397  ... -0.060885 -0.121616   \n",
       "\n",
       "test_frame         15        16        17  18  19  20  21  22  \n",
       "train_frame                                                    \n",
       "0           -0.117325 -0.338117 -0.775979 NaN NaN NaN NaN NaN  \n",
       "1           -0.122780 -0.288473 -0.711758 NaN NaN NaN NaN NaN  \n",
       "2           -0.123472 -0.287109 -0.730745 NaN NaN NaN NaN NaN  \n",
       "3           -0.119184 -0.306773 -0.734586 NaN NaN NaN NaN NaN  \n",
       "4           -0.125094 -0.298670 -0.691120 NaN NaN NaN NaN NaN  \n",
       "\n",
       "[5 rows x 23 columns]"
      ]
     },
     "execution_count": 18,
     "metadata": {},
     "output_type": "execute_result"
    }
   ],
   "source": [
    "temporal_generalization_df = pd.DataFrame(temporal_generalization_scores, columns=pd.Index(range(trajectory[0].shape[1]), name=\"test_frame\"),\n",
    "                                          index=pd.Index(range(trajectory[0].shape[1]), name=\"train_frame\"))\n",
    "temporal_generalization_df.head()"
   ]
  },
  {
   "cell_type": "code",
   "execution_count": 19,
   "metadata": {},
   "outputs": [],
   "source": [
    "temporal_generalization_df.to_csv(Path(output_dir) / \"temporal_generalization.csv\")"
   ]
  },
  {
   "cell_type": "code",
   "execution_count": 23,
   "metadata": {},
   "outputs": [
    {
     "data": {
      "text/plain": [
       "Text(50.722222222222214, 0.5, 'Train frame')"
      ]
     },
     "execution_count": 23,
     "metadata": {},
     "output_type": "execute_result"
    },
    {
     "data": {
      "image/png": "[encoded data removed]",
      "text/plain": [
       "<Figure size 640x480 with 2 Axes>"
      ]
     },
     "metadata": {},
     "output_type": "display_data"
    }
   ],
   "source": [
    "plot_df = temporal_generalization_df.iloc[:30, :30]\n",
    "\n",
    "ax = sns.heatmap(plot_df, cmap=\"RdBu_r\", center=0, xticklabels=10, yticklabels=10)\n",
    "\n",
    "assert expand_frame_window[1] == 0\n",
    "# Draw phoneme onset\n",
    "if expand_frame_window[0] != 0:\n",
    "    ax.axvline(expand_frame_window[0], color=\"gray\", linestyle=\"--\")\n",
    "    ax.axhline(expand_frame_window[0], color=\"gray\", linestyle=\"--\")\n",
    "\n",
    "ax.set_xlabel(\"Test frame\")\n",
    "ax.set_ylabel(\"Train frame\")"
   ]
  }
 ],
 "metadata": {
  "kernelspec": {
   "display_name": "explore310",
   "language": "python",
   "name": "python3"
  },
  "language_info": {
   "codemirror_mode": {
    "name": "ipython",
    "version": 3
   },
   "file_extension": ".py",
   "mimetype": "text/x-python",
   "name": "python",
   "nbconvert_exporter": "python",
   "pygments_lexer": "ipython3",
   "version": "3.10.13"
  }
 },
 "nbformat": 4,
 "nbformat_minor": 2
}
