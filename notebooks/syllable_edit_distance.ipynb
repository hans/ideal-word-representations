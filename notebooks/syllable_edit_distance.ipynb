{
 "cells": [
  {
   "cell_type": "markdown",
   "metadata": {},
   "source": [
    "Estimate a probe for syllable edit distance on a learned integrator representation."
   ]
  },
  {
   "cell_type": "code",
   "execution_count": 2,
   "metadata": {},
   "outputs": [],
   "source": [
    "%load_ext autoreload\n",
    "%autoreload 2"
   ]
  },
  {
   "cell_type": "code",
   "execution_count": 3,
   "metadata": {},
   "outputs": [],
   "source": [
    "import os\n",
    "os.environ[\"CUDA_VISIBLE_DEVICES\"] = \"\""
   ]
  },
  {
   "cell_type": "code",
   "execution_count": 65,
   "metadata": {},
   "outputs": [],
   "source": [
    "\n",
    "from dataclasses import replace\n",
    "import itertools\n",
    "from pathlib import Path\n",
    "import pickle\n",
    "\n",
    "import datasets\n",
    "import matplotlib.pyplot as plt\n",
    "import numpy as np\n",
    "import pandas as pd\n",
    "from scipy.spatial import distance\n",
    "import seaborn as sns\n",
    "from sklearn.decomposition import PCA\n",
    "from tqdm.auto import tqdm, trange\n",
    "\n",
    "from src.analysis.state_space import prepare_state_trajectory, StateSpaceAnalysisSpec\n",
    "from src.datasets.speech_equivalence import SpeechEquivalenceDataset\n",
    "from src.models import get_best_checkpoint\n",
    "from src.models.integrator import ContrastiveEmbeddingModel, compute_embeddings, load_or_compute_embeddings"
   ]
  },
  {
   "cell_type": "code",
   "execution_count": 5,
   "metadata": {},
   "outputs": [],
   "source": [
    "model_dir = \"outputs/models/w2v2_8/syllable\"\n",
    "# equiv_dataset_path = \"data/timit_equiv_phoneme_within_word_prefix_1.pkl\"\n",
    "equiv_dataset_path = \"data/timit_equiv_phoneme_6_1.pkl\"\n",
    "output_dir = \".\"\n",
    "\n",
    "state_space_spec_path = \"out/state_space_specs/all_syllables.pkl\"\n",
    "\n",
    "metric = \"cosine\""
   ]
  },
  {
   "cell_type": "code",
   "execution_count": 6,
   "metadata": {},
   "outputs": [
    {
     "name": "stderr",
     "output_type": "stream",
     "text": [
      "/home/jgauthier/u/transformers/lib/python3.10/site-packages/torch/_utils.py:776: UserWarning: TypedStorage is deprecated. It will be removed in the future and UntypedStorage will be the only storage class. This should only matter to you if you are using storages directly.  To access UntypedStorage directly, use tensor.untyped_storage() instead of tensor.storage()\n",
      "  return self.fget.__get__(instance, owner)()\n"
     ]
    },
    {
     "data": {
      "text/plain": [
       "ContrastiveEmbeddingModel(\n",
       "  (rnn): RNNModel(\n",
       "    (rnn): LSTM(768, 32, batch_first=True)\n",
       "    (fc): Linear(in_features=32, out_features=8, bias=True)\n",
       "  )\n",
       ")"
      ]
     },
     "execution_count": 6,
     "metadata": {},
     "output_type": "execute_result"
    }
   ],
   "source": [
    "model = ContrastiveEmbeddingModel.from_pretrained(get_best_checkpoint(model_dir))\n",
    "model.eval()"
   ]
  },
  {
   "cell_type": "code",
   "execution_count": 7,
   "metadata": {},
   "outputs": [],
   "source": [
    "with open(equiv_dataset_path, \"rb\") as f:\n",
    "    equiv_dataset: SpeechEquivalenceDataset = pickle.load(f)"
   ]
  },
  {
   "cell_type": "code",
   "execution_count": 8,
   "metadata": {},
   "outputs": [],
   "source": [
    "with open(state_space_spec_path, \"rb\") as f:\n",
    "    state_space_spec: StateSpaceAnalysisSpec = pickle.load(f)\n",
    "\n",
    "# # DEV: retain just the samples available in this subset\n",
    "# spans = [[(start, end) for start, end in spans_i if end < equiv_dataset.hidden_state_dataset.num_frames]\n",
    "#          for spans_i in state_space_spec.target_frame_spans]\n",
    "# retain_idxs = [idx for idx, spans_i in enumerate(spans) if len(spans_i) > 0]\n",
    "# state_space_spec = replace(state_space_spec,\n",
    "#                            target_frame_spans=[spans[i] for i in retain_idxs],\n",
    "#                            labels=[state_space_spec.labels[i] for i in retain_idxs],\n",
    "#                            total_num_frames=equiv_dataset.hidden_state_dataset.num_frames)\n",
    "    \n",
    "assert state_space_spec.is_compatible_with(equiv_dataset)"
   ]
  },
  {
   "cell_type": "code",
   "execution_count": 9,
   "metadata": {},
   "outputs": [
    {
     "name": "stdout",
     "output_type": "stream",
     "text": [
      "out/embedding_cache/outputs-models-w2v2_8-syllable-data-timit_equiv_phoneme_6_1.pkl.npy\n"
     ]
    }
   ],
   "source": [
    "model_representations = load_or_compute_embeddings(model, equiv_dataset, model_dir, equiv_dataset_path)"
   ]
  },
  {
   "cell_type": "code",
   "execution_count": 10,
   "metadata": {},
   "outputs": [],
   "source": [
    "# Retain only syllables with N or more instances\n",
    "retain_n = 5\n",
    "retain_idxs = [idx for idx, target_frames in enumerate(state_space_spec.target_frame_spans)\n",
    "               if len(target_frames) >= retain_n]\n",
    "state_space_spec = replace(state_space_spec,\n",
    "    labels=[state_space_spec.labels[i] for i in retain_idxs],\n",
    "    target_frame_spans=[state_space_spec.target_frame_spans[i] for i in retain_idxs],\n",
    ")"
   ]
  },
  {
   "cell_type": "code",
   "execution_count": 11,
   "metadata": {},
   "outputs": [],
   "source": [
    "trajectory = prepare_state_trajectory(model_representations, state_space_spec, pad=np.nan)\n",
    "lengths = [np.isnan(traj_i[:, :, 0]).argmax(axis=1) for traj_i in trajectory]"
   ]
  },
  {
   "cell_type": "code",
   "execution_count": 41,
   "metadata": {},
   "outputs": [],
   "source": [
    "final_frames = [traj_i[np.arange(len(traj_i)), length_i - 1] for traj_i, length_i in zip(trajectory, lengths)]"
   ]
  },
  {
   "cell_type": "markdown",
   "metadata": {},
   "source": [
    "## Compute syllable edit distance"
   ]
  },
  {
   "cell_type": "code",
   "execution_count": 13,
   "metadata": {},
   "outputs": [],
   "source": [
    "syllables = state_space_spec.labels"
   ]
  },
  {
   "cell_type": "code",
   "execution_count": 14,
   "metadata": {},
   "outputs": [],
   "source": [
    "# Function to calculate edit distance between two sequences of phonemes\n",
    "def edit_distance(s1, s2):\n",
    "    # Using Wagner-Fischer algorithm for computing edit distance\n",
    "    m, n = len(s1), len(s2)\n",
    "    dp = [[0] * (n + 1) for _ in range(m + 1)]\n",
    "    for i in range(m + 1):\n",
    "        for j in range(n + 1):\n",
    "            if i == 0:\n",
    "                dp[i][j] = j   # Deletion\n",
    "            elif j == 0:\n",
    "                dp[i][j] = i   # Insertion\n",
    "            else:\n",
    "                cost = 0 if s1[i - 1] == s2[j - 1] else 1\n",
    "                dp[i][j] = min(dp[i - 1][j] + 1,      # Deletion\n",
    "                               dp[i][j - 1] + 1,      # Insertion\n",
    "                               dp[i - 1][j - 1] + cost) # Substitution\n",
    "    return dp[m][n]"
   ]
  },
  {
   "cell_type": "code",
   "execution_count": 15,
   "metadata": {},
   "outputs": [],
   "source": [
    "distances = np.zeros((len(syllables), len(syllables)))\n",
    "syllable2idx = {s: i for i, s in enumerate(syllables)}\n",
    "for i, s1 in enumerate(syllables):\n",
    "    for j, s2 in enumerate(syllables):\n",
    "        distances[i, j] = edit_distance(s1, s2)"
   ]
  },
  {
   "cell_type": "code",
   "execution_count": 16,
   "metadata": {},
   "outputs": [
    {
     "data": {
      "text/plain": [
       "(1626, 1626)"
      ]
     },
     "execution_count": 16,
     "metadata": {},
     "output_type": "execute_result"
    }
   ],
   "source": [
    "distances.shape"
   ]
  },
  {
   "cell_type": "markdown",
   "metadata": {},
   "source": [
    "## Prepare regression analysis"
   ]
  },
  {
   "cell_type": "code",
   "execution_count": 42,
   "metadata": {},
   "outputs": [],
   "source": [
    "# Scale all vectors by unit norm\n",
    "final_frames = [f / np.linalg.norm(f, axis=1, keepdims=True) for f in final_frames]"
   ]
  },
  {
   "cell_type": "code",
   "execution_count": 56,
   "metadata": {},
   "outputs": [
    {
     "name": "stdout",
     "output_type": "stream",
     "text": [
      "Retain 100000 pairs (7.57% of all)\n"
     ]
    },
    {
     "data": {
      "application/vnd.jupyter.widget-view+json": {
       "model_id": "185997ca7da24e42a26184ac895a8348",
       "version_major": 2,
       "version_minor": 0
      },
      "text/plain": [
       "  0%|          | 0/100000 [00:00<?, ?it/s]"
      ]
     },
     "metadata": {},
     "output_type": "display_data"
    }
   ],
   "source": [
    "Xs, y = [], []\n",
    "max_num_pairs, max_num_samples = 100000, 50\n",
    "\n",
    "syllable_pairs = list(itertools.combinations(list(range(len(syllables))), 2))\n",
    "np.random.shuffle(syllable_pairs)\n",
    "print(f\"Retain {max_num_pairs} pairs ({100 * max_num_pairs / len(syllable_pairs):.2f}% of all)\")\n",
    "syllable_pairs = syllable_pairs[:max_num_pairs]\n",
    "\n",
    "for s1, s2 in tqdm(syllable_pairs):\n",
    "    frame_pairs = list(itertools.product(list(range(len(final_frames[s1]))), list(range(len(final_frames[s2])))))\n",
    "    np.random.shuffle(frame_pairs)\n",
    "    frame_pairs = frame_pairs[:max_num_samples]\n",
    "                       \n",
    "    for f1, f2 in frame_pairs:\n",
    "        Xs.append(np.concatenate([final_frames[s1][f1], final_frames[s2][f2]]))\n",
    "        y.append(distances[s1, s2])\n",
    "\n",
    "X = np.stack(Xs)\n",
    "y = np.array(y).astype(float)"
   ]
  },
  {
   "cell_type": "code",
   "execution_count": 57,
   "metadata": {},
   "outputs": [
    {
     "data": {
      "text/plain": [
       "(4834440, 16)"
      ]
     },
     "execution_count": 57,
     "metadata": {},
     "output_type": "execute_result"
    }
   ],
   "source": [
    "X.shape"
   ]
  },
  {
   "cell_type": "code",
   "execution_count": 79,
   "metadata": {},
   "outputs": [
    {
     "data": {
      "application/vnd.jupyter.widget-view+json": {
       "model_id": "c9c306855bb44fa2ab9f083fea42a1e5",
       "version_major": 2,
       "version_minor": 0
      },
      "text/plain": [
       "  0%|          | 0/5 [00:00<?, ?epoch/s]"
      ]
     },
     "metadata": {},
     "output_type": "display_data"
    },
    {
     "data": {
      "application/vnd.jupyter.widget-view+json": {
       "model_id": "d9480a783a844a29a4c103477dd22436",
       "version_major": 2,
       "version_minor": 0
      },
      "text/plain": [
       "  0%|          | 0/60431 [00:00<?, ?batch/s]"
      ]
     },
     "metadata": {},
     "output_type": "display_data"
    },
    {
     "name": "stdout",
     "output_type": "stream",
     "text": [
      "Epoch 0: batch 0: train loss = 4.3918046951293945\n",
      "Epoch 0: batch 10000: train loss = 1.322235345840454\n",
      "Epoch 0: batch 20000: train loss = 0.8502987623214722\n",
      "Epoch 0: batch 30000: train loss = 0.6537953615188599\n",
      "Epoch 0: batch 40000: train loss = 0.6029055118560791\n",
      "Epoch 0: batch 50000: train loss = 0.6070995330810547\n",
      "Epoch 0: batch 60000: train loss = 0.8166947960853577\n",
      "Epoch 0: test loss = 0.658531603642816\n"
     ]
    },
    {
     "data": {
      "application/vnd.jupyter.widget-view+json": {
       "model_id": "4a59e94cc6004419b3947d415868d016",
       "version_major": 2,
       "version_minor": 0
      },
      "text/plain": [
       "  0%|          | 0/60431 [00:00<?, ?batch/s]"
      ]
     },
     "metadata": {},
     "output_type": "display_data"
    },
    {
     "name": "stdout",
     "output_type": "stream",
     "text": [
      "Epoch 1: batch 70000: train loss = 0.6828104257583618\n",
      "Epoch 1: batch 80000: train loss = 0.5703576803207397\n",
      "Epoch 1: batch 90000: train loss = 0.6726149916648865\n",
      "Epoch 1: batch 100000: train loss = 0.5101875066757202\n",
      "Epoch 1: batch 110000: train loss = 0.7101984024047852\n",
      "Epoch 1: batch 120000: train loss = 0.5849071145057678\n",
      "Epoch 1: test loss = 0.6578134952405473\n"
     ]
    },
    {
     "data": {
      "application/vnd.jupyter.widget-view+json": {
       "model_id": "271ebf5789444e4cbdc356f98e04ae2f",
       "version_major": 2,
       "version_minor": 0
      },
      "text/plain": [
       "  0%|          | 0/60431 [00:00<?, ?batch/s]"
      ]
     },
     "metadata": {},
     "output_type": "display_data"
    },
    {
     "name": "stdout",
     "output_type": "stream",
     "text": [
      "Epoch 2: batch 130000: train loss = 0.5787559747695923\n",
      "Epoch 2: batch 140000: train loss = 0.6652008295059204\n",
      "Epoch 2: batch 150000: train loss = 0.5678735971450806\n",
      "Epoch 2: batch 160000: train loss = 0.68978351354599\n",
      "Epoch 2: batch 170000: train loss = 0.417957603931427\n",
      "Epoch 2: batch 180000: train loss = 0.5079011917114258\n",
      "Epoch 2: test loss = 0.6575301909276282\n"
     ]
    },
    {
     "data": {
      "application/vnd.jupyter.widget-view+json": {
       "model_id": "fbcccfc21e2f4d9e8b37a14ae049c7be",
       "version_major": 2,
       "version_minor": 0
      },
      "text/plain": [
       "  0%|          | 0/60431 [00:00<?, ?batch/s]"
      ]
     },
     "metadata": {},
     "output_type": "display_data"
    },
    {
     "name": "stdout",
     "output_type": "stream",
     "text": [
      "Epoch 3: batch 190000: train loss = 0.6463900804519653\n",
      "Epoch 3: batch 200000: train loss = 0.5618063807487488\n",
      "Epoch 3: batch 210000: train loss = 0.7419154644012451\n",
      "Epoch 3: batch 220000: train loss = 0.7626420259475708\n",
      "Epoch 3: batch 230000: train loss = 0.6049235463142395\n",
      "Epoch 3: batch 240000: train loss = 0.6838982701301575\n",
      "Epoch 3: test loss = 0.6573455662170447\n"
     ]
    },
    {
     "data": {
      "application/vnd.jupyter.widget-view+json": {
       "model_id": "47a7f16aceef49f3b1668fd35746610e",
       "version_major": 2,
       "version_minor": 0
      },
      "text/plain": [
       "  0%|          | 0/60431 [00:00<?, ?batch/s]"
      ]
     },
     "metadata": {},
     "output_type": "display_data"
    },
    {
     "name": "stdout",
     "output_type": "stream",
     "text": [
      "Epoch 4: batch 250000: train loss = 0.7151129841804504\n",
      "Epoch 4: batch 260000: train loss = 0.6631678342819214\n",
      "Epoch 4: batch 270000: train loss = 0.6194276809692383\n",
      "Epoch 4: batch 280000: train loss = 0.5298197269439697\n",
      "Epoch 4: batch 290000: train loss = 0.5449009537696838\n",
      "Epoch 4: batch 300000: train loss = 0.7813037633895874\n",
      "Epoch 4: test loss = 0.6571299187485933\n"
     ]
    }
   ],
   "source": [
    "# Estimate a bilinear map between X pairs and the y edit distance using torch\n",
    "import torch\n",
    "import torch.nn as nn\n",
    "import torch.optim as optim\n",
    "from torch.utils.data import DataLoader, TensorDataset\n",
    "\n",
    "class BilinearMap(nn.Module):\n",
    "    def __init__(self, input_dim):\n",
    "        super().__init__()\n",
    "        self.W = nn.Parameter(torch.randn(input_dim, input_dim))\n",
    "        self.b = nn.Parameter(torch.randn(1))\n",
    "        \n",
    "    def forward(self, X1, X2):\n",
    "        return (X1 @ self.W @ X2.T).diagonal() + self.b\n",
    "\n",
    "        # A = self.W @ self.W\n",
    "        # return ((X1 - X2) @ A @ (X1 - X2).T).diagonal() + self.b\n",
    "    \n",
    "class BilinearMapModel(nn.Module):\n",
    "    def __init__(self, input_dim):\n",
    "        super().__init__()\n",
    "        self.bilinear = BilinearMap(input_dim)\n",
    "        \n",
    "    def forward(self, X):\n",
    "        X1, X2 = X[:, :input_dim], X[:, input_dim:]\n",
    "        return self.bilinear(X1, X2)\n",
    "    \n",
    "input_dim = X.shape[1] // 2\n",
    "model = BilinearMapModel(input_dim)\n",
    "criterion = nn.MSELoss()\n",
    "# criterion = nn.PoissonNLLLoss()\n",
    "optimizer = optim.Adam(model.parameters(), lr=0.0001)\n",
    "\n",
    "# Shuffle\n",
    "perm = np.random.permutation(len(X))\n",
    "X, y = X[perm], y[perm]\n",
    "\n",
    "X_train, X_test = X[:int(0.8 * len(X))], X[int(0.8 * len(X)):]\n",
    "y_train, y_test = y[:int(0.8 * len(y))], y[int(0.8 * len(y)):]\n",
    "train_dataset = TensorDataset(torch.tensor(X_train).float(), torch.tensor(y_train).float())\n",
    "test_dataset = TensorDataset(torch.tensor(X_test).float(), torch.tensor(y_test).float())\n",
    "train_loader = DataLoader(train_dataset, batch_size=64, shuffle=True)\n",
    "test_loader = DataLoader(test_dataset, batch_size=64, shuffle=False)\n",
    "\n",
    "batch_idx = 0\n",
    "losses = []\n",
    "for epoch in trange(5, unit=\"epoch\"):\n",
    "    model.train()\n",
    "    for X_batch, y_batch in tqdm(train_loader, unit=\"batch\", leave=False):\n",
    "        optimizer.zero_grad()\n",
    "        y_pred = model(X_batch)\n",
    "        loss = criterion(y_pred, y_batch)\n",
    "        loss.backward()\n",
    "        optimizer.step()\n",
    "\n",
    "        if batch_idx % 10000 == 0:\n",
    "            print(f\"Epoch {epoch}: batch {batch_idx}: train loss = {loss.item()}\")\n",
    "        batch_idx += 1\n",
    "\n",
    "    if epoch % 1 == 0:\n",
    "        model.eval()\n",
    "        with torch.no_grad():\n",
    "            loss = 0\n",
    "            for X_batch, y_batch in test_loader:\n",
    "                y_pred = model(X_batch)\n",
    "                loss += criterion(y_pred, y_batch).item()\n",
    "            losses.append(loss)\n",
    "            print(f\"Epoch {epoch}: test loss = {loss / len(test_loader)}\")\n",
    "\n"
   ]
  },
  {
   "cell_type": "code",
   "execution_count": 77,
   "metadata": {},
   "outputs": [],
   "source": [
    "# Visualize distribution of predicted distances\n",
    "model.eval()\n",
    "y_preds = []\n",
    "with torch.no_grad():\n",
    "    for X_batch, y_batch in test_loader:\n",
    "        y_pred = model(X_batch)\n",
    "        y_preds.append(y_pred.numpy())\n",
    "\n",
    "y_preds = np.concatenate(y_preds)\n"
   ]
  },
  {
   "cell_type": "code",
   "execution_count": 78,
   "metadata": {},
   "outputs": [
    {
     "data": {
      "text/plain": [
       "<Axes: ylabel='Count'>"
      ]
     },
     "execution_count": 78,
     "metadata": {},
     "output_type": "execute_result"
    },
    {
     "data": {
      "image/png": "[encoded data removed]",
      "text/plain": [
       "<Figure size 640x480 with 1 Axes>"
      ]
     },
     "metadata": {},
     "output_type": "display_data"
    }
   ],
   "source": [
    "sns.histplot(y_preds, discrete=True)"
   ]
  },
  {
   "cell_type": "code",
   "execution_count": 71,
   "metadata": {},
   "outputs": [
    {
     "data": {
      "text/plain": [
       "<Axes: >"
      ]
     },
     "execution_count": 71,
     "metadata": {},
     "output_type": "execute_result"
    },
    {
     "data": {
      "image/png": "[encoded data removed]",
      "text/plain": [
       "<Figure size 1000x1000 with 2 Axes>"
      ]
     },
     "metadata": {},
     "output_type": "display_data"
    }
   ],
   "source": [
    "# Visualize the learned bilinear map\n",
    "W = model.bilinear.W.detach().numpy()\n",
    "plt.figure(figsize=(10, 10))\n",
    "sns.heatmap(W, cmap=\"coolwarm\", center=0)"
   ]
  },
  {
   "cell_type": "code",
   "execution_count": 18,
   "metadata": {},
   "outputs": [],
   "source": [
    "from sklearn.neural_network import MLPRegressor\n",
    "from sklearn.linear_model import LinearRegression, RidgeCV\n",
    "from sklearn.model_selection import cross_val_score, KFold"
   ]
  },
  {
   "cell_type": "code",
   "execution_count": 19,
   "metadata": {},
   "outputs": [],
   "source": [
    "model = MLPRegressor(hidden_layer_sizes=(10,), max_iter=1000)\n",
    "scores = cross_val_score(model, X, y, cv=KFold(5, shuffle=True), scoring=\"r2\")"
   ]
  },
  {
   "cell_type": "code",
   "execution_count": 40,
   "metadata": {},
   "outputs": [
    {
     "data": {
      "text/plain": [
       "array([0.05810032, 0.06242847, 0.06203571, 0.07060511, 0.06393827])"
      ]
     },
     "execution_count": 40,
     "metadata": {},
     "output_type": "execute_result"
    }
   ],
   "source": [
    "scores"
   ]
  },
  {
   "cell_type": "markdown",
   "metadata": {},
   "source": [
    "## Reduced regression analysis: cosine distance as metric"
   ]
  },
  {
   "cell_type": "code",
   "execution_count": 50,
   "metadata": {},
   "outputs": [
    {
     "data": {
      "application/vnd.jupyter.widget-view+json": {
       "model_id": "3b02d16f1b9d42f9aeb1e9aadbf36326",
       "version_major": 2,
       "version_minor": 0
      },
      "text/plain": [
       "  0%|          | 0/1000 [00:00<?, ?it/s]"
      ]
     },
     "metadata": {},
     "output_type": "display_data"
    }
   ],
   "source": [
    "Xs, y = [], []\n",
    "max_num_pairs, max_num_samples = 1000, 100\n",
    "\n",
    "syllable_pairs = list(itertools.combinations(list(range(len(syllables))), 2))\n",
    "np.random.shuffle(syllable_pairs)\n",
    "syllable_pairs = syllable_pairs[:max_num_pairs]\n",
    "\n",
    "for s1, s2 in tqdm(syllable_pairs):\n",
    "    frame_pairs = list(itertools.product(list(range(len(final_frames[s1]))), list(range(len(final_frames[s2])))))\n",
    "    np.random.shuffle(frame_pairs)\n",
    "    frame_pairs = frame_pairs[:max_num_samples]\n",
    "                       \n",
    "    for f1, f2 in frame_pairs:\n",
    "        Xs.append(distance.cosine(final_frames[s1][f1], final_frames[s2][f2]))\n",
    "        y.append(distances[s1, s2])\n",
    "\n",
    "X = np.stack(Xs)\n",
    "y = np.array(y).astype(float)\n",
    "\n",
    "X -= X.mean()\n",
    "X /= X.std()"
   ]
  },
  {
   "cell_type": "code",
   "execution_count": 51,
   "metadata": {},
   "outputs": [],
   "source": [
    "model = RidgeCV(cv=KFold(5, shuffle=True))\n",
    "scores = cross_val_score(model, X[:, None], y, cv=KFold(5, shuffle=True), scoring=\"r2\")"
   ]
  },
  {
   "cell_type": "code",
   "execution_count": 52,
   "metadata": {},
   "outputs": [
    {
     "data": {
      "text/plain": [
       "array([ 0.00044382, -0.00055969,  0.00010893,  0.00017792,  0.00025267])"
      ]
     },
     "execution_count": 52,
     "metadata": {},
     "output_type": "execute_result"
    }
   ],
   "source": [
    "scores"
   ]
  }
 ],
 "metadata": {
  "kernelspec": {
   "display_name": "Python 3",
   "language": "python",
   "name": "python3"
  },
  "language_info": {
   "codemirror_mode": {
    "name": "ipython",
    "version": 3
   },
   "file_extension": ".py",
   "mimetype": "text/x-python",
   "name": "python",
   "nbconvert_exporter": "python",
   "pygments_lexer": "ipython3",
   "version": "3.10.13"
  }
 },
 "nbformat": 4,
 "nbformat_minor": 2
}
