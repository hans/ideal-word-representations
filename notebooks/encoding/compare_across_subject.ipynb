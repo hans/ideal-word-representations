{
 "cells": [
  {
   "cell_type": "code",
   "execution_count": 1,
   "metadata": {},
   "outputs": [],
   "source": [
    "from pathlib import Path\n",
    "\n",
    "import matplotlib.pyplot as plt\n",
    "import pandas as pd\n",
    "import numpy as np\n",
    "import seaborn as sns"
   ]
  },
  {
   "cell_type": "code",
   "execution_count": 2,
   "metadata": {
    "tags": [
     "parameters"
    ]
   },
   "outputs": [],
   "source": [
    "output_dir = \"../..\""
   ]
  },
  {
   "cell_type": "code",
   "execution_count": 3,
   "metadata": {},
   "outputs": [],
   "source": [
    "all_scores = list(Path(\"../../outputs/encoders\").glob(\"*/*/scores.csv\"))\n",
    "all_scores_keys = [\n",
    "    (x.parent.name, x.parents[1].name)\n",
    "    for x in all_scores\n",
    "]"
   ]
  },
  {
   "cell_type": "code",
   "execution_count": 4,
   "metadata": {},
   "outputs": [
    {
     "data": {
      "text/plain": [
       "[('EC183', 'next_phoneme'),\n",
       " ('EC152', 'next_phoneme'),\n",
       " ('EC195', 'next_phoneme'),\n",
       " ('EC196', 'next_phoneme'),\n",
       " ('EC212', 'next_phoneme'),\n",
       " ('EC212', 'baseline'),\n",
       " ('EC196', 'baseline'),\n",
       " ('EC195', 'baseline'),\n",
       " ('EC152', 'baseline'),\n",
       " ('EC183', 'baseline'),\n",
       " ('EC152', 'phoneme8'),\n",
       " ('EC183', 'phoneme8'),\n",
       " ('EC195', 'phoneme8'),\n",
       " ('EC212', 'phoneme8'),\n",
       " ('EC196', 'phoneme8'),\n",
       " ('EC152', 'random8'),\n",
       " ('EC183', 'random8'),\n",
       " ('EC212', 'random8'),\n",
       " ('EC196', 'random8'),\n",
       " ('EC195', 'random8'),\n",
       " ('EC212', 'phoneme'),\n",
       " ('EC196', 'phoneme'),\n",
       " ('EC195', 'phoneme'),\n",
       " ('EC152', 'phoneme'),\n",
       " ('EC183', 'phoneme'),\n",
       " ('EC183', 'syllable'),\n",
       " ('EC152', 'syllable'),\n",
       " ('EC195', 'syllable'),\n",
       " ('EC196', 'syllable'),\n",
       " ('EC212', 'syllable')]"
      ]
     },
     "execution_count": 4,
     "metadata": {},
     "output_type": "execute_result"
    }
   ],
   "source": [
    "all_scores_keys"
   ]
  },
  {
   "cell_type": "code",
   "execution_count": 5,
   "metadata": {},
   "outputs": [
    {
     "data": {
      "text/html": [
       "<div>\n",
       "<style scoped>\n",
       "    .dataframe tbody tr th:only-of-type {\n",
       "        vertical-align: middle;\n",
       "    }\n",
       "\n",
       "    .dataframe tbody tr th {\n",
       "        vertical-align: top;\n",
       "    }\n",
       "\n",
       "    .dataframe thead th {\n",
       "        text-align: right;\n",
       "    }\n",
       "</style>\n",
       "<table border=\"1\" class=\"dataframe\">\n",
       "  <thead>\n",
       "    <tr style=\"text-align: right;\">\n",
       "      <th></th>\n",
       "      <th></th>\n",
       "      <th>fold</th>\n",
       "      <th>output_dim</th>\n",
       "      <th>score</th>\n",
       "      <th>output_name</th>\n",
       "    </tr>\n",
       "    <tr>\n",
       "      <th>subject</th>\n",
       "      <th>model</th>\n",
       "      <th></th>\n",
       "      <th></th>\n",
       "      <th></th>\n",
       "      <th></th>\n",
       "    </tr>\n",
       "  </thead>\n",
       "  <tbody>\n",
       "    <tr>\n",
       "      <th rowspan=\"5\" valign=\"top\">EC183</th>\n",
       "      <th>next_phoneme</th>\n",
       "      <td>0</td>\n",
       "      <td>0</td>\n",
       "      <td>-0.006970</td>\n",
       "      <td>G1</td>\n",
       "    </tr>\n",
       "    <tr>\n",
       "      <th>next_phoneme</th>\n",
       "      <td>1</td>\n",
       "      <td>0</td>\n",
       "      <td>-0.004104</td>\n",
       "      <td>G1</td>\n",
       "    </tr>\n",
       "    <tr>\n",
       "      <th>next_phoneme</th>\n",
       "      <td>2</td>\n",
       "      <td>0</td>\n",
       "      <td>-0.001908</td>\n",
       "      <td>G1</td>\n",
       "    </tr>\n",
       "    <tr>\n",
       "      <th>next_phoneme</th>\n",
       "      <td>0</td>\n",
       "      <td>1</td>\n",
       "      <td>-0.001237</td>\n",
       "      <td>G2</td>\n",
       "    </tr>\n",
       "    <tr>\n",
       "      <th>next_phoneme</th>\n",
       "      <td>1</td>\n",
       "      <td>1</td>\n",
       "      <td>-0.002333</td>\n",
       "      <td>G2</td>\n",
       "    </tr>\n",
       "    <tr>\n",
       "      <th>...</th>\n",
       "      <th>...</th>\n",
       "      <td>...</td>\n",
       "      <td>...</td>\n",
       "      <td>...</td>\n",
       "      <td>...</td>\n",
       "    </tr>\n",
       "    <tr>\n",
       "      <th rowspan=\"5\" valign=\"top\">EC212</th>\n",
       "      <th>syllable</th>\n",
       "      <td>1</td>\n",
       "      <td>382</td>\n",
       "      <td>-0.000513</td>\n",
       "      <td>PG127</td>\n",
       "    </tr>\n",
       "    <tr>\n",
       "      <th>syllable</th>\n",
       "      <td>2</td>\n",
       "      <td>382</td>\n",
       "      <td>-0.000302</td>\n",
       "      <td>PG127</td>\n",
       "    </tr>\n",
       "    <tr>\n",
       "      <th>syllable</th>\n",
       "      <td>0</td>\n",
       "      <td>383</td>\n",
       "      <td>-0.000846</td>\n",
       "      <td>PG128</td>\n",
       "    </tr>\n",
       "    <tr>\n",
       "      <th>syllable</th>\n",
       "      <td>1</td>\n",
       "      <td>383</td>\n",
       "      <td>-0.002415</td>\n",
       "      <td>PG128</td>\n",
       "    </tr>\n",
       "    <tr>\n",
       "      <th>syllable</th>\n",
       "      <td>2</td>\n",
       "      <td>383</td>\n",
       "      <td>-0.000143</td>\n",
       "      <td>PG128</td>\n",
       "    </tr>\n",
       "  </tbody>\n",
       "</table>\n",
       "<p>25344 rows × 4 columns</p>\n",
       "</div>"
      ],
      "text/plain": [
       "                      fold  output_dim     score output_name\n",
       "subject model                                               \n",
       "EC183   next_phoneme     0           0 -0.006970          G1\n",
       "        next_phoneme     1           0 -0.004104          G1\n",
       "        next_phoneme     2           0 -0.001908          G1\n",
       "        next_phoneme     0           1 -0.001237          G2\n",
       "        next_phoneme     1           1 -0.002333          G2\n",
       "...                    ...         ...       ...         ...\n",
       "EC212   syllable         1         382 -0.000513       PG127\n",
       "        syllable         2         382 -0.000302       PG127\n",
       "        syllable         0         383 -0.000846       PG128\n",
       "        syllable         1         383 -0.002415       PG128\n",
       "        syllable         2         383 -0.000143       PG128\n",
       "\n",
       "[25344 rows x 4 columns]"
      ]
     },
     "execution_count": 5,
     "metadata": {},
     "output_type": "execute_result"
    }
   ],
   "source": [
    "all_scores_df = pd.concat([\n",
    "    pd.read_csv(x) for x in all_scores\n",
    "], keys=all_scores_keys, names=[\"subject\", \"model\"]).reset_index(level=2, drop=True)\n",
    "all_scores_df"
   ]
  },
  {
   "cell_type": "code",
   "execution_count": 11,
   "metadata": {},
   "outputs": [
    {
     "data": {
      "text/plain": [
       "subject  model       \n",
       "EC183    syllable        0.351381\n",
       "         random8         0.351376\n",
       "         phoneme         0.351375\n",
       "         baseline        0.351374\n",
       "         phoneme8        0.351373\n",
       "         next_phoneme    0.351372\n",
       "EC152    syllable        0.224858\n",
       "         baseline        0.224855\n",
       "         phoneme         0.224854\n",
       "         phoneme8        0.224849\n",
       "         next_phoneme    0.224849\n",
       "         random8         0.224819\n",
       "EC212    syllable        0.210618\n",
       "         random8         0.210370\n",
       "         phoneme8        0.210347\n",
       "         next_phoneme    0.210341\n",
       "         phoneme         0.210338\n",
       "         baseline        0.210337\n",
       "EC196    syllable        0.146965\n",
       "         baseline        0.146955\n",
       "         next_phoneme    0.146953\n",
       "         phoneme         0.146952\n",
       "         random8         0.146950\n",
       "         phoneme8        0.146947\n",
       "EC195    random8         0.137661\n",
       "         phoneme8        0.137656\n",
       "         next_phoneme    0.137654\n",
       "         syllable        0.137653\n",
       "         phoneme         0.137650\n",
       "         baseline        0.137649\n",
       "Name: score, dtype: float64"
      ]
     },
     "execution_count": 11,
     "metadata": {},
     "output_type": "execute_result"
    }
   ],
   "source": [
    "all_scores_df.groupby([\"subject\", \"model\", \"output_name\"]).score.mean().groupby([\"subject\", \"model\"]).max().sort_values(ascending=False)"
   ]
  },
  {
   "cell_type": "code",
   "execution_count": 6,
   "metadata": {},
   "outputs": [
    {
     "data": {
      "text/plain": [
       "<Axes: xlabel='model', ylabel='subject'>"
      ]
     },
     "execution_count": 6,
     "metadata": {},
     "output_type": "execute_result"
    },
    {
     "data": {
      "image/png": "[encoded data removed]",
      "text/plain": [
       "<Figure size 400x400 with 2 Axes>"
      ]
     },
     "metadata": {},
     "output_type": "display_data"
    }
   ],
   "source": [
    "covered_models = list(all_scores_df.index.get_level_values(\"model\").unique())\n",
    "covered_subjects = list(all_scores_df.index.get_level_values(\"subject\").unique())\n",
    "coverage_df = pd.DataFrame(np.zeros((len(covered_subjects), len(covered_models))),\n",
    "                           columns=pd.Index(covered_models, name=\"model\"),\n",
    "                            index=pd.Index(covered_subjects, name=\"subject\"))\n",
    "for subject, model in all_scores_keys:\n",
    "    coverage_df.loc[subject, model] = 1\n",
    "f, ax = plt.subplots(figsize=(4, 4))\n",
    "sns.heatmap(coverage_df)"
   ]
  },
  {
   "cell_type": "code",
   "execution_count": 7,
   "metadata": {},
   "outputs": [
    {
     "data": {
      "text/html": [
       "<div>\n",
       "<style scoped>\n",
       "    .dataframe tbody tr th:only-of-type {\n",
       "        vertical-align: middle;\n",
       "    }\n",
       "\n",
       "    .dataframe tbody tr th {\n",
       "        vertical-align: top;\n",
       "    }\n",
       "\n",
       "    .dataframe thead th {\n",
       "        text-align: right;\n",
       "    }\n",
       "</style>\n",
       "<table border=\"1\" class=\"dataframe\">\n",
       "  <thead>\n",
       "    <tr style=\"text-align: right;\">\n",
       "      <th></th>\n",
       "      <th></th>\n",
       "      <th>long_name</th>\n",
       "      <th>type</th>\n",
       "      <th>roi</th>\n",
       "    </tr>\n",
       "    <tr>\n",
       "      <th>subject</th>\n",
       "      <th>label</th>\n",
       "      <th></th>\n",
       "      <th></th>\n",
       "      <th></th>\n",
       "    </tr>\n",
       "  </thead>\n",
       "  <tbody>\n",
       "    <tr>\n",
       "      <th rowspan=\"5\" valign=\"top\">EC183</th>\n",
       "      <th>G1</th>\n",
       "      <td>Grid1</td>\n",
       "      <td>grid</td>\n",
       "      <td>middletemporal</td>\n",
       "    </tr>\n",
       "    <tr>\n",
       "      <th>G2</th>\n",
       "      <td>Grid2</td>\n",
       "      <td>grid</td>\n",
       "      <td>middletemporal</td>\n",
       "    </tr>\n",
       "    <tr>\n",
       "      <th>G3</th>\n",
       "      <td>Grid3</td>\n",
       "      <td>grid</td>\n",
       "      <td>middletemporal</td>\n",
       "    </tr>\n",
       "    <tr>\n",
       "      <th>G4</th>\n",
       "      <td>Grid4</td>\n",
       "      <td>grid</td>\n",
       "      <td>middletemporal</td>\n",
       "    </tr>\n",
       "    <tr>\n",
       "      <th>G5</th>\n",
       "      <td>Grid5</td>\n",
       "      <td>grid</td>\n",
       "      <td>middletemporal</td>\n",
       "    </tr>\n",
       "    <tr>\n",
       "      <th>...</th>\n",
       "      <th>...</th>\n",
       "      <td>...</td>\n",
       "      <td>...</td>\n",
       "      <td>...</td>\n",
       "    </tr>\n",
       "    <tr>\n",
       "      <th rowspan=\"5\" valign=\"top\">EC212</th>\n",
       "      <th>HD8</th>\n",
       "      <td>HippocampalDepth8</td>\n",
       "      <td>depth</td>\n",
       "      <td>Left-Cerebral-White-Matter</td>\n",
       "    </tr>\n",
       "    <tr>\n",
       "      <th>HD9</th>\n",
       "      <td>HippocampalDepth9</td>\n",
       "      <td>depth</td>\n",
       "      <td>ctx_lh_S_temporal_inf</td>\n",
       "    </tr>\n",
       "    <tr>\n",
       "      <th>HD10</th>\n",
       "      <td>HippocampalDepth10</td>\n",
       "      <td>depth</td>\n",
       "      <td>ctx_lh_G_temporal_inf</td>\n",
       "    </tr>\n",
       "    <tr>\n",
       "      <th>EKG</th>\n",
       "      <td>EKG</td>\n",
       "      <td>EKG</td>\n",
       "      <td>[]</td>\n",
       "    </tr>\n",
       "    <tr>\n",
       "      <th>REF</th>\n",
       "      <td>Reference</td>\n",
       "      <td>strip</td>\n",
       "      <td>[]</td>\n",
       "    </tr>\n",
       "  </tbody>\n",
       "</table>\n",
       "<p>1668 rows × 3 columns</p>\n",
       "</div>"
      ],
      "text/plain": [
       "                        long_name   type                         roi\n",
       "subject label                                                       \n",
       "EC183   G1                  Grid1   grid              middletemporal\n",
       "        G2                  Grid2   grid              middletemporal\n",
       "        G3                  Grid3   grid              middletemporal\n",
       "        G4                  Grid4   grid              middletemporal\n",
       "        G5                  Grid5   grid              middletemporal\n",
       "...                           ...    ...                         ...\n",
       "EC212   HD8     HippocampalDepth8  depth  Left-Cerebral-White-Matter\n",
       "        HD9     HippocampalDepth9  depth       ctx_lh_S_temporal_inf\n",
       "        HD10   HippocampalDepth10  depth       ctx_lh_G_temporal_inf\n",
       "        EKG                   EKG    EKG                          []\n",
       "        REF             Reference  strip                          []\n",
       "\n",
       "[1668 rows x 3 columns]"
      ]
     },
     "execution_count": 7,
     "metadata": {},
     "output_type": "execute_result"
    }
   ],
   "source": [
    "all_electrodes = list(Path(\"../../outputs/encoders\").glob(\"*/*/electrodes.csv\"))\n",
    "all_electrodes_df = pd.concat(\n",
    "    [pd.read_csv(x) for x in all_electrodes],\n",
    "    keys=[x.parent.name for x in all_electrodes],\n",
    "    names=[\"subject\"]\n",
    ").set_index(\"label\", append=True).reset_index(level=1, drop=True)\n",
    "all_electrodes_df = all_electrodes_df[~all_electrodes_df.index.duplicated()]\n",
    "all_electrodes_df"
   ]
  },
  {
   "cell_type": "code",
   "execution_count": 8,
   "metadata": {},
   "outputs": [],
   "source": [
    "all_scores_df.to_csv(Path(output_dir) / \"all_encoding_scores.csv\")\n",
    "all_electrodes_df.to_csv(Path(output_dir) / \"all_electrodes.csv\")"
   ]
  }
 ],
 "metadata": {
  "kernelspec": {
   "display_name": "Python 3",
   "language": "python",
   "name": "python3"
  },
  "language_info": {
   "codemirror_mode": {
    "name": "ipython",
    "version": 3
   },
   "file_extension": ".py",
   "mimetype": "text/x-python",
   "name": "python",
   "nbconvert_exporter": "python",
   "pygments_lexer": "ipython3",
   "version": "3.10.13"
  }
 },
 "nbformat": 4,
 "nbformat_minor": 2
}
