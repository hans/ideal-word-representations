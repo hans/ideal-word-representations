{
 "cells": [
  {
   "cell_type": "code",
   "execution_count": 1,
   "metadata": {},
   "outputs": [],
   "source": [
    "%load_ext autoreload\n",
    "%autoreload 2"
   ]
  },
  {
   "cell_type": "code",
   "execution_count": 3,
   "metadata": {},
   "outputs": [],
   "source": [
    "import ast\n",
    "from pathlib import Path\n",
    "\n",
    "import matplotlib.pyplot as plt\n",
    "import pandas as pd\n",
    "import numpy as np\n",
    "import seaborn as sns"
   ]
  },
  {
   "cell_type": "code",
   "execution_count": 21,
   "metadata": {
    "tags": [
     "parameters"
    ]
   },
   "outputs": [],
   "source": [
    "pval_threshold = 1e-3\n",
    "output_dir = \".\"\n",
    "\n",
    "encoder_comparisons = list(Path(\"outputs/encoder_comparison\").glob(\"*/*/*/*\"))"
   ]
  },
  {
   "cell_type": "code",
   "execution_count": 22,
   "metadata": {},
   "outputs": [],
   "source": [
    "output_dir = Path(output_dir)"
   ]
  },
  {
   "cell_type": "code",
   "execution_count": 23,
   "metadata": {},
   "outputs": [],
   "source": [
    "encoder_comparison_names = [\"dataset\", \"subject\", \"model2\", \"model1\"]\n",
    "encoder_comparisons = [Path(p) for p in encoder_comparisons]\n",
    "encoder_comparison_keys = [(path.parts[-4], path.parts[-3], path.parts[-2], path.parts[-1]) for path in encoder_comparisons]"
   ]
  },
  {
   "cell_type": "code",
   "execution_count": null,
   "metadata": {},
   "outputs": [],
   "source": [
    "for p in encoder_comparisons:\n",
    "    df = pd.read_csv(p / \"ttest_results.csv\")\n",
    "    if len(df.columns) != 4:\n",
    "        print(p, df.columns)"
   ]
  },
  {
   "cell_type": "code",
   "execution_count": null,
   "metadata": {},
   "outputs": [],
   "source": [
    "all_ttest_results = [pd.read_csv(path / \"ttest_results.csv\")\n",
    "                     for path in encoder_comparisons]\n",
    "keep_result = [len(df) > 0 for df in all_ttest_results]\n",
    "all_ttest_results = [df for df, keep in zip(all_ttest_results, keep_result) if keep]\n",
    "all_ttest_keys = [key for key, keep in zip(encoder_comparison_keys, keep_result) if keep]\n",
    "\n",
    "all_ttest_results = pd.concat(\n",
    "    all_ttest_results,\n",
    "    names=encoder_comparison_names,\n",
    "    keys=all_ttest_keys)\n",
    "all_ttest_results[\"output_dim\"] = all_ttest_results.output_dim.astype(int)\n",
    "all_ttest_results.to_csv(output_dir / \"ttest.csv\")\n",
    "all_ttest_results"
   ]
  },
  {
   "cell_type": "code",
   "execution_count": null,
   "metadata": {},
   "outputs": [],
   "source": [
    "all_scores_df = pd.concat([\n",
    "        # whoops, output_name is a tuple -- let's read it as such\n",
    "        pd.read_csv(path / \"scores.csv\", converters={\"output_name\": ast.literal_eval}) for path in encoder_comparisons\n",
    "    ], keys=encoder_comparison_keys, names=encoder_comparison_names) \\\n",
    "    .reset_index(level=-1, drop=True)\n",
    "all_scores_df[\"electrode_name\"] = all_scores_df.output_name.str[1]\n",
    "all_scores_df = all_scores_df.set_index(\"electrode_name\", append=True)\n",
    "all_scores_df.to_csv(output_dir / \"scores.csv\")\n",
    "all_scores_df"
   ]
  },
  {
   "cell_type": "code",
   "execution_count": null,
   "metadata": {},
   "outputs": [],
   "source": [
    "all_electrodes_keys = [(dataset, subject, model2) for dataset, subject, model2, model1 in encoder_comparison_keys]\n",
    "all_electrodes_paths = [Path(\"outputs/encoders\") / dataset / model2 / subject / \"electrodes.csv\"\n",
    "                        for dataset, subject, model2 in all_electrodes_keys]\n",
    "all_electrodes_df = pd.concat([\n",
    "        pd.read_csv(path) for path in all_electrodes_paths\n",
    "    ], keys=all_electrodes_keys, names=[\"dataset\", \"subject\", \"model\"]) \\\n",
    "    .droplevel(-1)\n",
    "all_electrodes_df.to_csv(output_dir / \"electrodes.csv\")\n",
    "all_electrodes_df"
   ]
  },
  {
   "cell_type": "code",
   "execution_count": null,
   "metadata": {},
   "outputs": [],
   "source": [
    "covered_models = sorted(all_ttest_results.index.get_level_values(\"model2\").unique())\n",
    "covered_subjects = sorted(all_ttest_results.index.get_level_values(\"subject\").unique())\n",
    "coverage_df = pd.DataFrame(np.zeros((len(covered_subjects), len(covered_models)), dtype=int),\n",
    "                           columns=pd.Index(covered_models, name=\"model\"),\n",
    "                            index=pd.Index(covered_subjects, name=\"subject\"))\n",
    "for dataset, subject, model2, model1 in encoder_comparison_keys:\n",
    "    try:\n",
    "        coverage_df.loc[subject, model2] += 1\n",
    "    except KeyError:\n",
    "        print(f\"Missing all data for {subject}?\")\n",
    "        pass\n",
    "f, ax = plt.subplots(figsize=(8, 4))\n",
    "sns.heatmap(coverage_df, fmt=\",d\")"
   ]
  },
  {
   "cell_type": "code",
   "execution_count": null,
   "metadata": {},
   "outputs": [],
   "source": [
    "# # Merge in electrode information\n",
    "# all_scores_df = pd.merge(\n",
    "#     all_scores_df,\n",
    "#     all_electrodes_df.rename(columns=lambda col: f\"electrode_{col}\" if not col.startswith(\"electrode\") else col),\n",
    "#     left_index=True, right_index=True,\n",
    "#     how=\"left\", validate=\"many_to_one\")"
   ]
  },
  {
   "cell_type": "code",
   "execution_count": null,
   "metadata": {},
   "outputs": [],
   "source": [
    "# all_scores_df.to_csv(Path(output_dir) / \"all_encoding_scores.csv\")\n",
    "# all_electrodes_df.to_csv(Path(output_dir) / \"all_electrodes.csv\")"
   ]
  },
  {
   "cell_type": "markdown",
   "metadata": {},
   "source": [
    "## Electrode selection"
   ]
  },
  {
   "cell_type": "code",
   "execution_count": null,
   "metadata": {},
   "outputs": [],
   "source": [
    "# For each dataset-subject-model1-model2-electrode, take the permutation which yields the LARGEST pvalue\n",
    "# This is a more stringent test of improvement\n",
    "ttest_results_filtered = all_ttest_results.groupby([\"dataset\", \"subject\", \"model2\", \"model1\", \"output_dim\"]).apply(lambda df: df.loc[df.pval.idxmax()])\n",
    "ttest_results_filtered = ttest_results_filtered[(ttest_results_filtered.tval > 0) & (ttest_results_filtered.pval < pval_threshold)] \\\n",
    "    .sort_values(\"pval\")\n",
    "ttest_results_filtered.to_csv(Path(output_dir) / \"ttest_filtered.csv\")\n",
    "ttest_results_filtered"
   ]
  },
  {
   "cell_type": "markdown",
   "metadata": {},
   "source": [
    "## Summary quantitative analysis"
   ]
  },
  {
   "cell_type": "code",
   "execution_count": null,
   "metadata": {},
   "outputs": [],
   "source": [
    "all_scores_df"
   ]
  },
  {
   "cell_type": "code",
   "execution_count": null,
   "metadata": {},
   "outputs": [],
   "source": [
    "# # plot baseline performance\n",
    "# baseline_scores = all_scores_df.xs(\"baseline\", level=\"model\")\n",
    "# plot_df = baseline_scores.groupby([\"subject\", \"electrode_roi\", \"electrode_name\"]).score.mean().reset_index()\n",
    "\n",
    "# f, ax = plt.subplots(figsize=(15, 8))\n",
    "# sns.barplot(data=plot_df, x=\"subject\", y=\"score\", ax=ax)\n",
    "# ax.set_title(\"Mean baseline r^2 by subject, across all electrodes\")"
   ]
  },
  {
   "cell_type": "code",
   "execution_count": null,
   "metadata": {},
   "outputs": [],
   "source": [
    "# # plot baseline performance\n",
    "# baseline_scores = all_scores_df.xs(\"baseline\", level=\"model\")\n",
    "# plot_df = baseline_scores.groupby([\"subject\", \"fold\"]).score.max().reset_index()\n",
    "\n",
    "# f, ax = plt.subplots(figsize=(15, 8))\n",
    "# sns.barplot(data=plot_df, x=\"subject\", y=\"score\", ax=ax)\n",
    "# ax.set_title(\"Max baseline r^2 by subject, across all electrodes\")"
   ]
  },
  {
   "cell_type": "code",
   "execution_count": null,
   "metadata": {},
   "outputs": [],
   "source": [
    "# def compute_improvement_within_fold(fold_df):\n",
    "#     print(fold_df.score)\n",
    "#     ret = fold_df.score - fold_df.xs(\"baseline\", level=\"model\").score\n",
    "#     print(ret)\n",
    "#     return ret\n",
    "\n",
    "# # all_scores_df.groupby([\"subject\", \"output_name\"]).apply(compute_improvement_within_fold)\n",
    "# improvement_df = all_scores_df.set_index([\"fold\", \"output_name\"], append=True)\n",
    "# improvement_df = pd.merge(improvement_df, (improvement_df.score - improvement_df.xs(\"baseline\", level=\"model\").score).rename(\"improvement\"),\n",
    "#                           left_index=True, right_index=True)\n",
    "# improvement_df = improvement_df.loc[improvement_df.index.get_level_values(\"model\") != \"baseline\"]\n",
    "# improvement_df"
   ]
  },
  {
   "cell_type": "code",
   "execution_count": null,
   "metadata": {},
   "outputs": [],
   "source": [
    "# improvement_df.groupby([\"subject\", \"output_name\", \"model\"]).improvement.mean().sort_values(ascending=False)"
   ]
  },
  {
   "cell_type": "code",
   "execution_count": null,
   "metadata": {},
   "outputs": [],
   "source": [
    "# f, ax = plt.subplots(figsize=(15, 8))\n",
    "# plot_df = improvement_df.groupby([\"subject\", \"model\", \"output_name\"]).improvement.mean().reset_index()\n",
    "# sns.boxplot(data=plot_df, order=plot_df.groupby(\"model\").improvement.mean().sort_values(ascending=False).index,\n",
    "#             x=\"model\", y=\"improvement\", hue=\"subject\", ax=ax)"
   ]
  },
  {
   "cell_type": "code",
   "execution_count": null,
   "metadata": {},
   "outputs": [],
   "source": [
    "# f, ax = plt.subplots(figsize=(15, 8))\n",
    "# plot_df = improvement_df.groupby([\"subject\", \"model\", \"output_name\"]).improvement.mean().reset_index()\n",
    "# sns.barplot(data=plot_df, order=plot_df.groupby(\"subject\").improvement.mean().sort_values(ascending=False).index,\n",
    "#             x=\"subject\", y=\"improvement\", hue=\"model\", ax=ax)\n",
    "# ax.set_title(\"Mean improvement across electrodes within subject and model\")"
   ]
  },
  {
   "cell_type": "code",
   "execution_count": null,
   "metadata": {},
   "outputs": [],
   "source": [
    "# f, ax = plt.subplots(figsize=(15, 8))\n",
    "# plot_df = improvement_df.groupby([\"subject\", \"model\", \"fold\"]).improvement.max().reset_index()\n",
    "# sns.barplot(data=plot_df, order=plot_df.groupby(\"subject\").improvement.mean().sort_values(ascending=False).index,\n",
    "#             x=\"subject\", y=\"improvement\", hue=\"model\", ax=ax)\n",
    "# ax.set_title(\"Max improvement across electrodes within subject and model\")"
   ]
  },
  {
   "cell_type": "code",
   "execution_count": null,
   "metadata": {},
   "outputs": [],
   "source": [
    "plot_df = all_electrodes_df.roi.value_counts()\n",
    "plot_df = plot_df[plot_df / plot_df.sum() >= 0.01]\n",
    "ax = sns.barplot(data=plot_df)\n",
    "ax.set_title(\"Number of electrodes per ROI\")\n",
    "ax.set_xticklabels(ax.get_xticklabels(), rotation=45, horizontalalignment='right')\n",
    "None"
   ]
  },
  {
   "cell_type": "code",
   "execution_count": null,
   "metadata": {},
   "outputs": [],
   "source": [
    "# f, ax = plt.subplots(figsize=(15, 8))\n",
    "# sns.barplot(data=improvement_df.reset_index(),\n",
    "#             x=\"model\", y=\"improvement\", hue=\"electrode_roi\", ax=ax)\n",
    "# ax.set_title(\"Mean improvement across subject, electrode within ROI and model\")"
   ]
  },
  {
   "cell_type": "code",
   "execution_count": null,
   "metadata": {},
   "outputs": [],
   "source": [
    "# f, ax = plt.subplots(figsize=(15, 8))\n",
    "# sns.barplot(data=improvement_df.reset_index(),\n",
    "#             order=improvement_df.reset_index().groupby(\"electrode_roi\").improvement.mean().sort_values(ascending=False).index,\n",
    "#             x=\"electrode_roi\", y=\"improvement\", hue=\"model\",\n",
    "#             ax=ax)\n",
    "# ax.set_xticklabels(ax.get_xticklabels(), rotation=45, horizontalalignment='right')\n",
    "# ax.set_title(\"Mean improvement across subject, electrode within ROI and model\")"
   ]
  },
  {
   "cell_type": "code",
   "execution_count": null,
   "metadata": {},
   "outputs": [],
   "source": [
    "# f, ax = plt.subplots(figsize=(15, 8))\n",
    "# plot_df = improvement_df.groupby([\"subject\", \"electrode_roi\", \"model\", \"fold\"]).improvement.max().reset_index()\n",
    "# sns.barplot(data=plot_df,\n",
    "#             order=plot_df.groupby(\"electrode_roi\").improvement.mean().sort_values(ascending=False).index,\n",
    "#             x=\"electrode_roi\", y=\"improvement\", hue=\"model\",\n",
    "#             ax=ax)\n",
    "# ax.set_xticklabels(ax.get_xticklabels(), rotation=45, horizontalalignment='right')\n",
    "# ax.set_title(\"Max improvement across subject, electrode within ROI and model\")"
   ]
  }
 ],
 "metadata": {
  "kernelspec": {
   "display_name": "Python 3",
   "language": "python",
   "name": "python3"
  },
  "language_info": {
   "codemirror_mode": {
    "name": "ipython",
    "version": 3
   },
   "file_extension": ".py",
   "mimetype": "text/x-python",
   "name": "python",
   "nbconvert_exporter": "python",
   "pygments_lexer": "ipython3",
   "version": "3.10.13"
  }
 },
 "nbformat": 4,
 "nbformat_minor": 2
}
