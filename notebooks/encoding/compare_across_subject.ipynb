{
 "cells": [
  {
   "cell_type": "code",
   "execution_count": 1,
   "metadata": {},
   "outputs": [],
   "source": [
    "from pathlib import Path\n",
    "\n",
    "import pandas as pd\n",
    "import numpy as np\n",
    "import seaborn as sns"
   ]
  },
  {
   "cell_type": "code",
   "execution_count": 92,
   "metadata": {
    "tags": [
     "parameters"
    ]
   },
   "outputs": [],
   "source": [
    "output_dir = \"../..\""
   ]
  },
  {
   "cell_type": "code",
   "execution_count": 32,
   "metadata": {},
   "outputs": [],
   "source": [
    "all_scores = list(Path(\"../../outputs/encoders\").glob(\"*/*/scores.csv\"))\n",
    "all_scores_keys = [\n",
    "    (x.parent.name, x.parents[1].name)\n",
    "    for x in all_scores\n",
    "]"
   ]
  },
  {
   "cell_type": "code",
   "execution_count": 79,
   "metadata": {},
   "outputs": [
    {
     "data": {
      "text/plain": [
       "[('EC195', 'syllable'),\n",
       " ('EC196', 'syllable'),\n",
       " ('EC152', 'syllable'),\n",
       " ('EC152', 'random8'),\n",
       " ('EC196', 'random8'),\n",
       " ('EC195', 'random8'),\n",
       " ('EC196', 'next_phoneme'),\n",
       " ('EC195', 'next_phoneme'),\n",
       " ('EC152', 'next_phoneme'),\n",
       " ('EC152', 'phoneme8'),\n",
       " ('EC196', 'phoneme8'),\n",
       " ('EC195', 'phoneme8'),\n",
       " ('EC196', 'phoneme'),\n",
       " ('EC195', 'phoneme'),\n",
       " ('EC152', 'phoneme'),\n",
       " ('EC152', 'baseline'),\n",
       " ('EC196', 'baseline'),\n",
       " ('EC195', 'baseline')]"
      ]
     },
     "execution_count": 79,
     "metadata": {},
     "output_type": "execute_result"
    }
   ],
   "source": [
    "all_scores_keys"
   ]
  },
  {
   "cell_type": "code",
   "execution_count": 94,
   "metadata": {},
   "outputs": [
    {
     "data": {
      "text/html": [
       "<div>\n",
       "<style scoped>\n",
       "    .dataframe tbody tr th:only-of-type {\n",
       "        vertical-align: middle;\n",
       "    }\n",
       "\n",
       "    .dataframe tbody tr th {\n",
       "        vertical-align: top;\n",
       "    }\n",
       "\n",
       "    .dataframe thead th {\n",
       "        text-align: right;\n",
       "    }\n",
       "</style>\n",
       "<table border=\"1\" class=\"dataframe\">\n",
       "  <thead>\n",
       "    <tr style=\"text-align: right;\">\n",
       "      <th></th>\n",
       "      <th></th>\n",
       "      <th>fold</th>\n",
       "      <th>output_dim</th>\n",
       "      <th>score</th>\n",
       "      <th>output_name</th>\n",
       "    </tr>\n",
       "    <tr>\n",
       "      <th>subject</th>\n",
       "      <th>model</th>\n",
       "      <th></th>\n",
       "      <th></th>\n",
       "      <th></th>\n",
       "      <th></th>\n",
       "    </tr>\n",
       "  </thead>\n",
       "  <tbody>\n",
       "    <tr>\n",
       "      <th rowspan=\"11\" valign=\"top\">EC195</th>\n",
       "      <th>syllable</th>\n",
       "      <td>0</td>\n",
       "      <td>0</td>\n",
       "      <td>-0.002152</td>\n",
       "      <td>GP1</td>\n",
       "    </tr>\n",
       "    <tr>\n",
       "      <th>syllable</th>\n",
       "      <td>1</td>\n",
       "      <td>0</td>\n",
       "      <td>-0.000462</td>\n",
       "      <td>GP1</td>\n",
       "    </tr>\n",
       "    <tr>\n",
       "      <th>syllable</th>\n",
       "      <td>2</td>\n",
       "      <td>0</td>\n",
       "      <td>-0.000690</td>\n",
       "      <td>GP1</td>\n",
       "    </tr>\n",
       "    <tr>\n",
       "      <th>syllable</th>\n",
       "      <td>0</td>\n",
       "      <td>1</td>\n",
       "      <td>-0.000266</td>\n",
       "      <td>GP2</td>\n",
       "    </tr>\n",
       "    <tr>\n",
       "      <th>syllable</th>\n",
       "      <td>1</td>\n",
       "      <td>1</td>\n",
       "      <td>-0.001244</td>\n",
       "      <td>GP2</td>\n",
       "    </tr>\n",
       "    <tr>\n",
       "      <th>...</th>\n",
       "      <td>...</td>\n",
       "      <td>...</td>\n",
       "      <td>...</td>\n",
       "      <td>...</td>\n",
       "    </tr>\n",
       "    <tr>\n",
       "      <th>baseline</th>\n",
       "      <td>1</td>\n",
       "      <td>254</td>\n",
       "      <td>-0.000045</td>\n",
       "      <td>GA127</td>\n",
       "    </tr>\n",
       "    <tr>\n",
       "      <th>baseline</th>\n",
       "      <td>2</td>\n",
       "      <td>254</td>\n",
       "      <td>0.000737</td>\n",
       "      <td>GA127</td>\n",
       "    </tr>\n",
       "    <tr>\n",
       "      <th>baseline</th>\n",
       "      <td>0</td>\n",
       "      <td>255</td>\n",
       "      <td>-0.002221</td>\n",
       "      <td>GA128</td>\n",
       "    </tr>\n",
       "    <tr>\n",
       "      <th>baseline</th>\n",
       "      <td>1</td>\n",
       "      <td>255</td>\n",
       "      <td>-0.000587</td>\n",
       "      <td>GA128</td>\n",
       "    </tr>\n",
       "    <tr>\n",
       "      <th>baseline</th>\n",
       "      <td>2</td>\n",
       "      <td>255</td>\n",
       "      <td>0.000243</td>\n",
       "      <td>GA128</td>\n",
       "    </tr>\n",
       "  </tbody>\n",
       "</table>\n",
       "<p>13824 rows × 4 columns</p>\n",
       "</div>"
      ],
      "text/plain": [
       "                  fold  output_dim     score output_name\n",
       "subject model                                           \n",
       "EC195   syllable     0           0 -0.002152         GP1\n",
       "        syllable     1           0 -0.000462         GP1\n",
       "        syllable     2           0 -0.000690         GP1\n",
       "        syllable     0           1 -0.000266         GP2\n",
       "        syllable     1           1 -0.001244         GP2\n",
       "...                ...         ...       ...         ...\n",
       "        baseline     1         254 -0.000045       GA127\n",
       "        baseline     2         254  0.000737       GA127\n",
       "        baseline     0         255 -0.002221       GA128\n",
       "        baseline     1         255 -0.000587       GA128\n",
       "        baseline     2         255  0.000243       GA128\n",
       "\n",
       "[13824 rows x 4 columns]"
      ]
     },
     "execution_count": 94,
     "metadata": {},
     "output_type": "execute_result"
    }
   ],
   "source": [
    "all_scores_df = pd.concat([\n",
    "    pd.read_csv(x) for x in all_scores\n",
    "], keys=all_scores_keys, names=[\"subject\", \"model\"]).reset_index(level=2, drop=True)\n",
    "all_scores_df"
   ]
  },
  {
   "cell_type": "code",
   "execution_count": 23,
   "metadata": {},
   "outputs": [
    {
     "data": {
      "text/html": [
       "<div>\n",
       "<style scoped>\n",
       "    .dataframe tbody tr th:only-of-type {\n",
       "        vertical-align: middle;\n",
       "    }\n",
       "\n",
       "    .dataframe tbody tr th {\n",
       "        vertical-align: top;\n",
       "    }\n",
       "\n",
       "    .dataframe thead th {\n",
       "        text-align: right;\n",
       "    }\n",
       "</style>\n",
       "<table border=\"1\" class=\"dataframe\">\n",
       "  <thead>\n",
       "    <tr style=\"text-align: right;\">\n",
       "      <th></th>\n",
       "      <th></th>\n",
       "      <th>long_name</th>\n",
       "      <th>type</th>\n",
       "      <th>roi</th>\n",
       "    </tr>\n",
       "    <tr>\n",
       "      <th>subject</th>\n",
       "      <th>label</th>\n",
       "      <th></th>\n",
       "      <th></th>\n",
       "      <th></th>\n",
       "    </tr>\n",
       "  </thead>\n",
       "  <tbody>\n",
       "    <tr>\n",
       "      <th rowspan=\"5\" valign=\"top\">EC195</th>\n",
       "      <th>GP1</th>\n",
       "      <td>PosteriorGrid1</td>\n",
       "      <td>grid</td>\n",
       "      <td>inferiortemporal</td>\n",
       "    </tr>\n",
       "    <tr>\n",
       "      <th>GP2</th>\n",
       "      <td>PosteriorGrid2</td>\n",
       "      <td>grid</td>\n",
       "      <td>inferiortemporal</td>\n",
       "    </tr>\n",
       "    <tr>\n",
       "      <th>GP3</th>\n",
       "      <td>PosteriorGrid3</td>\n",
       "      <td>grid</td>\n",
       "      <td>inferiortemporal</td>\n",
       "    </tr>\n",
       "    <tr>\n",
       "      <th>GP4</th>\n",
       "      <td>PosteriorGrid4</td>\n",
       "      <td>grid</td>\n",
       "      <td>middletemporal</td>\n",
       "    </tr>\n",
       "    <tr>\n",
       "      <th>GP5</th>\n",
       "      <td>PosteriorGrid5</td>\n",
       "      <td>grid</td>\n",
       "      <td>middletemporal</td>\n",
       "    </tr>\n",
       "    <tr>\n",
       "      <th>...</th>\n",
       "      <th>...</th>\n",
       "      <td>...</td>\n",
       "      <td>...</td>\n",
       "      <td>...</td>\n",
       "    </tr>\n",
       "    <tr>\n",
       "      <th rowspan=\"5\" valign=\"top\">EC152</th>\n",
       "      <th>HD4</th>\n",
       "      <td>HippocampusDepthElectrode4</td>\n",
       "      <td>depth</td>\n",
       "      <td>Right-Cerebral-White-Matter</td>\n",
       "    </tr>\n",
       "    <tr>\n",
       "      <th>HD5</th>\n",
       "      <td>HippocampusDepthElectrode5</td>\n",
       "      <td>depth</td>\n",
       "      <td>Right-Cerebral-White-Matter</td>\n",
       "    </tr>\n",
       "    <tr>\n",
       "      <th>HD6</th>\n",
       "      <td>HippocampusDepthElectrode6</td>\n",
       "      <td>depth</td>\n",
       "      <td>Right-Cerebral-White-Matter</td>\n",
       "    </tr>\n",
       "    <tr>\n",
       "      <th>HD7</th>\n",
       "      <td>HippocampusDepthElectrode7</td>\n",
       "      <td>depth</td>\n",
       "      <td>Right-Cerebral-White-Matter</td>\n",
       "    </tr>\n",
       "    <tr>\n",
       "      <th>HD8</th>\n",
       "      <td>HippocampusDepthElectrode8</td>\n",
       "      <td>depth</td>\n",
       "      <td>Unknown</td>\n",
       "    </tr>\n",
       "  </tbody>\n",
       "</table>\n",
       "<p>902 rows × 3 columns</p>\n",
       "</div>"
      ],
      "text/plain": [
       "                                long_name   type                          roi\n",
       "subject label                                                                \n",
       "EC195   GP1                PosteriorGrid1   grid             inferiortemporal\n",
       "        GP2                PosteriorGrid2   grid             inferiortemporal\n",
       "        GP3                PosteriorGrid3   grid             inferiortemporal\n",
       "        GP4                PosteriorGrid4   grid               middletemporal\n",
       "        GP5                PosteriorGrid5   grid               middletemporal\n",
       "...                                   ...    ...                          ...\n",
       "EC152   HD4    HippocampusDepthElectrode4  depth  Right-Cerebral-White-Matter\n",
       "        HD5    HippocampusDepthElectrode5  depth  Right-Cerebral-White-Matter\n",
       "        HD6    HippocampusDepthElectrode6  depth  Right-Cerebral-White-Matter\n",
       "        HD7    HippocampusDepthElectrode7  depth  Right-Cerebral-White-Matter\n",
       "        HD8    HippocampusDepthElectrode8  depth                      Unknown\n",
       "\n",
       "[902 rows x 3 columns]"
      ]
     },
     "execution_count": 23,
     "metadata": {},
     "output_type": "execute_result"
    }
   ],
   "source": [
    "all_electrodes = list(Path(\"../../outputs/encoders\").glob(\"*/*/electrodes.csv\"))\n",
    "all_electrodes_df = pd.concat(\n",
    "    [pd.read_csv(x) for x in all_electrodes],\n",
    "    keys=[x.parent.name for x in all_electrodes],\n",
    "    names=[\"subject\"]\n",
    ").set_index(\"label\", append=True).reset_index(level=1, drop=True)\n",
    "all_electrodes_df = all_electrodes_df[~all_electrodes_df.index.duplicated()]\n",
    "all_electrodes_df"
   ]
  },
  {
   "cell_type": "code",
   "execution_count": 95,
   "metadata": {},
   "outputs": [],
   "source": [
    "all_scores_df.to_csv(Path(output_dir) / \"all_encoding_scores.csv\")\n",
    "all_electrodes_df.to_csv(Path(output_dir) / \"all_electrodes.csv\")"
   ]
  },
  {
   "cell_type": "markdown",
   "metadata": {},
   "source": [
    "## Comparison across subject"
   ]
  },
  {
   "cell_type": "code",
   "execution_count": 86,
   "metadata": {},
   "outputs": [],
   "source": [
    "reg_data = all_improvements_df.loc[(slice(None), \"syllable\", \"baseline\")].reset_index()\n",
    "reg_data[\"score\"] -= reg_data.score.mean()\n",
    "reg_data[\"score\"] /= reg_data.score.std()\n",
    "reg_data[\"subj_elec\"] = reg_data.subject + \"_\" + reg_data.output_name"
   ]
  },
  {
   "cell_type": "code",
   "execution_count": 87,
   "metadata": {},
   "outputs": [],
   "source": [
    "import statsmodels.formula.api as smf"
   ]
  },
  {
   "cell_type": "code",
   "execution_count": 88,
   "metadata": {},
   "outputs": [],
   "source": [
    "model = smf.mixedlm(\"score ~ model\", data=reg_data, groups=reg_data.subj_elec)"
   ]
  },
  {
   "cell_type": "code",
   "execution_count": 89,
   "metadata": {},
   "outputs": [],
   "source": [
    "model_fit = model.fit()"
   ]
  },
  {
   "cell_type": "code",
   "execution_count": 90,
   "metadata": {},
   "outputs": [
    {
     "data": {
      "text/plain": [
       "Intercept            -0.000072\n",
       "model[T.syllable]     0.000145\n",
       "Group Var            11.957198\n",
       "dtype: float64"
      ]
     },
     "execution_count": 90,
     "metadata": {},
     "output_type": "execute_result"
    }
   ],
   "source": [
    "model_fit.params"
   ]
  },
  {
   "cell_type": "code",
   "execution_count": 91,
   "metadata": {},
   "outputs": [
    {
     "data": {
      "text/html": [
       "<table class=\"simpletable\">\n",
       "<tr>\n",
       "       <td>Model:</td>       <td>MixedLM</td> <td>Dependent Variable:</td>    <td>score</td>  \n",
       "</tr>\n",
       "<tr>\n",
       "  <td>No. Observations:</td>  <td>4608</td>         <td>Method:</td>          <td>REML</td>   \n",
       "</tr>\n",
       "<tr>\n",
       "     <td>No. Groups:</td>      <td>768</td>         <td>Scale:</td>          <td>0.0773</td>  \n",
       "</tr>\n",
       "<tr>\n",
       "  <td>Min. group size:</td>     <td>6</td>      <td>Log-Likelihood:</td>   <td>-2290.2558</td>\n",
       "</tr>\n",
       "<tr>\n",
       "  <td>Max. group size:</td>     <td>6</td>        <td>Converged:</td>          <td>Yes</td>   \n",
       "</tr>\n",
       "<tr>\n",
       "  <td>Mean group size:</td>    <td>6.0</td>            <td></td>                <td></td>     \n",
       "</tr>\n",
       "</table>\n",
       "<table class=\"simpletable\">\n",
       "<tr>\n",
       "          <td></td>           <th>Coef.</th> <th>Std.Err.</th>    <th>z</th>   <th>P>|z|</th> <th>[0.025</th> <th>0.975]</th>\n",
       "</tr>\n",
       "<tr>\n",
       "  <th>Intercept</th>         <td>-0.000</td>   <td>0.035</td>  <td>-0.002</td> <td>0.998</td> <td>-0.069</td>  <td>0.069</td>\n",
       "</tr>\n",
       "<tr>\n",
       "  <th>model[T.syllable]</th>  <td>0.000</td>   <td>0.008</td>   <td>0.018</td> <td>0.986</td> <td>-0.016</td>  <td>0.016</td>\n",
       "</tr>\n",
       "<tr>\n",
       "  <th>Group Var</th>          <td>0.924</td>   <td>0.188</td>     <td></td>      <td></td>       <td></td>       <td></td>   \n",
       "</tr>\n",
       "</table><br/>\n"
      ],
      "text/latex": [
       "\\begin{table}\n",
       "\\caption{Mixed Linear Model Regression Results}\n",
       "\\label{}\n",
       "\\begin{center}\n",
       "\\begin{tabular}{llll}\n",
       "\\hline\n",
       "Model:            & MixedLM & Dependent Variable: & score       \\\\\n",
       "No. Observations: & 4608    & Method:             & REML        \\\\\n",
       "No. Groups:       & 768     & Scale:              & 0.0773      \\\\\n",
       "Min. group size:  & 6       & Log-Likelihood:     & -2290.2558  \\\\\n",
       "Max. group size:  & 6       & Converged:          & Yes         \\\\\n",
       "Mean group size:  & 6.0     &                     &             \\\\\n",
       "\\hline\n",
       "\\end{tabular}\n",
       "\\end{center}\n",
       "\n",
       "\\begin{center}\n",
       "\\begin{tabular}{lrrrrrr}\n",
       "\\hline\n",
       "                  &  Coef. & Std.Err. &      z & P$> |$z$|$ & [0.025 & 0.975]  \\\\\n",
       "\\hline\n",
       "Intercept         & -0.000 &    0.035 & -0.002 &       0.998 & -0.069 &  0.069  \\\\\n",
       "model[T.syllable] &  0.000 &    0.008 &  0.018 &       0.986 & -0.016 &  0.016  \\\\\n",
       "Group Var         &  0.924 &    0.188 &        &             &        &         \\\\\n",
       "\\hline\n",
       "\\end{tabular}\n",
       "\\end{center}\n",
       "\\end{table}\n",
       "\\bigskip\n"
      ],
      "text/plain": [
       "<class 'statsmodels.iolib.summary2.Summary'>\n",
       "\"\"\"\n",
       "           Mixed Linear Model Regression Results\n",
       "============================================================\n",
       "Model:              MixedLM  Dependent Variable:  score     \n",
       "No. Observations:   4608     Method:              REML      \n",
       "No. Groups:         768      Scale:               0.0773    \n",
       "Min. group size:    6        Log-Likelihood:      -2290.2558\n",
       "Max. group size:    6        Converged:           Yes       \n",
       "Mean group size:    6.0                                     \n",
       "------------------------------------------------------------\n",
       "                  Coef.  Std.Err.   z    P>|z| [0.025 0.975]\n",
       "------------------------------------------------------------\n",
       "Intercept         -0.000    0.035 -0.002 0.998 -0.069  0.069\n",
       "model[T.syllable]  0.000    0.008  0.018 0.986 -0.016  0.016\n",
       "Group Var          0.924    0.188                           \n",
       "============================================================\n",
       "\n",
       "\"\"\""
      ]
     },
     "execution_count": 91,
     "metadata": {},
     "output_type": "execute_result"
    }
   ],
   "source": [
    "model_fit.summary()"
   ]
  }
 ],
 "metadata": {
  "kernelspec": {
   "display_name": "Python 3",
   "language": "python",
   "name": "python3"
  },
  "language_info": {
   "codemirror_mode": {
    "name": "ipython",
    "version": 3
   },
   "file_extension": ".py",
   "mimetype": "text/x-python",
   "name": "python",
   "nbconvert_exporter": "python",
   "pygments_lexer": "ipython3",
   "version": "3.10.13"
  }
 },
 "nbformat": 4,
 "nbformat_minor": 2
}
