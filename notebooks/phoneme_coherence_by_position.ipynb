{
 "cells": [
  {
   "cell_type": "code",
   "execution_count": 1,
   "metadata": {},
   "outputs": [],
   "source": [
    "import os\n",
    "os.environ[\"CUDA_VISIBLE_DEVICES\"] = \"\""
   ]
  },
  {
   "cell_type": "code",
   "execution_count": 4,
   "metadata": {},
   "outputs": [],
   "source": [
    "\n",
    "from dataclasses import replace\n",
    "import itertools\n",
    "from pathlib import Path\n",
    "\n",
    "import numpy as np\n",
    "import pandas as pd\n",
    "import seaborn as sns\n",
    "import torch\n",
    "from tqdm.auto import tqdm\n",
    "\n",
    "from src.analysis import coherence\n",
    "from src.analysis.state_space import prepare_state_trajectory, StateSpaceAnalysisSpec\n",
    "from src.datasets.speech_equivalence import SpeechEquivalenceDataset"
   ]
  },
  {
   "cell_type": "code",
   "execution_count": 33,
   "metadata": {
    "editable": true,
    "slideshow": {
     "slide_type": ""
    },
    "tags": [
     "parameters"
    ]
   },
   "outputs": [],
   "source": [
    "model_dir = \"outputs/models/timit/w2v2_6/rnn_8/phoneme\"\n",
    "output_dir = \"outputs/notebooks/timit/w2v2_6/rnn_8/phoneme/plot\"\n",
    "dataset_path = \"outputs/preprocessed_data/timit\"\n",
    "equivalence_path = \"outputs/equivalence_datasets/timit/w2v2_6/phoneme/equivalence.pkl\"\n",
    "hidden_states_path = \"outputs/hidden_states/timit/w2v2_6/hidden_states.pkl\"\n",
    "state_space_specs_path = \"outputs/state_space_specs/timit/w2v2_6/state_space_specs.pkl\"\n",
    "embeddings_path = \"outputs/model_embeddings/timit/w2v2_6/rnn_8/phoneme/embeddings.npy\"\n",
    "\n",
    "output_dir = \".\"\n",
    "\n",
    "metric = \"cosine\""
   ]
  },
  {
   "cell_type": "code",
   "execution_count": 34,
   "metadata": {
    "editable": true,
    "slideshow": {
     "slide_type": ""
    },
    "tags": []
   },
   "outputs": [
    {
     "data": {
      "text/plain": [
       "ContrastiveEmbeddingModel(\n",
       "  (rnn): RNNModel(\n",
       "    (rnn): LSTM(768, 32, batch_first=True)\n",
       "    (fc): Linear(in_features=32, out_features=8, bias=True)\n",
       "  )\n",
       ")"
      ]
     },
     "execution_count": 34,
     "metadata": {},
     "output_type": "execute_result"
    }
   ],
   "source": [
    "with open(embeddings_path, \"rb\") as f:\n",
    "    model_representations: np.ndarray = np.load(f)\n",
    "with open(equivalence_path, \"rb\") as f:\n",
    "    equiv_dataset: SpeechEquivalenceDataset = torch.load(f)\n",
    "with open(state_space_specs_path, \"rb\") as f:\n",
    "    state_space_spec: StateSpaceAnalysisSpec = torch.load(f)[\"phoneme_by_syllable_position_and_identity\"]\n",
    "assert state_space_spec.is_compatible_with(model_representations)"
   ]
  },
  {
   "cell_type": "markdown",
   "metadata": {},
   "source": [
    "## Search for well-attested phonemes"
   ]
  },
  {
   "cell_type": "code",
   "execution_count": 37,
   "metadata": {},
   "outputs": [
    {
     "data": {
      "text/html": [
       "<div>\n",
       "<style scoped>\n",
       "    .dataframe tbody tr th:only-of-type {\n",
       "        vertical-align: middle;\n",
       "    }\n",
       "\n",
       "    .dataframe tbody tr th {\n",
       "        vertical-align: top;\n",
       "    }\n",
       "\n",
       "    .dataframe thead th {\n",
       "        text-align: right;\n",
       "    }\n",
       "</style>\n",
       "<table border=\"1\" class=\"dataframe\">\n",
       "  <thead>\n",
       "    <tr style=\"text-align: right;\">\n",
       "      <th></th>\n",
       "      <th>0</th>\n",
       "      <th>1</th>\n",
       "      <th>2</th>\n",
       "      <th>3</th>\n",
       "      <th>4</th>\n",
       "      <th>5</th>\n",
       "      <th>6</th>\n",
       "    </tr>\n",
       "  </thead>\n",
       "  <tbody>\n",
       "    <tr>\n",
       "      <th>AA</th>\n",
       "      <td>2624</td>\n",
       "      <td>313</td>\n",
       "      <td>115</td>\n",
       "      <td>11</td>\n",
       "      <td>1</td>\n",
       "      <td>0</td>\n",
       "      <td>0</td>\n",
       "    </tr>\n",
       "    <tr>\n",
       "      <th>AE</th>\n",
       "      <td>3592</td>\n",
       "      <td>322</td>\n",
       "      <td>69</td>\n",
       "      <td>16</td>\n",
       "      <td>0</td>\n",
       "      <td>0</td>\n",
       "      <td>0</td>\n",
       "    </tr>\n",
       "    <tr>\n",
       "      <th>AH</th>\n",
       "      <td>4987</td>\n",
       "      <td>1808</td>\n",
       "      <td>853</td>\n",
       "      <td>280</td>\n",
       "      <td>124</td>\n",
       "      <td>27</td>\n",
       "      <td>1</td>\n",
       "    </tr>\n",
       "    <tr>\n",
       "      <th>AO</th>\n",
       "      <td>2580</td>\n",
       "      <td>318</td>\n",
       "      <td>33</td>\n",
       "      <td>7</td>\n",
       "      <td>2</td>\n",
       "      <td>0</td>\n",
       "      <td>0</td>\n",
       "    </tr>\n",
       "    <tr>\n",
       "      <th>AW</th>\n",
       "      <td>561</td>\n",
       "      <td>165</td>\n",
       "      <td>5</td>\n",
       "      <td>0</td>\n",
       "      <td>0</td>\n",
       "      <td>0</td>\n",
       "      <td>0</td>\n",
       "    </tr>\n",
       "    <tr>\n",
       "      <th>AY</th>\n",
       "      <td>1939</td>\n",
       "      <td>307</td>\n",
       "      <td>130</td>\n",
       "      <td>19</td>\n",
       "      <td>1</td>\n",
       "      <td>2</td>\n",
       "      <td>0</td>\n",
       "    </tr>\n",
       "    <tr>\n",
       "      <th>B</th>\n",
       "      <td>1657</td>\n",
       "      <td>500</td>\n",
       "      <td>183</td>\n",
       "      <td>45</td>\n",
       "      <td>26</td>\n",
       "      <td>1</td>\n",
       "      <td>0</td>\n",
       "    </tr>\n",
       "    <tr>\n",
       "      <th>CH</th>\n",
       "      <td>596</td>\n",
       "      <td>190</td>\n",
       "      <td>50</td>\n",
       "      <td>6</td>\n",
       "      <td>0</td>\n",
       "      <td>0</td>\n",
       "      <td>0</td>\n",
       "    </tr>\n",
       "    <tr>\n",
       "      <th>D</th>\n",
       "      <td>3984</td>\n",
       "      <td>1212</td>\n",
       "      <td>448</td>\n",
       "      <td>100</td>\n",
       "      <td>31</td>\n",
       "      <td>3</td>\n",
       "      <td>0</td>\n",
       "    </tr>\n",
       "    <tr>\n",
       "      <th>DH</th>\n",
       "      <td>2652</td>\n",
       "      <td>150</td>\n",
       "      <td>26</td>\n",
       "      <td>1</td>\n",
       "      <td>0</td>\n",
       "      <td>0</td>\n",
       "      <td>0</td>\n",
       "    </tr>\n",
       "    <tr>\n",
       "      <th>EH</th>\n",
       "      <td>2991</td>\n",
       "      <td>683</td>\n",
       "      <td>165</td>\n",
       "      <td>21</td>\n",
       "      <td>1</td>\n",
       "      <td>1</td>\n",
       "      <td>0</td>\n",
       "    </tr>\n",
       "    <tr>\n",
       "      <th>ER</th>\n",
       "      <td>2102</td>\n",
       "      <td>2827</td>\n",
       "      <td>406</td>\n",
       "      <td>105</td>\n",
       "      <td>17</td>\n",
       "      <td>3</td>\n",
       "      <td>0</td>\n",
       "    </tr>\n",
       "    <tr>\n",
       "      <th>EY</th>\n",
       "      <td>1436</td>\n",
       "      <td>456</td>\n",
       "      <td>218</td>\n",
       "      <td>155</td>\n",
       "      <td>13</td>\n",
       "      <td>1</td>\n",
       "      <td>0</td>\n",
       "    </tr>\n",
       "    <tr>\n",
       "      <th>F</th>\n",
       "      <td>1555</td>\n",
       "      <td>498</td>\n",
       "      <td>141</td>\n",
       "      <td>13</td>\n",
       "      <td>9</td>\n",
       "      <td>0</td>\n",
       "      <td>0</td>\n",
       "    </tr>\n",
       "    <tr>\n",
       "      <th>G</th>\n",
       "      <td>1882</td>\n",
       "      <td>384</td>\n",
       "      <td>90</td>\n",
       "      <td>19</td>\n",
       "      <td>0</td>\n",
       "      <td>0</td>\n",
       "      <td>0</td>\n",
       "    </tr>\n",
       "    <tr>\n",
       "      <th>HH</th>\n",
       "      <td>2024</td>\n",
       "      <td>65</td>\n",
       "      <td>13</td>\n",
       "      <td>0</td>\n",
       "      <td>0</td>\n",
       "      <td>0</td>\n",
       "      <td>0</td>\n",
       "    </tr>\n",
       "    <tr>\n",
       "      <th>IH</th>\n",
       "      <td>8612</td>\n",
       "      <td>3106</td>\n",
       "      <td>1362</td>\n",
       "      <td>526</td>\n",
       "      <td>133</td>\n",
       "      <td>13</td>\n",
       "      <td>0</td>\n",
       "    </tr>\n",
       "    <tr>\n",
       "      <th>IY</th>\n",
       "      <td>3572</td>\n",
       "      <td>2487</td>\n",
       "      <td>538</td>\n",
       "      <td>237</td>\n",
       "      <td>109</td>\n",
       "      <td>10</td>\n",
       "      <td>1</td>\n",
       "    </tr>\n",
       "    <tr>\n",
       "      <th>JH</th>\n",
       "      <td>886</td>\n",
       "      <td>346</td>\n",
       "      <td>78</td>\n",
       "      <td>99</td>\n",
       "      <td>13</td>\n",
       "      <td>0</td>\n",
       "      <td>0</td>\n",
       "    </tr>\n",
       "    <tr>\n",
       "      <th>K</th>\n",
       "      <td>4454</td>\n",
       "      <td>1131</td>\n",
       "      <td>356</td>\n",
       "      <td>130</td>\n",
       "      <td>67</td>\n",
       "      <td>7</td>\n",
       "      <td>0</td>\n",
       "    </tr>\n",
       "    <tr>\n",
       "      <th>L</th>\n",
       "      <td>3321</td>\n",
       "      <td>2182</td>\n",
       "      <td>881</td>\n",
       "      <td>214</td>\n",
       "      <td>118</td>\n",
       "      <td>13</td>\n",
       "      <td>0</td>\n",
       "    </tr>\n",
       "    <tr>\n",
       "      <th>M</th>\n",
       "      <td>2876</td>\n",
       "      <td>821</td>\n",
       "      <td>283</td>\n",
       "      <td>81</td>\n",
       "      <td>6</td>\n",
       "      <td>9</td>\n",
       "      <td>0</td>\n",
       "    </tr>\n",
       "    <tr>\n",
       "      <th>N</th>\n",
       "      <td>5661</td>\n",
       "      <td>2018</td>\n",
       "      <td>773</td>\n",
       "      <td>246</td>\n",
       "      <td>93</td>\n",
       "      <td>13</td>\n",
       "      <td>1</td>\n",
       "    </tr>\n",
       "    <tr>\n",
       "      <th>NG</th>\n",
       "      <td>601</td>\n",
       "      <td>469</td>\n",
       "      <td>183</td>\n",
       "      <td>81</td>\n",
       "      <td>18</td>\n",
       "      <td>0</td>\n",
       "      <td>0</td>\n",
       "    </tr>\n",
       "    <tr>\n",
       "      <th>OW</th>\n",
       "      <td>1713</td>\n",
       "      <td>310</td>\n",
       "      <td>110</td>\n",
       "      <td>1</td>\n",
       "      <td>0</td>\n",
       "      <td>0</td>\n",
       "      <td>0</td>\n",
       "    </tr>\n",
       "    <tr>\n",
       "      <th>OY</th>\n",
       "      <td>569</td>\n",
       "      <td>107</td>\n",
       "      <td>8</td>\n",
       "      <td>0</td>\n",
       "      <td>0</td>\n",
       "      <td>0</td>\n",
       "      <td>0</td>\n",
       "    </tr>\n",
       "    <tr>\n",
       "      <th>P</th>\n",
       "      <td>1778</td>\n",
       "      <td>912</td>\n",
       "      <td>160</td>\n",
       "      <td>45</td>\n",
       "      <td>2</td>\n",
       "      <td>0</td>\n",
       "      <td>0</td>\n",
       "    </tr>\n",
       "    <tr>\n",
       "      <th>R</th>\n",
       "      <td>4787</td>\n",
       "      <td>1483</td>\n",
       "      <td>232</td>\n",
       "      <td>58</td>\n",
       "      <td>9</td>\n",
       "      <td>1</td>\n",
       "      <td>0</td>\n",
       "    </tr>\n",
       "    <tr>\n",
       "      <th>S</th>\n",
       "      <td>4216</td>\n",
       "      <td>2286</td>\n",
       "      <td>717</td>\n",
       "      <td>207</td>\n",
       "      <td>23</td>\n",
       "      <td>9</td>\n",
       "      <td>0</td>\n",
       "    </tr>\n",
       "    <tr>\n",
       "      <th>SH</th>\n",
       "      <td>1524</td>\n",
       "      <td>256</td>\n",
       "      <td>227</td>\n",
       "      <td>146</td>\n",
       "      <td>82</td>\n",
       "      <td>9</td>\n",
       "      <td>1</td>\n",
       "    </tr>\n",
       "    <tr>\n",
       "      <th>T</th>\n",
       "      <td>8279</td>\n",
       "      <td>3475</td>\n",
       "      <td>1073</td>\n",
       "      <td>400</td>\n",
       "      <td>119</td>\n",
       "      <td>16</td>\n",
       "      <td>1</td>\n",
       "    </tr>\n",
       "    <tr>\n",
       "      <th>TH</th>\n",
       "      <td>602</td>\n",
       "      <td>121</td>\n",
       "      <td>29</td>\n",
       "      <td>0</td>\n",
       "      <td>0</td>\n",
       "      <td>0</td>\n",
       "      <td>0</td>\n",
       "    </tr>\n",
       "    <tr>\n",
       "      <th>UH</th>\n",
       "      <td>460</td>\n",
       "      <td>57</td>\n",
       "      <td>17</td>\n",
       "      <td>3</td>\n",
       "      <td>0</td>\n",
       "      <td>0</td>\n",
       "      <td>0</td>\n",
       "    </tr>\n",
       "    <tr>\n",
       "      <th>UW</th>\n",
       "      <td>1981</td>\n",
       "      <td>347</td>\n",
       "      <td>129</td>\n",
       "      <td>7</td>\n",
       "      <td>0</td>\n",
       "      <td>0</td>\n",
       "      <td>0</td>\n",
       "    </tr>\n",
       "    <tr>\n",
       "      <th>V</th>\n",
       "      <td>1102</td>\n",
       "      <td>671</td>\n",
       "      <td>194</td>\n",
       "      <td>30</td>\n",
       "      <td>8</td>\n",
       "      <td>0</td>\n",
       "      <td>0</td>\n",
       "    </tr>\n",
       "    <tr>\n",
       "      <th>W</th>\n",
       "      <td>2752</td>\n",
       "      <td>304</td>\n",
       "      <td>79</td>\n",
       "      <td>5</td>\n",
       "      <td>0</td>\n",
       "      <td>0</td>\n",
       "      <td>0</td>\n",
       "    </tr>\n",
       "    <tr>\n",
       "      <th>Y</th>\n",
       "      <td>1443</td>\n",
       "      <td>178</td>\n",
       "      <td>89</td>\n",
       "      <td>5</td>\n",
       "      <td>0</td>\n",
       "      <td>0</td>\n",
       "      <td>0</td>\n",
       "    </tr>\n",
       "    <tr>\n",
       "      <th>Z</th>\n",
       "      <td>1845</td>\n",
       "      <td>1318</td>\n",
       "      <td>381</td>\n",
       "      <td>128</td>\n",
       "      <td>24</td>\n",
       "      <td>19</td>\n",
       "      <td>0</td>\n",
       "    </tr>\n",
       "    <tr>\n",
       "      <th>ZH</th>\n",
       "      <td>66</td>\n",
       "      <td>66</td>\n",
       "      <td>35</td>\n",
       "      <td>2</td>\n",
       "      <td>1</td>\n",
       "      <td>0</td>\n",
       "      <td>0</td>\n",
       "    </tr>\n",
       "    <tr>\n",
       "      <th>[SIL]</th>\n",
       "      <td>149</td>\n",
       "      <td>122</td>\n",
       "      <td>46</td>\n",
       "      <td>19</td>\n",
       "      <td>7</td>\n",
       "      <td>3</td>\n",
       "      <td>0</td>\n",
       "    </tr>\n",
       "  </tbody>\n",
       "</table>\n",
       "</div>"
      ],
      "text/plain": [
       "          0     1     2    3    4   5  6\n",
       "AA     2624   313   115   11    1   0  0\n",
       "AE     3592   322    69   16    0   0  0\n",
       "AH     4987  1808   853  280  124  27  1\n",
       "AO     2580   318    33    7    2   0  0\n",
       "AW      561   165     5    0    0   0  0\n",
       "AY     1939   307   130   19    1   2  0\n",
       "B      1657   500   183   45   26   1  0\n",
       "CH      596   190    50    6    0   0  0\n",
       "D      3984  1212   448  100   31   3  0\n",
       "DH     2652   150    26    1    0   0  0\n",
       "EH     2991   683   165   21    1   1  0\n",
       "ER     2102  2827   406  105   17   3  0\n",
       "EY     1436   456   218  155   13   1  0\n",
       "F      1555   498   141   13    9   0  0\n",
       "G      1882   384    90   19    0   0  0\n",
       "HH     2024    65    13    0    0   0  0\n",
       "IH     8612  3106  1362  526  133  13  0\n",
       "IY     3572  2487   538  237  109  10  1\n",
       "JH      886   346    78   99   13   0  0\n",
       "K      4454  1131   356  130   67   7  0\n",
       "L      3321  2182   881  214  118  13  0\n",
       "M      2876   821   283   81    6   9  0\n",
       "N      5661  2018   773  246   93  13  1\n",
       "NG      601   469   183   81   18   0  0\n",
       "OW     1713   310   110    1    0   0  0\n",
       "OY      569   107     8    0    0   0  0\n",
       "P      1778   912   160   45    2   0  0\n",
       "R      4787  1483   232   58    9   1  0\n",
       "S      4216  2286   717  207   23   9  0\n",
       "SH     1524   256   227  146   82   9  1\n",
       "T      8279  3475  1073  400  119  16  1\n",
       "TH      602   121    29    0    0   0  0\n",
       "UH      460    57    17    3    0   0  0\n",
       "UW     1981   347   129    7    0   0  0\n",
       "V      1102   671   194   30    8   0  0\n",
       "W      2752   304    79    5    0   0  0\n",
       "Y      1443   178    89    5    0   0  0\n",
       "Z      1845  1318   381  128   24  19  0\n",
       "ZH       66    66    35    2    1   0  0\n",
       "[SIL]   149   122    46   19    7   3  0"
      ]
     },
     "execution_count": 37,
     "metadata": {},
     "output_type": "execute_result"
    }
   ],
   "source": [
    "# Build representation of all phoneme identities/positions\n",
    "all_phonemes = sorted(set(phoneme for phoneme, position in state_space_spec.labels))\n",
    "all_positions = sorted(set(position for phoneme, position in state_space_spec.labels if position is not None))\n",
    "phoneme_mat = np.zeros((len(all_phonemes), len(all_positions)), dtype=int)\n",
    "for i, (phoneme, position) in enumerate(state_space_spec.labels):\n",
    "    if position is None:\n",
    "        continue\n",
    "    phoneme_mat[all_phonemes.index(phoneme), all_positions.index(position)] = \\\n",
    "        len(state_space_spec.target_frame_spans[i])\n",
    "phoneme_df = pd.DataFrame(phoneme_mat, index=all_phonemes, columns=all_positions)\n",
    "phoneme_df"
   ]
  },
  {
   "cell_type": "code",
   "execution_count": 38,
   "metadata": {},
   "outputs": [
    {
     "data": {
      "text/plain": [
       "(40, ['AA', 'AE', 'AH', 'AO', 'AW'])"
      ]
     },
     "execution_count": 38,
     "metadata": {},
     "output_type": "execute_result"
    }
   ],
   "source": [
    "# Find phonemes which appear in every ordinal position at least twice up to `min_number_positions`\n",
    "min_number_positions = 3\n",
    "phoneme_max_position = (phoneme_df >= 2).idxmin(axis=1)\n",
    "match_phonemes = phoneme_max_position.loc[phoneme_max_position >= min_number_positions].index.tolist()\n",
    "len(match_phonemes), match_phonemes[:5]"
   ]
  },
  {
   "cell_type": "code",
   "execution_count": 39,
   "metadata": {},
   "outputs": [
    {
     "data": {
      "text/plain": [
       "<Axes: xlabel='ordinal_position', ylabel='frequency'>"
      ]
     },
     "execution_count": 39,
     "metadata": {},
     "output_type": "execute_result"
    },
    {
     "data": {
      "image/png": "[encoded data removed]",
      "text/plain": [
       "<Figure size 640x480 with 1 Axes>"
      ]
     },
     "metadata": {},
     "output_type": "display_data"
    }
   ],
   "source": [
    "sns.barplot(data=phoneme_df.loc[match_phonemes, :min_number_positions] \\\n",
    "                    .melt(var_name=\"ordinal_position\", value_name=\"frequency\"),\n",
    "            x=\"ordinal_position\", y=\"frequency\")"
   ]
  },
  {
   "cell_type": "markdown",
   "metadata": {},
   "source": [
    "## Prepare model representations"
   ]
  },
  {
   "cell_type": "code",
   "execution_count": 41,
   "metadata": {},
   "outputs": [],
   "source": [
    "retain_labels = [(phoneme, ordinal) for phoneme in match_phonemes\n",
    "                 for ordinal in range(min_number_positions)]\n",
    "drop_idxs = [idx for idx, label in enumerate(state_space_spec.labels)\n",
    "             if label not in retain_labels]\n",
    "state_space_spec = state_space_spec.drop_labels(drop_idxs)"
   ]
  },
  {
   "cell_type": "code",
   "execution_count": 42,
   "metadata": {},
   "outputs": [],
   "source": [
    "spec_label_strs = [f\"{phone} {ordinal}\" for phone, ordinal in state_space_spec.labels]"
   ]
  },
  {
   "cell_type": "code",
   "execution_count": 43,
   "metadata": {},
   "outputs": [],
   "source": [
    "trajectory = prepare_state_trajectory(model_representations, state_space_spec, pad=np.nan)\n",
    "lengths = [np.isnan(traj_i[:, :, 0]).argmax(axis=1) for traj_i in trajectory]\n",
    "len(trajectory)"
   ]
  },
  {
   "cell_type": "markdown",
   "metadata": {},
   "source": [
    "## Estimate within-phoneme, within-position distance"
   ]
  },
  {
   "cell_type": "code",
   "execution_count": 47,
   "metadata": {},
   "outputs": [
    {
     "data": {
      "application/vnd.jupyter.widget-view+json": {
       "model_id": "2e779110dc1f4c9b9d3f0be851661ae6",
       "version_major": 2,
       "version_minor": 0
      },
      "text/plain": [
       "  0%|          | 0/120 [00:00<?, ?it/s]"
      ]
     },
     "metadata": {},
     "output_type": "display_data"
    }
   ],
   "source": [
    "within_distance, within_distance_offset = \\\n",
    "    coherence.estimate_within_distance(trajectory, lengths, state_space_spec, metric=metric)"
   ]
  },
  {
   "cell_type": "code",
   "execution_count": 48,
   "metadata": {},
   "outputs": [
    {
     "data": {
      "text/plain": [
       "<Axes: >"
      ]
     },
     "execution_count": 48,
     "metadata": {},
     "output_type": "execute_result"
    },
    {
     "data": {
      "image/png": "[encoded data removed]",
      "text/plain": [
       "<Figure size 640x480 with 2 Axes>"
      ]
     },
     "metadata": {},
     "output_type": "display_data"
    }
   ],
   "source": [
    "sns.heatmap(within_distance, center=1, cmap=\"RdBu\")"
   ]
  },
  {
   "cell_type": "code",
   "execution_count": 49,
   "metadata": {},
   "outputs": [],
   "source": [
    "within_distance_df = pd.DataFrame(within_distance, index=pd.Index(spec_label_strs, name=\"phoneme\")) \\\n",
    "    .reset_index() \\\n",
    "    .melt(id_vars=[\"phoneme\"], var_name=\"frame\", value_name=\"distance\")"
   ]
  },
  {
   "cell_type": "code",
   "execution_count": null,
   "metadata": {},
   "outputs": [],
   "source": [
    "within_distance_offset_df = pd.DataFrame(within_distance_offset, index=pd.Index(spec_label_strs, name=\"phoneme\")) \\\n",
    "    .reset_index() \\\n",
    "    .melt(id_vars=[\"phoneme\"], var_name=\"frame\", value_name=\"distance\")"
   ]
  },
  {
   "cell_type": "markdown",
   "metadata": {},
   "source": [
    "## Estimate within-phoneme, between-position distance"
   ]
  },
  {
   "cell_type": "code",
   "execution_count": 51,
   "metadata": {},
   "outputs": [
    {
     "data": {
      "application/vnd.jupyter.widget-view+json": {
       "model_id": "378913ff6af1403481310730447dd7da",
       "version_major": 2,
       "version_minor": 0
      },
      "text/plain": [
       "  0%|          | 0/120 [00:00<?, ?it/s]"
      ]
     },
     "metadata": {},
     "output_type": "display_data"
    },
    {
     "name": "stderr",
     "output_type": "stream",
     "text": [
      "/tmp/ipykernel_1465306/904010836.py:4: RuntimeWarning: Mean of empty slice.\n",
      "  return distances[distances != 0].mean()\n",
      "/home/jgauthie/om2/miniconda/envs/ideal/lib/python3.10/site-packages/numpy/core/_methods.py:129: RuntimeWarning: invalid value encountered in scalar divide\n",
      "  ret = ret.dtype.type(ret / rcount)\n"
     ]
    }
   ],
   "source": [
    "between1_samples = [[state_space_spec.labels.index((phoneme_i, ordinal_j))\n",
    "                     for ordinal_j in range(min_number_positions)\n",
    "                     if ordinal_j != ordinal_i]\n",
    "                    for phoneme_i, ordinal_i in state_space_spec.labels]\n",
    "\n",
    "between1_distances, between1_distances_offset = \\\n",
    "    coherence.estimate_between_distance(trajectory, lengths, state_space_spec,\n",
    "                                        between1_samples, metric=metric)"
   ]
  },
  {
   "cell_type": "code",
   "execution_count": 52,
   "metadata": {},
   "outputs": [
    {
     "name": "stderr",
     "output_type": "stream",
     "text": [
      "/tmp/ipykernel_1465306/2302145081.py:1: RuntimeWarning: Mean of empty slice\n",
      "  between1_distances_df = pd.DataFrame(np.nanmean(between1_distances, axis=-1),\n"
     ]
    }
   ],
   "source": [
    "between1_distances_df = pd.DataFrame(np.nanmean(between1_distances, axis=-1),\n",
    "                                     index=pd.Index(spec_label_strs, name=\"phoneme\")) \\\n",
    "    .reset_index() \\\n",
    "    .melt(id_vars=[\"phoneme\"], var_name=\"frame\", value_name=\"distance\")"
   ]
  },
  {
   "cell_type": "code",
   "execution_count": null,
   "metadata": {},
   "outputs": [],
   "source": [
    "between1_distances_offset_df = pd.DataFrame(np.nanmean(between1_distances_offset, axis=-1),\n",
    "                                     index=pd.Index(spec_label_strs, name=\"phoneme\")) \\\n",
    "    .reset_index() \\\n",
    "    .melt(id_vars=[\"phoneme\"], var_name=\"frame\", value_name=\"distance\")"
   ]
  },
  {
   "cell_type": "markdown",
   "metadata": {},
   "source": [
    "## Estimate between-phoneme distance"
   ]
  },
  {
   "cell_type": "code",
   "execution_count": 54,
   "metadata": {},
   "outputs": [
    {
     "data": {
      "application/vnd.jupyter.widget-view+json": {
       "model_id": "663b37e99c1c4fe1949d0646767b06a2",
       "version_major": 2,
       "version_minor": 0
      },
      "text/plain": [
       "  0%|          | 0/120 [00:00<?, ?it/s]"
      ]
     },
     "metadata": {},
     "output_type": "display_data"
    },
    {
     "name": "stderr",
     "output_type": "stream",
     "text": [
      "/tmp/ipykernel_1465306/904010836.py:4: RuntimeWarning: Mean of empty slice.\n",
      "  return distances[distances != 0].mean()\n",
      "/home/jgauthie/om2/miniconda/envs/ideal/lib/python3.10/site-packages/numpy/core/_methods.py:129: RuntimeWarning: invalid value encountered in scalar divide\n",
      "  ret = ret.dtype.type(ret / rcount)\n"
     ]
    }
   ],
   "source": [
    "# Match the number of between-samples with the earlier analysis\n",
    "num_samples = min_number_positions\n",
    "\n",
    "between_distances, between_distances_offset = \\\n",
    "    coherence.estimate_between_distance(trajectory, lengths, state_space_spec,\n",
    "                                        num_samples=num_samples, metric=metric)"
   ]
  },
  {
   "cell_type": "code",
   "execution_count": 55,
   "metadata": {},
   "outputs": [
    {
     "name": "stderr",
     "output_type": "stream",
     "text": [
      "/tmp/ipykernel_1465306/1293829715.py:1: RuntimeWarning: Mean of empty slice\n",
      "  between_distances_df = pd.DataFrame(np.nanmean(between_distances, axis=-1),\n"
     ]
    }
   ],
   "source": [
    "between_distances_df = pd.DataFrame(np.nanmean(between_distances, axis=-1),\n",
    "                                    index=pd.Index(spec_label_strs, name=\"phoneme\")) \\\n",
    "    .reset_index() \\\n",
    "    .melt(id_vars=[\"phoneme\"], var_name=\"frame\", value_name=\"distance\")"
   ]
  },
  {
   "cell_type": "code",
   "execution_count": null,
   "metadata": {},
   "outputs": [],
   "source": [
    "between_distances_offset_df = pd.DataFrame(np.nanmean(between_distances_offset, axis=-1),\n",
    "                                    index=pd.Index(spec_label_strs, name=\"phoneme\")) \\\n",
    "    .reset_index() \\\n",
    "    .melt(id_vars=[\"phoneme\"], var_name=\"frame\", value_name=\"distance\")"
   ]
  },
  {
   "cell_type": "markdown",
   "metadata": {},
   "source": [
    "## Together"
   ]
  },
  {
   "cell_type": "code",
   "execution_count": 57,
   "metadata": {},
   "outputs": [
    {
     "data": {
      "text/html": [
       "<div>\n",
       "<style scoped>\n",
       "    .dataframe tbody tr th:only-of-type {\n",
       "        vertical-align: middle;\n",
       "    }\n",
       "\n",
       "    .dataframe tbody tr th {\n",
       "        vertical-align: top;\n",
       "    }\n",
       "\n",
       "    .dataframe thead th {\n",
       "        text-align: right;\n",
       "    }\n",
       "</style>\n",
       "<table border=\"1\" class=\"dataframe\">\n",
       "  <thead>\n",
       "    <tr style=\"text-align: right;\">\n",
       "      <th></th>\n",
       "      <th>phoneme</th>\n",
       "      <th>frame</th>\n",
       "      <th>distance</th>\n",
       "      <th>type</th>\n",
       "    </tr>\n",
       "  </thead>\n",
       "  <tbody>\n",
       "    <tr>\n",
       "      <th>0</th>\n",
       "      <td>AA 0</td>\n",
       "      <td>0</td>\n",
       "      <td>0.115257</td>\n",
       "      <td>within</td>\n",
       "    </tr>\n",
       "    <tr>\n",
       "      <th>1</th>\n",
       "      <td>AA 1</td>\n",
       "      <td>0</td>\n",
       "      <td>0.156911</td>\n",
       "      <td>within</td>\n",
       "    </tr>\n",
       "    <tr>\n",
       "      <th>2</th>\n",
       "      <td>AA 2</td>\n",
       "      <td>0</td>\n",
       "      <td>0.003139</td>\n",
       "      <td>within</td>\n",
       "    </tr>\n",
       "    <tr>\n",
       "      <th>3</th>\n",
       "      <td>AE 0</td>\n",
       "      <td>0</td>\n",
       "      <td>0.162364</td>\n",
       "      <td>within</td>\n",
       "    </tr>\n",
       "    <tr>\n",
       "      <th>4</th>\n",
       "      <td>AE 1</td>\n",
       "      <td>0</td>\n",
       "      <td>0.084634</td>\n",
       "      <td>within</td>\n",
       "    </tr>\n",
       "    <tr>\n",
       "      <th>...</th>\n",
       "      <td>...</td>\n",
       "      <td>...</td>\n",
       "      <td>...</td>\n",
       "      <td>...</td>\n",
       "    </tr>\n",
       "    <tr>\n",
       "      <th>3235</th>\n",
       "      <td>ZH 1</td>\n",
       "      <td>26</td>\n",
       "      <td>NaN</td>\n",
       "      <td>between</td>\n",
       "    </tr>\n",
       "    <tr>\n",
       "      <th>3236</th>\n",
       "      <td>ZH 2</td>\n",
       "      <td>26</td>\n",
       "      <td>NaN</td>\n",
       "      <td>between</td>\n",
       "    </tr>\n",
       "    <tr>\n",
       "      <th>3237</th>\n",
       "      <td>[SIL] 0</td>\n",
       "      <td>26</td>\n",
       "      <td>NaN</td>\n",
       "      <td>between</td>\n",
       "    </tr>\n",
       "    <tr>\n",
       "      <th>3238</th>\n",
       "      <td>[SIL] 1</td>\n",
       "      <td>26</td>\n",
       "      <td>NaN</td>\n",
       "      <td>between</td>\n",
       "    </tr>\n",
       "    <tr>\n",
       "      <th>3239</th>\n",
       "      <td>[SIL] 2</td>\n",
       "      <td>26</td>\n",
       "      <td>NaN</td>\n",
       "      <td>between</td>\n",
       "    </tr>\n",
       "  </tbody>\n",
       "</table>\n",
       "<p>9720 rows × 4 columns</p>\n",
       "</div>"
      ],
      "text/plain": [
       "      phoneme frame  distance     type\n",
       "0        AA 0     0  0.115257   within\n",
       "1        AA 1     0  0.156911   within\n",
       "2        AA 2     0  0.003139   within\n",
       "3        AE 0     0  0.162364   within\n",
       "4        AE 1     0  0.084634   within\n",
       "...       ...   ...       ...      ...\n",
       "3235     ZH 1    26       NaN  between\n",
       "3236     ZH 2    26       NaN  between\n",
       "3237  [SIL] 0    26       NaN  between\n",
       "3238  [SIL] 1    26       NaN  between\n",
       "3239  [SIL] 2    26       NaN  between\n",
       "\n",
       "[9720 rows x 4 columns]"
      ]
     },
     "execution_count": 57,
     "metadata": {},
     "output_type": "execute_result"
    }
   ],
   "source": [
    "merged_df = pd.concat([within_distance_df.assign(type=\"within\"),\n",
    "                       between1_distances_df.assign(type=\"different_position\"),\n",
    "                       between_distances_df.assign(type=\"between\")])\n",
    "merged_df.to_csv(Path(output_dir) / \"distances.csv\", index=False)\n",
    "merged_df"
   ]
  },
  {
   "cell_type": "code",
   "execution_count": 58,
   "metadata": {},
   "outputs": [
    {
     "data": {
      "text/plain": [
       "(0.0, 9.0)"
      ]
     },
     "execution_count": 58,
     "metadata": {},
     "output_type": "execute_result"
    },
    {
     "data": {
      "image/png": "[encoded data removed]",
      "text/plain": [
       "<Figure size 640x480 with 1 Axes>"
      ]
     },
     "metadata": {},
     "output_type": "display_data"
    }
   ],
   "source": [
    "ax = sns.lineplot(data=merged_df.dropna().replace({\"type\": {\"within\": \"Same identity, same position\",\n",
    "                                                            \"different_position\": \"Same identity, different position\",\n",
    "                                                            \"between\": \"Different identity, different position\"}}),\n",
    "                  x=\"frame\", y=\"distance\", hue=\"type\")\n",
    "ax.set_title(\"Representational distance within- and between-phoneme\")\n",
    "ax.set_xlabel(\"Frames since phoneme onset\")\n",
    "ax.set_ylabel(f\"{metric.capitalize()} distance\")\n",
    "ax.set_xlim((0, np.percentile(np.concatenate(lengths), 95)))"
   ]
  },
  {
   "cell_type": "code",
   "execution_count": null,
   "metadata": {},
   "outputs": [],
   "source": [
    "merged_offset_df = pd.concat([within_distance_offset_df.assign(type=\"within\"),\n",
    "                       between1_distances_offset_df.assign(type=\"different_position\"),\n",
    "                       between_distances_offset_df.assign(type=\"between\")])\n",
    "merged_offset_df.to_csv(Path(output_dir) / \"distances_aligned_offset.csv\", index=False)\n",
    "merged_offset_df"
   ]
  },
  {
   "cell_type": "code",
   "execution_count": null,
   "metadata": {},
   "outputs": [],
   "source": []
  }
 ],
 "metadata": {
  "kernelspec": {
   "display_name": "Python 3 (ipykernel)",
   "language": "python",
   "name": "python3"
  },
  "language_info": {
   "codemirror_mode": {
    "name": "ipython",
    "version": 3
   },
   "file_extension": ".py",
   "mimetype": "text/x-python",
   "name": "python",
   "nbconvert_exporter": "python",
   "pygments_lexer": "ipython3",
   "version": "3.10.13"
  }
 },
 "nbformat": 4,
 "nbformat_minor": 4
}
