{
 "cells": [
  {
   "cell_type": "code",
   "execution_count": 1,
   "metadata": {},
   "outputs": [],
   "source": [
    "%load_ext autoreload\n",
    "%autoreload 2"
   ]
  },
  {
   "cell_type": "code",
   "execution_count": 28,
   "metadata": {},
   "outputs": [],
   "source": [
    "import pickle\n",
    "\n",
    "import matplotlib.pyplot as plt\n",
    "import numpy as np\n",
    "from scipy import ndimage\n",
    "from sklearn.base import clone\n",
    "from sklearn.decomposition import PCA\n",
    "from sklearn.linear_model import RidgeCV, Ridge\n",
    "from sklearn.model_selection import KFold, train_test_split\n",
    "from sklearn.preprocessing import StandardScaler\n",
    "import torch\n",
    "from tqdm.auto import tqdm, trange\n",
    "\n",
    "from src.analysis.state_space import StateSpaceAnalysisSpec\n",
    "from src.datasets.speech_equivalence import SpeechHiddenStateDataset"
   ]
  },
  {
   "cell_type": "code",
   "execution_count": 34,
   "metadata": {
    "tags": [
     "parameters"
    ]
   },
   "outputs": [],
   "source": [
    "dataset_path = \"outputs/preprocessed_data/timit\"\n",
    "hidden_states_path = \"outputs/hidden_states/timit/w2v2_6/hidden_states.pkl\"\n",
    "state_space_specs_path = \"outputs/state_space_specs/timit/w2v2_6/state_space_specs.pkl\"\n",
    "\n",
    "model_embedding_paths = {\n",
    "    \"phoneme8\": \"outputs/model_embeddings/timit/w2v2_6/rnn_8/phoneme/embeddings.npy\",\n",
    "    \"next_phoneme\": \"outputs/model_embeddings/timit/w2v2_6/rnn_8/next_phoneme/embeddings.npy\",\n",
    "\n",
    "    \"biphone_pred\": \"outputs/model_embeddings/timit/w2v2_6/rnn_8/biphone_pred/embeddings.npy\",\n",
    "    \"biphone_recon\": \"outputs/model_embeddings/timit/w2v2_6/rnn_8/biphone_recon/embeddings.npy\",\n",
    "\n",
    "    \"syllable\": \"outputs/model_embeddings/timit/w2v2_6/rnn_8/syllable/embeddings.npy\",\n",
    "\n",
    "    \"word\": \"outputs/model_embeddings/timit/w2v2_6/rnn_8/word/embeddings.npy\",\n",
    "}\n",
    "\n",
    "# If not None, spatially smooth the synthetic encoding target with the given window size.\n",
    "target_smoosh = None\n",
    "\n",
    "# Number of principal components to retain in the synthetic encoding target. If `None`,\n",
    "# do not perform dimensionality reduction.\n",
    "num_components = 10\n",
    "\n",
    "# Number of model embeddings to select in forward selection\n",
    "num_embeddings_to_select = 3\n",
    "\n",
    "# Remove the top K principal components from model embeddings.\n",
    "# This can be appropriate for anisotropic embeddings\n",
    "embedding_remove_components = None\n",
    "\n",
    "# Subsample hidden states following dataset annotations\n",
    "subsample_strategy = \"all\"\n",
    "\n",
    "output_dir = \".\""
   ]
  },
  {
   "cell_type": "code",
   "execution_count": 35,
   "metadata": {},
   "outputs": [],
   "source": [
    "assert len(model_embedding_paths) >= num_embeddings_to_select\n",
    "\n",
    "assert subsample_strategy in {\"all\", \"multisyllabic\", \"monosyllabic\"}"
   ]
  },
  {
   "cell_type": "code",
   "execution_count": 6,
   "metadata": {},
   "outputs": [],
   "source": [
    "with open(hidden_states_path, \"rb\") as f:\n",
    "    hidden_states: SpeechHiddenStateDataset = torch.load(f)"
   ]
  },
  {
   "cell_type": "code",
   "execution_count": 29,
   "metadata": {},
   "outputs": [],
   "source": [
    "with open(state_space_specs_path, \"rb\") as f:\n",
    "    state_space_specs: dict[str, StateSpaceAnalysisSpec] = torch.load(f)"
   ]
  },
  {
   "cell_type": "code",
   "execution_count": 12,
   "metadata": {},
   "outputs": [],
   "source": [
    "model_embeddings = {\n",
    "    model_name: np.load(path)\n",
    "    for model_name, path in model_embedding_paths.items()\n",
    "}"
   ]
  },
  {
   "cell_type": "code",
   "execution_count": 13,
   "metadata": {},
   "outputs": [],
   "source": [
    "for model_name, embeddings in model_embeddings.items():\n",
    "    assert embeddings.shape[0] == hidden_states.num_frames, f\"{model_name} {embeddings.shape[0]} {hidden_states.num_frames}\""
   ]
  },
  {
   "cell_type": "code",
   "execution_count": 14,
   "metadata": {},
   "outputs": [],
   "source": [
    "if embedding_remove_components is not None:\n",
    "    for model_name, embeddings in model_embeddings.items():\n",
    "        pca = PCA(n_components=embedding_remove_components).fit(embeddings)\n",
    "\n",
    "        # Remove the top K components\n",
    "        embeddings -= embeddings @ pca.components_.T @ pca.components_\n",
    "        model_embeddings[model_name] = embeddings"
   ]
  },
  {
   "cell_type": "markdown",
   "metadata": {},
   "source": [
    "## Model forward selection"
   ]
  },
  {
   "cell_type": "code",
   "execution_count": 10,
   "metadata": {},
   "outputs": [],
   "source": [
    "def block_mean(ar, fact):\n",
    "    assert isinstance(fact, int), type(fact)\n",
    "    sx, sy = ar.shape\n",
    "    X, Y = np.ogrid[0:sx, 0:sy]\n",
    "    regions = sy//fact * (X//fact) + Y//fact\n",
    "    res = ndimage.mean(ar, labels=regions, index=np.arange(regions.max() + 1))\n",
    "    res.shape = (sx//fact, sy//fact)\n",
    "    return res\n",
    "\n",
    "\n",
    "def get_design_matrix_mask(selection, select_embedding_mask):\n",
    "    total_num_features = sum(embeddings.shape[1] for embeddings in model_embeddings.values())\n",
    "    mask = np.zeros(total_num_features, dtype=bool)\n",
    "    for model_name in selection:\n",
    "        mask |= select_embedding_mask[model_name]\n",
    "    return mask\n",
    "\n",
    "\n",
    "def estimate_model_with_selection(model, X_train, Y_train, X_test, Y_test, selection, select_embedding_mask):\n",
    "    mask = get_design_matrix_mask(selection, select_embedding_mask)\n",
    "    model = model.fit(X_train[:, mask], Y_train)\n",
    "\n",
    "    train_score = model.score(X_train[:, mask], Y_train)\n",
    "    test_score = model.score(X_test[:, mask], Y_test)\n",
    "    return model, train_score, test_score\n",
    "\n",
    "\n",
    "def do_forward_selection(select_embeddings, sample_idxs=None,\n",
    "                         target_smoosh=None, num_components=None):\n",
    "    X = np.concatenate([model_embeddings[model_name] for model_name in select_embeddings], axis=1)\n",
    "    Y = hidden_states.states[:, 0, :].numpy()\n",
    "\n",
    "    if sample_idxs is None:\n",
    "        sample_idxs = np.random.choice(X.shape[0], 100000, replace=False)\n",
    "    X = X[sample_idxs]\n",
    "    Y = Y[sample_idxs]\n",
    "\n",
    "    if target_smoosh is not None:\n",
    "        Y = np.array([\n",
    "            block_mean(hs.reshape((32, 24)), target_smoosh).ravel()\n",
    "            for hs in tqdm(Y)\n",
    "        ])\n",
    "\n",
    "    X = StandardScaler(with_std=False).fit_transform(X)\n",
    "    Y = StandardScaler().fit_transform(Y)\n",
    "\n",
    "    if num_components is not None:\n",
    "        pca = PCA(n_components=num_components)\n",
    "        Y = pca.fit_transform(Y)\n",
    "\n",
    "        # plot cumulative explained variance\n",
    "        f, ax = plt.subplots(figsize=(10, 5))\n",
    "        ax.plot(np.cumsum(pca.explained_variance_ratio_))\n",
    "        ax.set_xlabel(\"number of components\")\n",
    "        ax.set_ylabel(\"cumulative explained variance\")\n",
    "\n",
    "    X_train, X_test, Y_train, Y_test = train_test_split(X, Y, test_size=0.2, random_state=0, shuffle=True)\n",
    "\n",
    "    # Prepare design matrix masks\n",
    "    select_embedding_mask = {}\n",
    "    cum_idx = 0\n",
    "    \n",
    "    total_num_features = sum(embeddings.shape[1] for embeddings in model_embeddings.values())\n",
    "    design_matrix = np.zeros((hidden_states.num_frames, total_num_features))\n",
    "    for i, model_name in enumerate(select_embeddings):\n",
    "        model_dim = model_embeddings[model_name].shape[1]\n",
    "        select_embedding_mask[model_name] = np.zeros(total_num_features, dtype=bool)\n",
    "        select_embedding_mask[model_name][cum_idx : cum_idx + model_dim] = True\n",
    "\n",
    "        design_matrix[:, cum_idx : cum_idx + model_dim] = model_embeddings[model_name]\n",
    "\n",
    "        cum_idx += model_dim\n",
    "\n",
    "    spec_trajectory = [[]]\n",
    "    model_trajectory = [None]\n",
    "    score_trajectory = [-np.inf]\n",
    "    assert num_embeddings_to_select <= len(select_embeddings)\n",
    "\n",
    "    # base_model = Ridge(solver=\"saga\", max_iter=10000, random_state=0)\n",
    "    base_model = RidgeCV(alphas=np.logspace(-3, 3, 10),\n",
    "                        cv=KFold(n_splits=5, shuffle=True, random_state=0))\n",
    "\n",
    "    for _ in trange(num_embeddings_to_select):\n",
    "        candidate_embeddings = list(set(select_embeddings) - set(spec_trajectory[-1]))\n",
    "        candidate_models = []\n",
    "        candidate_scores = []\n",
    "\n",
    "        for embedding_name in candidate_embeddings:\n",
    "            candidate_model, _, candidate_score = estimate_model_with_selection(\n",
    "                clone(base_model), X_train, Y_train, X_test, Y_test,\n",
    "                spec_trajectory[-1] + [embedding_name],\n",
    "                select_embedding_mask)\n",
    "\n",
    "            candidate_models.append(candidate_model)\n",
    "            candidate_scores.append(candidate_score)\n",
    "            print(f\"{spec_trajectory[-1] + [embedding_name]}: {candidate_score}\")\n",
    "\n",
    "        best_candidate_score = np.max(candidate_scores)\n",
    "        best_candidate_idx = np.argmax(candidate_scores)\n",
    "        best_candidate_model = candidate_models[best_candidate_idx]\n",
    "\n",
    "        if best_candidate_score > score_trajectory[-1]:\n",
    "            spec_trajectory.append(spec_trajectory[-1] + [candidate_embeddings[best_candidate_idx]])\n",
    "            model_trajectory.append(best_candidate_model)\n",
    "            score_trajectory.append(best_candidate_score)\n",
    "        else:\n",
    "            print(\"No improvement\")\n",
    "            break\n",
    "\n",
    "    return spec_trajectory, model_trajectory, score_trajectory\n",
    "            "
   ]
  },
  {
   "cell_type": "code",
   "execution_count": 36,
   "metadata": {},
   "outputs": [],
   "source": [
    "if subsample_strategy == \"all\":\n",
    "    sample_idxs = None\n",
    "else:\n",
    "    if subsample_strategy == \"multisyllabic\":\n",
    "        multisyllable_cuts = state_space_specs[\"word\"].cuts.groupby([\"label\", \"instance_idx\"]) \\\n",
    "            .filter(lambda xs: len(xs.xs(\"syllable\", level=\"level\")) > 1)\n",
    "        subsample_trajs = {(label, instance_idx) for label, instance_idx, _ in multisyllable_cuts.index}\n",
    "    elif subsample_strategy == \"monosyllabic\":\n",
    "        monosyllable_cuts = state_space_specs[\"word\"].cuts.groupby([\"label\", \"instance_idx\"]) \\\n",
    "            .filter(lambda xs: len(xs.xs(\"syllable\", level=\"level\")) == 1)\n",
    "        subsample_trajs = {(label, instance_idx) for label, instance_idx, _ in monosyllable_cuts.index}\n",
    "    else:\n",
    "        raise ValueError(subsample_strategy)\n",
    "    \n",
    "    sample_idxs = []\n",
    "    for traj_label, traj_instance_idx in subsample_trajs:\n",
    "        label_idx = state_space_specs[\"word\"].labels.index(traj_label)\n",
    "        start, end = state_space_specs[\"word\"].target_frame_spans[label_idx][traj_instance_idx]\n",
    "        sample_idxs.append(np.arange(start, end + 1))\n",
    "\n",
    "    sample_idxs = np.concatenate(sample_idxs)"
   ]
  },
  {
   "cell_type": "code",
   "execution_count": 39,
   "metadata": {},
   "outputs": [],
   "source": [
    "if sample_idxs is not None:\n",
    "    print(len(sample_idxs), len(sample_idxs) / hidden_states.num_frames)"
   ]
  },
  {
   "cell_type": "code",
   "execution_count": 32,
   "metadata": {},
   "outputs": [
    {
     "data": {
      "application/vnd.jupyter.widget-view+json": {
       "model_id": "5b1fd48b7884444e8f668fc70744056d",
       "version_major": 2,
       "version_minor": 0
      },
      "text/plain": [
       "  0%|          | 0/3 [00:00<?, ?it/s]"
      ]
     },
     "metadata": {},
     "output_type": "display_data"
    },
    {
     "name": "stdout",
     "output_type": "stream",
     "text": [
      "['phoneme8']: 0.09728408886056641\n",
      "['syllable']: 0.12152074101601303\n",
      "['next_phoneme']: 0.08614678023676471\n",
      "['biphone_pred']: 0.11341650513957333\n",
      "['biphone_recon']: 0.15973305961091197\n",
      "['word']: 0.06031197462545551\n",
      "['biphone_recon', 'biphone_pred']: 0.2232892333425438\n",
      "['biphone_recon', 'phoneme8']: 0.2091562406691211\n",
      "['biphone_recon', 'syllable']: 0.23352178567590132\n",
      "['biphone_recon', 'next_phoneme']: 0.21928891431746617\n",
      "['biphone_recon', 'word']: 0.2033826846262526\n",
      "['biphone_recon', 'syllable', 'phoneme8']: 0.26803834394981135\n",
      "['biphone_recon', 'syllable', 'word']: 0.26729175449708453\n",
      "['biphone_recon', 'syllable', 'next_phoneme']: 0.28728265946657905\n",
      "['biphone_recon', 'syllable', 'biphone_pred']: 0.27776569557413466\n"
     ]
    },
    {
     "data": {
      "image/png": "[encoded data removed]",
      "text/plain": [
       "<Figure size 1000x500 with 1 Axes>"
      ]
     },
     "metadata": {},
     "output_type": "display_data"
    }
   ],
   "source": [
    "select_embeddings = list(model_embeddings.keys())\n",
    "spec_trajectory, model_trajectory, score_trajectory = do_forward_selection(\n",
    "    select_embeddings, target_smoosh=target_smoosh, num_components=num_components,\n",
    "    sample_idxs=sample_idxs)"
   ]
  },
  {
   "cell_type": "code",
   "execution_count": null,
   "metadata": {},
   "outputs": [],
   "source": [
    "with open(f\"{output_dir}/forward_selection.pkl\", \"wb\") as f:\n",
    "    pickle.dump({\n",
    "        \"spec_trajectory\": spec_trajectory,\n",
    "        \"model_trajectory\": model_trajectory,\n",
    "        \"score_trajectory\": score_trajectory\n",
    "    }, f)"
   ]
  }
 ],
 "metadata": {
  "kernelspec": {
   "display_name": "Python 3",
   "language": "python",
   "name": "python3"
  },
  "language_info": {
   "codemirror_mode": {
    "name": "ipython",
    "version": 3
   },
   "file_extension": ".py",
   "mimetype": "text/x-python",
   "name": "python",
   "nbconvert_exporter": "python",
   "pygments_lexer": "ipython3",
   "version": "3.10.13"
  }
 },
 "nbformat": 4,
 "nbformat_minor": 2
}
