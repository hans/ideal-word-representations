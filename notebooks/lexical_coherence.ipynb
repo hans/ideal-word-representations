{
 "cells": [
  {
   "cell_type": "code",
   "execution_count": null,
   "metadata": {},
   "outputs": [],
   "source": [
    "%load_ext autoreload\n",
    "%autoreload 2"
   ]
  },
  {
   "cell_type": "code",
   "execution_count": null,
   "metadata": {},
   "outputs": [],
   "source": [
    "import os\n",
    "os.environ[\"CUDA_VISIBLE_DEVICES\"] = \"\""
   ]
  },
  {
   "cell_type": "code",
   "execution_count": null,
   "metadata": {},
   "outputs": [],
   "source": [
    "from pathlib import Path\n",
    "import pickle\n",
    "\n",
    "import matplotlib.pyplot as plt\n",
    "import numpy as np\n",
    "import pandas as pd\n",
    "import seaborn as sns\n",
    "import torch\n",
    "from tqdm.auto import tqdm\n",
    "\n",
    "from src.analysis import coherence\n",
    "from src.analysis.state_space import prepare_state_trajectory, StateSpaceAnalysisSpec\n",
    "from src.datasets.speech_equivalence import SpeechEquivalenceDataset\n",
    "from src.utils.timit import get_word_metadata"
   ]
  },
  {
   "cell_type": "code",
   "execution_count": null,
   "metadata": {
    "tags": [
     "parameters"
    ]
   },
   "outputs": [],
   "source": [
    "model_dir = \"outputs/models/librispeech-train-clean-100/w2v2_8/rnn_32-hinge-mAP4/word_broad_10frames_fixedlen25\"\n",
    "output_dir = \".\"\n",
    "dataset_path = \"outputs/preprocessed_data/librispeech-train-clean-100\"\n",
    "equivalence_path = \"outputs/equivalence_datasets/librispeech-train-clean-100/w2v2_8/word_broad_10frames_fixedlen25/equivalence.pkl\"\n",
    "hidden_states_path = \"outputs/hidden_states/librispeech-train-clean-100/w2v2_8/hidden_states.h5\"\n",
    "state_space_specs_path = \"outputs/state_space_specs/librispeech-train-clean-100/w2v2_8/state_space_specs.h5\"\n",
    "embeddings_path = \"outputs/model_embeddings/librispeech-train-clean-100/w2v2_8/rnn_32-hinge-mAP4/word_broad_10frames_fixedlen25/librispeech-train-clean-100.npy\"\n",
    "\n",
    "metric = \"cosine\"\n",
    "\n",
    "# Retain words with N or more instances\n",
    "retain_n = 10"
   ]
  },
  {
   "cell_type": "code",
   "execution_count": null,
   "metadata": {},
   "outputs": [],
   "source": [
    "with open(embeddings_path, \"rb\") as f:\n",
    "    model_representations: np.ndarray = np.load(f)\n",
    "state_space_spec = StateSpaceAnalysisSpec.from_hdf5(state_space_specs_path, \"word\")\n",
    "assert state_space_spec.is_compatible_with(model_representations)"
   ]
  },
  {
   "cell_type": "code",
   "execution_count": null,
   "metadata": {},
   "outputs": [],
   "source": [
    "label_counts = state_space_spec.label_counts\n",
    "drop_labels = label_counts[label_counts < retain_n].index\n",
    "state_space_spec = state_space_spec.drop_labels(drop_names=drop_labels)"
   ]
  },
  {
   "cell_type": "code",
   "execution_count": null,
   "metadata": {},
   "outputs": [],
   "source": [
    "trajectory = prepare_state_trajectory(model_representations, state_space_spec, pad=np.nan)\n",
    "lengths = [np.isnan(traj_i[:, :, 0]).argmax(axis=1) for traj_i in trajectory]"
   ]
  },
  {
   "cell_type": "code",
   "execution_count": null,
   "metadata": {},
   "outputs": [],
   "source": [
    "len(trajectory), np.concatenate(lengths).mean()"
   ]
  },
  {
   "cell_type": "markdown",
   "metadata": {},
   "source": [
    "## Estimate within-word distance"
   ]
  },
  {
   "cell_type": "code",
   "execution_count": null,
   "metadata": {},
   "outputs": [],
   "source": [
    "within_distance, within_distance_offset = \\\n",
    "    coherence.estimate_within_distance(trajectory, lengths, state_space_spec, metric=metric)"
   ]
  },
  {
   "cell_type": "code",
   "execution_count": null,
   "metadata": {},
   "outputs": [],
   "source": [
    "within_distance_df = pd.DataFrame(within_distance, index=pd.Index(state_space_spec.labels, name=\"word\")) \\\n",
    "    .reset_index() \\\n",
    "    .melt(id_vars=[\"word\"], var_name=\"frame\", value_name=\"distance\")"
   ]
  },
  {
   "cell_type": "code",
   "execution_count": null,
   "metadata": {},
   "outputs": [],
   "source": [
    "within_distance_offset_df = pd.DataFrame(within_distance_offset, index=pd.Index(state_space_spec.labels, name=\"word\")) \\\n",
    "    .reset_index() \\\n",
    "    .melt(id_vars=[\"word\"], var_name=\"frame\", value_name=\"distance\")"
   ]
  },
  {
   "cell_type": "markdown",
   "metadata": {},
   "source": [
    "## Estimate between-word distance"
   ]
  },
  {
   "cell_type": "code",
   "execution_count": null,
   "metadata": {},
   "outputs": [],
   "source": [
    "between_distance, between_distance_offset = \\\n",
    "    coherence.estimate_between_distance(trajectory, lengths, state_space_spec,\n",
    "                                        metric=metric)"
   ]
  },
  {
   "cell_type": "code",
   "execution_count": null,
   "metadata": {},
   "outputs": [],
   "source": [
    "between_distances_df = pd.DataFrame(np.nanmean(between_distance, axis=-1),\n",
    "                                    index=pd.Index(state_space_spec.labels, name=\"word\")) \\\n",
    "    .reset_index() \\\n",
    "    .melt(id_vars=[\"word\"], var_name=\"frame\", value_name=\"distance\")"
   ]
  },
  {
   "cell_type": "code",
   "execution_count": null,
   "metadata": {},
   "outputs": [],
   "source": [
    "between_distances_offset_df = pd.DataFrame(np.nanmean(between_distance_offset, axis=-1),\n",
    "                                    index=pd.Index(state_space_spec.labels, name=\"word\")) \\\n",
    "    .reset_index() \\\n",
    "    .melt(id_vars=[\"word\"], var_name=\"frame\", value_name=\"distance\")"
   ]
  },
  {
   "cell_type": "markdown",
   "metadata": {},
   "source": [
    "## Together"
   ]
  },
  {
   "cell_type": "code",
   "execution_count": null,
   "metadata": {},
   "outputs": [],
   "source": [
    "merged_df = pd.concat([within_distance_df.assign(type=\"within\"), between_distances_df.assign(type=\"between\")])\n",
    "merged_df.to_csv(Path(output_dir) / \"distances.csv\", index=False)\n",
    "merged_df"
   ]
  },
  {
   "cell_type": "code",
   "execution_count": null,
   "metadata": {},
   "outputs": [],
   "source": [
    "ax = sns.lineplot(data=merged_df.dropna(), x=\"frame\", y=\"distance\", hue=\"type\")\n",
    "ax.set_title(\"Representational distance within- and between-word\")\n",
    "ax.set_xlabel(\"Frames since word onset\")\n",
    "ax.set_ylabel(f\"{metric.capitalize()} distance\")"
   ]
  },
  {
   "cell_type": "code",
   "execution_count": null,
   "metadata": {},
   "outputs": [],
   "source": [
    "merged_offset_df = pd.concat([within_distance_offset_df.assign(type=\"within\"),\n",
    "                              between_distances_offset_df.assign(type=\"between\")])\n",
    "merged_offset_df.to_csv(Path(output_dir) / \"distances_aligned_offset.csv\", index=False)\n",
    "merged_offset_df"
   ]
  },
  {
   "cell_type": "code",
   "execution_count": null,
   "metadata": {},
   "outputs": [],
   "source": [
    "ax = sns.lineplot(data=merged_offset_df.dropna(),\n",
    "                  x=\"frame\", y=\"distance\", hue=\"type\")\n",
    "ax.set_title(\"Representational distance within- and between-word\")\n",
    "ax.set_xlabel(\"Frames before word offset\")\n",
    "ax.set_ylabel(f\"{metric.capitalize()} distance\")\n",
    "ax.set_xlim((0, np.percentile(np.concatenate(lengths), 95)))"
   ]
  },
  {
   "cell_type": "markdown",
   "metadata": {},
   "source": [
    "## Estimate distance by grouping features"
   ]
  },
  {
   "cell_type": "markdown",
   "metadata": {},
   "source": [
    "### Onset"
   ]
  },
  {
   "cell_type": "code",
   "execution_count": null,
   "metadata": {},
   "outputs": [],
   "source": [
    "onsets = state_space_spec.cuts.xs(\"phoneme\", level=\"level\").groupby([\"label\", \"instance_idx\"]).first().groupby(\"label\").description.value_counts().groupby(\"label\").idxmax().str[1]\n",
    "onsets = [onsets.loc[label] for label in state_space_spec.labels]"
   ]
  },
  {
   "cell_type": "code",
   "execution_count": null,
   "metadata": {},
   "outputs": [],
   "source": [
    "onset_distance_df, onset_distance_offset_df = coherence.estimate_category_within_between_distance(\n",
    "    trajectory, lengths, onsets, metric=metric, labels=state_space_spec.labels\n",
    ")"
   ]
  },
  {
   "cell_type": "code",
   "execution_count": null,
   "metadata": {},
   "outputs": [],
   "source": [
    "onset_distance_df.to_csv(Path(output_dir) / \"distances-grouped_onset.csv\", index=False)"
   ]
  },
  {
   "cell_type": "code",
   "execution_count": null,
   "metadata": {},
   "outputs": [],
   "source": [
    "ax = sns.lineplot(data=onset_distance_df.dropna(), x=\"frame\", y=\"distance\", hue=\"type\")\n",
    "ax.set_title(\"Representational distance by onset match/mismatch\")\n",
    "ax.set_xlabel(\"Frames since word onset\")\n",
    "ax.set_ylabel(f\"{metric.capitalize()} distance\")"
   ]
  },
  {
   "cell_type": "code",
   "execution_count": null,
   "metadata": {},
   "outputs": [],
   "source": [
    "onset_distance_offset_df[\"time\"] = onset_distance_offset_df.frame / 20\n",
    "onset_distance_offset_df.to_csv(Path(output_dir) / \"distances-grouped_onset_aligned_offset.csv\", index=False)"
   ]
  },
  {
   "cell_type": "markdown",
   "metadata": {},
   "source": [
    "### Onset as C/V"
   ]
  },
  {
   "cell_type": "code",
   "execution_count": null,
   "metadata": {},
   "outputs": [],
   "source": [
    "categorization = {\n",
    "    \"consonant\": \"B CH D DH F G HH JH K L M N NG P R S SH T TH V W Y Z ZH\".split(\" \"),\n",
    "    \"vowel\": \"AA AE AH AO AW AY EH ER EY IH IY OW OY UH UW\".split(\" \"),\n",
    "}\n",
    "categorization_lookup = {v: k for k, vs in categorization.items() for v in vs}\n",
    "\n",
    "onset_categories = [categorization_lookup[onset] for onset in onsets]\n",
    "\n",
    "onset_category_distance_df, onset_category_distance_offset_df = coherence.estimate_category_within_between_distance(\n",
    "    trajectory, lengths, onset_categories, metric=metric, labels=state_space_spec.labels\n",
    ")"
   ]
  },
  {
   "cell_type": "code",
   "execution_count": null,
   "metadata": {},
   "outputs": [],
   "source": [
    "onset_category_distance_df.to_csv(Path(output_dir) / \"distances-grouped_onset_category.csv\", index=False)"
   ]
  },
  {
   "cell_type": "markdown",
   "metadata": {},
   "source": [
    "### Offset"
   ]
  },
  {
   "cell_type": "code",
   "execution_count": null,
   "metadata": {},
   "outputs": [],
   "source": [
    "offsets = state_space_spec.cuts.xs(\"phoneme\", level=\"level\").groupby([\"label\", \"instance_idx\"]).last().groupby(\"label\").description.value_counts().groupby(\"label\").idxmax().str[1]\n",
    "offsets = [offsets.loc[label] for label in state_space_spec.labels]"
   ]
  },
  {
   "cell_type": "code",
   "execution_count": null,
   "metadata": {},
   "outputs": [],
   "source": [
    "offset_distance_df, offset_distance_offset_df = coherence.estimate_category_within_between_distance(\n",
    "    trajectory, lengths, offsets, metric=metric, labels=state_space_spec.labels\n",
    ")"
   ]
  },
  {
   "cell_type": "code",
   "execution_count": null,
   "metadata": {},
   "outputs": [],
   "source": [
    "offset_distance_df[\"time\"] = (offset_distance_df.frame - 1) / 20\n",
    "offset_distance_df.to_csv(Path(output_dir) / \"distances-grouped_offset.csv\", index=False)"
   ]
  },
  {
   "cell_type": "code",
   "execution_count": null,
   "metadata": {},
   "outputs": [],
   "source": [
    "offset_distance_offset_df[\"time\"] = offset_distance_offset_df.frame / 20\n",
    "offset_distance_offset_df.to_csv(Path(output_dir) / \"distances-grouped_offset_aligned_offset.csv\", index=False)"
   ]
  },
  {
   "cell_type": "code",
   "execution_count": null,
   "metadata": {},
   "outputs": [],
   "source": [
    "ax = sns.lineplot(data=offset_distance_offset_df.dropna(), x=\"frame\", y=\"distance\", hue=\"type\")\n",
    "ax.set_title(\"Representational distance by onset match/mismatch\")\n",
    "ax.set_xlabel(\"Frames before word offset\")\n",
    "ax.set_ylabel(f\"{metric.capitalize()} distance\")"
   ]
  },
  {
   "cell_type": "markdown",
   "metadata": {},
   "source": [
    "## Add word metadata and explore"
   ]
  },
  {
   "cell_type": "code",
   "execution_count": null,
   "metadata": {},
   "outputs": [],
   "source": [
    "word_metadata = get_word_metadata(state_space_spec)"
   ]
  },
  {
   "cell_type": "code",
   "execution_count": null,
   "metadata": {},
   "outputs": [],
   "source": [
    "def truncate_contrasts(distance_df, extra_grouping_variables=None, min_contrast_instances=30) -> pd.DataFrame:\n",
    "    # We want to make comparisons between contrasts only when we have enough data\n",
    "    # between individual units in the contrast to have a meaningful mean.\n",
    "    # e.g. if a \"within\" contrast at frame 5 only has 2 instances, it's not so informative to compare this mean to the \"between\" contrast at frame 5.\n",
    "\n",
    "    if extra_grouping_variables is None:\n",
    "        extra_grouping_variables = []\n",
    "    extra_grouping_variables = list(set(extra_grouping_variables) - {\"type\", \"frame\"})\n",
    "\n",
    "    # Find the maximum frame at which, for all contrasts, we have at least `min_contrast_instances` instances\n",
    "    # underlying each contrast value.\n",
    "    max_contrast_frame = (distance_df.dropna().groupby([\"type\", \"frame\"] + extra_grouping_variables).distance.count() < min_contrast_instances) \\\n",
    "        .groupby(\"frame\").max().idxmax()\n",
    "    \n",
    "    return distance_df[distance_df.frame < max_contrast_frame]"
   ]
  },
  {
   "cell_type": "code",
   "execution_count": null,
   "metadata": {},
   "outputs": [],
   "source": [
    "def plot_coherence_panel(distance_df, distance_offset_df, hue=None, style=None, dropna_columns=None):\n",
    "    # merge metadata\n",
    "    to_merge = word_metadata.groupby(\"label\").first().reset_index()\n",
    "    distance_df = distance_df.merge(to_merge, on=\"label\", how=\"left\")\n",
    "    distance_offset_df = distance_offset_df.merge(to_merge, on=\"label\", how=\"left\")\n",
    "\n",
    "    extra_grouping_variables = []\n",
    "    if hue is not None:\n",
    "        extra_grouping_variables.append(hue)\n",
    "    if style is not None:\n",
    "        extra_grouping_variables.append(style)\n",
    "    distance_df = truncate_contrasts(distance_df, extra_grouping_variables=extra_grouping_variables)\n",
    "    distance_offset_df = distance_offset_df[distance_offset_df.frame <= distance_df.frame.max()]\n",
    "\n",
    "    if dropna_columns is not None:\n",
    "        distance_df = distance_df.dropna(subset=dropna_columns)\n",
    "        distance_offset_df = distance_offset_df.dropna(subset=dropna_columns)\n",
    "\n",
    "    f, ax = plt.subplots(1, 2, figsize=(2 * 8, 6), sharey=True)\n",
    "\n",
    "    sns.lineplot(data=distance_df, x=\"frame\", y=\"distance\",\n",
    "                 hue=\"type\" if hue is None else hue, style=style,\n",
    "                 errorbar=\"se\", ax=ax[0])\n",
    "    ax[0].set_xlabel(\"Frames since word onset\")\n",
    "\n",
    "    sns.lineplot(data=distance_offset_df, x=\"frame\", y=\"distance\",\n",
    "                 hue=\"type\" if hue is None else hue, style=style,\n",
    "                 errorbar=\"se\", ax=ax[1])\n",
    "    ax[1].set_xlabel(\"Frames before word offset\")\n",
    "    ax[1].invert_xaxis()\n",
    "\n",
    "    ax[0].axhline(1, color=\"gray\", linestyle=\"--\")\n",
    "    ax[1].axhline(1, color=\"gray\", linestyle=\"--\")\n",
    "    ax[0].set_ylim((0, 1.5))\n",
    "\n",
    "    return f, ax"
   ]
  },
  {
   "cell_type": "markdown",
   "metadata": {},
   "source": [
    "### Identity-matched"
   ]
  },
  {
   "cell_type": "code",
   "execution_count": null,
   "metadata": {},
   "outputs": [],
   "source": [
    "f, axs = plot_coherence_panel(merged_df.rename(columns={\"word\": \"label\"}), merged_offset_df.rename(columns={\"word\": \"label\"}),\n",
    "                              hue=\"type\", style=\"stress_primary_initial\", dropna_columns=[\"stress_primary_initial\"])\n",
    "f.suptitle(\"Representational distance within- and between-word, by stress\")"
   ]
  },
  {
   "cell_type": "code",
   "execution_count": null,
   "metadata": {},
   "outputs": [],
   "source": [
    "f, axs = plot_coherence_panel(merged_df.rename(columns={\"word\": \"label\"}), merged_offset_df.rename(columns={\"word\": \"label\"}), hue=\"word_frequency_quantile\", style=\"type\")\n",
    "f.suptitle(\"Representational distance within- and between-word, by word frequency quantile\")"
   ]
  },
  {
   "cell_type": "markdown",
   "metadata": {},
   "source": [
    "### Onset-matched"
   ]
  },
  {
   "cell_type": "code",
   "execution_count": null,
   "metadata": {},
   "outputs": [],
   "source": [
    "f, axs = plot_coherence_panel(onset_distance_df, onset_distance_offset_df, style=\"stress_primary_initial\",\n",
    "                              dropna_columns=[\"stress_primary_initial\"])\n",
    "f.suptitle(\"Representational distance by onset match/mismatch and primary initial stress\")"
   ]
  },
  {
   "cell_type": "code",
   "execution_count": null,
   "metadata": {},
   "outputs": [],
   "source": [
    "f, axs = plot_coherence_panel(onset_distance_df, onset_distance_offset_df, style=\"stress_primary_final\",\n",
    "                              dropna_columns=[\"stress_primary_final\"])\n",
    "f.suptitle(\"Representational distance by onset match/mismatch and primary final stress\")"
   ]
  },
  {
   "cell_type": "code",
   "execution_count": null,
   "metadata": {},
   "outputs": [],
   "source": [
    "f, axs = plot_coherence_panel(onset_distance_df, onset_distance_offset_df, hue=\"word_frequency_quantile\", style=\"type\")\n",
    "f.suptitle(\"Representational distance by onset match/mismatch and word frequency quantile\")"
   ]
  },
  {
   "cell_type": "markdown",
   "metadata": {},
   "source": [
    "### Offset-matched"
   ]
  },
  {
   "cell_type": "code",
   "execution_count": null,
   "metadata": {},
   "outputs": [],
   "source": [
    "f, axs = plot_coherence_panel(offset_distance_df, offset_distance_offset_df, style=\"stress_primary_initial\",\n",
    "                                dropna_columns=[\"stress_primary_initial\"])\n",
    "f.suptitle(\"Representational distance by offset match/mismatch and primary initial stress\")"
   ]
  },
  {
   "cell_type": "code",
   "execution_count": null,
   "metadata": {},
   "outputs": [],
   "source": [
    "f, axs = plot_coherence_panel(offset_distance_df, offset_distance_offset_df, hue=\"word_frequency_quantile\",\n",
    "                                style=\"type\")\n",
    "f.suptitle(\"Representational distance by offset match/mismatch and word frequency quantile\")"
   ]
  },
  {
   "cell_type": "markdown",
   "metadata": {},
   "source": [
    "## Model-free exploration"
   ]
  },
  {
   "cell_type": "code",
   "execution_count": null,
   "metadata": {},
   "outputs": [],
   "source": [
    "knn_window_size = 10"
   ]
  },
  {
   "cell_type": "code",
   "execution_count": null,
   "metadata": {},
   "outputs": [],
   "source": [
    "knn_references = np.concatenate([np.nanmean(traj_i[:, :knn_window_size, :], axis=1)  # .reshape((traj_i.shape[0], -1))\n",
    "                                 for traj_i in trajectory])\n",
    "knn_reference_ids = np.stack([(state_space_spec.labels[idx], j)\n",
    "                                    for idx in range(len(trajectory)) for j in range(trajectory[idx].shape[0])])"
   ]
  },
  {
   "cell_type": "code",
   "execution_count": null,
   "metadata": {},
   "outputs": [],
   "source": [
    "knn_instances = np.random.choice(len(knn_references), 10, replace=False)"
   ]
  },
  {
   "cell_type": "code",
   "execution_count": null,
   "metadata": {},
   "outputs": [],
   "source": [
    "assert knn_references.shape[0] == knn_reference_ids.shape[0]"
   ]
  },
  {
   "cell_type": "code",
   "execution_count": null,
   "metadata": {},
   "outputs": [],
   "source": [
    "from scipy.spatial.distance import cdist, pdist, squareform"
   ]
  },
  {
   "cell_type": "code",
   "execution_count": null,
   "metadata": {},
   "outputs": [],
   "source": [
    "for knn_instance in knn_instances:\n",
    "    ref_embedding = knn_references[knn_instance]\n",
    "    knn_instance_results = cdist(knn_references, ref_embedding[None, :], metric=metric).ravel()\n",
    "\n",
    "    print(knn_reference_ids[knn_instance])\n",
    "    print(\"Nearest neighbors:\")\n",
    "    print(knn_reference_ids[knn_instance_results.argsort()[1:10]])\n",
    "    print(\"Furthest neighbors:\")\n",
    "    print(knn_reference_ids[(-knn_instance_results).argsort()[:10]])\n",
    "    print()"
   ]
  },
  {
   "cell_type": "markdown",
   "metadata": {},
   "source": [
    "### RSA, collapsed over instances"
   ]
  },
  {
   "cell_type": "code",
   "execution_count": null,
   "metadata": {},
   "outputs": [],
   "source": [
    "rsa_ids = np.unique(knn_reference_ids[:, 0])\n",
    "rsa_references = np.stack([np.nanmean(knn_references[knn_reference_ids[:, 0] == rsa_id], axis=0)\n",
    "                            for rsa_id in rsa_ids])\n",
    "rsa_distances = squareform(pdist(rsa_references, metric=metric))\n",
    "rsa_distances = pd.DataFrame(rsa_distances, index=rsa_ids, columns=rsa_ids)"
   ]
  },
  {
   "cell_type": "code",
   "execution_count": null,
   "metadata": {},
   "outputs": [],
   "source": [
    "sns.heatmap(rsa_distances)"
   ]
  },
  {
   "cell_type": "code",
   "execution_count": null,
   "metadata": {},
   "outputs": [],
   "source": [
    "sns.clustermap(rsa_distances)"
   ]
  },
  {
   "cell_type": "code",
   "execution_count": null,
   "metadata": {},
   "outputs": [],
   "source": [
    "# Print closest pairs\n",
    "rsa_distances.values[np.diag_indices(len(rsa_distances))] = rsa_distances.values.flatten().mean()\n",
    "closest_pair_idxs = rsa_distances.values.ravel().argsort()\n",
    "closest_pair_idxs = np.stack(np.unravel_index(closest_pair_idxs, rsa_distances.shape)).T\n",
    "closest_pair_idxs = closest_pair_idxs[closest_pair_idxs[:, 0] != closest_pair_idxs[:, 1]]\n",
    "\n",
    "print_n = 50\n",
    "for x, y in closest_pair_idxs[:print_n]:\n",
    "    if x < y:\n",
    "        print(rsa_distances.index[x], rsa_distances.columns[y], rsa_distances.values[x, y])\n",
    "print(\"---\")\n",
    "for x, y in closest_pair_idxs[-print_n:]:\n",
    "    if x > y:\n",
    "        print(rsa_distances.index[x], rsa_distances.columns[y], rsa_distances.values[x, y])"
   ]
  }
 ],
 "metadata": {
  "kernelspec": {
   "display_name": "Python 3",
   "language": "python",
   "name": "python3"
  },
  "language_info": {
   "codemirror_mode": {
    "name": "ipython",
    "version": 3
   },
   "file_extension": ".py",
   "mimetype": "text/x-python",
   "name": "python",
   "nbconvert_exporter": "python",
   "pygments_lexer": "ipython3",
   "version": "3.10.13"
  }
 },
 "nbformat": 4,
 "nbformat_minor": 4
}
