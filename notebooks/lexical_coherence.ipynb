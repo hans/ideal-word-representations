{
 "cells": [
  {
   "cell_type": "code",
   "execution_count": null,
   "metadata": {},
   "outputs": [],
   "source": [
    "%load_ext autoreload\n",
    "%autoreload 2"
   ]
  },
  {
   "cell_type": "code",
   "execution_count": null,
   "metadata": {},
   "outputs": [],
   "source": [
    "import os\n",
    "os.environ[\"CUDA_VISIBLE_DEVICES\"] = \"\""
   ]
  },
  {
   "cell_type": "code",
   "execution_count": null,
   "metadata": {},
   "outputs": [],
   "source": [
    "import sys\n",
    "sys.path.append(\"../\")"
   ]
  },
  {
   "cell_type": "code",
   "execution_count": null,
   "metadata": {},
   "outputs": [],
   "source": [
    "from pathlib import Path\n",
    "import pickle\n",
    "\n",
    "import matplotlib.pyplot as plt\n",
    "import numpy as np\n",
    "import pandas as pd\n",
    "import seaborn as sns\n",
    "import torch\n",
    "from tqdm.auto import tqdm\n",
    "\n",
    "from src.analysis import coherence\n",
    "from src.analysis.state_space import prepare_state_trajectory, StateSpaceAnalysisSpec\n",
    "from src.datasets.speech_equivalence import SpeechEquivalenceDataset"
   ]
  },
  {
   "cell_type": "code",
   "execution_count": null,
   "metadata": {
    "tags": [
     "parameters"
    ]
   },
   "outputs": [],
   "source": [
    "model_dir = \"outputs/models/timit/w2v2_6/rnn_8-weightdecay0.01/word_broad_10frames\"\n",
    "output_dir = \".\"\n",
    "dataset_path = \"outputs/preprocessed_data/timit\"\n",
    "equivalence_path = \"outputs/equivalence_datasets/timit/w2v2_6/word_broad_10frames/equivalence.pkl\"\n",
    "hidden_states_path = \"outputs/hidden_states/timit/w2v2_6/hidden_states.h5\"\n",
    "state_space_specs_path = \"outputs/state_space_specs/timit/w2v2_6/state_space_specs.pkl\"\n",
    "embeddings_path = \"outputs/model_embeddings/timit/w2v2_6/rnn_8-weightdecay0.01/word_broad_10frames/embeddings.npy\"\n",
    "\n",
    "metric = \"cosine\"\n",
    "\n",
    "# Retain words with N or more instances\n",
    "retain_n = 10"
   ]
  },
  {
   "cell_type": "code",
   "execution_count": null,
   "metadata": {},
   "outputs": [],
   "source": [
    "with open(embeddings_path, \"rb\") as f:\n",
    "    model_representations: np.ndarray = np.load(f)\n",
    "with open(equivalence_path, \"rb\") as f:\n",
    "    equiv_dataset: SpeechEquivalenceDataset = torch.load(f)\n",
    "with open(state_space_specs_path, \"rb\") as f:\n",
    "    state_space_spec: StateSpaceAnalysisSpec = torch.load(f)[\"word\"]\n",
    "assert state_space_spec.is_compatible_with(model_representations)"
   ]
  },
  {
   "cell_type": "code",
   "execution_count": null,
   "metadata": {},
   "outputs": [],
   "source": [
    "drop_idxs = [idx for idx, target_frames in enumerate(state_space_spec.target_frame_spans)\n",
    "               if len(target_frames) < retain_n]\n",
    "state_space_spec = state_space_spec.drop_labels(drop_idxs)"
   ]
  },
  {
   "cell_type": "code",
   "execution_count": null,
   "metadata": {},
   "outputs": [],
   "source": [
    "trajectory = prepare_state_trajectory(model_representations, state_space_spec, pad=np.nan)\n",
    "lengths = [np.isnan(traj_i[:, :, 0]).argmax(axis=1) for traj_i in trajectory]"
   ]
  },
  {
   "cell_type": "code",
   "execution_count": null,
   "metadata": {},
   "outputs": [],
   "source": [
    "len(trajectory), np.concatenate(lengths).mean()"
   ]
  },
  {
   "cell_type": "markdown",
   "metadata": {},
   "source": [
    "## Estimate within-word distance"
   ]
  },
  {
   "cell_type": "code",
   "execution_count": null,
   "metadata": {},
   "outputs": [],
   "source": [
    "within_distance, within_distance_offset = \\\n",
    "    coherence.estimate_within_distance(trajectory, lengths, state_space_spec, metric=metric)"
   ]
  },
  {
   "cell_type": "code",
   "execution_count": null,
   "metadata": {},
   "outputs": [],
   "source": [
    "within_distance_df = pd.DataFrame(within_distance, index=pd.Index(state_space_spec.labels, name=\"word\")) \\\n",
    "    .reset_index() \\\n",
    "    .melt(id_vars=[\"word\"], var_name=\"frame\", value_name=\"distance\")"
   ]
  },
  {
   "cell_type": "code",
   "execution_count": null,
   "metadata": {},
   "outputs": [],
   "source": [
    "within_distance_offset_df = pd.DataFrame(within_distance_offset, index=pd.Index(state_space_spec.labels, name=\"word\")) \\\n",
    "    .reset_index() \\\n",
    "    .melt(id_vars=[\"word\"], var_name=\"frame\", value_name=\"distance\")"
   ]
  },
  {
   "cell_type": "markdown",
   "metadata": {},
   "source": [
    "## Estimate between-word distance"
   ]
  },
  {
   "cell_type": "code",
   "execution_count": null,
   "metadata": {},
   "outputs": [],
   "source": [
    "between_distance, between_distance_offset = \\\n",
    "    coherence.estimate_between_distance(trajectory, lengths, state_space_spec,\n",
    "                                        metric=metric)"
   ]
  },
  {
   "cell_type": "code",
   "execution_count": null,
   "metadata": {},
   "outputs": [],
   "source": [
    "between_distances_df = pd.DataFrame(np.nanmean(between_distance, axis=-1),\n",
    "                                    index=pd.Index(state_space_spec.labels, name=\"word\")) \\\n",
    "    .reset_index() \\\n",
    "    .melt(id_vars=[\"word\"], var_name=\"frame\", value_name=\"distance\")"
   ]
  },
  {
   "cell_type": "code",
   "execution_count": null,
   "metadata": {},
   "outputs": [],
   "source": [
    "between_distances_offset_df = pd.DataFrame(np.nanmean(between_distance_offset, axis=-1),\n",
    "                                    index=pd.Index(state_space_spec.labels, name=\"word\")) \\\n",
    "    .reset_index() \\\n",
    "    .melt(id_vars=[\"word\"], var_name=\"frame\", value_name=\"distance\")"
   ]
  },
  {
   "cell_type": "markdown",
   "metadata": {},
   "source": [
    "## Together"
   ]
  },
  {
   "cell_type": "code",
   "execution_count": null,
   "metadata": {},
   "outputs": [],
   "source": [
    "merged_df = pd.concat([within_distance_df.assign(type=\"within\"), between_distances_df.assign(type=\"between\")])\n",
    "merged_df.to_csv(Path(output_dir) / \"distances.csv\", index=False)\n",
    "merged_df"
   ]
  },
  {
   "cell_type": "code",
   "execution_count": null,
   "metadata": {},
   "outputs": [],
   "source": [
    "ax = sns.lineplot(data=merged_df.dropna(), x=\"frame\", y=\"distance\", hue=\"type\")\n",
    "ax.set_title(\"Representational distance within- and between-word\")\n",
    "ax.set_xlabel(\"Frames since word onset\")\n",
    "ax.set_ylabel(f\"{metric.capitalize()} distance\")"
   ]
  },
  {
   "cell_type": "code",
   "execution_count": null,
   "metadata": {},
   "outputs": [],
   "source": [
    "merged_offset_df = pd.concat([within_distance_offset_df.assign(type=\"within\"),\n",
    "                              between_distances_offset_df.assign(type=\"between\")])\n",
    "merged_offset_df.to_csv(Path(output_dir) / \"distances_aligned_offset.csv\", index=False)\n",
    "merged_offset_df"
   ]
  },
  {
   "cell_type": "code",
   "execution_count": null,
   "metadata": {},
   "outputs": [],
   "source": [
    "ax = sns.lineplot(data=merged_offset_df.dropna(),\n",
    "                  x=\"frame\", y=\"distance\", hue=\"type\")\n",
    "ax.set_title(\"Representational distance within- and between-word\")\n",
    "ax.set_xlabel(\"Frames before word offset\")\n",
    "ax.set_ylabel(f\"{metric.capitalize()} distance\")\n",
    "ax.set_xlim((0, np.percentile(np.concatenate(lengths), 95)))"
   ]
  },
  {
   "cell_type": "markdown",
   "metadata": {},
   "source": [
    "## Estimate distance by grouping features"
   ]
  },
  {
   "cell_type": "markdown",
   "metadata": {},
   "source": [
    "### Onset"
   ]
  },
  {
   "cell_type": "code",
   "execution_count": null,
   "metadata": {},
   "outputs": [],
   "source": [
    "onsets = [word[0] for word in state_space_spec.labels]\n",
    "\n",
    "onset_distance_df, onset_distance_offset_df = coherence.estimate_category_within_between_distance(\n",
    "    trajectory, lengths, onsets, metric=metric, labels=state_space_spec.labels\n",
    ")"
   ]
  },
  {
   "cell_type": "code",
   "execution_count": null,
   "metadata": {},
   "outputs": [],
   "source": [
    "onset_distance_df.to_csv(Path(output_dir) / \"distances-grouped_onset.csv\", index=False)"
   ]
  },
  {
   "cell_type": "code",
   "execution_count": null,
   "metadata": {},
   "outputs": [],
   "source": [
    "ax = sns.lineplot(data=onset_distance_df.dropna(), x=\"frame\", y=\"distance\", hue=\"type\")\n",
    "ax.set_title(\"Representational distance by onset match/mismatch\")\n",
    "ax.set_xlabel(\"Frames since word onset\")\n",
    "ax.set_ylabel(f\"{metric.capitalize()} distance\")"
   ]
  },
  {
   "cell_type": "code",
   "execution_count": null,
   "metadata": {},
   "outputs": [],
   "source": [
    "onset_distance_offset_df[\"time\"] = (onset_distance_offset_df.frame - 1) / 20\n",
    "onset_distance_offset_df.to_csv(Path(output_dir) / \"distances-grouped_onset_aligned_offset.csv\", index=False)"
   ]
  },
  {
   "cell_type": "markdown",
   "metadata": {},
   "source": [
    "### Offset"
   ]
  },
  {
   "cell_type": "code",
   "execution_count": null,
   "metadata": {},
   "outputs": [],
   "source": [
    "offsets = [word[-1] for word in state_space_spec.labels]\n",
    "\n",
    "offset_distance_df, offset_distance_offset_df = coherence.estimate_category_within_between_distance(\n",
    "    trajectory, lengths, offsets, metric=metric, labels=state_space_spec.labels\n",
    ")"
   ]
  },
  {
   "cell_type": "code",
   "execution_count": null,
   "metadata": {},
   "outputs": [],
   "source": [
    "offset_distance_df[\"time\"] = (offset_distance_df.frame - 1) / 20\n",
    "offset_distance_df.to_csv(Path(output_dir) / \"distances-grouped_offset.csv\", index=False)"
   ]
  },
  {
   "cell_type": "code",
   "execution_count": null,
   "metadata": {},
   "outputs": [],
   "source": [
    "offset_distance_offset_df[\"time\"] = (offset_distance_offset_df.frame - 1) / 20\n",
    "offset_distance_offset_df.to_csv(Path(output_dir) / \"distances-grouped_offset_aligned_offset.csv\", index=False)"
   ]
  },
  {
   "cell_type": "code",
   "execution_count": null,
   "metadata": {},
   "outputs": [],
   "source": [
    "ax = sns.lineplot(data=offset_distance_offset_df.dropna(), x=\"frame\", y=\"distance\", hue=\"type\")\n",
    "ax.set_title(\"Representational distance by offset match/mismatch\")\n",
    "ax.set_xlabel(\"Frames before word offset\")\n",
    "ax.set_ylabel(f\"{metric.capitalize()} distance\")"
   ]
  },
  {
   "cell_type": "markdown",
   "metadata": {},
   "source": [
    "## Model-free exploration"
   ]
  },
  {
   "cell_type": "code",
   "execution_count": null,
   "metadata": {},
   "outputs": [],
   "source": [
    "knn_window_size = 10"
   ]
  },
  {
   "cell_type": "code",
   "execution_count": null,
   "metadata": {},
   "outputs": [],
   "source": [
    "knn_references = np.concatenate([np.nanmean(traj_i[:, :knn_window_size, :], axis=1)  # .reshape((traj_i.shape[0], -1))\n",
    "                                 for traj_i in trajectory])\n",
    "knn_reference_ids = np.stack([(state_space_spec.labels[idx], j)\n",
    "                                    for idx in range(len(trajectory)) for j in range(trajectory[idx].shape[0])])"
   ]
  },
  {
   "cell_type": "code",
   "execution_count": null,
   "metadata": {},
   "outputs": [],
   "source": [
    "knn_instances = np.random.choice(len(knn_references), 10, replace=False)"
   ]
  },
  {
   "cell_type": "code",
   "execution_count": null,
   "metadata": {},
   "outputs": [],
   "source": [
    "assert knn_references.shape[0] == knn_reference_ids.shape[0]"
   ]
  },
  {
   "cell_type": "code",
   "execution_count": null,
   "metadata": {},
   "outputs": [],
   "source": [
    "from scipy.spatial.distance import cdist, pdist, squareform"
   ]
  },
  {
   "cell_type": "code",
   "execution_count": null,
   "metadata": {},
   "outputs": [],
   "source": [
    "for knn_instance in knn_instances:\n",
    "    ref_embedding = knn_references[knn_instance]\n",
    "    knn_instance_results = cdist(knn_references, ref_embedding[None, :], metric=metric).ravel()\n",
    "\n",
    "    print(knn_reference_ids[knn_instance])\n",
    "    print(\"Nearest neighbors:\")\n",
    "    print(knn_reference_ids[knn_instance_results.argsort()[1:10]])\n",
    "    print(\"Furthest neighbors:\")\n",
    "    print(knn_reference_ids[(-knn_instance_results).argsort()[:10]])\n",
    "    print()"
   ]
  },
  {
   "cell_type": "markdown",
   "metadata": {},
   "source": [
    "### RSA, collapsed over instances"
   ]
  },
  {
   "cell_type": "code",
   "execution_count": null,
   "metadata": {},
   "outputs": [],
   "source": [
    "rsa_ids = np.unique(knn_reference_ids[:, 0])\n",
    "rsa_references = np.stack([np.nanmean(knn_references[knn_reference_ids[:, 0] == rsa_id], axis=0)\n",
    "                            for rsa_id in rsa_ids])\n",
    "rsa_distances = squareform(pdist(rsa_references, metric=metric))\n",
    "rsa_distances = pd.DataFrame(rsa_distances, index=rsa_ids, columns=rsa_ids)"
   ]
  },
  {
   "cell_type": "code",
   "execution_count": null,
   "metadata": {},
   "outputs": [],
   "source": [
    "sns.heatmap(rsa_distances)"
   ]
  },
  {
   "cell_type": "code",
   "execution_count": null,
   "metadata": {},
   "outputs": [],
   "source": [
    "sns.clustermap(rsa_distances)"
   ]
  },
  {
   "cell_type": "code",
   "execution_count": null,
   "metadata": {},
   "outputs": [],
   "source": [
    "# Print closest pairs\n",
    "rsa_distances.values[np.diag_indices(len(rsa_distances))] = rsa_distances.values.flatten().mean()\n",
    "closest_pair_idxs = rsa_distances.values.ravel().argsort()\n",
    "closest_pair_idxs = np.stack(np.unravel_index(closest_pair_idxs, rsa_distances.shape)).T\n",
    "closest_pair_idxs = closest_pair_idxs[closest_pair_idxs[:, 0] != closest_pair_idxs[:, 1]]\n",
    "\n",
    "print_n = 50\n",
    "for x, y in closest_pair_idxs[:print_n]:\n",
    "    if x < y:\n",
    "        print(rsa_distances.index[x], rsa_distances.columns[y], rsa_distances.values[x, y])\n",
    "print(\"---\")\n",
    "for x, y in closest_pair_idxs[-print_n:]:\n",
    "    if x > y:\n",
    "        print(rsa_distances.index[x], rsa_distances.columns[y], rsa_distances.values[x, y])"
   ]
  }
 ],
 "metadata": {
  "kernelspec": {
   "display_name": "Python 3 (ipykernel)",
   "language": "python",
   "name": "python3"
  },
  "language_info": {
   "codemirror_mode": {
    "name": "ipython",
    "version": 3
   },
   "file_extension": ".py",
   "mimetype": "text/x-python",
   "name": "python",
   "nbconvert_exporter": "python",
   "pygments_lexer": "ipython3",
   "version": "3.10.13"
  }
 },
 "nbformat": 4,
 "nbformat_minor": 4
}
