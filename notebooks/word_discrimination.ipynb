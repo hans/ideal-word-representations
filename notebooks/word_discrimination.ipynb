{
 "cells": [
  {
   "cell_type": "code",
   "execution_count": null,
   "metadata": {},
   "outputs": [],
   "source": [
    "%load_ext autoreload\n",
    "%autoreload 2"
   ]
  },
  {
   "cell_type": "code",
   "execution_count": null,
   "metadata": {},
   "outputs": [],
   "source": [
    "from dataclasses import replace\n",
    "from pathlib import Path\n",
    "\n",
    "import matplotlib.pyplot as plt\n",
    "import numpy as np\n",
    "import seaborn as sns\n",
    "import pandas as pd\n",
    "from scipy.spatial.distance import pdist\n",
    "from sklearn.metrics import average_precision_score\n",
    "import torch\n",
    "from tqdm.auto import tqdm\n",
    "\n",
    "from src.datasets.speech_equivalence import SpeechHiddenStateDataset\n",
    "from src.analysis.state_space import StateSpaceAnalysisSpec, \\\n",
    "    prepare_state_trajectory, aggregate_state_trajectory\n",
    "from src.analysis.trf import coefs_to_df\n",
    "from src.datasets.speech_equivalence import SpeechEquivalenceDataset\n",
    "from src.utils.timit import get_word_metadata"
   ]
  },
  {
   "cell_type": "code",
   "execution_count": null,
   "metadata": {},
   "outputs": [],
   "source": [
    "dataset = \"timit-no_repeats\"\n",
    "state_space_name = \"word\"\n",
    "\n",
    "# base_model = \"w2v2_6\"\n",
    "# model_class = \"rnn_8-weightdecay0.01\"\n",
    "# model_name = \"biphone_recon\"\n",
    "\n",
    "base_model = \"w2v2_8\"\n",
    "model_class = \"rnn_8-aniso2\"\n",
    "model_name = \"word_broad\"\n",
    "\n",
    "model_dir = f\"outputs/models/{dataset}/{base_model}/{model_class}/{model_name}_10frames\"\n",
    "output_dir = f\"outputs/notebooks/{dataset}/{base_model}/{model_class}/{model_name}_10frames/state_space\"\n",
    "dataset_path = f\"outputs/preprocessed_data/{dataset}\"\n",
    "equivalence_path = f\"outputs/equivalence_datasets/{dataset}/{base_model}/{model_name}_10frames/equivalence.pkl\"\n",
    "hidden_states_path = f\"outputs/hidden_states/{dataset}/{base_model}/hidden_states.h5\"\n",
    "state_space_specs_path = f\"outputs/state_space_specs/{dataset}/{base_model}/state_space_specs.pkl\"\n",
    "embeddings_path = f\"outputs/model_embeddings/{dataset}/{base_model}/{model_class}/{model_name}_10frames/embeddings.npy\"\n",
    "\n",
    "metric = \"cosine\""
   ]
  },
  {
   "cell_type": "code",
   "execution_count": null,
   "metadata": {},
   "outputs": [],
   "source": [
    "with open(embeddings_path, \"rb\") as f:\n",
    "    model_representations: np.ndarray = np.load(f)\n",
    "with open(state_space_specs_path, \"rb\") as f:\n",
    "    state_space_spec: StateSpaceAnalysisSpec = torch.load(f)[state_space_name]\n",
    "assert state_space_spec.is_compatible_with(model_representations)"
   ]
  },
  {
   "cell_type": "code",
   "execution_count": null,
   "metadata": {},
   "outputs": [],
   "source": [
    "trajectory = prepare_state_trajectory(\n",
    "    model_representations,\n",
    "    state_space_spec,\n",
    "    pad=np.nan\n",
    ")"
   ]
  },
  {
   "cell_type": "code",
   "execution_count": null,
   "metadata": {},
   "outputs": [],
   "source": [
    "trajectory = aggregate_state_trajectory(trajectory, \"mean\", keepdims=True)"
   ]
  },
  {
   "cell_type": "code",
   "execution_count": null,
   "metadata": {},
   "outputs": [],
   "source": [
    "traj_idxs = np.concatenate([np.ones(traj_i.shape[0]) * i for i, traj_i in enumerate(trajectory)])\n",
    "traj_mat = np.concatenate(trajectory, axis=0).squeeze(1)\n",
    "assert traj_mat.ndim == 2\n",
    "assert traj_mat.shape[0] == len(traj_idxs)"
   ]
  },
  {
   "cell_type": "code",
   "execution_count": null,
   "metadata": {},
   "outputs": [],
   "source": [
    "dists = pdist(traj_mat, metric)"
   ]
  },
  {
   "cell_type": "code",
   "execution_count": null,
   "metadata": {},
   "outputs": [],
   "source": [
    "labels = 1 - np.minimum(1., pdist(traj_idxs[:, None], metric=\"euclidean\")).astype(int)"
   ]
  },
  {
   "cell_type": "code",
   "execution_count": null,
   "metadata": {},
   "outputs": [],
   "source": [
    "ap = average_precision_score(labels, dists)\n",
    "ap"
   ]
  },
  {
   "cell_type": "code",
   "execution_count": null,
   "metadata": {},
   "outputs": [],
   "source": [
    "from sklearn.metrics import PrecisionRecallDisplay\n",
    "PrecisionRecallDisplay.from_predictions(labels, dists)"
   ]
  }
 ],
 "metadata": {
  "kernelspec": {
   "display_name": "Python 3",
   "language": "python",
   "name": "python3"
  },
  "language_info": {
   "codemirror_mode": {
    "name": "ipython",
    "version": 3
   },
   "file_extension": ".py",
   "mimetype": "text/x-python",
   "name": "python",
   "nbconvert_exporter": "python",
   "pygments_lexer": "ipython3",
   "version": "3.10.13"
  }
 },
 "nbformat": 4,
 "nbformat_minor": 2
}
