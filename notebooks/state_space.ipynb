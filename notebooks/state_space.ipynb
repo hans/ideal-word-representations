{
 "cells": [
  {
   "cell_type": "code",
   "execution_count": 1,
   "metadata": {},
   "outputs": [],
   "source": [
    "import os\n",
    "os.environ[\"CUDA_VISIBLE_DEVICES\"] = \"\""
   ]
  },
  {
   "cell_type": "code",
   "execution_count": 2,
   "metadata": {},
   "outputs": [],
   "source": [
    "import sys\n",
    "sys.path.append(\"../\")"
   ]
  },
  {
   "cell_type": "code",
   "execution_count": 3,
   "metadata": {},
   "outputs": [],
   "source": [
    "\n",
    "from pathlib import Path\n",
    "import pickle\n",
    "\n",
    "import datasets\n",
    "import matplotlib.pyplot as plt\n",
    "import numpy as np\n",
    "from sklearn.decomposition import PCA\n",
    "\n",
    "from src.analysis.state_space import prepare_word_trajectory_spec, prepare_state_trajectory\n",
    "from src.datasets.speech_equivalence import SpeechEquivalenceDataset\n",
    "from src.models.integrator import ContrastiveEmbeddingModel, compute_embeddings"
   ]
  },
  {
   "cell_type": "code",
   "execution_count": 4,
   "metadata": {},
   "outputs": [],
   "source": [
    "# model_checkpoint = \"../out/ce_model_phoneme_within_word_prefix_6_32/checkpoint-600\"\n",
    "# equiv_dataset_path = \"../data/timit_equiv_phoneme_within_word_prefix_1.pkl\"\n",
    "model_checkpoint = \"../out/ce_model_phoneme_6_32/checkpoint-800/\"\n",
    "equiv_dataset_path = \"../data/timit_equiv_phoneme_1.pkl\"\n",
    "\n",
    "state_space_spec = \"../out/state_space_specs/sh.pkl\"\n",
    "\n",
    "out = \"../out/state_space/phoneme_6_32/sh.mp4\""
   ]
  },
  {
   "cell_type": "code",
   "execution_count": 5,
   "metadata": {},
   "outputs": [],
   "source": [
    "Path(out).parent.mkdir(parents=True, exist_ok=True)"
   ]
  },
  {
   "cell_type": "code",
   "execution_count": 6,
   "metadata": {},
   "outputs": [
    {
     "data": {
      "text/plain": [
       "ContrastiveEmbeddingModel(\n",
       "  (rnn): RNNModel(\n",
       "    (rnn): LSTM(768, 32, batch_first=True)\n",
       "    (fc): Linear(in_features=32, out_features=32, bias=True)\n",
       "  )\n",
       ")"
      ]
     },
     "execution_count": 6,
     "metadata": {},
     "output_type": "execute_result"
    }
   ],
   "source": [
    "model = ContrastiveEmbeddingModel.from_pretrained(model_checkpoint)\n",
    "model.eval()"
   ]
  },
  {
   "cell_type": "code",
   "execution_count": 7,
   "metadata": {},
   "outputs": [],
   "source": [
    "with open(equiv_dataset_path, \"rb\") as f:\n",
    "    equiv_dataset: SpeechEquivalenceDataset = pickle.load(f)"
   ]
  },
  {
   "cell_type": "code",
   "execution_count": 8,
   "metadata": {},
   "outputs": [],
   "source": [
    "with open(state_space_spec, \"rb\") as f:\n",
    "    state_space_spec = pickle.load(f)"
   ]
  },
  {
   "cell_type": "code",
   "execution_count": 9,
   "metadata": {},
   "outputs": [
    {
     "data": {
      "application/vnd.jupyter.widget-view+json": {
       "model_id": "a5d51cba10d0474ea888bed93c9c3f3d",
       "version_major": 2,
       "version_minor": 0
      },
      "text/plain": [
       "  0%|          | 0/4740 [00:00<?, ?it/s]"
      ]
     },
     "metadata": {},
     "output_type": "display_data"
    }
   ],
   "source": [
    "model_representations = compute_embeddings(model, equiv_dataset,\n",
    "                                           device=\"cpu\")\n",
    "model_representations = model_representations.numpy()"
   ]
  },
  {
   "cell_type": "code",
   "execution_count": 10,
   "metadata": {},
   "outputs": [],
   "source": [
    "pca = PCA(n_components=2)\n",
    "model_representations_pca = pca.fit_transform(model_representations)"
   ]
  },
  {
   "cell_type": "code",
   "execution_count": 11,
   "metadata": {},
   "outputs": [],
   "source": [
    "trajectory = prepare_state_trajectory(model_representations_pca, state_space_spec)"
   ]
  },
  {
   "cell_type": "code",
   "execution_count": 12,
   "metadata": {},
   "outputs": [
    {
     "data": {
      "image/png": "[encoded data removed]",
      "text/plain": [
       "<Figure size 640x480 with 1 Axes>"
      ]
     },
     "metadata": {},
     "output_type": "display_data"
    }
   ],
   "source": [
    "# Animate\n",
    "import matplotlib.pyplot as plt\n",
    "import matplotlib.animation as animation\n",
    "\n",
    "fig, ax = plt.subplots()\n",
    "ax.set_xlim(-1, 1)\n",
    "ax.set_ylim(-1, 1)\n",
    "annot_frame = ax.text(-0.75, 0.75, \"-1\")\n",
    "scats = [ax.scatter([], []) for _ in trajectory]\n",
    "ax.legend(scats, state_space_spec.labels)\n",
    "\n",
    "def init():\n",
    "    for scat in scats:\n",
    "        scat.set_offsets(np.zeros((0, 2)))\n",
    "    return tuple(scats)\n",
    "\n",
    "def update(frame):\n",
    "    for scat, traj_i in zip(scats, trajectory):\n",
    "        scat.set_offsets(traj_i[:, frame])\n",
    "    annot_frame.set_text(str(frame))\n",
    "    return tuple(scats) + (annot_frame,)\n",
    "\n",
    "# Animate by model frame\n",
    "num_frames = trajectory[0].shape[1]\n",
    "ani = animation.FuncAnimation(fig, update, frames=num_frames, interval=500,\n",
    "                              init_func=init)\n",
    "ani.save(out, writer=\"ffmpeg\")"
   ]
  }
 ],
 "metadata": {
  "kernelspec": {
   "display_name": "explore310",
   "language": "python",
   "name": "python3"
  },
  "language_info": {
   "codemirror_mode": {
    "name": "ipython",
    "version": 3
   },
   "file_extension": ".py",
   "mimetype": "text/x-python",
   "name": "python",
   "nbconvert_exporter": "python",
   "pygments_lexer": "ipython3",
   "version": "3.10.13"
  }
 },
 "nbformat": 4,
 "nbformat_minor": 2
}
