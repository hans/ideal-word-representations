{
 "cells": [
  {
   "cell_type": "markdown",
   "metadata": {},
   "source": [
    "Understand how contrastive embeddings use the dimensions of the embedding space."
   ]
  },
  {
   "cell_type": "code",
   "execution_count": 1,
   "metadata": {},
   "outputs": [
    {
     "name": "stdout",
     "output_type": "stream",
     "text": [
      "/userdata/jgauthier/projects/ideal-word-representations\n"
     ]
    }
   ],
   "source": [
    "cd ../.."
   ]
  },
  {
   "cell_type": "code",
   "execution_count": 2,
   "metadata": {},
   "outputs": [],
   "source": [
    "import pandas as pd\n",
    "import numpy as np\n",
    "import seaborn as sns\n",
    "import torch"
   ]
  },
  {
   "cell_type": "code",
   "execution_count": 3,
   "metadata": {},
   "outputs": [],
   "source": [
    "from IsoScore.IsoScore import IsoScore"
   ]
  },
  {
   "cell_type": "code",
   "execution_count": 4,
   "metadata": {},
   "outputs": [],
   "source": [
    "embedding_paths = {\n",
    "    \"phoneme\": \"outputs/model_embeddings/timit/w2v2_6/rnn_8/phoneme/embeddings.npy\",\n",
    "    \"phoneme3\": \"outputs/model_embeddings/timit/w2v2_6/rnn_3/phoneme/embeddings.npy\",\n",
    "    \"next_phoneme\": \"outputs/model_embeddings/timit/w2v2_6/rnn_8/next_phoneme/embeddings.npy\",\n",
    "    \"biphone_pred\": \"outputs/model_embeddings/timit/w2v2_6/rnn_8/biphone_pred/embeddings.npy\",\n",
    "    \"biphone_recon\": \"outputs/model_embeddings/timit/w2v2_6/rnn_8/biphone_recon/embeddings.npy\",\n",
    "    \"syllable\": \"outputs/model_embeddings/timit/w2v2_6/rnn_8/syllable/embeddings.npy\",\n",
    "    \"word\": \"outputs/model_embeddings/timit/w2v2_6/rnn_8/word/embeddings.npy\",\n",
    "\n",
    "    \"10_phoneme\": \"outputs/model_embeddings/timit/w2v2_6/rnn_3-weightdecay0.01/phoneme_10frames/embeddings.npy\",\n",
    "    \"10_next_phoneme\": \"outputs/model_embeddings/timit/w2v2_6/rnn_8-weightdecay0.01/next_phoneme_10frames/embeddings.npy\",\n",
    "    \"10_biphone_pred\": \"outputs/model_embeddings/timit/w2v2_6/rnn_8-weightdecay0.01/biphone_pred_10frames/embeddings.npy\",\n",
    "    \"10_biphone_recon\": \"outputs/model_embeddings/timit/w2v2_6/rnn_8-weightdecay0.01/biphone_recon_10frames/embeddings.npy\",\n",
    "    \"10_syllable\": \"outputs/model_embeddings/timit/w2v2_6/rnn_8-weightdecay0.01/syllable_10frames/embeddings.npy\",\n",
    "    \"10_word\": \"outputs/model_embeddings/timit/w2v2_6/rnn_8-weightdecay0.01/word_10frames/embeddings.npy\",\n",
    "\n",
    "    \"random_rnn\": \"outputs/model_embeddings/timit/w2v2_6/randomrnn_8/random/embeddings.npy\",\n",
    "    \"random_ff\": \"outputs/model_embeddings/timit/w2v2_6/randomff_8/random/embeddings.npy\",\n",
    "}"
   ]
  },
  {
   "cell_type": "code",
   "execution_count": 5,
   "metadata": {},
   "outputs": [],
   "source": [
    "embeddings = {}\n",
    "for key, path in embedding_paths.items():\n",
    "    try:\n",
    "        embeddings[key] = np.load(path)\n",
    "    except FileNotFoundError:\n",
    "        print(f\"Embedding {key} not found\")"
   ]
  },
  {
   "cell_type": "code",
   "execution_count": 6,
   "metadata": {},
   "outputs": [],
   "source": [
    "# from sklearn.decomposition import PCA\n",
    "# embeddings_decomp = {}\n",
    "# for key, emb in embeddings.items():\n",
    "#     pca = PCA(n_components=1)\n",
    "#     pca.fit(emb)\n",
    "    \n",
    "#     # Remove first K principal components from embedding\n",
    "#     emb = emb - emb @ pca.components_.T @ pca.components_\n",
    "#     embeddings_decomp[key] = emb\n",
    "\n",
    "# # # DEV\n",
    "# # embeddings = embeddings_decomp"
   ]
  },
  {
   "cell_type": "markdown",
   "metadata": {},
   "source": [
    "## Correlation measure"
   ]
  },
  {
   "cell_type": "code",
   "execution_count": 7,
   "metadata": {},
   "outputs": [],
   "source": [
    "corrs = []\n",
    "for key, embedding in embeddings.items():\n",
    "    corrs_i = np.corrcoef(embedding.T)\n",
    "    corrs_i = np.abs(corrs_i[np.triu_indices(corrs_i.shape[0], k=1)])\n",
    "\n",
    "    for corrs_ij in corrs_i:\n",
    "        corrs.append((key, corrs_ij))"
   ]
  },
  {
   "cell_type": "code",
   "execution_count": 8,
   "metadata": {},
   "outputs": [
    {
     "data": {
      "text/html": [
       "<div>\n",
       "<style scoped>\n",
       "    .dataframe tbody tr th:only-of-type {\n",
       "        vertical-align: middle;\n",
       "    }\n",
       "\n",
       "    .dataframe tbody tr th {\n",
       "        vertical-align: top;\n",
       "    }\n",
       "\n",
       "    .dataframe thead th {\n",
       "        text-align: right;\n",
       "    }\n",
       "</style>\n",
       "<table border=\"1\" class=\"dataframe\">\n",
       "  <thead>\n",
       "    <tr style=\"text-align: right;\">\n",
       "      <th></th>\n",
       "      <th>embedding</th>\n",
       "      <th>correlation</th>\n",
       "      <th>num_frames</th>\n",
       "    </tr>\n",
       "  </thead>\n",
       "  <tbody>\n",
       "    <tr>\n",
       "      <th>0</th>\n",
       "      <td>phoneme</td>\n",
       "      <td>0.993405</td>\n",
       "      <td>1</td>\n",
       "    </tr>\n",
       "    <tr>\n",
       "      <th>1</th>\n",
       "      <td>phoneme</td>\n",
       "      <td>0.996118</td>\n",
       "      <td>1</td>\n",
       "    </tr>\n",
       "    <tr>\n",
       "      <th>2</th>\n",
       "      <td>phoneme</td>\n",
       "      <td>0.998187</td>\n",
       "      <td>1</td>\n",
       "    </tr>\n",
       "    <tr>\n",
       "      <th>3</th>\n",
       "      <td>phoneme</td>\n",
       "      <td>0.999140</td>\n",
       "      <td>1</td>\n",
       "    </tr>\n",
       "    <tr>\n",
       "      <th>4</th>\n",
       "      <td>phoneme</td>\n",
       "      <td>0.992037</td>\n",
       "      <td>1</td>\n",
       "    </tr>\n",
       "    <tr>\n",
       "      <th>...</th>\n",
       "      <td>...</td>\n",
       "      <td>...</td>\n",
       "      <td>...</td>\n",
       "    </tr>\n",
       "    <tr>\n",
       "      <th>365</th>\n",
       "      <td>random_ff</td>\n",
       "      <td>0.185072</td>\n",
       "      <td>1</td>\n",
       "    </tr>\n",
       "    <tr>\n",
       "      <th>366</th>\n",
       "      <td>random_ff</td>\n",
       "      <td>0.161799</td>\n",
       "      <td>1</td>\n",
       "    </tr>\n",
       "    <tr>\n",
       "      <th>367</th>\n",
       "      <td>random_ff</td>\n",
       "      <td>0.024003</td>\n",
       "      <td>1</td>\n",
       "    </tr>\n",
       "    <tr>\n",
       "      <th>368</th>\n",
       "      <td>random_ff</td>\n",
       "      <td>0.288319</td>\n",
       "      <td>1</td>\n",
       "    </tr>\n",
       "    <tr>\n",
       "      <th>369</th>\n",
       "      <td>random_ff</td>\n",
       "      <td>0.024063</td>\n",
       "      <td>1</td>\n",
       "    </tr>\n",
       "  </tbody>\n",
       "</table>\n",
       "<p>370 rows × 3 columns</p>\n",
       "</div>"
      ],
      "text/plain": [
       "     embedding  correlation  num_frames\n",
       "0      phoneme     0.993405           1\n",
       "1      phoneme     0.996118           1\n",
       "2      phoneme     0.998187           1\n",
       "3      phoneme     0.999140           1\n",
       "4      phoneme     0.992037           1\n",
       "..         ...          ...         ...\n",
       "365  random_ff     0.185072           1\n",
       "366  random_ff     0.161799           1\n",
       "367  random_ff     0.024003           1\n",
       "368  random_ff     0.288319           1\n",
       "369  random_ff     0.024063           1\n",
       "\n",
       "[370 rows x 3 columns]"
      ]
     },
     "execution_count": 8,
     "metadata": {},
     "output_type": "execute_result"
    }
   ],
   "source": [
    "corrs_df = pd.DataFrame(corrs, columns=[\"embedding\", \"correlation\"])\n",
    "corrs_df[\"num_frames\"] = corrs_df[\"embedding\"].apply(lambda x: int(x.split(\"_\")[0]) if x.split(\"_\")[0].isdigit() else 1)\n",
    "corrs_df[\"embedding\"] = corrs_df[\"embedding\"].apply(lambda x: \"_\".join(x.split(\"_\")[1:]) if x.split(\"_\")[0].isdigit() else x)\n",
    "corrs_df"
   ]
  },
  {
   "cell_type": "code",
   "execution_count": 9,
   "metadata": {},
   "outputs": [
    {
     "name": "stderr",
     "output_type": "stream",
     "text": [
      "/tmp/ipykernel_1044192/3751898300.py:2: UserWarning: set_ticklabels() should only be used with a fixed number of ticks, i.e. after set_ticks() or using a FixedLocator.\n",
      "  ax.set_xticklabels(ax.get_xticklabels(), rotation=90)\n"
     ]
    },
    {
     "data": {
      "text/plain": [
       "[Text(0, 0, 'phoneme'),\n",
       " Text(1, 0, 'phoneme3'),\n",
       " Text(2, 0, 'next_phoneme'),\n",
       " Text(3, 0, 'biphone_pred'),\n",
       " Text(4, 0, 'biphone_recon'),\n",
       " Text(5, 0, 'syllable'),\n",
       " Text(6, 0, 'word'),\n",
       " Text(7, 0, 'random_rnn'),\n",
       " Text(8, 0, 'random_ff')]"
      ]
     },
     "execution_count": 9,
     "metadata": {},
     "output_type": "execute_result"
    },
    {
     "data": {
      "image/png": "[encoded data removed]",
      "text/plain": [
       "<Figure size 640x480 with 1 Axes>"
      ]
     },
     "metadata": {},
     "output_type": "display_data"
    }
   ],
   "source": [
    "ax = sns.barplot(data=corrs_df, x=\"embedding\", y=\"correlation\", hue=\"num_frames\")\n",
    "ax.set_xticklabels(ax.get_xticklabels(), rotation=90)"
   ]
  },
  {
   "cell_type": "markdown",
   "metadata": {},
   "source": [
    "## IsoScore"
   ]
  },
  {
   "cell_type": "code",
   "execution_count": 30,
   "metadata": {},
   "outputs": [
    {
     "data": {
      "text/html": [
       "<div>\n",
       "<style scoped>\n",
       "    .dataframe tbody tr th:only-of-type {\n",
       "        vertical-align: middle;\n",
       "    }\n",
       "\n",
       "    .dataframe tbody tr th {\n",
       "        vertical-align: top;\n",
       "    }\n",
       "\n",
       "    .dataframe thead th {\n",
       "        text-align: right;\n",
       "    }\n",
       "</style>\n",
       "<table border=\"1\" class=\"dataframe\">\n",
       "  <thead>\n",
       "    <tr style=\"text-align: right;\">\n",
       "      <th></th>\n",
       "      <th>embedding</th>\n",
       "      <th>isoscore</th>\n",
       "      <th>num_frames</th>\n",
       "    </tr>\n",
       "  </thead>\n",
       "  <tbody>\n",
       "    <tr>\n",
       "      <th>0</th>\n",
       "      <td>phoneme</td>\n",
       "      <td>0.000963</td>\n",
       "      <td>1</td>\n",
       "    </tr>\n",
       "    <tr>\n",
       "      <th>1</th>\n",
       "      <td>phoneme3</td>\n",
       "      <td>0.001282</td>\n",
       "      <td>1</td>\n",
       "    </tr>\n",
       "    <tr>\n",
       "      <th>2</th>\n",
       "      <td>next_phoneme</td>\n",
       "      <td>0.001456</td>\n",
       "      <td>1</td>\n",
       "    </tr>\n",
       "    <tr>\n",
       "      <th>3</th>\n",
       "      <td>biphone_pred</td>\n",
       "      <td>0.005771</td>\n",
       "      <td>1</td>\n",
       "    </tr>\n",
       "    <tr>\n",
       "      <th>4</th>\n",
       "      <td>biphone_recon</td>\n",
       "      <td>0.082468</td>\n",
       "      <td>1</td>\n",
       "    </tr>\n",
       "    <tr>\n",
       "      <th>5</th>\n",
       "      <td>syllable</td>\n",
       "      <td>0.030212</td>\n",
       "      <td>1</td>\n",
       "    </tr>\n",
       "    <tr>\n",
       "      <th>6</th>\n",
       "      <td>word</td>\n",
       "      <td>0.002826</td>\n",
       "      <td>1</td>\n",
       "    </tr>\n",
       "    <tr>\n",
       "      <th>7</th>\n",
       "      <td>phoneme</td>\n",
       "      <td>0.099266</td>\n",
       "      <td>10</td>\n",
       "    </tr>\n",
       "    <tr>\n",
       "      <th>8</th>\n",
       "      <td>recon</td>\n",
       "      <td>0.107396</td>\n",
       "      <td>10</td>\n",
       "    </tr>\n",
       "    <tr>\n",
       "      <th>9</th>\n",
       "      <td>syllable</td>\n",
       "      <td>0.054794</td>\n",
       "      <td>10</td>\n",
       "    </tr>\n",
       "    <tr>\n",
       "      <th>10</th>\n",
       "      <td>word</td>\n",
       "      <td>0.003957</td>\n",
       "      <td>10</td>\n",
       "    </tr>\n",
       "    <tr>\n",
       "      <th>11</th>\n",
       "      <td>random_rnn</td>\n",
       "      <td>0.661004</td>\n",
       "      <td>1</td>\n",
       "    </tr>\n",
       "  </tbody>\n",
       "</table>\n",
       "</div>"
      ],
      "text/plain": [
       "        embedding  isoscore  num_frames\n",
       "0         phoneme  0.000963           1\n",
       "1        phoneme3  0.001282           1\n",
       "2    next_phoneme  0.001456           1\n",
       "3    biphone_pred  0.005771           1\n",
       "4   biphone_recon  0.082468           1\n",
       "5        syllable  0.030212           1\n",
       "6            word  0.002826           1\n",
       "7         phoneme  0.099266          10\n",
       "8           recon  0.107396          10\n",
       "9        syllable  0.054794          10\n",
       "10           word  0.003957          10\n",
       "11     random_rnn  0.661004           1"
      ]
     },
     "execution_count": 30,
     "metadata": {},
     "output_type": "execute_result"
    }
   ],
   "source": [
    "isoscores = pd.Series({key: IsoScore(embeddings[key]).item() for key in embeddings}).rename(\"isoscore\").rename_axis(\"embedding\").reset_index()\n",
    "isoscores[\"num_frames\"] = isoscores[\"embedding\"].apply(lambda x: int(x.split(\"_\")[0]) if x.split(\"_\")[0].isdigit() else 1)\n",
    "isoscores[\"embedding\"] = isoscores[\"embedding\"].apply(lambda x: x.split(\"_\")[-1] if x.split(\"_\")[0].isdigit() else x)\n",
    "isoscores"
   ]
  },
  {
   "cell_type": "code",
   "execution_count": 36,
   "metadata": {},
   "outputs": [
    {
     "data": {
      "text/plain": [
       "<Axes: xlabel='embedding', ylabel='isoscore'>"
      ]
     },
     "execution_count": 36,
     "metadata": {},
     "output_type": "execute_result"
    },
    {
     "data": {
      "image/png": "[encoded data removed]",
      "text/plain": [
       "<Figure size 640x480 with 1 Axes>"
      ]
     },
     "metadata": {},
     "output_type": "display_data"
    }
   ],
   "source": [
    "sns.barplot(data=isoscores, x=\"embedding\", y=\"isoscore\", hue=\"num_frames\")"
   ]
  }
 ],
 "metadata": {
  "kernelspec": {
   "display_name": "Python 3",
   "language": "python",
   "name": "python3"
  },
  "language_info": {
   "codemirror_mode": {
    "name": "ipython",
    "version": 3
   },
   "file_extension": ".py",
   "mimetype": "text/x-python",
   "name": "python",
   "nbconvert_exporter": "python",
   "pygments_lexer": "ipython3",
   "version": "3.10.13"
  }
 },
 "nbformat": 4,
 "nbformat_minor": 2
}
