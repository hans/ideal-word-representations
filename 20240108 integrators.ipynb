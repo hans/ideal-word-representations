{
 "cells": [
  {
   "cell_type": "code",
   "execution_count": 1,
   "metadata": {},
   "outputs": [],
   "source": [
    "%load_ext autoreload\n",
    "%autoreload 2"
   ]
  },
  {
   "cell_type": "code",
   "execution_count": 2,
   "metadata": {},
   "outputs": [],
   "source": [
    "import os\n",
    "os.environ[\"CUDA_VISIBLE_DEVICES\"] = \"1\""
   ]
  },
  {
   "cell_type": "code",
   "execution_count": 3,
   "metadata": {},
   "outputs": [],
   "source": [
    "from collections import defaultdict, Counter\n",
    "import pickle\n",
    "from pathlib import Path\n",
    "\n",
    "import seaborn as sns\n",
    "import torch\n",
    "from tqdm.auto import tqdm, trange\n",
    "import transformers\n",
    "\n",
    "from src.datasets.speech_equivalence import \\\n",
    "    SpeechEquivalenceDataset, SpeechHiddenStateDataset, make_timit_equivalence_dataset\n",
    "from src.models.integrator import ContrastiveEmbeddingModel, ContrastiveEmbeddingModelConfig, prepare_dataset\n",
    "from src.utils.timit import load_or_prepare_timit_corpus"
   ]
  },
  {
   "cell_type": "code",
   "execution_count": 4,
   "metadata": {},
   "outputs": [],
   "source": [
    "model_name = \"facebook/wav2vec2-base\"\n",
    "\n",
    "equivalence_classer = \"phoneme\"\n",
    "num_frames_per_phoneme = 1\n",
    "\n",
    "layer = 6\n",
    "output_dim = 8\n",
    "\n",
    "equiv_dataset_path = f\"data/timit_equiv_{equivalence_classer}_{num_frames_per_phoneme}.pkl\"\n",
    "output_dir = f\"out/ce_model_{equivalence_classer}_{layer}_{output_dim}\""
   ]
  },
  {
   "cell_type": "markdown",
   "metadata": {},
   "source": [
    "## Prepare equivalence class dataset"
   ]
  },
  {
   "cell_type": "code",
   "execution_count": 5,
   "metadata": {},
   "outputs": [
    {
     "name": "stderr",
     "output_type": "stream",
     "text": [
      "The tokenizer class you load from this checkpoint is not the same type as the class this function is called from. It may result in unexpected tokenization. \n",
      "The tokenizer class you load from this checkpoint is 'Wav2Vec2CTCTokenizer'. \n",
      "The class this function is called from is 'Wav2Vec2Tokenizer'.\n",
      "/Users/jon/miniforge3/envs/explore310/lib/python3.10/site-packages/transformers/models/wav2vec2/tokenization_wav2vec2.py:792: FutureWarning: The class `Wav2Vec2Tokenizer` is deprecated and will be removed in version 5 of Transformers. Please use `Wav2Vec2Processor` or `Wav2Vec2CTCTokenizer` instead.\n",
      "  warnings.warn(\n",
      "Special tokens have been added in the vocabulary, make sure the associated word embeddings are fine-tuned or trained.\n"
     ]
    }
   ],
   "source": [
    "tokenizer = transformers.Wav2Vec2Tokenizer.from_pretrained(\"charsiu/tokenizer_en_cmu\")\n",
    "feature_extractor = transformers.Wav2Vec2FeatureExtractor(feature_size=1, sampling_rate=16000, padding_value=0.0, do_normalize=True, return_attention_mask=False)\n",
    "processor = transformers.Wav2Vec2Processor(feature_extractor=feature_extractor, tokenizer=tokenizer)"
   ]
  },
  {
   "cell_type": "code",
   "execution_count": 6,
   "metadata": {},
   "outputs": [
    {
     "name": "stderr",
     "output_type": "stream",
     "text": [
      "/Users/jon/miniforge3/envs/explore310/lib/python3.10/site-packages/transformers/configuration_utils.py:380: UserWarning: Passing `gradient_checkpointing` to a config initialization is deprecated and will be removed in v5 Transformers. Using `model.gradient_checkpointing_enable()` instead, or if you are using the `Trainer` API, pass `gradient_checkpointing=True` in your `TrainingArguments`.\n",
      "  warnings.warn(\n"
     ]
    }
   ],
   "source": [
    "model: transformers.Wav2Vec2Model = transformers.Wav2Vec2Model.from_pretrained(model_name)\n",
    "# model = model.to(\"cuda\")"
   ]
  },
  {
   "cell_type": "code",
   "execution_count": 7,
   "metadata": {},
   "outputs": [],
   "source": [
    "dataset = load_or_prepare_timit_corpus(\"data/timit_phoneme_dev\", \"data/timit_raw\",\n",
    "                                       processor)\n",
    "\n",
    "def add_indices(item, idx):\n",
    "    item[\"idx\"] = idx\n",
    "    return item\n",
    "dataset = dataset.map(add_indices, batched=True, batch_size=2000, with_indices=True)"
   ]
  },
  {
   "cell_type": "code",
   "execution_count": 8,
   "metadata": {},
   "outputs": [],
   "source": [
    "dev_dataset = dataset"
   ]
  },
  {
   "cell_type": "code",
   "execution_count": 9,
   "metadata": {},
   "outputs": [
    {
     "data": {
      "application/vnd.jupyter.widget-view+json": {
       "model_id": "a1312f47ff7442bcb14a16edfc62fa85",
       "version_major": 2,
       "version_minor": 0
      },
      "text/plain": [
       "Extracting hidden states:   0%|          | 0/500 [00:00<?, ? examples/s]"
      ]
     },
     "metadata": {},
     "output_type": "display_data"
    },
    {
     "data": {
      "application/vnd.jupyter.widget-view+json": {
       "model_id": "577401d772b043dca3ddc3119da52339",
       "version_major": 2,
       "version_minor": 0
      },
      "text/plain": [
       "Computing start frames:   0%|          | 0/500 [00:00<?, ? examples/s]"
      ]
     },
     "metadata": {},
     "output_type": "display_data"
    }
   ],
   "source": [
    "equiv_dataset = make_timit_equivalence_dataset(\n",
    "    f\"timit_phoneme/{equivalence_classer}\",\n",
    "    dev_dataset, model,\n",
    "    equivalence_classer,\n",
    "    num_frames_per_phoneme=num_frames_per_phoneme)"
   ]
  },
  {
   "cell_type": "code",
   "execution_count": 10,
   "metadata": {},
   "outputs": [],
   "source": [
    "with open(equiv_dataset_path, \"wb\") as f:\n",
    "    pickle.dump(equiv_dataset, f)"
   ]
  },
  {
   "cell_type": "code",
   "execution_count": 11,
   "metadata": {},
   "outputs": [
    {
     "data": {
      "text/plain": [
       "SpeechEquivalenceDataset(timit_phoneme/phoneme, 40 classes, 15824 instances, with SpeechHiddenStateDataset(facebook/wav2vec2-base, 500 items, 75836 frames, 13 layers, 768 hidden size))"
      ]
     },
     "execution_count": 11,
     "metadata": {},
     "output_type": "execute_result"
    }
   ],
   "source": [
    "equiv_dataset"
   ]
  },
  {
   "cell_type": "code",
   "execution_count": 12,
   "metadata": {},
   "outputs": [],
   "source": [
    "# TODO compute how many positive examples each Q lines up. we want to make sure we have a minimal\n",
    "# number of positive examples for each Q, even the sparse word-level ones"
   ]
  },
  {
   "cell_type": "code",
   "execution_count": 13,
   "metadata": {},
   "outputs": [
    {
     "data": {
      "text/plain": [
       "24"
      ]
     },
     "execution_count": 13,
     "metadata": {},
     "output_type": "execute_result"
    },
    {
     "data": {
      "image/png": "[encoded data removed]",
      "text/plain": [
       "<Figure size 640x480 with 1 Axes>"
      ]
     },
     "metadata": {},
     "output_type": "display_data"
    }
   ],
   "source": [
    "# Pick a max length that accommodates the majority of the samples, excluding outlier lengths\n",
    "evident_lengths = equiv_dataset.lengths\n",
    "target_length = int(torch.quantile(evident_lengths.double(), 0.95).item())\n",
    "sns.histplot(evident_lengths.numpy(), discrete=True)\n",
    "target_length"
   ]
  },
  {
   "cell_type": "code",
   "execution_count": 14,
   "metadata": {},
   "outputs": [
    {
     "data": {
      "application/vnd.jupyter.widget-view+json": {
       "model_id": "cea55bc571334ca19a1233203e057fb9",
       "version_major": 2,
       "version_minor": 0
      },
      "text/plain": [
       "  0%|          | 0/15824 [00:00<?, ?it/s]"
      ]
     },
     "metadata": {},
     "output_type": "display_data"
    }
   ],
   "source": [
    "ce_dataset = prepare_dataset(equiv_dataset, target_length, layer)"
   ]
  },
  {
   "cell_type": "code",
   "execution_count": 15,
   "metadata": {},
   "outputs": [
    {
     "data": {
      "application/vnd.jupyter.widget-view+json": {
       "model_id": "636488aef3c2458f9134e23f50978e4d",
       "version_major": 2,
       "version_minor": 0
      },
      "text/plain": [
       "Saving the dataset (0/8 shards):   0%|          | 0/15824 [00:00<?, ? examples/s]"
      ]
     },
     "metadata": {},
     "output_type": "display_data"
    }
   ],
   "source": [
    "Path(output_dir).mkdir(exist_ok=True, parents=True)\n",
    "ce_dataset.save_to_disk(Path(output_dir) / \"dataset\")"
   ]
  },
  {
   "cell_type": "markdown",
   "metadata": {},
   "source": [
    "## Prepare model"
   ]
  },
  {
   "cell_type": "code",
   "execution_count": 20,
   "metadata": {},
   "outputs": [],
   "source": [
    "ce_model_config = ContrastiveEmbeddingModelConfig(\n",
    "    base_model_ref=model_name,\n",
    "    base_model_layer=layer,\n",
    "\n",
    "    equivalence_classer=equivalence_classer,\n",
    "\n",
    "    max_length=target_length,\n",
    "    input_dim=equiv_dataset.hidden_state_dataset.hidden_size,\n",
    "    hidden_dim=32,\n",
    "    output_dim=output_dim,\n",
    "    tau=0.1)\n"
   ]
  },
  {
   "cell_type": "code",
   "execution_count": 21,
   "metadata": {},
   "outputs": [],
   "source": [
    "ce_model = ContrastiveEmbeddingModel(ce_model_config)"
   ]
  },
  {
   "cell_type": "code",
   "execution_count": 22,
   "metadata": {},
   "outputs": [],
   "source": [
    "training_args = transformers.TrainingArguments(\n",
    "    output_dir=output_dir,\n",
    "    overwrite_output_dir=True,\n",
    "    num_train_epochs=2,\n",
    "    per_device_train_batch_size=32,\n",
    "    save_steps=100,\n",
    "    eval_steps=100,\n",
    "    save_total_limit=5,\n",
    "    logging_steps=10,\n",
    "    logging_dir=f\"{output_dir}/logs\",\n",
    "    evaluation_strategy=\"steps\",\n",
    "    logging_first_step=True,\n",
    "    load_best_model_at_end=True,\n",
    "    greater_is_better=False,\n",
    "    remove_unused_columns=False,\n",
    "\n",
    "    learning_rate=1e-3,\n",
    ")\n",
    "\n",
    "dataset_split = ce_dataset.train_test_split(test_size=0.1, shuffle=True)\n",
    "train_dataset = dataset_split[\"train\"]\n",
    "eval_dataset = dataset_split[\"test\"]\n",
    "trainer = transformers.Trainer(\n",
    "    model=ce_model,\n",
    "    train_dataset=train_dataset,\n",
    "    eval_dataset=eval_dataset,\n",
    "    # compute_metrics=compute_metrics,\n",
    "    # data_collator=MyCollator(max_length),\n",
    "    args=training_args)"
   ]
  },
  {
   "cell_type": "code",
   "execution_count": 23,
   "metadata": {},
   "outputs": [
    {
     "data": {
      "application/vnd.jupyter.widget-view+json": {
       "model_id": "795fdbc6b86144d09f9e25e3acce340c",
       "version_major": 2,
       "version_minor": 0
      },
      "text/plain": [
       "  0%|          | 0/892 [00:00<?, ?it/s]"
      ]
     },
     "metadata": {},
     "output_type": "display_data"
    },
    {
     "name": "stderr",
     "output_type": "stream",
     "text": [
      "Could not estimate the number of tokens of the input, floating-point operations will not be computed\n"
     ]
    },
    {
     "name": "stdout",
     "output_type": "stream",
     "text": [
      "{'loss': -0.5329, 'learning_rate': 0.0009988789237668162, 'epoch': 0.0}\n",
      "{'loss': -0.1369, 'learning_rate': 0.0009887892376681615, 'epoch': 0.02}\n",
      "{'loss': -0.4465, 'learning_rate': 0.000977578475336323, 'epoch': 0.04}\n",
      "{'loss': -0.2325, 'learning_rate': 0.0009663677130044843, 'epoch': 0.07}\n",
      "{'loss': 0.0274, 'learning_rate': 0.0009551569506726457, 'epoch': 0.09}\n",
      "{'loss': -0.2748, 'learning_rate': 0.0009439461883408071, 'epoch': 0.11}\n",
      "{'loss': -0.0581, 'learning_rate': 0.0009327354260089686, 'epoch': 0.13}\n",
      "{'loss': 0.2525, 'learning_rate': 0.00092152466367713, 'epoch': 0.16}\n",
      "{'loss': 0.0092, 'learning_rate': 0.0009103139013452914, 'epoch': 0.18}\n",
      "{'loss': -0.4201, 'learning_rate': 0.0008991031390134529, 'epoch': 0.2}\n",
      "{'loss': -0.2796, 'learning_rate': 0.0008878923766816143, 'epoch': 0.22}\n"
     ]
    },
    {
     "data": {
      "application/vnd.jupyter.widget-view+json": {
       "model_id": "2e1866efb4ef49c08ebc9e633899ba42",
       "version_major": 2,
       "version_minor": 0
      },
      "text/plain": [
       "  0%|          | 0/198 [00:00<?, ?it/s]"
      ]
     },
     "metadata": {},
     "output_type": "display_data"
    },
    {
     "name": "stdout",
     "output_type": "stream",
     "text": [
      "{'eval_loss': -0.09172569960355759, 'eval_runtime': 35.9407, 'eval_samples_per_second': 44.045, 'eval_steps_per_second': 5.509, 'epoch': 0.22}\n",
      "{'loss': -0.4683, 'learning_rate': 0.0008766816143497757, 'epoch': 0.25}\n",
      "{'loss': -0.3264, 'learning_rate': 0.0008654708520179372, 'epoch': 0.27}\n",
      "{'loss': -0.2088, 'learning_rate': 0.0008542600896860987, 'epoch': 0.29}\n",
      "{'loss': 0.0392, 'learning_rate': 0.0008430493273542601, 'epoch': 0.31}\n",
      "{'loss': -0.052, 'learning_rate': 0.0008318385650224215, 'epoch': 0.34}\n",
      "{'loss': 0.2993, 'learning_rate': 0.000820627802690583, 'epoch': 0.36}\n",
      "{'loss': -0.1767, 'learning_rate': 0.0008094170403587444, 'epoch': 0.38}\n",
      "{'loss': 0.2842, 'learning_rate': 0.0007982062780269058, 'epoch': 0.4}\n",
      "{'loss': 0.2636, 'learning_rate': 0.0007869955156950673, 'epoch': 0.43}\n",
      "{'loss': -0.1616, 'learning_rate': 0.0007757847533632287, 'epoch': 0.45}\n"
     ]
    },
    {
     "data": {
      "application/vnd.jupyter.widget-view+json": {
       "model_id": "04afee9885c24d03ae093a8ab142f575",
       "version_major": 2,
       "version_minor": 0
      },
      "text/plain": [
       "  0%|          | 0/198 [00:00<?, ?it/s]"
      ]
     },
     "metadata": {},
     "output_type": "display_data"
    },
    {
     "name": "stdout",
     "output_type": "stream",
     "text": [
      "{'eval_loss': -0.13413701951503754, 'eval_runtime': 10.0981, 'eval_samples_per_second': 156.763, 'eval_steps_per_second': 19.608, 'epoch': 0.45}\n",
      "{'loss': -0.2954, 'learning_rate': 0.0007645739910313901, 'epoch': 0.47}\n",
      "{'loss': -0.243, 'learning_rate': 0.0007533632286995515, 'epoch': 0.49}\n",
      "{'loss': -0.504, 'learning_rate': 0.000742152466367713, 'epoch': 0.52}\n",
      "{'loss': -0.5141, 'learning_rate': 0.0007309417040358744, 'epoch': 0.54}\n",
      "{'loss': 0.0705, 'learning_rate': 0.0007197309417040358, 'epoch': 0.56}\n",
      "{'loss': -0.4153, 'learning_rate': 0.0007085201793721974, 'epoch': 0.58}\n",
      "{'loss': 0.016, 'learning_rate': 0.0006973094170403588, 'epoch': 0.61}\n",
      "{'loss': 0.1473, 'learning_rate': 0.0006860986547085201, 'epoch': 0.63}\n",
      "{'loss': -0.6788, 'learning_rate': 0.0006748878923766815, 'epoch': 0.65}\n",
      "{'loss': 0.0197, 'learning_rate': 0.000663677130044843, 'epoch': 0.67}\n"
     ]
    },
    {
     "data": {
      "application/vnd.jupyter.widget-view+json": {
       "model_id": "a8b33730730f4f03b6d0c3cdd9bc2402",
       "version_major": 2,
       "version_minor": 0
      },
      "text/plain": [
       "  0%|          | 0/198 [00:00<?, ?it/s]"
      ]
     },
     "metadata": {},
     "output_type": "display_data"
    },
    {
     "name": "stdout",
     "output_type": "stream",
     "text": [
      "{'eval_loss': -0.0005846740677952766, 'eval_runtime': 9.1069, 'eval_samples_per_second': 173.825, 'eval_steps_per_second': 21.742, 'epoch': 0.67}\n",
      "{'loss': -0.0793, 'learning_rate': 0.0006524663677130045, 'epoch': 0.7}\n",
      "{'loss': -0.028, 'learning_rate': 0.0006412556053811658, 'epoch': 0.72}\n",
      "{'loss': 0.116, 'learning_rate': 0.0006300448430493274, 'epoch': 0.74}\n",
      "{'loss': 0.5969, 'learning_rate': 0.0006188340807174889, 'epoch': 0.76}\n",
      "{'loss': -0.7351, 'learning_rate': 0.0006076233183856503, 'epoch': 0.78}\n",
      "{'loss': 0.0665, 'learning_rate': 0.0005964125560538117, 'epoch': 0.81}\n",
      "{'loss': -0.1398, 'learning_rate': 0.0005852017937219732, 'epoch': 0.83}\n",
      "{'loss': -0.351, 'learning_rate': 0.0005739910313901346, 'epoch': 0.85}\n",
      "{'loss': 0.187, 'learning_rate': 0.000562780269058296, 'epoch': 0.87}\n",
      "{'loss': -0.1475, 'learning_rate': 0.0005515695067264575, 'epoch': 0.9}\n"
     ]
    },
    {
     "data": {
      "application/vnd.jupyter.widget-view+json": {
       "model_id": "f0e6ffc5720841eeb1fe2dc4fa7d3f3a",
       "version_major": 2,
       "version_minor": 0
      },
      "text/plain": [
       "  0%|          | 0/198 [00:00<?, ?it/s]"
      ]
     },
     "metadata": {},
     "output_type": "display_data"
    },
    {
     "name": "stdout",
     "output_type": "stream",
     "text": [
      "{'eval_loss': 0.015317185781896114, 'eval_runtime': 9.2262, 'eval_samples_per_second': 171.576, 'eval_steps_per_second': 21.461, 'epoch': 0.9}\n",
      "{'loss': -0.1523, 'learning_rate': 0.0005403587443946189, 'epoch': 0.92}\n",
      "{'loss': -0.1746, 'learning_rate': 0.0005291479820627803, 'epoch': 0.94}\n",
      "{'loss': -0.371, 'learning_rate': 0.0005179372197309418, 'epoch': 0.96}\n",
      "{'loss': 0.2326, 'learning_rate': 0.0005067264573991032, 'epoch': 0.99}\n",
      "{'loss': -0.0323, 'learning_rate': 0.0004955156950672646, 'epoch': 1.01}\n",
      "{'loss': -0.4956, 'learning_rate': 0.000484304932735426, 'epoch': 1.03}\n",
      "{'loss': -0.2795, 'learning_rate': 0.0004730941704035874, 'epoch': 1.05}\n",
      "{'loss': -0.0375, 'learning_rate': 0.0004618834080717489, 'epoch': 1.08}\n",
      "{'loss': 0.0345, 'learning_rate': 0.0004506726457399103, 'epoch': 1.1}\n",
      "{'loss': -0.1578, 'learning_rate': 0.0004394618834080717, 'epoch': 1.12}\n"
     ]
    },
    {
     "data": {
      "application/vnd.jupyter.widget-view+json": {
       "model_id": "263e8ff1047f45e1a24f2e9d66f79cd4",
       "version_major": 2,
       "version_minor": 0
      },
      "text/plain": [
       "  0%|          | 0/198 [00:00<?, ?it/s]"
      ]
     },
     "metadata": {},
     "output_type": "display_data"
    },
    {
     "name": "stdout",
     "output_type": "stream",
     "text": [
      "{'eval_loss': 0.021084178239107132, 'eval_runtime': 8.9778, 'eval_samples_per_second': 176.323, 'eval_steps_per_second': 22.054, 'epoch': 1.12}\n",
      "{'loss': -0.612, 'learning_rate': 0.00042825112107623323, 'epoch': 1.14}\n",
      "{'loss': -0.1718, 'learning_rate': 0.00041704035874439463, 'epoch': 1.17}\n",
      "{'loss': 0.0441, 'learning_rate': 0.0004058295964125561, 'epoch': 1.19}\n",
      "{'loss': -0.2761, 'learning_rate': 0.0003946188340807175, 'epoch': 1.21}\n",
      "{'loss': -0.0849, 'learning_rate': 0.00038340807174887893, 'epoch': 1.23}\n",
      "{'loss': -0.0668, 'learning_rate': 0.0003721973094170404, 'epoch': 1.26}\n",
      "{'loss': -0.0887, 'learning_rate': 0.0003609865470852018, 'epoch': 1.28}\n",
      "{'loss': -0.3001, 'learning_rate': 0.00034977578475336324, 'epoch': 1.3}\n",
      "{'loss': -0.1227, 'learning_rate': 0.00033856502242152463, 'epoch': 1.32}\n",
      "{'loss': 0.0031, 'learning_rate': 0.0003273542600896861, 'epoch': 1.35}\n"
     ]
    },
    {
     "data": {
      "application/vnd.jupyter.widget-view+json": {
       "model_id": "92bfc686277e45d891366742094ecd37",
       "version_major": 2,
       "version_minor": 0
      },
      "text/plain": [
       "  0%|          | 0/198 [00:00<?, ?it/s]"
      ]
     },
     "metadata": {},
     "output_type": "display_data"
    },
    {
     "name": "stdout",
     "output_type": "stream",
     "text": [
      "{'eval_loss': -0.024355240166187286, 'eval_runtime': 9.1698, 'eval_samples_per_second': 172.631, 'eval_steps_per_second': 21.593, 'epoch': 1.35}\n",
      "{'loss': -0.2572, 'learning_rate': 0.00031614349775784754, 'epoch': 1.37}\n",
      "{'loss': -0.4033, 'learning_rate': 0.000304932735426009, 'epoch': 1.39}\n",
      "{'loss': -0.3617, 'learning_rate': 0.00029372197309417044, 'epoch': 1.41}\n",
      "{'loss': 0.2183, 'learning_rate': 0.00028251121076233184, 'epoch': 1.43}\n",
      "{'loss': -0.0729, 'learning_rate': 0.0002713004484304933, 'epoch': 1.46}\n",
      "{'loss': -0.1085, 'learning_rate': 0.0002600896860986547, 'epoch': 1.48}\n",
      "{'loss': -0.0814, 'learning_rate': 0.00024887892376681615, 'epoch': 1.5}\n",
      "{'loss': -0.2258, 'learning_rate': 0.00023766816143497757, 'epoch': 1.52}\n",
      "{'loss': -0.533, 'learning_rate': 0.000226457399103139, 'epoch': 1.55}\n",
      "{'loss': 0.4004, 'learning_rate': 0.00021524663677130048, 'epoch': 1.57}\n"
     ]
    },
    {
     "data": {
      "application/vnd.jupyter.widget-view+json": {
       "model_id": "eb6afedae82243d5beee726bf3d11f99",
       "version_major": 2,
       "version_minor": 0
      },
      "text/plain": [
       "  0%|          | 0/198 [00:00<?, ?it/s]"
      ]
     },
     "metadata": {},
     "output_type": "display_data"
    },
    {
     "name": "stdout",
     "output_type": "stream",
     "text": [
      "{'eval_loss': -0.039560262113809586, 'eval_runtime': 9.2073, 'eval_samples_per_second': 171.929, 'eval_steps_per_second': 21.505, 'epoch': 1.57}\n",
      "{'loss': -0.1345, 'learning_rate': 0.0002040358744394619, 'epoch': 1.59}\n",
      "{'loss': -0.3375, 'learning_rate': 0.00019282511210762333, 'epoch': 1.61}\n",
      "{'loss': 0.0649, 'learning_rate': 0.00018161434977578475, 'epoch': 1.64}\n",
      "{'loss': -0.0556, 'learning_rate': 0.00017040358744394618, 'epoch': 1.66}\n",
      "{'loss': -0.3083, 'learning_rate': 0.0001591928251121076, 'epoch': 1.68}\n",
      "{'loss': 0.0773, 'learning_rate': 0.00014798206278026908, 'epoch': 1.7}\n",
      "{'loss': 0.4815, 'learning_rate': 0.0001367713004484305, 'epoch': 1.73}\n",
      "{'loss': -0.0528, 'learning_rate': 0.00012556053811659193, 'epoch': 1.75}\n",
      "{'loss': -0.3314, 'learning_rate': 0.00011434977578475336, 'epoch': 1.77}\n",
      "{'loss': -0.1355, 'learning_rate': 0.00010313901345291481, 'epoch': 1.79}\n"
     ]
    },
    {
     "data": {
      "application/vnd.jupyter.widget-view+json": {
       "model_id": "635cc823073c4fd1b80c5ce49decad87",
       "version_major": 2,
       "version_minor": 0
      },
      "text/plain": [
       "  0%|          | 0/198 [00:00<?, ?it/s]"
      ]
     },
     "metadata": {},
     "output_type": "display_data"
    },
    {
     "name": "stdout",
     "output_type": "stream",
     "text": [
      "{'eval_loss': -0.021551020443439484, 'eval_runtime': 9.3978, 'eval_samples_per_second': 168.444, 'eval_steps_per_second': 21.069, 'epoch': 1.79}\n",
      "{'loss': -0.3006, 'learning_rate': 9.192825112107624e-05, 'epoch': 1.82}\n",
      "{'loss': -0.4205, 'learning_rate': 8.071748878923766e-05, 'epoch': 1.84}\n",
      "{'loss': -0.0188, 'learning_rate': 6.950672645739911e-05, 'epoch': 1.86}\n",
      "{'loss': -0.1799, 'learning_rate': 5.829596412556054e-05, 'epoch': 1.88}\n",
      "{'loss': -0.3733, 'learning_rate': 4.708520179372197e-05, 'epoch': 1.91}\n",
      "{'loss': -0.0502, 'learning_rate': 3.587443946188341e-05, 'epoch': 1.93}\n",
      "{'loss': 0.0741, 'learning_rate': 2.4663677130044842e-05, 'epoch': 1.95}\n",
      "{'loss': -0.5372, 'learning_rate': 1.345291479820628e-05, 'epoch': 1.97}\n",
      "{'loss': 0.1412, 'learning_rate': 2.242152466367713e-06, 'epoch': 2.0}\n",
      "{'train_runtime': 676.6009, 'train_samples_per_second': 42.096, 'train_steps_per_second': 1.318, 'train_loss': -0.12709482435153738, 'epoch': 2.0}\n"
     ]
    },
    {
     "data": {
      "text/plain": [
       "TrainOutput(global_step=892, training_loss=-0.12709482435153738, metrics={'train_runtime': 676.6009, 'train_samples_per_second': 42.096, 'train_steps_per_second': 1.318, 'train_loss': -0.12709482435153738, 'epoch': 2.0})"
      ]
     },
     "execution_count": 23,
     "metadata": {},
     "output_type": "execute_result"
    }
   ],
   "source": [
    "trainer.train()"
   ]
  },
  {
   "cell_type": "code",
   "execution_count": null,
   "metadata": {},
   "outputs": [],
   "source": []
  }
 ],
 "metadata": {
  "kernelspec": {
   "display_name": "Python 3",
   "language": "python",
   "name": "python3"
  },
  "language_info": {
   "codemirror_mode": {
    "name": "ipython",
    "version": 3
   },
   "file_extension": ".py",
   "mimetype": "text/x-python",
   "name": "python",
   "nbconvert_exporter": "python",
   "pygments_lexer": "ipython3",
   "version": "3.10.13"
  }
 },
 "nbformat": 4,
 "nbformat_minor": 2
}
