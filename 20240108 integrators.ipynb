{
 "cells": [
  {
   "cell_type": "code",
   "execution_count": 1,
   "metadata": {},
   "outputs": [],
   "source": [
    "%load_ext autoreload\n",
    "%autoreload 2"
   ]
  },
  {
   "cell_type": "code",
   "execution_count": 2,
   "metadata": {},
   "outputs": [],
   "source": [
    "import os\n",
    "os.environ[\"CUDA_VISIBLE_DEVICES\"] = \"1\""
   ]
  },
  {
   "cell_type": "code",
   "execution_count": 3,
   "metadata": {},
   "outputs": [],
   "source": [
    "from collections import defaultdict, Counter\n",
    "import pickle\n",
    "from pathlib import Path\n",
    "\n",
    "import seaborn as sns\n",
    "import torch\n",
    "from tqdm.auto import tqdm, trange\n",
    "import transformers\n",
    "\n",
    "from src.datasets.speech_equivalence import \\\n",
    "    SpeechEquivalenceDataset, SpeechHiddenStateDataset, make_timit_equivalence_dataset\n",
    "from src.models.integrator import ContrastiveEmbeddingModel, ContrastiveEmbeddingModelConfig, prepare_dataset\n",
    "from src.utils.timit import load_or_prepare_timit_corpus"
   ]
  },
  {
   "cell_type": "code",
   "execution_count": 4,
   "metadata": {},
   "outputs": [],
   "source": [
    "model_name = \"facebook/wav2vec2-base\"\n",
    "\n",
    "equivalence_classer = \"phoneme\"\n",
    "num_frames_per_phoneme = 1\n",
    "\n",
    "layer = 6\n",
    "output_dim = 32\n",
    "\n",
    "equiv_dataset_path = f\"data/timit_equiv_{equivalence_classer}_{num_frames_per_phoneme}.pkl\"\n",
    "output_dir = f\"out/ce_model_{equivalence_classer}_{layer}_{output_dim}\""
   ]
  },
  {
   "cell_type": "markdown",
   "metadata": {},
   "source": [
    "## Prepare equivalence class dataset"
   ]
  },
  {
   "cell_type": "code",
   "execution_count": 5,
   "metadata": {},
   "outputs": [
    {
     "name": "stderr",
     "output_type": "stream",
     "text": [
      "The tokenizer class you load from this checkpoint is not the same type as the class this function is called from. It may result in unexpected tokenization. \n",
      "The tokenizer class you load from this checkpoint is 'Wav2Vec2CTCTokenizer'. \n",
      "The class this function is called from is 'Wav2Vec2Tokenizer'.\n",
      "/Users/jon/miniforge3/envs/explore310/lib/python3.10/site-packages/transformers/models/wav2vec2/tokenization_wav2vec2.py:792: FutureWarning: The class `Wav2Vec2Tokenizer` is deprecated and will be removed in version 5 of Transformers. Please use `Wav2Vec2Processor` or `Wav2Vec2CTCTokenizer` instead.\n",
      "  warnings.warn(\n",
      "Special tokens have been added in the vocabulary, make sure the associated word embeddings are fine-tuned or trained.\n"
     ]
    }
   ],
   "source": [
    "tokenizer = transformers.Wav2Vec2Tokenizer.from_pretrained(\"charsiu/tokenizer_en_cmu\")\n",
    "feature_extractor = transformers.Wav2Vec2FeatureExtractor(feature_size=1, sampling_rate=16000, padding_value=0.0, do_normalize=True, return_attention_mask=False)\n",
    "processor = transformers.Wav2Vec2Processor(feature_extractor=feature_extractor, tokenizer=tokenizer)"
   ]
  },
  {
   "cell_type": "code",
   "execution_count": 6,
   "metadata": {},
   "outputs": [
    {
     "name": "stderr",
     "output_type": "stream",
     "text": [
      "/Users/jon/miniforge3/envs/explore310/lib/python3.10/site-packages/transformers/configuration_utils.py:380: UserWarning: Passing `gradient_checkpointing` to a config initialization is deprecated and will be removed in v5 Transformers. Using `model.gradient_checkpointing_enable()` instead, or if you are using the `Trainer` API, pass `gradient_checkpointing=True` in your `TrainingArguments`.\n",
      "  warnings.warn(\n"
     ]
    }
   ],
   "source": [
    "model: transformers.Wav2Vec2Model = transformers.Wav2Vec2Model.from_pretrained(model_name)\n",
    "# model = model.to(\"cuda\")"
   ]
  },
  {
   "cell_type": "code",
   "execution_count": 7,
   "metadata": {},
   "outputs": [],
   "source": [
    "dataset = load_or_prepare_timit_corpus(\"data/timit_phoneme_dev\", \"data/timit_raw\",\n",
    "                                       processor)\n",
    "\n",
    "def add_indices(item, idx):\n",
    "    item[\"idx\"] = idx\n",
    "    return item\n",
    "dataset = dataset.map(add_indices, batched=True, batch_size=2000, with_indices=True)"
   ]
  },
  {
   "cell_type": "code",
   "execution_count": 8,
   "metadata": {},
   "outputs": [],
   "source": [
    "dev_dataset = dataset"
   ]
  },
  {
   "cell_type": "code",
   "execution_count": 17,
   "metadata": {},
   "outputs": [
    {
     "data": {
      "application/vnd.jupyter.widget-view+json": {
       "model_id": "5eaef4c1380b4c59823f40addacace59",
       "version_major": 2,
       "version_minor": 0
      },
      "text/plain": [
       "Extracting hidden states:   0%|          | 0/500 [00:00<?, ? examples/s]"
      ]
     },
     "metadata": {},
     "output_type": "display_data"
    },
    {
     "data": {
      "application/vnd.jupyter.widget-view+json": {
       "model_id": "421c00fb7b494933a3a965d0393e2ac2",
       "version_major": 2,
       "version_minor": 0
      },
      "text/plain": [
       "Computing start frames:   0%|          | 0/500 [00:00<?, ? examples/s]"
      ]
     },
     "metadata": {},
     "output_type": "display_data"
    }
   ],
   "source": [
    "equiv_dataset = make_timit_equivalence_dataset(\n",
    "    f\"timit_phoneme/{equivalence_classer}\",\n",
    "    dev_dataset, model,\n",
    "    equivalence_classer,\n",
    "    num_frames_per_phoneme=num_frames_per_phoneme)"
   ]
  },
  {
   "cell_type": "code",
   "execution_count": 18,
   "metadata": {},
   "outputs": [],
   "source": [
    "with open(equiv_dataset_path, \"wb\") as f:\n",
    "    pickle.dump(equiv_dataset, f)"
   ]
  },
  {
   "cell_type": "code",
   "execution_count": 19,
   "metadata": {},
   "outputs": [
    {
     "data": {
      "text/plain": [
       "SpeechEquivalenceDataset(timit_phoneme/phoneme, 40 classes, 15824 instances, with SpeechHiddenStateDataset(facebook/wav2vec2-base, 500 items, 75836 frames, 13 layers, 768 hidden size))"
      ]
     },
     "execution_count": 19,
     "metadata": {},
     "output_type": "execute_result"
    }
   ],
   "source": [
    "equiv_dataset"
   ]
  },
  {
   "cell_type": "code",
   "execution_count": 21,
   "metadata": {},
   "outputs": [],
   "source": [
    "# TODO compute how many positive examples each Q lines up. we want to make sure we have a minimal\n",
    "# number of positive examples for each Q, even the sparse word-level ones"
   ]
  },
  {
   "cell_type": "code",
   "execution_count": 22,
   "metadata": {},
   "outputs": [
    {
     "data": {
      "text/plain": [
       "24"
      ]
     },
     "execution_count": 22,
     "metadata": {},
     "output_type": "execute_result"
    },
    {
     "data": {
      "image/png": "[encoded data removed]",
      "text/plain": [
       "<Figure size 640x480 with 1 Axes>"
      ]
     },
     "metadata": {},
     "output_type": "display_data"
    }
   ],
   "source": [
    "# Pick a max length that accommodates the majority of the samples, excluding outlier lengths\n",
    "evident_lengths = equiv_dataset.lengths\n",
    "target_length = int(torch.quantile(evident_lengths.double(), 0.95).item())\n",
    "sns.histplot(evident_lengths.numpy(), discrete=True)\n",
    "target_length"
   ]
  },
  {
   "cell_type": "code",
   "execution_count": 23,
   "metadata": {},
   "outputs": [
    {
     "data": {
      "application/vnd.jupyter.widget-view+json": {
       "model_id": "c91cb251a14e444e88caa7417076d720",
       "version_major": 2,
       "version_minor": 0
      },
      "text/plain": [
       "  0%|          | 0/15824 [00:00<?, ?it/s]"
      ]
     },
     "metadata": {},
     "output_type": "display_data"
    }
   ],
   "source": [
    "ce_dataset = prepare_dataset(equiv_dataset, target_length, layer)"
   ]
  },
  {
   "cell_type": "code",
   "execution_count": 24,
   "metadata": {},
   "outputs": [
    {
     "data": {
      "application/vnd.jupyter.widget-view+json": {
       "model_id": "88085bfcedc543fe810c19a125d768e3",
       "version_major": 2,
       "version_minor": 0
      },
      "text/plain": [
       "Saving the dataset (0/8 shards):   0%|          | 0/15824 [00:00<?, ? examples/s]"
      ]
     },
     "metadata": {},
     "output_type": "display_data"
    }
   ],
   "source": [
    "Path(output_dir).mkdir(exist_ok=True, parents=True)\n",
    "ce_dataset.save_to_disk(Path(output_dir) / \"dataset\")"
   ]
  },
  {
   "cell_type": "markdown",
   "metadata": {},
   "source": [
    "## Prepare model"
   ]
  },
  {
   "cell_type": "code",
   "execution_count": 25,
   "metadata": {},
   "outputs": [],
   "source": [
    "ce_model_config = ContrastiveEmbeddingModelConfig(\n",
    "    base_model_ref=model_name,\n",
    "    base_model_layer=layer,\n",
    "\n",
    "    equivalence_classer=equivalence_classer,\n",
    "\n",
    "    max_length=target_length,\n",
    "    input_dim=equiv_dataset.hidden_state_dataset.hidden_size,\n",
    "    hidden_dim=32,\n",
    "    output_dim=output_dim,\n",
    "    tau=0.1)\n"
   ]
  },
  {
   "cell_type": "code",
   "execution_count": 26,
   "metadata": {},
   "outputs": [],
   "source": [
    "ce_model = ContrastiveEmbeddingModel(ce_model_config)"
   ]
  },
  {
   "cell_type": "code",
   "execution_count": 27,
   "metadata": {},
   "outputs": [],
   "source": [
    "training_args = transformers.TrainingArguments(\n",
    "    output_dir=output_dir,\n",
    "    overwrite_output_dir=True,\n",
    "    num_train_epochs=2,\n",
    "    per_device_train_batch_size=32,\n",
    "    save_steps=100,\n",
    "    eval_steps=100,\n",
    "    save_total_limit=5,\n",
    "    logging_steps=10,\n",
    "    logging_dir=f\"{output_dir}/logs\",\n",
    "    evaluation_strategy=\"steps\",\n",
    "    logging_first_step=True,\n",
    "    load_best_model_at_end=True,\n",
    "    greater_is_better=False,\n",
    "    remove_unused_columns=False,\n",
    "\n",
    "    learning_rate=1e-3,\n",
    ")\n",
    "\n",
    "dataset_split = ce_dataset.train_test_split(test_size=0.1, shuffle=True)\n",
    "train_dataset = dataset_split[\"train\"]\n",
    "eval_dataset = dataset_split[\"test\"]\n",
    "trainer = transformers.Trainer(\n",
    "    model=ce_model,\n",
    "    train_dataset=train_dataset,\n",
    "    eval_dataset=eval_dataset,\n",
    "    # compute_metrics=compute_metrics,\n",
    "    # data_collator=MyCollator(max_length),\n",
    "    args=training_args)"
   ]
  },
  {
   "cell_type": "code",
   "execution_count": 28,
   "metadata": {},
   "outputs": [
    {
     "data": {
      "application/vnd.jupyter.widget-view+json": {
       "model_id": "76466601107b4395bacc88e381cbdea0",
       "version_major": 2,
       "version_minor": 0
      },
      "text/plain": [
       "  0%|          | 0/892 [00:00<?, ?it/s]"
      ]
     },
     "metadata": {},
     "output_type": "display_data"
    },
    {
     "name": "stderr",
     "output_type": "stream",
     "text": [
      "Could not estimate the number of tokens of the input, floating-point operations will not be computed\n"
     ]
    },
    {
     "name": "stdout",
     "output_type": "stream",
     "text": [
      "{'loss': 0.1947, 'learning_rate': 0.0009988789237668162, 'epoch': 0.0}\n",
      "{'loss': 0.0583, 'learning_rate': 0.0009887892376681615, 'epoch': 0.02}\n",
      "{'loss': -0.1444, 'learning_rate': 0.000977578475336323, 'epoch': 0.04}\n",
      "{'loss': 0.2193, 'learning_rate': 0.0009663677130044843, 'epoch': 0.07}\n",
      "{'loss': -0.2544, 'learning_rate': 0.0009551569506726457, 'epoch': 0.09}\n",
      "{'loss': -0.0479, 'learning_rate': 0.0009439461883408071, 'epoch': 0.11}\n",
      "{'loss': -0.2237, 'learning_rate': 0.0009327354260089686, 'epoch': 0.13}\n",
      "{'loss': -0.2501, 'learning_rate': 0.00092152466367713, 'epoch': 0.16}\n",
      "{'loss': 0.0133, 'learning_rate': 0.0009103139013452914, 'epoch': 0.18}\n",
      "{'loss': 0.0255, 'learning_rate': 0.0008991031390134529, 'epoch': 0.2}\n",
      "{'loss': 0.0924, 'learning_rate': 0.0008878923766816143, 'epoch': 0.22}\n"
     ]
    },
    {
     "data": {
      "application/vnd.jupyter.widget-view+json": {
       "model_id": "0a09e7e5345b488893022b983bdc3789",
       "version_major": 2,
       "version_minor": 0
      },
      "text/plain": [
       "  0%|          | 0/198 [00:00<?, ?it/s]"
      ]
     },
     "metadata": {},
     "output_type": "display_data"
    },
    {
     "name": "stdout",
     "output_type": "stream",
     "text": [
      "{'eval_loss': -0.007205112371593714, 'eval_runtime': 21.4989, 'eval_samples_per_second': 73.632, 'eval_steps_per_second': 9.21, 'epoch': 0.22}\n",
      "{'loss': -0.2536, 'learning_rate': 0.0008766816143497757, 'epoch': 0.25}\n",
      "{'loss': -0.1003, 'learning_rate': 0.0008654708520179372, 'epoch': 0.27}\n",
      "{'loss': 0.2007, 'learning_rate': 0.0008542600896860987, 'epoch': 0.29}\n",
      "{'loss': -0.089, 'learning_rate': 0.0008430493273542601, 'epoch': 0.31}\n",
      "{'loss': -0.2046, 'learning_rate': 0.0008318385650224215, 'epoch': 0.34}\n",
      "{'loss': -0.2679, 'learning_rate': 0.000820627802690583, 'epoch': 0.36}\n",
      "{'loss': -0.0573, 'learning_rate': 0.0008094170403587444, 'epoch': 0.38}\n",
      "{'loss': -0.2693, 'learning_rate': 0.0007982062780269058, 'epoch': 0.4}\n",
      "{'loss': 0.1051, 'learning_rate': 0.0007869955156950673, 'epoch': 0.43}\n",
      "{'loss': 0.076, 'learning_rate': 0.0007757847533632287, 'epoch': 0.45}\n"
     ]
    },
    {
     "data": {
      "application/vnd.jupyter.widget-view+json": {
       "model_id": "62e9017107294ab1bebb20955fdfc6e6",
       "version_major": 2,
       "version_minor": 0
      },
      "text/plain": [
       "  0%|          | 0/198 [00:00<?, ?it/s]"
      ]
     },
     "metadata": {},
     "output_type": "display_data"
    },
    {
     "name": "stdout",
     "output_type": "stream",
     "text": [
      "{'eval_loss': -0.008836213499307632, 'eval_runtime': 8.9881, 'eval_samples_per_second': 176.121, 'eval_steps_per_second': 22.029, 'epoch': 0.45}\n",
      "{'loss': -0.2864, 'learning_rate': 0.0007645739910313901, 'epoch': 0.47}\n",
      "{'loss': 0.0719, 'learning_rate': 0.0007533632286995515, 'epoch': 0.49}\n",
      "{'loss': 0.037, 'learning_rate': 0.000742152466367713, 'epoch': 0.52}\n",
      "{'loss': -0.1036, 'learning_rate': 0.0007309417040358744, 'epoch': 0.54}\n",
      "{'loss': 0.048, 'learning_rate': 0.0007197309417040358, 'epoch': 0.56}\n",
      "{'loss': -0.2551, 'learning_rate': 0.0007085201793721974, 'epoch': 0.58}\n",
      "{'loss': -0.2568, 'learning_rate': 0.0006973094170403588, 'epoch': 0.61}\n",
      "{'loss': 0.0729, 'learning_rate': 0.0006860986547085201, 'epoch': 0.63}\n",
      "{'loss': -0.1, 'learning_rate': 0.0006748878923766815, 'epoch': 0.65}\n",
      "{'loss': -0.2446, 'learning_rate': 0.000663677130044843, 'epoch': 0.67}\n"
     ]
    },
    {
     "data": {
      "application/vnd.jupyter.widget-view+json": {
       "model_id": "b0a88ba14e764e47b5d475c36dedef1f",
       "version_major": 2,
       "version_minor": 0
      },
      "text/plain": [
       "  0%|          | 0/198 [00:00<?, ?it/s]"
      ]
     },
     "metadata": {},
     "output_type": "display_data"
    },
    {
     "name": "stdout",
     "output_type": "stream",
     "text": [
      "{'eval_loss': 0.03503071516752243, 'eval_runtime': 9.084, 'eval_samples_per_second': 174.262, 'eval_steps_per_second': 21.797, 'epoch': 0.67}\n",
      "{'loss': -0.1719, 'learning_rate': 0.0006524663677130045, 'epoch': 0.7}\n",
      "{'loss': -0.1347, 'learning_rate': 0.0006412556053811658, 'epoch': 0.72}\n",
      "{'loss': -0.1947, 'learning_rate': 0.0006300448430493274, 'epoch': 0.74}\n",
      "{'loss': -0.2501, 'learning_rate': 0.0006188340807174889, 'epoch': 0.76}\n",
      "{'loss': -0.4414, 'learning_rate': 0.0006076233183856503, 'epoch': 0.78}\n",
      "{'loss': 0.0685, 'learning_rate': 0.0005964125560538117, 'epoch': 0.81}\n",
      "{'loss': -0.2191, 'learning_rate': 0.0005852017937219732, 'epoch': 0.83}\n",
      "{'loss': -0.0453, 'learning_rate': 0.0005739910313901346, 'epoch': 0.85}\n",
      "{'loss': -0.4352, 'learning_rate': 0.000562780269058296, 'epoch': 0.87}\n",
      "{'loss': -0.338, 'learning_rate': 0.0005515695067264575, 'epoch': 0.9}\n"
     ]
    },
    {
     "data": {
      "application/vnd.jupyter.widget-view+json": {
       "model_id": "0c2dcc27ec9d4b7284ba0a11bd24a033",
       "version_major": 2,
       "version_minor": 0
      },
      "text/plain": [
       "  0%|          | 0/198 [00:00<?, ?it/s]"
      ]
     },
     "metadata": {},
     "output_type": "display_data"
    },
    {
     "name": "stdout",
     "output_type": "stream",
     "text": [
      "{'eval_loss': -0.070709727704525, 'eval_runtime': 8.7056, 'eval_samples_per_second': 181.837, 'eval_steps_per_second': 22.744, 'epoch': 0.9}\n",
      "{'loss': -0.7194, 'learning_rate': 0.0005403587443946189, 'epoch': 0.92}\n",
      "{'loss': 0.0814, 'learning_rate': 0.0005291479820627803, 'epoch': 0.94}\n",
      "{'loss': 0.0423, 'learning_rate': 0.0005179372197309418, 'epoch': 0.96}\n",
      "{'loss': -0.1745, 'learning_rate': 0.0005067264573991032, 'epoch': 0.99}\n",
      "{'loss': 0.1914, 'learning_rate': 0.0004955156950672646, 'epoch': 1.01}\n",
      "{'loss': -0.244, 'learning_rate': 0.000484304932735426, 'epoch': 1.03}\n",
      "{'loss': -0.1942, 'learning_rate': 0.0004730941704035874, 'epoch': 1.05}\n",
      "{'loss': -0.2328, 'learning_rate': 0.0004618834080717489, 'epoch': 1.08}\n",
      "{'loss': 0.0108, 'learning_rate': 0.0004506726457399103, 'epoch': 1.1}\n",
      "{'loss': -0.2954, 'learning_rate': 0.0004394618834080717, 'epoch': 1.12}\n"
     ]
    },
    {
     "data": {
      "application/vnd.jupyter.widget-view+json": {
       "model_id": "7a2254fb82584319a3aab3a65b0bd147",
       "version_major": 2,
       "version_minor": 0
      },
      "text/plain": [
       "  0%|          | 0/198 [00:00<?, ?it/s]"
      ]
     },
     "metadata": {},
     "output_type": "display_data"
    },
    {
     "name": "stdout",
     "output_type": "stream",
     "text": [
      "{'eval_loss': -0.10739188641309738, 'eval_runtime': 8.9698, 'eval_samples_per_second': 176.481, 'eval_steps_per_second': 22.074, 'epoch': 1.12}\n",
      "{'loss': -0.1793, 'learning_rate': 0.00042825112107623323, 'epoch': 1.14}\n",
      "{'loss': -0.1887, 'learning_rate': 0.00041704035874439463, 'epoch': 1.17}\n",
      "{'loss': -0.3405, 'learning_rate': 0.0004058295964125561, 'epoch': 1.19}\n",
      "{'loss': -0.1337, 'learning_rate': 0.0003946188340807175, 'epoch': 1.21}\n",
      "{'loss': 0.0142, 'learning_rate': 0.00038340807174887893, 'epoch': 1.23}\n",
      "{'loss': -0.5874, 'learning_rate': 0.0003721973094170404, 'epoch': 1.26}\n",
      "{'loss': -0.3535, 'learning_rate': 0.0003609865470852018, 'epoch': 1.28}\n",
      "{'loss': -0.3452, 'learning_rate': 0.00034977578475336324, 'epoch': 1.3}\n",
      "{'loss': -0.3022, 'learning_rate': 0.00033856502242152463, 'epoch': 1.32}\n",
      "{'loss': -0.0508, 'learning_rate': 0.0003273542600896861, 'epoch': 1.35}\n"
     ]
    },
    {
     "data": {
      "application/vnd.jupyter.widget-view+json": {
       "model_id": "074bdb6fc2694f2699bc7e66cba9b175",
       "version_major": 2,
       "version_minor": 0
      },
      "text/plain": [
       "  0%|          | 0/198 [00:00<?, ?it/s]"
      ]
     },
     "metadata": {},
     "output_type": "display_data"
    },
    {
     "name": "stdout",
     "output_type": "stream",
     "text": [
      "{'eval_loss': -0.08539577573537827, 'eval_runtime': 9.2622, 'eval_samples_per_second': 170.909, 'eval_steps_per_second': 21.377, 'epoch': 1.35}\n",
      "{'loss': -0.5875, 'learning_rate': 0.00031614349775784754, 'epoch': 1.37}\n",
      "{'loss': -0.023, 'learning_rate': 0.000304932735426009, 'epoch': 1.39}\n",
      "{'loss': 0.1714, 'learning_rate': 0.00029372197309417044, 'epoch': 1.41}\n",
      "{'loss': -0.1883, 'learning_rate': 0.00028251121076233184, 'epoch': 1.43}\n",
      "{'loss': -0.1936, 'learning_rate': 0.0002713004484304933, 'epoch': 1.46}\n",
      "{'loss': -0.2066, 'learning_rate': 0.0002600896860986547, 'epoch': 1.48}\n",
      "{'loss': -0.2161, 'learning_rate': 0.00024887892376681615, 'epoch': 1.5}\n",
      "{'loss': 0.2149, 'learning_rate': 0.00023766816143497757, 'epoch': 1.52}\n",
      "{'loss': -0.0635, 'learning_rate': 0.000226457399103139, 'epoch': 1.55}\n",
      "{'loss': -0.4752, 'learning_rate': 0.00021524663677130048, 'epoch': 1.57}\n"
     ]
    },
    {
     "data": {
      "application/vnd.jupyter.widget-view+json": {
       "model_id": "86a225e21b2b471ca49a7a4ae1cdf844",
       "version_major": 2,
       "version_minor": 0
      },
      "text/plain": [
       "  0%|          | 0/198 [00:00<?, ?it/s]"
      ]
     },
     "metadata": {},
     "output_type": "display_data"
    },
    {
     "name": "stdout",
     "output_type": "stream",
     "text": [
      "{'eval_loss': -0.13864369690418243, 'eval_runtime': 9.2832, 'eval_samples_per_second': 170.524, 'eval_steps_per_second': 21.329, 'epoch': 1.57}\n",
      "{'loss': -0.0179, 'learning_rate': 0.0002040358744394619, 'epoch': 1.59}\n",
      "{'loss': -0.2367, 'learning_rate': 0.00019282511210762333, 'epoch': 1.61}\n",
      "{'loss': -0.2139, 'learning_rate': 0.00018161434977578475, 'epoch': 1.64}\n",
      "{'loss': -0.08, 'learning_rate': 0.00017040358744394618, 'epoch': 1.66}\n",
      "{'loss': -0.5864, 'learning_rate': 0.0001591928251121076, 'epoch': 1.68}\n",
      "{'loss': -0.3363, 'learning_rate': 0.00014798206278026908, 'epoch': 1.7}\n",
      "{'loss': -0.4317, 'learning_rate': 0.0001367713004484305, 'epoch': 1.73}\n",
      "{'loss': -0.106, 'learning_rate': 0.00012556053811659193, 'epoch': 1.75}\n",
      "{'loss': -0.1425, 'learning_rate': 0.00011434977578475336, 'epoch': 1.77}\n",
      "{'loss': 0.085, 'learning_rate': 0.00010313901345291481, 'epoch': 1.79}\n"
     ]
    },
    {
     "data": {
      "application/vnd.jupyter.widget-view+json": {
       "model_id": "2f13802209004be9a57c4689354c1bc1",
       "version_major": 2,
       "version_minor": 0
      },
      "text/plain": [
       "  0%|          | 0/198 [00:00<?, ?it/s]"
      ]
     },
     "metadata": {},
     "output_type": "display_data"
    },
    {
     "name": "stdout",
     "output_type": "stream",
     "text": [
      "{'eval_loss': -0.14365975558757782, 'eval_runtime': 9.0736, 'eval_samples_per_second': 174.463, 'eval_steps_per_second': 21.822, 'epoch': 1.79}\n",
      "{'loss': -0.3653, 'learning_rate': 9.192825112107624e-05, 'epoch': 1.82}\n",
      "{'loss': -0.4365, 'learning_rate': 8.071748878923766e-05, 'epoch': 1.84}\n",
      "{'loss': -0.0889, 'learning_rate': 6.950672645739911e-05, 'epoch': 1.86}\n",
      "{'loss': -0.4264, 'learning_rate': 5.829596412556054e-05, 'epoch': 1.88}\n",
      "{'loss': -0.1785, 'learning_rate': 4.708520179372197e-05, 'epoch': 1.91}\n",
      "{'loss': 0.2237, 'learning_rate': 3.587443946188341e-05, 'epoch': 1.93}\n",
      "{'loss': -0.2712, 'learning_rate': 2.4663677130044842e-05, 'epoch': 1.95}\n",
      "{'loss': 0.1298, 'learning_rate': 1.345291479820628e-05, 'epoch': 1.97}\n",
      "{'loss': -0.4209, 'learning_rate': 2.242152466367713e-06, 'epoch': 2.0}\n",
      "{'train_runtime': 512.7951, 'train_samples_per_second': 55.543, 'train_steps_per_second': 1.739, 'train_loss': -0.15547766372761918, 'epoch': 2.0}\n"
     ]
    },
    {
     "data": {
      "text/plain": [
       "TrainOutput(global_step=892, training_loss=-0.15547766372761918, metrics={'train_runtime': 512.7951, 'train_samples_per_second': 55.543, 'train_steps_per_second': 1.739, 'train_loss': -0.15547766372761918, 'epoch': 2.0})"
      ]
     },
     "execution_count": 28,
     "metadata": {},
     "output_type": "execute_result"
    }
   ],
   "source": [
    "trainer.train()"
   ]
  },
  {
   "cell_type": "code",
   "execution_count": null,
   "metadata": {},
   "outputs": [],
   "source": []
  }
 ],
 "metadata": {
  "kernelspec": {
   "display_name": "Python 3",
   "language": "python",
   "name": "python3"
  },
  "language_info": {
   "codemirror_mode": {
    "name": "ipython",
    "version": 3
   },
   "file_extension": ".py",
   "mimetype": "text/x-python",
   "name": "python",
   "nbconvert_exporter": "python",
   "pygments_lexer": "ipython3",
   "version": "3.10.13"
  }
 },
 "nbformat": 4,
 "nbformat_minor": 2
}
