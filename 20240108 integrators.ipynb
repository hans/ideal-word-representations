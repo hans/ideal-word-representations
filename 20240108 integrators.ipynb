{
 "cells": [
  {
   "cell_type": "code",
   "execution_count": 1,
   "metadata": {},
   "outputs": [],
   "source": [
    "%load_ext autoreload\n",
    "%autoreload 2"
   ]
  },
  {
   "cell_type": "code",
   "execution_count": 2,
   "metadata": {},
   "outputs": [],
   "source": [
    "import os\n",
    "os.environ[\"CUDA_VISIBLE_DEVICES\"] = \"1\""
   ]
  },
  {
   "cell_type": "code",
   "execution_count": 3,
   "metadata": {},
   "outputs": [],
   "source": [
    "from collections import defaultdict, Counter\n",
    "import pickle\n",
    "from pathlib import Path\n",
    "\n",
    "import seaborn as sns\n",
    "import torch\n",
    "from tqdm.auto import tqdm, trange\n",
    "import transformers\n",
    "\n",
    "from src.datasets.speech_equivalence import \\\n",
    "    SpeechEquivalenceDataset, SpeechHiddenStateDataset, make_timit_equivalence_dataset\n",
    "from src.models.integrator import ContrastiveEmbeddingModel, ContrastiveEmbeddingModelConfig, prepare_dataset\n",
    "from src.utils.timit import load_or_prepare_timit_corpus"
   ]
  },
  {
   "cell_type": "code",
   "execution_count": 4,
   "metadata": {},
   "outputs": [],
   "source": [
    "model_name = \"facebook/wav2vec2-base\"\n",
    "\n",
    "equivalence_classer = \"phoneme_within_word_prefix\"\n",
    "num_frames_per_phoneme = 1\n",
    "\n",
    "layer = 6\n",
    "output_dim = 32\n",
    "\n",
    "equiv_dataset_path = f\"data/timit_equiv_{equivalence_classer}_{num_frames_per_phoneme}.pkl\"\n",
    "output_dir = f\"out/ce_model_{equivalence_classer}_{layer}_{output_dim}\""
   ]
  },
  {
   "cell_type": "markdown",
   "metadata": {},
   "source": [
    "## Prepare equivalence class dataset"
   ]
  },
  {
   "cell_type": "code",
   "execution_count": 5,
   "metadata": {},
   "outputs": [
    {
     "data": {
      "application/vnd.jupyter.widget-view+json": {
       "model_id": "8b6293e21773484d853753d777317212",
       "version_major": 2,
       "version_minor": 0
      },
      "text/plain": [
       "Downloading vocab.json:   0%|          | 0.00/403 [00:00<?, ?B/s]"
      ]
     },
     "metadata": {},
     "output_type": "display_data"
    },
    {
     "data": {
      "application/vnd.jupyter.widget-view+json": {
       "model_id": "63d45be5cc6d4a89952b62eacd66576e",
       "version_major": 2,
       "version_minor": 0
      },
      "text/plain": [
       "Downloading tokenizer_config.json:   0%|          | 0.00/180 [00:00<?, ?B/s]"
      ]
     },
     "metadata": {},
     "output_type": "display_data"
    },
    {
     "data": {
      "application/vnd.jupyter.widget-view+json": {
       "model_id": "8f214bffaa654de9a8700f85196ad5db",
       "version_major": 2,
       "version_minor": 0
      },
      "text/plain": [
       "Downloading (…)cial_tokens_map.json:   0%|          | 0.00/85.0 [00:00<?, ?B/s]"
      ]
     },
     "metadata": {},
     "output_type": "display_data"
    },
    {
     "name": "stderr",
     "output_type": "stream",
     "text": [
      "The tokenizer class you load from this checkpoint is not the same type as the class this function is called from. It may result in unexpected tokenization. \n",
      "The tokenizer class you load from this checkpoint is 'Wav2Vec2CTCTokenizer'. \n",
      "The class this function is called from is 'Wav2Vec2Tokenizer'.\n",
      "/Users/jon/miniforge3/envs/explore310/lib/python3.10/site-packages/transformers/models/wav2vec2/tokenization_wav2vec2.py:792: FutureWarning: The class `Wav2Vec2Tokenizer` is deprecated and will be removed in version 5 of Transformers. Please use `Wav2Vec2Processor` or `Wav2Vec2CTCTokenizer` instead.\n",
      "  warnings.warn(\n",
      "Special tokens have been added in the vocabulary, make sure the associated word embeddings are fine-tuned or trained.\n"
     ]
    }
   ],
   "source": [
    "tokenizer = transformers.Wav2Vec2Tokenizer.from_pretrained(\"charsiu/tokenizer_en_cmu\")\n",
    "feature_extractor = transformers.Wav2Vec2FeatureExtractor(feature_size=1, sampling_rate=16000, padding_value=0.0, do_normalize=True, return_attention_mask=False)\n",
    "processor = transformers.Wav2Vec2Processor(feature_extractor=feature_extractor, tokenizer=tokenizer)"
   ]
  },
  {
   "cell_type": "code",
   "execution_count": 6,
   "metadata": {},
   "outputs": [
    {
     "data": {
      "application/vnd.jupyter.widget-view+json": {
       "model_id": "b5c67a43ffb4427e8d25a285db17112d",
       "version_major": 2,
       "version_minor": 0
      },
      "text/plain": [
       "Downloading config.json:   0%|          | 0.00/1.84k [00:00<?, ?B/s]"
      ]
     },
     "metadata": {},
     "output_type": "display_data"
    },
    {
     "name": "stderr",
     "output_type": "stream",
     "text": [
      "/Users/jon/miniforge3/envs/explore310/lib/python3.10/site-packages/transformers/configuration_utils.py:380: UserWarning: Passing `gradient_checkpointing` to a config initialization is deprecated and will be removed in v5 Transformers. Using `model.gradient_checkpointing_enable()` instead, or if you are using the `Trainer` API, pass `gradient_checkpointing=True` in your `TrainingArguments`.\n",
      "  warnings.warn(\n"
     ]
    },
    {
     "data": {
      "application/vnd.jupyter.widget-view+json": {
       "model_id": "a984da92b6f84b11851dea25ef716bc7",
       "version_major": 2,
       "version_minor": 0
      },
      "text/plain": [
       "Downloading pytorch_model.bin:   0%|          | 0.00/380M [00:00<?, ?B/s]"
      ]
     },
     "metadata": {},
     "output_type": "display_data"
    }
   ],
   "source": [
    "model: transformers.Wav2Vec2Model = transformers.Wav2Vec2Model.from_pretrained(model_name)\n",
    "# model = model.to(\"cuda\")"
   ]
  },
  {
   "cell_type": "code",
   "execution_count": 7,
   "metadata": {},
   "outputs": [
    {
     "data": {
      "application/vnd.jupyter.widget-view+json": {
       "model_id": "98fe443e25a841b8a30140ebee81aba4",
       "version_major": 2,
       "version_minor": 0
      },
      "text/plain": [
       "Map:   0%|          | 0/500 [00:00<?, ? examples/s]"
      ]
     },
     "metadata": {},
     "output_type": "display_data"
    }
   ],
   "source": [
    "dataset = load_or_prepare_timit_corpus(\"data/timit_phoneme_dev\", \"data/timit_raw\",\n",
    "                                       processor)\n",
    "\n",
    "def add_indices(item, idx):\n",
    "    item[\"idx\"] = idx\n",
    "    return item\n",
    "dataset = dataset.map(add_indices, batched=True, batch_size=2000, with_indices=True)"
   ]
  },
  {
   "cell_type": "code",
   "execution_count": 9,
   "metadata": {},
   "outputs": [],
   "source": [
    "dev_dataset = dataset"
   ]
  },
  {
   "cell_type": "code",
   "execution_count": 10,
   "metadata": {},
   "outputs": [
    {
     "data": {
      "application/vnd.jupyter.widget-view+json": {
       "model_id": "fcb19889891b4abebad52a7a1afc0080",
       "version_major": 2,
       "version_minor": 0
      },
      "text/plain": [
       "Extracting hidden states:   0%|          | 0/500 [00:00<?, ? examples/s]"
      ]
     },
     "metadata": {},
     "output_type": "display_data"
    },
    {
     "data": {
      "application/vnd.jupyter.widget-view+json": {
       "model_id": "70a9df075f024ee1a0fe96b66ea42939",
       "version_major": 2,
       "version_minor": 0
      },
      "text/plain": [
       "Computing start frames:   0%|          | 0/500 [00:00<?, ? examples/s]"
      ]
     },
     "metadata": {},
     "output_type": "display_data"
    }
   ],
   "source": [
    "equiv_dataset = make_timit_equivalence_dataset(\n",
    "    f\"timit_phoneme/{equivalence_classer}\",\n",
    "    dev_dataset, model,\n",
    "    equivalence_classer,\n",
    "    num_frames_per_phoneme=num_frames_per_phoneme)"
   ]
  },
  {
   "cell_type": "code",
   "execution_count": 35,
   "metadata": {},
   "outputs": [],
   "source": [
    "with open(equiv_dataset_path, \"wb\") as f:\n",
    "    pickle.dump(equiv_dataset, f)"
   ]
  },
  {
   "cell_type": "code",
   "execution_count": 11,
   "metadata": {},
   "outputs": [
    {
     "data": {
      "text/plain": [
       "SpeechEquivalenceDataset(timit_phoneme/phoneme_within_word_prefix, 5429 classes, 15824 instances, with SpeechHiddenStateDataset(facebook/wav2vec2-base, 500 items, 75836 frames, 13 layers, 768 hidden size))"
      ]
     },
     "execution_count": 11,
     "metadata": {},
     "output_type": "execute_result"
    }
   ],
   "source": [
    "equiv_dataset"
   ]
  },
  {
   "cell_type": "code",
   "execution_count": 12,
   "metadata": {},
   "outputs": [],
   "source": [
    "# TODO compute how many positive examples each Q lines up. we want to make sure we have a minimal\n",
    "# number of positive examples for each Q, even the sparse word-level ones"
   ]
  },
  {
   "cell_type": "code",
   "execution_count": 16,
   "metadata": {},
   "outputs": [
    {
     "data": {
      "text/plain": [
       "24"
      ]
     },
     "execution_count": 16,
     "metadata": {},
     "output_type": "execute_result"
    },
    {
     "data": {
      "image/png": "[encoded data removed]",
      "text/plain": [
       "<Figure size 640x480 with 1 Axes>"
      ]
     },
     "metadata": {},
     "output_type": "display_data"
    }
   ],
   "source": [
    "# Pick a max length that accommodates the majority of the samples, excluding outlier lengths\n",
    "evident_lengths = equiv_dataset.lengths\n",
    "target_length = int(torch.quantile(evident_lengths.double(), 0.95).item())\n",
    "sns.histplot(evident_lengths.numpy(), discrete=True)\n",
    "target_length"
   ]
  },
  {
   "cell_type": "code",
   "execution_count": 24,
   "metadata": {},
   "outputs": [
    {
     "data": {
      "application/vnd.jupyter.widget-view+json": {
       "model_id": "7df63c9a0945405d81de2289a67453bb",
       "version_major": 2,
       "version_minor": 0
      },
      "text/plain": [
       "  0%|          | 0/15824 [00:00<?, ?it/s]"
      ]
     },
     "metadata": {},
     "output_type": "display_data"
    }
   ],
   "source": [
    "ce_dataset = prepare_dataset(equiv_dataset, target_length, layer)"
   ]
  },
  {
   "cell_type": "code",
   "execution_count": 25,
   "metadata": {},
   "outputs": [
    {
     "data": {
      "application/vnd.jupyter.widget-view+json": {
       "model_id": "5f8ac9e050294eaebb88c03b9ade2a0e",
       "version_major": 2,
       "version_minor": 0
      },
      "text/plain": [
       "Saving the dataset (0/6 shards):   0%|          | 0/11960 [00:00<?, ? examples/s]"
      ]
     },
     "metadata": {},
     "output_type": "display_data"
    }
   ],
   "source": [
    "Path(output_dir).mkdir(exist_ok=True, parents=True)\n",
    "ce_dataset.save_to_disk(Path(output_dir) / \"dataset\")"
   ]
  },
  {
   "cell_type": "markdown",
   "metadata": {},
   "source": [
    "## Prepare model"
   ]
  },
  {
   "cell_type": "code",
   "execution_count": 26,
   "metadata": {},
   "outputs": [],
   "source": [
    "ce_model_config = ContrastiveEmbeddingModelConfig(\n",
    "    base_model_ref=model_name,\n",
    "    base_model_layer=layer,\n",
    "\n",
    "    equivalence_classer=equivalence_classer,\n",
    "\n",
    "    max_length=target_length,\n",
    "    input_dim=equiv_dataset.hidden_state_dataset.hidden_size,\n",
    "    hidden_dim=32,\n",
    "    output_dim=output_dim,\n",
    "    tau=0.1)\n"
   ]
  },
  {
   "cell_type": "code",
   "execution_count": 27,
   "metadata": {},
   "outputs": [],
   "source": [
    "ce_model = ContrastiveEmbeddingModel(ce_model_config)"
   ]
  },
  {
   "cell_type": "code",
   "execution_count": 33,
   "metadata": {},
   "outputs": [],
   "source": [
    "training_args = transformers.TrainingArguments(\n",
    "    output_dir=output_dir,\n",
    "    overwrite_output_dir=True,\n",
    "    num_train_epochs=2,\n",
    "    per_device_train_batch_size=32,\n",
    "    save_steps=100,\n",
    "    eval_steps=100,\n",
    "    save_total_limit=5,\n",
    "    logging_steps=10,\n",
    "    logging_dir=f\"{output_dir}/logs\",\n",
    "    evaluation_strategy=\"steps\",\n",
    "    logging_first_step=True,\n",
    "    load_best_model_at_end=True,\n",
    "    greater_is_better=False,\n",
    "    remove_unused_columns=False,\n",
    "\n",
    "    learning_rate=1e-3,\n",
    ")\n",
    "\n",
    "dataset_split = ce_dataset.train_test_split(test_size=0.1, shuffle=True)\n",
    "train_dataset = dataset_split[\"train\"]\n",
    "eval_dataset = dataset_split[\"test\"]\n",
    "trainer = transformers.Trainer(\n",
    "    model=ce_model,\n",
    "    train_dataset=train_dataset,\n",
    "    eval_dataset=eval_dataset,\n",
    "    # compute_metrics=compute_metrics,\n",
    "    # data_collator=MyCollator(max_length),\n",
    "    args=training_args)"
   ]
  },
  {
   "cell_type": "code",
   "execution_count": 34,
   "metadata": {},
   "outputs": [
    {
     "data": {
      "application/vnd.jupyter.widget-view+json": {
       "model_id": "8288c1f8e1894bc9912049ae62de52be",
       "version_major": 2,
       "version_minor": 0
      },
      "text/plain": [
       "  0%|          | 0/674 [00:00<?, ?it/s]"
      ]
     },
     "metadata": {},
     "output_type": "display_data"
    },
    {
     "name": "stdout",
     "output_type": "stream",
     "text": [
      "{'loss': -0.7257, 'learning_rate': 0.0009985163204747774, 'epoch': 0.0}\n",
      "{'loss': -0.4232, 'learning_rate': 0.0009851632047477746, 'epoch': 0.03}\n",
      "{'loss': -1.0717, 'learning_rate': 0.000970326409495549, 'epoch': 0.06}\n",
      "{'loss': -0.4709, 'learning_rate': 0.0009554896142433234, 'epoch': 0.09}\n",
      "{'loss': -0.72, 'learning_rate': 0.0009406528189910979, 'epoch': 0.12}\n",
      "{'loss': -0.9445, 'learning_rate': 0.0009258160237388724, 'epoch': 0.15}\n",
      "{'loss': -0.7913, 'learning_rate': 0.0009109792284866469, 'epoch': 0.18}\n",
      "{'loss': -0.3671, 'learning_rate': 0.0008961424332344214, 'epoch': 0.21}\n",
      "{'loss': -0.489, 'learning_rate': 0.0008813056379821959, 'epoch': 0.24}\n",
      "{'loss': -0.3601, 'learning_rate': 0.0008664688427299703, 'epoch': 0.27}\n",
      "{'loss': -0.3967, 'learning_rate': 0.0008516320474777448, 'epoch': 0.3}\n"
     ]
    },
    {
     "data": {
      "application/vnd.jupyter.widget-view+json": {
       "model_id": "f472a03eeab84e649cf48c980badb66a",
       "version_major": 2,
       "version_minor": 0
      },
      "text/plain": [
       "  0%|          | 0/150 [00:00<?, ?it/s]"
      ]
     },
     "metadata": {},
     "output_type": "display_data"
    },
    {
     "name": "stdout",
     "output_type": "stream",
     "text": [
      "{'eval_loss': -0.6057084798812866, 'eval_runtime': 5.8557, 'eval_samples_per_second': 204.245, 'eval_steps_per_second': 25.616, 'epoch': 0.3}\n",
      "{'loss': -0.6284, 'learning_rate': 0.0008367952522255193, 'epoch': 0.33}\n",
      "{'loss': -0.7889, 'learning_rate': 0.0008219584569732938, 'epoch': 0.36}\n",
      "{'loss': -0.4403, 'learning_rate': 0.0008071216617210683, 'epoch': 0.39}\n",
      "{'loss': -1.0014, 'learning_rate': 0.0007922848664688428, 'epoch': 0.42}\n",
      "{'loss': -1.158, 'learning_rate': 0.0007774480712166172, 'epoch': 0.45}\n",
      "{'loss': -0.3357, 'learning_rate': 0.0007626112759643917, 'epoch': 0.47}\n",
      "{'loss': -0.6599, 'learning_rate': 0.0007477744807121661, 'epoch': 0.5}\n",
      "{'loss': -0.4134, 'learning_rate': 0.0007329376854599407, 'epoch': 0.53}\n",
      "{'loss': -0.6045, 'learning_rate': 0.0007181008902077152, 'epoch': 0.56}\n",
      "{'loss': -0.4593, 'learning_rate': 0.0007032640949554896, 'epoch': 0.59}\n"
     ]
    },
    {
     "data": {
      "application/vnd.jupyter.widget-view+json": {
       "model_id": "42885412e2a441e8bf750678e92ca8e4",
       "version_major": 2,
       "version_minor": 0
      },
      "text/plain": [
       "  0%|          | 0/150 [00:00<?, ?it/s]"
      ]
     },
     "metadata": {},
     "output_type": "display_data"
    },
    {
     "name": "stdout",
     "output_type": "stream",
     "text": [
      "{'eval_loss': -0.6586710214614868, 'eval_runtime': 5.8627, 'eval_samples_per_second': 204.0, 'eval_steps_per_second': 25.585, 'epoch': 0.59}\n",
      "{'loss': -0.7854, 'learning_rate': 0.0006884272997032641, 'epoch': 0.62}\n",
      "{'loss': -1.0433, 'learning_rate': 0.0006735905044510386, 'epoch': 0.65}\n",
      "{'loss': -0.6908, 'learning_rate': 0.000658753709198813, 'epoch': 0.68}\n",
      "{'loss': -0.5855, 'learning_rate': 0.0006439169139465876, 'epoch': 0.71}\n",
      "{'loss': -0.4172, 'learning_rate': 0.000629080118694362, 'epoch': 0.74}\n",
      "{'loss': -0.6852, 'learning_rate': 0.0006142433234421366, 'epoch': 0.77}\n",
      "{'loss': -0.9425, 'learning_rate': 0.000599406528189911, 'epoch': 0.8}\n",
      "{'loss': -0.5513, 'learning_rate': 0.0005845697329376854, 'epoch': 0.83}\n",
      "{'loss': -0.4656, 'learning_rate': 0.00056973293768546, 'epoch': 0.86}\n",
      "{'loss': -0.7784, 'learning_rate': 0.0005548961424332344, 'epoch': 0.89}\n"
     ]
    },
    {
     "data": {
      "application/vnd.jupyter.widget-view+json": {
       "model_id": "7b746ac6a5ec47a19e9e547f356c70ab",
       "version_major": 2,
       "version_minor": 0
      },
      "text/plain": [
       "  0%|          | 0/150 [00:00<?, ?it/s]"
      ]
     },
     "metadata": {},
     "output_type": "display_data"
    },
    {
     "name": "stdout",
     "output_type": "stream",
     "text": [
      "{'eval_loss': -0.7514176368713379, 'eval_runtime': 5.9017, 'eval_samples_per_second': 202.652, 'eval_steps_per_second': 25.416, 'epoch': 0.89}\n",
      "{'loss': -0.5929, 'learning_rate': 0.0005400593471810089, 'epoch': 0.92}\n",
      "{'loss': -0.1624, 'learning_rate': 0.0005252225519287835, 'epoch': 0.95}\n",
      "{'loss': -0.847, 'learning_rate': 0.0005103857566765578, 'epoch': 0.98}\n",
      "{'loss': -0.4305, 'learning_rate': 0.0004955489614243324, 'epoch': 1.01}\n",
      "{'loss': -0.6167, 'learning_rate': 0.00048071216617210684, 'epoch': 1.04}\n",
      "{'loss': -0.7291, 'learning_rate': 0.0004658753709198813, 'epoch': 1.07}\n",
      "{'loss': -0.6274, 'learning_rate': 0.00045103857566765576, 'epoch': 1.1}\n",
      "{'loss': -0.9148, 'learning_rate': 0.0004362017804154303, 'epoch': 1.13}\n",
      "{'loss': -0.5239, 'learning_rate': 0.0004213649851632048, 'epoch': 1.16}\n",
      "{'loss': -0.8239, 'learning_rate': 0.0004065281899109792, 'epoch': 1.19}\n"
     ]
    },
    {
     "data": {
      "application/vnd.jupyter.widget-view+json": {
       "model_id": "ca39bbe3a692489fa110adb4cf449b9d",
       "version_major": 2,
       "version_minor": 0
      },
      "text/plain": [
       "  0%|          | 0/150 [00:00<?, ?it/s]"
      ]
     },
     "metadata": {},
     "output_type": "display_data"
    },
    {
     "name": "stdout",
     "output_type": "stream",
     "text": [
      "{'eval_loss': -0.7329883575439453, 'eval_runtime': 5.8987, 'eval_samples_per_second': 202.755, 'eval_steps_per_second': 25.429, 'epoch': 1.19}\n",
      "{'loss': -0.4455, 'learning_rate': 0.0003916913946587537, 'epoch': 1.22}\n",
      "{'loss': -0.7736, 'learning_rate': 0.00037685459940652824, 'epoch': 1.25}\n",
      "{'loss': -0.7603, 'learning_rate': 0.0003620178041543027, 'epoch': 1.28}\n",
      "{'loss': -0.7644, 'learning_rate': 0.00034718100890207716, 'epoch': 1.31}\n",
      "{'loss': -0.7283, 'learning_rate': 0.00033234421364985165, 'epoch': 1.34}\n",
      "{'loss': -0.8143, 'learning_rate': 0.00031750741839762614, 'epoch': 1.36}\n",
      "{'loss': -0.455, 'learning_rate': 0.0003026706231454006, 'epoch': 1.39}\n",
      "{'loss': -0.6384, 'learning_rate': 0.00028783382789317506, 'epoch': 1.42}\n",
      "{'loss': -0.661, 'learning_rate': 0.00027299703264094954, 'epoch': 1.45}\n",
      "{'loss': -0.9996, 'learning_rate': 0.00025816023738872403, 'epoch': 1.48}\n"
     ]
    },
    {
     "data": {
      "application/vnd.jupyter.widget-view+json": {
       "model_id": "80d2527e849a424996dbbd2e686e3dbe",
       "version_major": 2,
       "version_minor": 0
      },
      "text/plain": [
       "  0%|          | 0/150 [00:00<?, ?it/s]"
      ]
     },
     "metadata": {},
     "output_type": "display_data"
    },
    {
     "name": "stdout",
     "output_type": "stream",
     "text": [
      "{'eval_loss': -0.803602933883667, 'eval_runtime': 5.9511, 'eval_samples_per_second': 200.973, 'eval_steps_per_second': 25.206, 'epoch': 1.48}\n",
      "{'loss': -0.5904, 'learning_rate': 0.00024332344213649852, 'epoch': 1.51}\n",
      "{'loss': -0.2431, 'learning_rate': 0.000228486646884273, 'epoch': 1.54}\n",
      "{'loss': -0.2675, 'learning_rate': 0.0002136498516320475, 'epoch': 1.57}\n",
      "{'loss': -0.8311, 'learning_rate': 0.00019881305637982198, 'epoch': 1.6}\n",
      "{'loss': -0.3005, 'learning_rate': 0.00018397626112759644, 'epoch': 1.63}\n",
      "{'loss': -0.8954, 'learning_rate': 0.00016913946587537092, 'epoch': 1.66}\n",
      "{'loss': -0.6288, 'learning_rate': 0.0001543026706231454, 'epoch': 1.69}\n",
      "{'loss': -0.9629, 'learning_rate': 0.0001394658753709199, 'epoch': 1.72}\n",
      "{'loss': -0.6721, 'learning_rate': 0.00012462908011869436, 'epoch': 1.75}\n",
      "{'loss': -0.6484, 'learning_rate': 0.00010979228486646884, 'epoch': 1.78}\n"
     ]
    },
    {
     "data": {
      "application/vnd.jupyter.widget-view+json": {
       "model_id": "ddfab37b14c143f28728c655e63fd6f6",
       "version_major": 2,
       "version_minor": 0
      },
      "text/plain": [
       "  0%|          | 0/150 [00:00<?, ?it/s]"
      ]
     },
     "metadata": {},
     "output_type": "display_data"
    },
    {
     "name": "stdout",
     "output_type": "stream",
     "text": [
      "{'eval_loss': -0.7691882252693176, 'eval_runtime': 6.0242, 'eval_samples_per_second': 198.531, 'eval_steps_per_second': 24.899, 'epoch': 1.78}\n",
      "{'loss': -1.0028, 'learning_rate': 9.495548961424333e-05, 'epoch': 1.81}\n",
      "{'loss': -0.7942, 'learning_rate': 8.011869436201782e-05, 'epoch': 1.84}\n",
      "{'loss': -0.4652, 'learning_rate': 6.528189910979229e-05, 'epoch': 1.87}\n",
      "{'loss': -0.2426, 'learning_rate': 5.044510385756677e-05, 'epoch': 1.9}\n",
      "{'loss': -0.7546, 'learning_rate': 3.560830860534125e-05, 'epoch': 1.93}\n",
      "{'loss': -0.8343, 'learning_rate': 2.0771513353115728e-05, 'epoch': 1.96}\n",
      "{'loss': -0.6225, 'learning_rate': 5.934718100890208e-06, 'epoch': 1.99}\n",
      "{'train_runtime': 286.9496, 'train_samples_per_second': 75.024, 'train_steps_per_second': 2.349, 'train_loss': -0.6525983739677452, 'epoch': 2.0}\n"
     ]
    },
    {
     "data": {
      "text/plain": [
       "TrainOutput(global_step=674, training_loss=-0.6525983739677452, metrics={'train_runtime': 286.9496, 'train_samples_per_second': 75.024, 'train_steps_per_second': 2.349, 'train_loss': -0.6525983739677452, 'epoch': 2.0})"
      ]
     },
     "execution_count": 34,
     "metadata": {},
     "output_type": "execute_result"
    }
   ],
   "source": [
    "trainer.train()"
   ]
  },
  {
   "cell_type": "code",
   "execution_count": null,
   "metadata": {},
   "outputs": [],
   "source": []
  }
 ],
 "metadata": {
  "kernelspec": {
   "display_name": "Python 3",
   "language": "python",
   "name": "python3"
  },
  "language_info": {
   "codemirror_mode": {
    "name": "ipython",
    "version": 3
   },
   "file_extension": ".py",
   "mimetype": "text/x-python",
   "name": "python",
   "nbconvert_exporter": "python",
   "pygments_lexer": "ipython3",
   "version": "3.10.13"
  }
 },
 "nbformat": 4,
 "nbformat_minor": 2
}
