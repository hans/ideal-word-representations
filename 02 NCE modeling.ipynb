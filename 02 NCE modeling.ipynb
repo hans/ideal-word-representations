{
 "cells": [
  {
   "cell_type": "markdown",
   "id": "3d05dd5b-c9c3-4323-be29-bec8522e45f5",
   "metadata": {},
   "source": [
    "Define a set of noise-contrastive learning paradigms which instantiate different types of word form codes.\n",
    "Concretely, the negative sampling space defines the contrast set of relevant alternatives. A more modular word form code would sample broadly from the entire lexicon; a less modular word-form code would take into account contextual constraints that rule out many words in the lexicon.\n",
    "\n",
    "These NCE objectives should impose constraints on the resulting optimal code."
   ]
  },
  {
   "cell_type": "code",
   "execution_count": null,
   "id": "e6c7e0df-7be6-4879-8a21-d6a2e00fa498",
   "metadata": {},
   "outputs": [],
   "source": []
  }
 ],
 "metadata": {
  "kernelspec": {
   "display_name": "Python 3 (ipykernel)",
   "language": "python",
   "name": "python3"
  },
  "language_info": {
   "codemirror_mode": {
    "name": "ipython",
    "version": 3
   },
   "file_extension": ".py",
   "mimetype": "text/x-python",
   "name": "python",
   "nbconvert_exporter": "python",
   "pygments_lexer": "ipython3",
   "version": "3.11.5"
  }
 },
 "nbformat": 4,
 "nbformat_minor": 5
}
