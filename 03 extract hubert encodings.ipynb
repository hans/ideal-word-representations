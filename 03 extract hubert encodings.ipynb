{
 "cells": [
  {
   "cell_type": "markdown",
   "id": "690cccd8-3240-4595-bddc-407dff3602d9",
   "metadata": {},
   "source": [
    "Extract HuBERT codes over TIMIT words/syllables"
   ]
  },
  {
   "cell_type": "code",
   "execution_count": 184,
   "id": "979bdbbb-9c26-4756-98d2-c2f4ed18217c",
   "metadata": {
    "tags": []
   },
   "outputs": [],
   "source": [
    "from pathlib import Path\n",
    "import re\n",
    "\n",
    "import h5py\n",
    "import matplotlib.pyplot as plt\n",
    "import numpy as np\n",
    "import pandas as pd\n",
    "import seaborn as sns\n",
    "import soundfile\n",
    "import torch\n",
    "import transformers\n",
    "from tqdm.auto import tqdm"
   ]
  },
  {
   "cell_type": "code",
   "execution_count": 243,
   "id": "f0a53908-a554-4cb3-b90e-2318f2379c65",
   "metadata": {
    "tags": [
     "parameters"
    ]
   },
   "outputs": [],
   "source": [
    "model_ref = \"facebook/hubert-large-ls960-ft\" # \"facebook/hubert-base-ls960\"\n",
    "layers = np.floor(np.linspace(0, 24, num=10)).astype(int)\n",
    "levels = [\"word\", \"phoneme\"]\n",
    "pooling_method = \"mean\"\n",
    "\n",
    "sample_rate = 16000\n",
    "\n",
    "out_file = \"timit_hubert_encodings.h5\""
   ]
  },
  {
   "cell_type": "markdown",
   "id": "c887ce12-0339-4ea4-8a74-c2e6d3ebe2af",
   "metadata": {},
   "source": [
    "## Load sound data"
   ]
  },
  {
   "cell_type": "code",
   "execution_count": 3,
   "id": "1b2b5be8-8d7c-4ae3-a8a8-b7fe08a68641",
   "metadata": {
    "tags": []
   },
   "outputs": [],
   "source": [
    "files = list(Path(\"data/TRAIN\").glob(\"*/*/*.WAV\"))\n",
    "\n",
    "# tuples (dialect, speaker, sentence_idx)\n",
    "labels = [re.findall(r\"([^/]+)/([^/]+)/([^/]+)\\.WAV\", str(file))[0] for file in files]"
   ]
  },
  {
   "cell_type": "code",
   "execution_count": 14,
   "id": "d885912a-2a7b-48ea-8324-e253207f3dce",
   "metadata": {
    "tags": []
   },
   "outputs": [
    {
     "data": {
      "application/vnd.jupyter.widget-view+json": {
       "model_id": "78604b06035e4b6fb26c3a4488f5b495",
       "version_major": 2,
       "version_minor": 0
      },
      "text/plain": [
       "  0%|          | 0/4620 [00:00<?, ?it/s]"
      ]
     },
     "metadata": {},
     "output_type": "display_data"
    }
   ],
   "source": [
    "if sample_rate != 16000:\n",
    "    raise NotImplementedError(\"only support 16 kHz sample rate\")\n",
    "\n",
    "sounds = []\n",
    "for file in tqdm(files):\n",
    "    sound_i, sfreq_i = soundfile.read(file, dtype=\"float32\")\n",
    "    assert sfreq_i == sample_rate, \"Mismatched sample rate\"\n",
    "    sounds.append(sound_i)"
   ]
  },
  {
   "cell_type": "code",
   "execution_count": 15,
   "id": "8369048f-4f99-45e5-91cc-861199d3b3df",
   "metadata": {
    "tags": []
   },
   "outputs": [],
   "source": [
    "sounds = [torch.from_numpy(sound) for sound in sounds]"
   ]
  },
  {
   "cell_type": "markdown",
   "id": "c7481ec6-48e3-4d01-867c-fc26a6ee72fc",
   "metadata": {},
   "source": [
    "### Load aligned data"
   ]
  },
  {
   "cell_type": "code",
   "execution_count": 52,
   "id": "a7a3227d-5210-49eb-bec4-3ee38912781f",
   "metadata": {
    "tags": []
   },
   "outputs": [
    {
     "data": {
      "text/html": [
       "<div>\n",
       "<style scoped>\n",
       "    .dataframe tbody tr th:only-of-type {\n",
       "        vertical-align: middle;\n",
       "    }\n",
       "\n",
       "    .dataframe tbody tr th {\n",
       "        vertical-align: top;\n",
       "    }\n",
       "\n",
       "    .dataframe thead th {\n",
       "        text-align: right;\n",
       "    }\n",
       "</style>\n",
       "<table border=\"1\" class=\"dataframe\">\n",
       "  <thead>\n",
       "    <tr style=\"text-align: right;\">\n",
       "      <th></th>\n",
       "      <th></th>\n",
       "      <th></th>\n",
       "      <th>phone_idx</th>\n",
       "      <th>onset</th>\n",
       "      <th>offset</th>\n",
       "      <th>phone</th>\n",
       "      <th>word_idx</th>\n",
       "      <th>offset_word</th>\n",
       "      <th>word</th>\n",
       "      <th>onset_time</th>\n",
       "      <th>offset_time</th>\n",
       "      <th>offset_word_time</th>\n",
       "    </tr>\n",
       "    <tr>\n",
       "      <th>dialect</th>\n",
       "      <th>speaker</th>\n",
       "      <th>sentence_idx</th>\n",
       "      <th></th>\n",
       "      <th></th>\n",
       "      <th></th>\n",
       "      <th></th>\n",
       "      <th></th>\n",
       "      <th></th>\n",
       "      <th></th>\n",
       "      <th></th>\n",
       "      <th></th>\n",
       "      <th></th>\n",
       "    </tr>\n",
       "  </thead>\n",
       "  <tbody>\n",
       "    <tr>\n",
       "      <th rowspan=\"5\" valign=\"top\">DR1</th>\n",
       "      <th rowspan=\"5\" valign=\"top\">FCJF0</th>\n",
       "      <th>SA1</th>\n",
       "      <td>0</td>\n",
       "      <td>0</td>\n",
       "      <td>3050</td>\n",
       "      <td>h#</td>\n",
       "      <td>NaN</td>\n",
       "      <td>NaN</td>\n",
       "      <td>NaN</td>\n",
       "      <td>0.000000</td>\n",
       "      <td>0.190625</td>\n",
       "      <td>NaN</td>\n",
       "    </tr>\n",
       "    <tr>\n",
       "      <th>SA1</th>\n",
       "      <td>1</td>\n",
       "      <td>3050</td>\n",
       "      <td>4559</td>\n",
       "      <td>sh</td>\n",
       "      <td>0.0</td>\n",
       "      <td>5723.0</td>\n",
       "      <td>she</td>\n",
       "      <td>0.190625</td>\n",
       "      <td>0.284938</td>\n",
       "      <td>0.357687</td>\n",
       "    </tr>\n",
       "    <tr>\n",
       "      <th>SA1</th>\n",
       "      <td>2</td>\n",
       "      <td>4559</td>\n",
       "      <td>5723</td>\n",
       "      <td>ix</td>\n",
       "      <td>0.0</td>\n",
       "      <td>5723.0</td>\n",
       "      <td>she</td>\n",
       "      <td>0.284938</td>\n",
       "      <td>0.357687</td>\n",
       "      <td>0.357687</td>\n",
       "    </tr>\n",
       "    <tr>\n",
       "      <th>SA1</th>\n",
       "      <td>3</td>\n",
       "      <td>5723</td>\n",
       "      <td>6642</td>\n",
       "      <td>hv</td>\n",
       "      <td>1.0</td>\n",
       "      <td>10337.0</td>\n",
       "      <td>had</td>\n",
       "      <td>0.357687</td>\n",
       "      <td>0.415125</td>\n",
       "      <td>0.646062</td>\n",
       "    </tr>\n",
       "    <tr>\n",
       "      <th>SA1</th>\n",
       "      <td>4</td>\n",
       "      <td>6642</td>\n",
       "      <td>8772</td>\n",
       "      <td>eh</td>\n",
       "      <td>1.0</td>\n",
       "      <td>10337.0</td>\n",
       "      <td>had</td>\n",
       "      <td>0.415125</td>\n",
       "      <td>0.548250</td>\n",
       "      <td>0.646062</td>\n",
       "    </tr>\n",
       "    <tr>\n",
       "      <th>...</th>\n",
       "      <th>...</th>\n",
       "      <th>...</th>\n",
       "      <td>...</td>\n",
       "      <td>...</td>\n",
       "      <td>...</td>\n",
       "      <td>...</td>\n",
       "      <td>...</td>\n",
       "      <td>...</td>\n",
       "      <td>...</td>\n",
       "      <td>...</td>\n",
       "      <td>...</td>\n",
       "      <td>...</td>\n",
       "    </tr>\n",
       "    <tr>\n",
       "      <th rowspan=\"5\" valign=\"top\">DR8</th>\n",
       "      <th rowspan=\"5\" valign=\"top\">MTCS0</th>\n",
       "      <th>SX82</th>\n",
       "      <td>29</td>\n",
       "      <td>34460</td>\n",
       "      <td>36386</td>\n",
       "      <td>ih</td>\n",
       "      <td>7.0</td>\n",
       "      <td>40870.0</td>\n",
       "      <td>tips</td>\n",
       "      <td>2.153750</td>\n",
       "      <td>2.274125</td>\n",
       "      <td>2.554375</td>\n",
       "    </tr>\n",
       "    <tr>\n",
       "      <th>SX82</th>\n",
       "      <td>30</td>\n",
       "      <td>36386</td>\n",
       "      <td>38150</td>\n",
       "      <td>pcl</td>\n",
       "      <td>7.0</td>\n",
       "      <td>40870.0</td>\n",
       "      <td>tips</td>\n",
       "      <td>2.274125</td>\n",
       "      <td>2.384375</td>\n",
       "      <td>2.554375</td>\n",
       "    </tr>\n",
       "    <tr>\n",
       "      <th>SX82</th>\n",
       "      <td>31</td>\n",
       "      <td>38150</td>\n",
       "      <td>38575</td>\n",
       "      <td>p</td>\n",
       "      <td>7.0</td>\n",
       "      <td>40870.0</td>\n",
       "      <td>tips</td>\n",
       "      <td>2.384375</td>\n",
       "      <td>2.410938</td>\n",
       "      <td>2.554375</td>\n",
       "    </tr>\n",
       "    <tr>\n",
       "      <th>SX82</th>\n",
       "      <td>32</td>\n",
       "      <td>38575</td>\n",
       "      <td>40870</td>\n",
       "      <td>s</td>\n",
       "      <td>7.0</td>\n",
       "      <td>40870.0</td>\n",
       "      <td>tips</td>\n",
       "      <td>2.410938</td>\n",
       "      <td>2.554375</td>\n",
       "      <td>2.554375</td>\n",
       "    </tr>\n",
       "    <tr>\n",
       "      <th>SX82</th>\n",
       "      <td>33</td>\n",
       "      <td>40870</td>\n",
       "      <td>43360</td>\n",
       "      <td>h#</td>\n",
       "      <td>7.0</td>\n",
       "      <td>40870.0</td>\n",
       "      <td>tips</td>\n",
       "      <td>2.554375</td>\n",
       "      <td>2.710000</td>\n",
       "      <td>2.554375</td>\n",
       "    </tr>\n",
       "  </tbody>\n",
       "</table>\n",
       "<p>177080 rows × 10 columns</p>\n",
       "</div>"
      ],
      "text/plain": [
       "                              phone_idx  onset  offset phone  word_idx  \\\n",
       "dialect speaker sentence_idx                                             \n",
       "DR1     FCJF0   SA1                   0      0    3050    h#       NaN   \n",
       "                SA1                   1   3050    4559    sh       0.0   \n",
       "                SA1                   2   4559    5723    ix       0.0   \n",
       "                SA1                   3   5723    6642    hv       1.0   \n",
       "                SA1                   4   6642    8772    eh       1.0   \n",
       "...                                 ...    ...     ...   ...       ...   \n",
       "DR8     MTCS0   SX82                 29  34460   36386    ih       7.0   \n",
       "                SX82                 30  36386   38150   pcl       7.0   \n",
       "                SX82                 31  38150   38575     p       7.0   \n",
       "                SX82                 32  38575   40870     s       7.0   \n",
       "                SX82                 33  40870   43360    h#       7.0   \n",
       "\n",
       "                              offset_word  word  onset_time  offset_time  \\\n",
       "dialect speaker sentence_idx                                               \n",
       "DR1     FCJF0   SA1                   NaN   NaN    0.000000     0.190625   \n",
       "                SA1                5723.0   she    0.190625     0.284938   \n",
       "                SA1                5723.0   she    0.284938     0.357687   \n",
       "                SA1               10337.0   had    0.357687     0.415125   \n",
       "                SA1               10337.0   had    0.415125     0.548250   \n",
       "...                                   ...   ...         ...          ...   \n",
       "DR8     MTCS0   SX82              40870.0  tips    2.153750     2.274125   \n",
       "                SX82              40870.0  tips    2.274125     2.384375   \n",
       "                SX82              40870.0  tips    2.384375     2.410938   \n",
       "                SX82              40870.0  tips    2.410938     2.554375   \n",
       "                SX82              40870.0  tips    2.554375     2.710000   \n",
       "\n",
       "                              offset_word_time  \n",
       "dialect speaker sentence_idx                    \n",
       "DR1     FCJF0   SA1                        NaN  \n",
       "                SA1                   0.357687  \n",
       "                SA1                   0.357687  \n",
       "                SA1                   0.646062  \n",
       "                SA1                   0.646062  \n",
       "...                                        ...  \n",
       "DR8     MTCS0   SX82                  2.554375  \n",
       "                SX82                  2.554375  \n",
       "                SX82                  2.554375  \n",
       "                SX82                  2.554375  \n",
       "                SX82                  2.554375  \n",
       "\n",
       "[177080 rows x 10 columns]"
      ]
     },
     "execution_count": 52,
     "metadata": {},
     "output_type": "execute_result"
    }
   ],
   "source": [
    "aligned_df = pd.read_csv(\"timit_merged.csv\").set_index([\"dialect\", \"speaker\", \"sentence_idx\"])\n",
    "for col in [\"onset\", \"offset\", \"offset_word\"]:\n",
    "    aligned_df[f\"{col}_time\"] = aligned_df[col] / sample_rate\n",
    "aligned_df"
   ]
  },
  {
   "cell_type": "code",
   "execution_count": 128,
   "id": "805f8fd0-48e0-4a9e-9407-0a321a707a75",
   "metadata": {
    "tags": []
   },
   "outputs": [
    {
     "data": {
      "text/html": [
       "<div>\n",
       "<style scoped>\n",
       "    .dataframe tbody tr th:only-of-type {\n",
       "        vertical-align: middle;\n",
       "    }\n",
       "\n",
       "    .dataframe tbody tr th {\n",
       "        vertical-align: top;\n",
       "    }\n",
       "\n",
       "    .dataframe thead th {\n",
       "        text-align: right;\n",
       "    }\n",
       "</style>\n",
       "<table border=\"1\" class=\"dataframe\">\n",
       "  <thead>\n",
       "    <tr style=\"text-align: right;\">\n",
       "      <th></th>\n",
       "      <th></th>\n",
       "      <th></th>\n",
       "      <th></th>\n",
       "      <th>onset</th>\n",
       "      <th>offset</th>\n",
       "      <th>word</th>\n",
       "      <th>onset_time</th>\n",
       "      <th>offset_time</th>\n",
       "    </tr>\n",
       "    <tr>\n",
       "      <th>dialect</th>\n",
       "      <th>speaker</th>\n",
       "      <th>sentence_idx</th>\n",
       "      <th>word_idx</th>\n",
       "      <th></th>\n",
       "      <th></th>\n",
       "      <th></th>\n",
       "      <th></th>\n",
       "      <th></th>\n",
       "    </tr>\n",
       "  </thead>\n",
       "  <tbody>\n",
       "    <tr>\n",
       "      <th rowspan=\"5\" valign=\"top\">DR1</th>\n",
       "      <th rowspan=\"5\" valign=\"top\">FCJF0</th>\n",
       "      <th rowspan=\"5\" valign=\"top\">SA1</th>\n",
       "      <th>0.0</th>\n",
       "      <td>3050</td>\n",
       "      <td>5723</td>\n",
       "      <td>she</td>\n",
       "      <td>0.190625</td>\n",
       "      <td>0.357687</td>\n",
       "    </tr>\n",
       "    <tr>\n",
       "      <th>1.0</th>\n",
       "      <td>5723</td>\n",
       "      <td>10337</td>\n",
       "      <td>had</td>\n",
       "      <td>0.357687</td>\n",
       "      <td>0.646062</td>\n",
       "    </tr>\n",
       "    <tr>\n",
       "      <th>2.0</th>\n",
       "      <td>9190</td>\n",
       "      <td>11517</td>\n",
       "      <td>your</td>\n",
       "      <td>0.574375</td>\n",
       "      <td>0.719812</td>\n",
       "    </tr>\n",
       "    <tr>\n",
       "      <th>3.0</th>\n",
       "      <td>11517</td>\n",
       "      <td>16334</td>\n",
       "      <td>dark</td>\n",
       "      <td>0.719812</td>\n",
       "      <td>1.020875</td>\n",
       "    </tr>\n",
       "    <tr>\n",
       "      <th>4.0</th>\n",
       "      <td>16334</td>\n",
       "      <td>21199</td>\n",
       "      <td>suit</td>\n",
       "      <td>1.020875</td>\n",
       "      <td>1.324938</td>\n",
       "    </tr>\n",
       "    <tr>\n",
       "      <th>...</th>\n",
       "      <th>...</th>\n",
       "      <th>...</th>\n",
       "      <th>...</th>\n",
       "      <td>...</td>\n",
       "      <td>...</td>\n",
       "      <td>...</td>\n",
       "      <td>...</td>\n",
       "      <td>...</td>\n",
       "    </tr>\n",
       "    <tr>\n",
       "      <th rowspan=\"5\" valign=\"top\">DR8</th>\n",
       "      <th rowspan=\"5\" valign=\"top\">MTCS0</th>\n",
       "      <th rowspan=\"5\" valign=\"top\">SX82</th>\n",
       "      <th>3.0</th>\n",
       "      <td>17110</td>\n",
       "      <td>18920</td>\n",
       "      <td>be</td>\n",
       "      <td>1.069375</td>\n",
       "      <td>1.182500</td>\n",
       "    </tr>\n",
       "    <tr>\n",
       "      <th>4.0</th>\n",
       "      <td>18920</td>\n",
       "      <td>26520</td>\n",
       "      <td>rewarded</td>\n",
       "      <td>1.182500</td>\n",
       "      <td>1.657500</td>\n",
       "    </tr>\n",
       "    <tr>\n",
       "      <th>5.0</th>\n",
       "      <td>26520</td>\n",
       "      <td>28490</td>\n",
       "      <td>by</td>\n",
       "      <td>1.657500</td>\n",
       "      <td>1.780625</td>\n",
       "    </tr>\n",
       "    <tr>\n",
       "      <th>6.0</th>\n",
       "      <td>28490</td>\n",
       "      <td>33770</td>\n",
       "      <td>big</td>\n",
       "      <td>1.780625</td>\n",
       "      <td>2.110625</td>\n",
       "    </tr>\n",
       "    <tr>\n",
       "      <th>7.0</th>\n",
       "      <td>33770</td>\n",
       "      <td>40870</td>\n",
       "      <td>tips</td>\n",
       "      <td>2.110625</td>\n",
       "      <td>2.554375</td>\n",
       "    </tr>\n",
       "  </tbody>\n",
       "</table>\n",
       "<p>39825 rows × 5 columns</p>\n",
       "</div>"
      ],
      "text/plain": [
       "                                       onset  offset      word  onset_time  \\\n",
       "dialect speaker sentence_idx word_idx                                        \n",
       "DR1     FCJF0   SA1          0.0        3050    5723       she    0.190625   \n",
       "                             1.0        5723   10337       had    0.357687   \n",
       "                             2.0        9190   11517      your    0.574375   \n",
       "                             3.0       11517   16334      dark    0.719812   \n",
       "                             4.0       16334   21199      suit    1.020875   \n",
       "...                                      ...     ...       ...         ...   \n",
       "DR8     MTCS0   SX82         3.0       17110   18920        be    1.069375   \n",
       "                             4.0       18920   26520  rewarded    1.182500   \n",
       "                             5.0       26520   28490        by    1.657500   \n",
       "                             6.0       28490   33770       big    1.780625   \n",
       "                             7.0       33770   40870      tips    2.110625   \n",
       "\n",
       "                                       offset_time  \n",
       "dialect speaker sentence_idx word_idx               \n",
       "DR1     FCJF0   SA1          0.0          0.357687  \n",
       "                             1.0          0.646062  \n",
       "                             2.0          0.719812  \n",
       "                             3.0          1.020875  \n",
       "                             4.0          1.324938  \n",
       "...                                            ...  \n",
       "DR8     MTCS0   SX82         3.0          1.182500  \n",
       "                             4.0          1.657500  \n",
       "                             5.0          1.780625  \n",
       "                             6.0          2.110625  \n",
       "                             7.0          2.554375  \n",
       "\n",
       "[39825 rows x 5 columns]"
      ]
     },
     "execution_count": 128,
     "metadata": {},
     "output_type": "execute_result"
    }
   ],
   "source": [
    "aligned_word_df = aligned_df[~aligned_df.word_idx.isna()].set_index(\"word_idx\", append=True)\n",
    "aligned_word_df = aligned_word_df.loc[~aligned_word_df.index.duplicated()] \\\n",
    "    .drop(columns=[\"phone_idx\", \"offset\", \"offset_time\", \"phone\"]).rename(columns={\"offset_word\": \"offset\", \"offset_word_time\": \"offset_time\"}) \\\n",
    "    .astype(dict(onset=int, offset=int))\n",
    "aligned_word_df"
   ]
  },
  {
   "cell_type": "markdown",
   "id": "2a58c922-6622-4d71-826a-633682558a9c",
   "metadata": {},
   "source": [
    "### Validate aligned data"
   ]
  },
  {
   "cell_type": "code",
   "execution_count": 102,
   "id": "951e7311-a5d3-4be3-aa42-3dd7429e1274",
   "metadata": {
    "tags": []
   },
   "outputs": [],
   "source": [
    "from IPython.display import HTML, Audio"
   ]
  },
  {
   "cell_type": "code",
   "execution_count": 97,
   "id": "e6a0083d-c90d-46df-a578-636e2d76ce34",
   "metadata": {
    "tags": []
   },
   "outputs": [
    {
     "data": {
      "text/html": [
       "<div>\n",
       "<style scoped>\n",
       "    .dataframe tbody tr th:only-of-type {\n",
       "        vertical-align: middle;\n",
       "    }\n",
       "\n",
       "    .dataframe tbody tr th {\n",
       "        vertical-align: top;\n",
       "    }\n",
       "\n",
       "    .dataframe thead th {\n",
       "        text-align: right;\n",
       "    }\n",
       "</style>\n",
       "<table border=\"1\" class=\"dataframe\">\n",
       "  <thead>\n",
       "    <tr style=\"text-align: right;\">\n",
       "      <th></th>\n",
       "      <th></th>\n",
       "      <th></th>\n",
       "      <th></th>\n",
       "      <th>onset</th>\n",
       "      <th>offset</th>\n",
       "      <th>word</th>\n",
       "      <th>onset_time</th>\n",
       "      <th>offset_time</th>\n",
       "    </tr>\n",
       "    <tr>\n",
       "      <th>dialect</th>\n",
       "      <th>speaker</th>\n",
       "      <th>sentence_idx</th>\n",
       "      <th>word_idx</th>\n",
       "      <th></th>\n",
       "      <th></th>\n",
       "      <th></th>\n",
       "      <th></th>\n",
       "      <th></th>\n",
       "    </tr>\n",
       "  </thead>\n",
       "  <tbody>\n",
       "    <tr>\n",
       "      <th>DR4</th>\n",
       "      <th>MJJJ0</th>\n",
       "      <th>SX443</th>\n",
       "      <th>8.0</th>\n",
       "      <td>35960</td>\n",
       "      <td>41650.0</td>\n",
       "      <td>sky</td>\n",
       "      <td>2.247500</td>\n",
       "      <td>2.603125</td>\n",
       "    </tr>\n",
       "    <tr>\n",
       "      <th>DR2</th>\n",
       "      <th>FMMH0</th>\n",
       "      <th>SA1</th>\n",
       "      <th>10.0</th>\n",
       "      <td>43755</td>\n",
       "      <td>47724.0</td>\n",
       "      <td>year</td>\n",
       "      <td>2.734688</td>\n",
       "      <td>2.982750</td>\n",
       "    </tr>\n",
       "    <tr>\n",
       "      <th>DR7</th>\n",
       "      <th>MRMH0</th>\n",
       "      <th>SI2281</th>\n",
       "      <th>5.0</th>\n",
       "      <td>31803</td>\n",
       "      <td>35210.0</td>\n",
       "      <td>her</td>\n",
       "      <td>1.987688</td>\n",
       "      <td>2.200625</td>\n",
       "    </tr>\n",
       "    <tr>\n",
       "      <th>DR3</th>\n",
       "      <th>MRWA0</th>\n",
       "      <th>SX343</th>\n",
       "      <th>9.0</th>\n",
       "      <td>42780</td>\n",
       "      <td>48520.0</td>\n",
       "      <td>brother</td>\n",
       "      <td>2.673750</td>\n",
       "      <td>3.032500</td>\n",
       "    </tr>\n",
       "    <tr>\n",
       "      <th>DR2</th>\n",
       "      <th>MJHI0</th>\n",
       "      <th>SA2</th>\n",
       "      <th>9.0</th>\n",
       "      <td>31320</td>\n",
       "      <td>35676.0</td>\n",
       "      <td>that</td>\n",
       "      <td>1.957500</td>\n",
       "      <td>2.229750</td>\n",
       "    </tr>\n",
       "  </tbody>\n",
       "</table>\n",
       "</div>"
      ],
      "text/plain": [
       "                                       onset   offset     word  onset_time  \\\n",
       "dialect speaker sentence_idx word_idx                                        \n",
       "DR4     MJJJ0   SX443        8.0       35960  41650.0      sky    2.247500   \n",
       "DR2     FMMH0   SA1          10.0      43755  47724.0     year    2.734688   \n",
       "DR7     MRMH0   SI2281       5.0       31803  35210.0      her    1.987688   \n",
       "DR3     MRWA0   SX343        9.0       42780  48520.0  brother    2.673750   \n",
       "DR2     MJHI0   SA2          9.0       31320  35676.0     that    1.957500   \n",
       "\n",
       "                                       offset_time  \n",
       "dialect speaker sentence_idx word_idx               \n",
       "DR4     MJJJ0   SX443        8.0          2.603125  \n",
       "DR2     FMMH0   SA1          10.0         2.982750  \n",
       "DR7     MRMH0   SI2281       5.0          2.200625  \n",
       "DR3     MRWA0   SX343        9.0          3.032500  \n",
       "DR2     MJHI0   SA2          9.0          2.229750  "
      ]
     },
     "execution_count": 97,
     "metadata": {},
     "output_type": "execute_result"
    }
   ],
   "source": [
    "random_words = aligned_word_df.sample(n=5)\n",
    "random_words"
   ]
  },
  {
   "cell_type": "code",
   "execution_count": 108,
   "id": "079b1dfe-11bc-47d1-ba20-2ef593402e9d",
   "metadata": {
    "tags": []
   },
   "outputs": [
    {
     "data": {
      "text/plain": [
       "'sky'"
      ]
     },
     "metadata": {},
     "output_type": "display_data"
    },
    {
     "data": {
      "text/html": [
       "\n",
       "                <audio  controls=\"controls\" >\n",
       "                    <source src=\"data:audio/wav;base64,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\" type=\"audio/wav\" />\n",
       "                    Your browser does not support the audio element.\n",
       "                </audio>\n",
       "              "
      ],
      "text/plain": [
       "<IPython.lib.display.Audio object>"
      ]
     },
     "metadata": {},
     "output_type": "display_data"
    },
    {
     "data": {
      "text/plain": [
       "'year'"
      ]
     },
     "metadata": {},
     "output_type": "display_data"
    },
    {
     "data": {
      "text/html": [
       "\n",
       "                <audio  controls=\"controls\" >\n",
       "                    <source src=\"data:audio/wav;base64,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\" type=\"audio/wav\" />\n",
       "                    Your browser does not support the audio element.\n",
       "                </audio>\n",
       "              "
      ],
      "text/plain": [
       "<IPython.lib.display.Audio object>"
      ]
     },
     "metadata": {},
     "output_type": "display_data"
    },
    {
     "data": {
      "text/plain": [
       "'her'"
      ]
     },
     "metadata": {},
     "output_type": "display_data"
    },
    {
     "data": {
      "text/html": [
       "\n",
       "                <audio  controls=\"controls\" >\n",
       "                    <source src=\"data:audio/wav;base64,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\" type=\"audio/wav\" />\n",
       "                    Your browser does not support the audio element.\n",
       "                </audio>\n",
       "              "
      ],
      "text/plain": [
       "<IPython.lib.display.Audio object>"
      ]
     },
     "metadata": {},
     "output_type": "display_data"
    },
    {
     "data": {
      "text/plain": [
       "'brother'"
      ]
     },
     "metadata": {},
     "output_type": "display_data"
    },
    {
     "data": {
      "text/html": [
       "\n",
       "                <audio  controls=\"controls\" >\n",
       "                    <source src=\"data:audio/wav;base64,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\" type=\"audio/wav\" />\n",
       "                    Your browser does not support the audio element.\n",
       "                </audio>\n",
       "              "
      ],
      "text/plain": [
       "<IPython.lib.display.Audio object>"
      ]
     },
     "metadata": {},
     "output_type": "display_data"
    },
    {
     "data": {
      "text/plain": [
       "'that'"
      ]
     },
     "metadata": {},
     "output_type": "display_data"
    },
    {
     "data": {
      "text/html": [
       "\n",
       "                <audio  controls=\"controls\" >\n",
       "                    <source src=\"data:audio/wav;base64,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\" type=\"audio/wav\" />\n",
       "                    Your browser does not support the audio element.\n",
       "                </audio>\n",
       "              "
      ],
      "text/plain": [
       "<IPython.lib.display.Audio object>"
      ]
     },
     "metadata": {},
     "output_type": "display_data"
    }
   ],
   "source": [
    "sound_dict = dict(zip(labels, sounds))\n",
    "for label, word_row in random_words.iterrows():\n",
    "    sound = sound_dict[label[:3]]\n",
    "    # Slice out word\n",
    "    sound = sound[word_row.onset:int(word_row.offset)]\n",
    "    display(word_row.word, Audio(sound, rate=sample_rate))"
   ]
  },
  {
   "cell_type": "markdown",
   "id": "efa65875-2296-4086-b7f4-342af116e391",
   "metadata": {},
   "source": [
    "---"
   ]
  },
  {
   "cell_type": "code",
   "execution_count": 196,
   "id": "ffd243e6-573c-4d8f-8fdf-6113654aebbf",
   "metadata": {
    "tags": []
   },
   "outputs": [
    {
     "data": {
      "application/vnd.jupyter.widget-view+json": {
       "model_id": "e723cdfba2a74a638b394eed8c259261",
       "version_major": 2,
       "version_minor": 0
      },
      "text/plain": [
       "Downloading (…)lve/main/config.json:   0%|          | 0.00/1.38k [00:00<?, ?B/s]"
      ]
     },
     "metadata": {},
     "output_type": "display_data"
    },
    {
     "data": {
      "application/vnd.jupyter.widget-view+json": {
       "model_id": "22b4e3957fbb4b04adeee0d3e72600c7",
       "version_major": 2,
       "version_minor": 0
      },
      "text/plain": [
       "Downloading pytorch_model.bin:   0%|          | 0.00/1.26G [00:00<?, ?B/s]"
      ]
     },
     "metadata": {},
     "output_type": "display_data"
    },
    {
     "data": {
      "application/vnd.jupyter.widget-view+json": {
       "model_id": "a6a5f56334b34f6c83bad2f42c700331",
       "version_major": 2,
       "version_minor": 0
      },
      "text/plain": [
       "Downloading (…)rocessor_config.json:   0%|          | 0.00/212 [00:00<?, ?B/s]"
      ]
     },
     "metadata": {},
     "output_type": "display_data"
    },
    {
     "data": {
      "application/vnd.jupyter.widget-view+json": {
       "model_id": "29f5975e06b74241b0ea2edd219746b6",
       "version_major": 2,
       "version_minor": 0
      },
      "text/plain": [
       "Downloading (…)okenizer_config.json:   0%|          | 0.00/138 [00:00<?, ?B/s]"
      ]
     },
     "metadata": {},
     "output_type": "display_data"
    },
    {
     "data": {
      "application/vnd.jupyter.widget-view+json": {
       "model_id": "9f6c0c0c774240a081af81fa9e98a017",
       "version_major": 2,
       "version_minor": 0
      },
      "text/plain": [
       "Downloading (…)olve/main/vocab.json:   0%|          | 0.00/291 [00:00<?, ?B/s]"
      ]
     },
     "metadata": {},
     "output_type": "display_data"
    },
    {
     "data": {
      "application/vnd.jupyter.widget-view+json": {
       "model_id": "fd2a12e3dc204d64b0699d507fa5d87e",
       "version_major": 2,
       "version_minor": 0
      },
      "text/plain": [
       "Downloading (…)cial_tokens_map.json:   0%|          | 0.00/85.0 [00:00<?, ?B/s]"
      ]
     },
     "metadata": {},
     "output_type": "display_data"
    }
   ],
   "source": [
    "model = transformers.AutoModel.from_pretrained(model_ref)\n",
    "processor = transformers.AutoProcessor.from_pretrained(model_ref)"
   ]
  },
  {
   "cell_type": "code",
   "execution_count": 197,
   "id": "a7fdccc4-a6f1-4893-b9c8-22979ba9c8a8",
   "metadata": {
    "tags": []
   },
   "outputs": [],
   "source": [
    "# Width of a single frame in HuBERT sequence representation, in ms\n",
    "frame_width = 20"
   ]
  },
  {
   "cell_type": "code",
   "execution_count": 198,
   "id": "0c481a33-c8ba-41d2-a0eb-8b40a9a1297a",
   "metadata": {
    "tags": []
   },
   "outputs": [
    {
     "data": {
      "text/html": [
       "<div>\n",
       "<style scoped>\n",
       "    .dataframe tbody tr th:only-of-type {\n",
       "        vertical-align: middle;\n",
       "    }\n",
       "\n",
       "    .dataframe tbody tr th {\n",
       "        vertical-align: top;\n",
       "    }\n",
       "\n",
       "    .dataframe thead th {\n",
       "        text-align: right;\n",
       "    }\n",
       "</style>\n",
       "<table border=\"1\" class=\"dataframe\">\n",
       "  <thead>\n",
       "    <tr style=\"text-align: right;\">\n",
       "      <th></th>\n",
       "      <th></th>\n",
       "      <th></th>\n",
       "      <th></th>\n",
       "      <th>onset</th>\n",
       "      <th>offset</th>\n",
       "      <th>word</th>\n",
       "      <th>onset_time</th>\n",
       "      <th>offset_time</th>\n",
       "      <th>onset_frame</th>\n",
       "      <th>offset_frame</th>\n",
       "    </tr>\n",
       "    <tr>\n",
       "      <th>dialect</th>\n",
       "      <th>speaker</th>\n",
       "      <th>sentence_idx</th>\n",
       "      <th>word_idx</th>\n",
       "      <th></th>\n",
       "      <th></th>\n",
       "      <th></th>\n",
       "      <th></th>\n",
       "      <th></th>\n",
       "      <th></th>\n",
       "      <th></th>\n",
       "    </tr>\n",
       "  </thead>\n",
       "  <tbody>\n",
       "    <tr>\n",
       "      <th rowspan=\"5\" valign=\"top\">DR1</th>\n",
       "      <th rowspan=\"5\" valign=\"top\">FCJF0</th>\n",
       "      <th rowspan=\"5\" valign=\"top\">SA1</th>\n",
       "      <th>0.0</th>\n",
       "      <td>3050</td>\n",
       "      <td>5723</td>\n",
       "      <td>she</td>\n",
       "      <td>0.190625</td>\n",
       "      <td>0.357687</td>\n",
       "      <td>9</td>\n",
       "      <td>17</td>\n",
       "    </tr>\n",
       "    <tr>\n",
       "      <th>1.0</th>\n",
       "      <td>5723</td>\n",
       "      <td>10337</td>\n",
       "      <td>had</td>\n",
       "      <td>0.357687</td>\n",
       "      <td>0.646062</td>\n",
       "      <td>17</td>\n",
       "      <td>32</td>\n",
       "    </tr>\n",
       "    <tr>\n",
       "      <th>2.0</th>\n",
       "      <td>9190</td>\n",
       "      <td>11517</td>\n",
       "      <td>your</td>\n",
       "      <td>0.574375</td>\n",
       "      <td>0.719812</td>\n",
       "      <td>28</td>\n",
       "      <td>35</td>\n",
       "    </tr>\n",
       "    <tr>\n",
       "      <th>3.0</th>\n",
       "      <td>11517</td>\n",
       "      <td>16334</td>\n",
       "      <td>dark</td>\n",
       "      <td>0.719812</td>\n",
       "      <td>1.020875</td>\n",
       "      <td>35</td>\n",
       "      <td>51</td>\n",
       "    </tr>\n",
       "    <tr>\n",
       "      <th>4.0</th>\n",
       "      <td>16334</td>\n",
       "      <td>21199</td>\n",
       "      <td>suit</td>\n",
       "      <td>1.020875</td>\n",
       "      <td>1.324938</td>\n",
       "      <td>51</td>\n",
       "      <td>66</td>\n",
       "    </tr>\n",
       "    <tr>\n",
       "      <th>...</th>\n",
       "      <th>...</th>\n",
       "      <th>...</th>\n",
       "      <th>...</th>\n",
       "      <td>...</td>\n",
       "      <td>...</td>\n",
       "      <td>...</td>\n",
       "      <td>...</td>\n",
       "      <td>...</td>\n",
       "      <td>...</td>\n",
       "      <td>...</td>\n",
       "    </tr>\n",
       "    <tr>\n",
       "      <th rowspan=\"5\" valign=\"top\">DR8</th>\n",
       "      <th rowspan=\"5\" valign=\"top\">MTCS0</th>\n",
       "      <th rowspan=\"5\" valign=\"top\">SX82</th>\n",
       "      <th>3.0</th>\n",
       "      <td>17110</td>\n",
       "      <td>18920</td>\n",
       "      <td>be</td>\n",
       "      <td>1.069375</td>\n",
       "      <td>1.182500</td>\n",
       "      <td>53</td>\n",
       "      <td>59</td>\n",
       "    </tr>\n",
       "    <tr>\n",
       "      <th>4.0</th>\n",
       "      <td>18920</td>\n",
       "      <td>26520</td>\n",
       "      <td>rewarded</td>\n",
       "      <td>1.182500</td>\n",
       "      <td>1.657500</td>\n",
       "      <td>59</td>\n",
       "      <td>82</td>\n",
       "    </tr>\n",
       "    <tr>\n",
       "      <th>5.0</th>\n",
       "      <td>26520</td>\n",
       "      <td>28490</td>\n",
       "      <td>by</td>\n",
       "      <td>1.657500</td>\n",
       "      <td>1.780625</td>\n",
       "      <td>82</td>\n",
       "      <td>89</td>\n",
       "    </tr>\n",
       "    <tr>\n",
       "      <th>6.0</th>\n",
       "      <td>28490</td>\n",
       "      <td>33770</td>\n",
       "      <td>big</td>\n",
       "      <td>1.780625</td>\n",
       "      <td>2.110625</td>\n",
       "      <td>89</td>\n",
       "      <td>105</td>\n",
       "    </tr>\n",
       "    <tr>\n",
       "      <th>7.0</th>\n",
       "      <td>33770</td>\n",
       "      <td>40870</td>\n",
       "      <td>tips</td>\n",
       "      <td>2.110625</td>\n",
       "      <td>2.554375</td>\n",
       "      <td>105</td>\n",
       "      <td>127</td>\n",
       "    </tr>\n",
       "  </tbody>\n",
       "</table>\n",
       "<p>39825 rows × 7 columns</p>\n",
       "</div>"
      ],
      "text/plain": [
       "                                       onset  offset      word  onset_time  \\\n",
       "dialect speaker sentence_idx word_idx                                        \n",
       "DR1     FCJF0   SA1          0.0        3050    5723       she    0.190625   \n",
       "                             1.0        5723   10337       had    0.357687   \n",
       "                             2.0        9190   11517      your    0.574375   \n",
       "                             3.0       11517   16334      dark    0.719812   \n",
       "                             4.0       16334   21199      suit    1.020875   \n",
       "...                                      ...     ...       ...         ...   \n",
       "DR8     MTCS0   SX82         3.0       17110   18920        be    1.069375   \n",
       "                             4.0       18920   26520  rewarded    1.182500   \n",
       "                             5.0       26520   28490        by    1.657500   \n",
       "                             6.0       28490   33770       big    1.780625   \n",
       "                             7.0       33770   40870      tips    2.110625   \n",
       "\n",
       "                                       offset_time  onset_frame  offset_frame  \n",
       "dialect speaker sentence_idx word_idx                                          \n",
       "DR1     FCJF0   SA1          0.0          0.357687            9            17  \n",
       "                             1.0          0.646062           17            32  \n",
       "                             2.0          0.719812           28            35  \n",
       "                             3.0          1.020875           35            51  \n",
       "                             4.0          1.324938           51            66  \n",
       "...                                            ...          ...           ...  \n",
       "DR8     MTCS0   SX82         3.0          1.182500           53            59  \n",
       "                             4.0          1.657500           59            82  \n",
       "                             5.0          1.780625           82            89  \n",
       "                             6.0          2.110625           89           105  \n",
       "                             7.0          2.554375          105           127  \n",
       "\n",
       "[39825 rows x 7 columns]"
      ]
     },
     "execution_count": 198,
     "metadata": {},
     "output_type": "execute_result"
    }
   ],
   "source": [
    "# Store HuBERT frame corresponding to onset/offset\n",
    "time_to_frame = lambda x: np.floor(x * 1000 / frame_width).astype(int)\n",
    "aligned_df[\"onset_frame\"] = aligned_df[\"onset_time\"].transform(time_to_frame)\n",
    "aligned_df[\"offset_frame\"] = aligned_df[\"offset_time\"].transform(time_to_frame)\n",
    "aligned_word_df[\"onset_frame\"] = aligned_word_df[\"onset_time\"].transform(time_to_frame)\n",
    "aligned_word_df[\"offset_frame\"] = aligned_word_df[\"offset_time\"].transform(time_to_frame)\n",
    "aligned_word_df"
   ]
  },
  {
   "cell_type": "code",
   "execution_count": 223,
   "id": "920a1f88-09e6-4333-aa05-883cbda50077",
   "metadata": {
    "tags": []
   },
   "outputs": [],
   "source": [
    "def model_forward(sound_data: np.ndarray, **kwargs):\n",
    "    with torch.no_grad():\n",
    "        ret = model.forward(**processor(sound_data, sampling_rate=sample_rate, return_tensors=\"pt\"), **kwargs)\n",
    "    return ret"
   ]
  },
  {
   "cell_type": "markdown",
   "id": "ba623a28-9c4a-48be-9e95-a92e0775f140",
   "metadata": {},
   "source": [
    "## Visualize"
   ]
  },
  {
   "cell_type": "code",
   "execution_count": 224,
   "id": "252a6b44-df94-486b-b5c9-ffb3bccb3386",
   "metadata": {
    "tags": []
   },
   "outputs": [],
   "source": [
    "visualize_idx = 0\n",
    "visualize_labels = labels[visualize_idx]"
   ]
  },
  {
   "cell_type": "code",
   "execution_count": 229,
   "id": "1f5cd899-8501-4702-9c87-ac1df4019f63",
   "metadata": {
    "tags": []
   },
   "outputs": [],
   "source": [
    "out = model_forward(sounds[visualize_idx], output_attentions=True)"
   ]
  },
  {
   "cell_type": "code",
   "execution_count": 230,
   "id": "f63cad46-573d-41c9-a307-a227c5559e1d",
   "metadata": {
    "tags": []
   },
   "outputs": [],
   "source": [
    "def show_attentions(head_idxs, figsize=(10, 10), label_words=True):\n",
    "    f, axs = plt.subplots(len(head_idxs), figsize=figsize)\n",
    "    aligned_words = aligned_word_df.loc[visualize_labels]\n",
    "    \n",
    "    for head_idx, ax in zip(head_idxs, axs.ravel()):\n",
    "        sns.heatmap(out.attentions[5][0, head_idx], ax=ax)\n",
    "        \n",
    "        if label_words:\n",
    "            word_frames = np.floor(aligned_words.onset_time * 1000 / frame_width)\n",
    "            ax.set_xticks(aligned_words.onset_frame)\n",
    "            ax.set_xticklabels(aligned_words.word)\n",
    "            ax.set_yticks(aligned_words.onset_frame)\n",
    "            ax.set_yticklabels(aligned_words.word)"
   ]
  },
  {
   "cell_type": "code",
   "execution_count": 231,
   "id": "f2adc044-1d84-4a5d-928b-05ac0bef0b53",
   "metadata": {
    "tags": []
   },
   "outputs": [
    {
     "data": {
      "image/png": "[encoded data removed]",
      "text/plain": [
       "<Figure size 800x1500 with 8 Axes>"
      ]
     },
     "metadata": {},
     "output_type": "display_data"
    }
   ],
   "source": [
    "show_attentions([0, 1, 2, 3], figsize=(8, 15))"
   ]
  },
  {
   "cell_type": "markdown",
   "id": "e68682e5-a0b8-4c9a-88e3-1eddf0298eb8",
   "metadata": {},
   "source": [
    "## Prepare for extraction"
   ]
  },
  {
   "cell_type": "code",
   "execution_count": 170,
   "id": "c4ff042e-1124-4c25-b340-18bc2ff191a0",
   "metadata": {
    "tags": []
   },
   "outputs": [
    {
     "data": {
      "text/html": [
       "<div>\n",
       "<style scoped>\n",
       "    .dataframe tbody tr th:only-of-type {\n",
       "        vertical-align: middle;\n",
       "    }\n",
       "\n",
       "    .dataframe tbody tr th {\n",
       "        vertical-align: top;\n",
       "    }\n",
       "\n",
       "    .dataframe thead th {\n",
       "        text-align: right;\n",
       "    }\n",
       "</style>\n",
       "<table border=\"1\" class=\"dataframe\">\n",
       "  <thead>\n",
       "    <tr style=\"text-align: right;\">\n",
       "      <th></th>\n",
       "      <th></th>\n",
       "      <th></th>\n",
       "      <th></th>\n",
       "      <th>onset</th>\n",
       "      <th>offset</th>\n",
       "      <th>word</th>\n",
       "      <th>onset_time</th>\n",
       "      <th>offset_time</th>\n",
       "      <th>onset_frame</th>\n",
       "      <th>offset_frame</th>\n",
       "    </tr>\n",
       "    <tr>\n",
       "      <th>dialect</th>\n",
       "      <th>speaker</th>\n",
       "      <th>sentence_idx</th>\n",
       "      <th>word_idx</th>\n",
       "      <th></th>\n",
       "      <th></th>\n",
       "      <th></th>\n",
       "      <th></th>\n",
       "      <th></th>\n",
       "      <th></th>\n",
       "      <th></th>\n",
       "    </tr>\n",
       "  </thead>\n",
       "  <tbody>\n",
       "    <tr>\n",
       "      <th rowspan=\"5\" valign=\"top\">DR1</th>\n",
       "      <th rowspan=\"5\" valign=\"top\">FCJF0</th>\n",
       "      <th rowspan=\"5\" valign=\"top\">SA1</th>\n",
       "      <th>0.0</th>\n",
       "      <td>3050</td>\n",
       "      <td>5723</td>\n",
       "      <td>she</td>\n",
       "      <td>0.190625</td>\n",
       "      <td>0.357687</td>\n",
       "      <td>9</td>\n",
       "      <td>17</td>\n",
       "    </tr>\n",
       "    <tr>\n",
       "      <th>1.0</th>\n",
       "      <td>5723</td>\n",
       "      <td>10337</td>\n",
       "      <td>had</td>\n",
       "      <td>0.357687</td>\n",
       "      <td>0.646062</td>\n",
       "      <td>17</td>\n",
       "      <td>32</td>\n",
       "    </tr>\n",
       "    <tr>\n",
       "      <th>2.0</th>\n",
       "      <td>9190</td>\n",
       "      <td>11517</td>\n",
       "      <td>your</td>\n",
       "      <td>0.574375</td>\n",
       "      <td>0.719812</td>\n",
       "      <td>28</td>\n",
       "      <td>35</td>\n",
       "    </tr>\n",
       "    <tr>\n",
       "      <th>3.0</th>\n",
       "      <td>11517</td>\n",
       "      <td>16334</td>\n",
       "      <td>dark</td>\n",
       "      <td>0.719812</td>\n",
       "      <td>1.020875</td>\n",
       "      <td>35</td>\n",
       "      <td>51</td>\n",
       "    </tr>\n",
       "    <tr>\n",
       "      <th>4.0</th>\n",
       "      <td>16334</td>\n",
       "      <td>21199</td>\n",
       "      <td>suit</td>\n",
       "      <td>1.020875</td>\n",
       "      <td>1.324938</td>\n",
       "      <td>51</td>\n",
       "      <td>66</td>\n",
       "    </tr>\n",
       "    <tr>\n",
       "      <th>...</th>\n",
       "      <th>...</th>\n",
       "      <th>...</th>\n",
       "      <th>...</th>\n",
       "      <td>...</td>\n",
       "      <td>...</td>\n",
       "      <td>...</td>\n",
       "      <td>...</td>\n",
       "      <td>...</td>\n",
       "      <td>...</td>\n",
       "      <td>...</td>\n",
       "    </tr>\n",
       "    <tr>\n",
       "      <th rowspan=\"5\" valign=\"top\">DR8</th>\n",
       "      <th rowspan=\"5\" valign=\"top\">MTCS0</th>\n",
       "      <th rowspan=\"5\" valign=\"top\">SX82</th>\n",
       "      <th>3.0</th>\n",
       "      <td>17110</td>\n",
       "      <td>18920</td>\n",
       "      <td>be</td>\n",
       "      <td>1.069375</td>\n",
       "      <td>1.182500</td>\n",
       "      <td>53</td>\n",
       "      <td>59</td>\n",
       "    </tr>\n",
       "    <tr>\n",
       "      <th>4.0</th>\n",
       "      <td>18920</td>\n",
       "      <td>26520</td>\n",
       "      <td>rewarded</td>\n",
       "      <td>1.182500</td>\n",
       "      <td>1.657500</td>\n",
       "      <td>59</td>\n",
       "      <td>82</td>\n",
       "    </tr>\n",
       "    <tr>\n",
       "      <th>5.0</th>\n",
       "      <td>26520</td>\n",
       "      <td>28490</td>\n",
       "      <td>by</td>\n",
       "      <td>1.657500</td>\n",
       "      <td>1.780625</td>\n",
       "      <td>82</td>\n",
       "      <td>89</td>\n",
       "    </tr>\n",
       "    <tr>\n",
       "      <th>6.0</th>\n",
       "      <td>28490</td>\n",
       "      <td>33770</td>\n",
       "      <td>big</td>\n",
       "      <td>1.780625</td>\n",
       "      <td>2.110625</td>\n",
       "      <td>89</td>\n",
       "      <td>105</td>\n",
       "    </tr>\n",
       "    <tr>\n",
       "      <th>7.0</th>\n",
       "      <td>33770</td>\n",
       "      <td>40870</td>\n",
       "      <td>tips</td>\n",
       "      <td>2.110625</td>\n",
       "      <td>2.554375</td>\n",
       "      <td>105</td>\n",
       "      <td>127</td>\n",
       "    </tr>\n",
       "  </tbody>\n",
       "</table>\n",
       "<p>39825 rows × 7 columns</p>\n",
       "</div>"
      ],
      "text/plain": [
       "                                       onset  offset      word  onset_time  \\\n",
       "dialect speaker sentence_idx word_idx                                        \n",
       "DR1     FCJF0   SA1          0.0        3050    5723       she    0.190625   \n",
       "                             1.0        5723   10337       had    0.357687   \n",
       "                             2.0        9190   11517      your    0.574375   \n",
       "                             3.0       11517   16334      dark    0.719812   \n",
       "                             4.0       16334   21199      suit    1.020875   \n",
       "...                                      ...     ...       ...         ...   \n",
       "DR8     MTCS0   SX82         3.0       17110   18920        be    1.069375   \n",
       "                             4.0       18920   26520  rewarded    1.182500   \n",
       "                             5.0       26520   28490        by    1.657500   \n",
       "                             6.0       28490   33770       big    1.780625   \n",
       "                             7.0       33770   40870      tips    2.110625   \n",
       "\n",
       "                                       offset_time  onset_frame  offset_frame  \n",
       "dialect speaker sentence_idx word_idx                                          \n",
       "DR1     FCJF0   SA1          0.0          0.357687            9            17  \n",
       "                             1.0          0.646062           17            32  \n",
       "                             2.0          0.719812           28            35  \n",
       "                             3.0          1.020875           35            51  \n",
       "                             4.0          1.324938           51            66  \n",
       "...                                            ...          ...           ...  \n",
       "DR8     MTCS0   SX82         3.0          1.182500           53            59  \n",
       "                             4.0          1.657500           59            82  \n",
       "                             5.0          1.780625           82            89  \n",
       "                             6.0          2.110625           89           105  \n",
       "                             7.0          2.554375          105           127  \n",
       "\n",
       "[39825 rows x 7 columns]"
      ]
     },
     "execution_count": 170,
     "metadata": {},
     "output_type": "execute_result"
    }
   ],
   "source": [
    "aligned_word_df"
   ]
  },
  {
   "cell_type": "code",
   "execution_count": 232,
   "id": "1b7d7496-5a0d-4ac0-9c26-cbbf62888b1e",
   "metadata": {
    "tags": []
   },
   "outputs": [],
   "source": [
    "def pool_frames(hidden_states: torch.Tensor, start_frame, end_frame, layers: list[int], pooling_method=\"mean\"):\n",
    "    \"\"\"\n",
    "    Extract representations pooled over the given layer range.\n",
    "    \n",
    "    Returns a tensor num_layers * hidden_dim\n",
    "    \"\"\"\n",
    "    pool = getattr(torch, pooling_method)\n",
    "    return torch.stack([\n",
    "        pool(hidden_states[layer].squeeze(0)[start_frame:end_frame], dim=-2)\n",
    "        for layer in layers\n",
    "    ])\n",
    "\n",
    "def extract_word_representations(sound_ref: tuple, layers: list[int], pooling_method=\"mean\"):\n",
    "    \"\"\"\n",
    "    Extract representations for a series of words.\n",
    "    \"\"\"\n",
    "    \n",
    "    sound = sound_dict[sound_ref]\n",
    "    with torch.no_grad():\n",
    "        out = model_forward(sound, output_hidden_states=True)\n",
    "        \n",
    "    return torch.stack([\n",
    "        pool_frames(out.hidden_states, word.onset_frame, word.offset_frame,\n",
    "                    layers, pooling_method=pooling_method)\n",
    "        for _, word in aligned_word_df.loc[sound_ref].iterrows()\n",
    "    ])"
   ]
  },
  {
   "cell_type": "code",
   "execution_count": 244,
   "id": "b3c0dbc0-6caf-4b3f-b384-9497a0d93a79",
   "metadata": {
    "tags": []
   },
   "outputs": [
    {
     "data": {
      "application/vnd.jupyter.widget-view+json": {
       "model_id": "291d3a2f9a4c4574a08bf0aa8162b133",
       "version_major": 2,
       "version_minor": 0
      },
      "text/plain": [
       "  0%|          | 0/4620 [00:00<?, ?it/s]"
      ]
     },
     "metadata": {},
     "output_type": "display_data"
    }
   ],
   "source": [
    "with h5py.File(out_file, \"w\") as f:\n",
    "    for label, sound in tqdm(sound_dict.items()):\n",
    "        h5_key = \"/\".join(label)\n",
    "        f[f\"{h5_key}/representations/word/{pooling_method}\"] = extract_word_representations(label, layers=layers, pooling_method=pooling_method)"
   ]
  }
 ],
 "metadata": {
  "kernelspec": {
   "display_name": "Python 3 (ipykernel)",
   "language": "python",
   "name": "python3"
  },
  "language_info": {
   "codemirror_mode": {
    "name": "ipython",
    "version": 3
   },
   "file_extension": ".py",
   "mimetype": "text/x-python",
   "name": "python",
   "nbconvert_exporter": "python",
   "pygments_lexer": "ipython3",
   "version": "3.10.13"
  }
 },
 "nbformat": 4,
 "nbformat_minor": 5
}
