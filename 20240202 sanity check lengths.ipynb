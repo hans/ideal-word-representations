{
 "cells": [
  {
   "cell_type": "code",
   "execution_count": 1,
   "metadata": {},
   "outputs": [],
   "source": [
    "%load_ext autoreload\n",
    "%autoreload 2"
   ]
  },
  {
   "cell_type": "code",
   "execution_count": 2,
   "metadata": {},
   "outputs": [],
   "source": [
    "import torch\n",
    "from src.models.integrator import RNNModel, ContrastiveEmbeddingModel, ContrastiveEmbeddingModelConfig, get_sequence"
   ]
  },
  {
   "cell_type": "code",
   "execution_count": 3,
   "metadata": {},
   "outputs": [],
   "source": [
    "config = ContrastiveEmbeddingModelConfig(\n",
    "    \n",
    ")"
   ]
  },
  {
   "cell_type": "code",
   "execution_count": 4,
   "metadata": {},
   "outputs": [],
   "source": [
    "m = ContrastiveEmbeddingModel(config)"
   ]
  },
  {
   "cell_type": "code",
   "execution_count": 5,
   "metadata": {},
   "outputs": [],
   "source": [
    "F = torch.rand(1000, config.input_dim)\n",
    "start_index = torch.randint(0, 1000, (13,))\n",
    "end_index = torch.minimum(start_index + torch.randint(1, 25, (13,)), torch.tensor(F.shape[0] - 1))\n",
    "max_length = 25"
   ]
  },
  {
   "cell_type": "code",
   "execution_count": 6,
   "metadata": {},
   "outputs": [],
   "source": [
    "embeddings = torch.stack([get_sequence(F, start, end, max_length) for start, end in zip(start_index, end_index)])\n",
    "lengths = end_index - start_index"
   ]
  },
  {
   "cell_type": "code",
   "execution_count": 7,
   "metadata": {},
   "outputs": [
    {
     "data": {
      "text/plain": [
       "torch.Size([13, 25, 4])"
      ]
     },
     "execution_count": 7,
     "metadata": {},
     "output_type": "execute_result"
    }
   ],
   "source": [
    "embeddings.shape"
   ]
  },
  {
   "cell_type": "code",
   "execution_count": 14,
   "metadata": {},
   "outputs": [],
   "source": [
    "with torch.no_grad():\n",
    "    ret = m.compute_embeddings(embeddings, lengths)"
   ]
  },
  {
   "cell_type": "code",
   "execution_count": 13,
   "metadata": {},
   "outputs": [],
   "source": [
    "with torch.no_grad():\n",
    "    all_ret = m.compute_embeddings(embeddings, lengths, return_all_states=True)"
   ]
  },
  {
   "cell_type": "code",
   "execution_count": 18,
   "metadata": {},
   "outputs": [
    {
     "data": {
      "text/plain": [
       "tensor(17)"
      ]
     },
     "execution_count": 18,
     "metadata": {},
     "output_type": "execute_result"
    }
   ],
   "source": [
    "lengths[1]"
   ]
  },
  {
   "cell_type": "code",
   "execution_count": 19,
   "metadata": {},
   "outputs": [
    {
     "data": {
      "text/plain": [
       "tensor([-0.0159,  0.0396, -0.0309,  0.0184])"
      ]
     },
     "execution_count": 19,
     "metadata": {},
     "output_type": "execute_result"
    }
   ],
   "source": [
    "ret[1]"
   ]
  },
  {
   "cell_type": "code",
   "execution_count": 20,
   "metadata": {},
   "outputs": [
    {
     "data": {
      "text/plain": [
       "tensor([[-0.0219,  0.0449, -0.0169,  0.0190],\n",
       "        [-0.0252,  0.0430, -0.0237,  0.0236],\n",
       "        [-0.0191,  0.0416, -0.0277,  0.0195],\n",
       "        [-0.0197,  0.0399, -0.0285,  0.0215],\n",
       "        [-0.0065,  0.0380, -0.0290,  0.0182],\n",
       "        [-0.0169,  0.0421, -0.0312,  0.0181],\n",
       "        [-0.0179,  0.0418, -0.0314,  0.0144],\n",
       "        [-0.0160,  0.0451, -0.0311,  0.0136],\n",
       "        [-0.0128,  0.0402, -0.0294,  0.0124],\n",
       "        [-0.0143,  0.0400, -0.0293,  0.0138],\n",
       "        [-0.0114,  0.0371, -0.0292,  0.0127],\n",
       "        [-0.0178,  0.0380, -0.0298,  0.0175],\n",
       "        [-0.0218,  0.0422, -0.0311,  0.0180],\n",
       "        [-0.0147,  0.0434, -0.0304,  0.0216],\n",
       "        [-0.0185,  0.0422, -0.0313,  0.0155],\n",
       "        [-0.0175,  0.0422, -0.0304,  0.0217],\n",
       "        [-0.0159,  0.0396, -0.0309,  0.0184],\n",
       "        [ 0.0000,  0.0000,  0.0000,  0.0000],\n",
       "        [ 0.0000,  0.0000,  0.0000,  0.0000],\n",
       "        [ 0.0000,  0.0000,  0.0000,  0.0000]])"
      ]
     },
     "execution_count": 20,
     "metadata": {},
     "output_type": "execute_result"
    }
   ],
   "source": [
    "all_ret[1]"
   ]
  }
 ],
 "metadata": {
  "kernelspec": {
   "display_name": "explore310",
   "language": "python",
   "name": "python3"
  },
  "language_info": {
   "codemirror_mode": {
    "name": "ipython",
    "version": 3
   },
   "file_extension": ".py",
   "mimetype": "text/x-python",
   "name": "python",
   "nbconvert_exporter": "python",
   "pygments_lexer": "ipython3",
   "version": "3.10.13"
  }
 },
 "nbformat": 4,
 "nbformat_minor": 2
}
