{
 "cells": [
  {
   "cell_type": "code",
   "execution_count": 1,
   "metadata": {},
   "outputs": [],
   "source": [
    "%load_ext autoreload\n",
    "%autoreload 2"
   ]
  },
  {
   "cell_type": "code",
   "execution_count": 2,
   "metadata": {},
   "outputs": [],
   "source": [
    "import os\n",
    "os.environ[\"CUDA_VISIBLE_DEVICES\"] = \"\""
   ]
  },
  {
   "cell_type": "code",
   "execution_count": 3,
   "metadata": {},
   "outputs": [],
   "source": [
    "import pickle\n",
    "\n",
    "import datasets\n",
    "import numpy as np\n",
    "from sklearn.decomposition import PCA\n",
    "import torch\n",
    "import transformers\n",
    "from tqdm.auto import trange, tqdm\n",
    "\n",
    "from src.datasets.speech_equivalence import SpeechEquivalenceDataset\n",
    "from src.models.integrator import ContrastiveEmbeddingModel, get_sequence\n",
    "from src.utils.timit import load_or_prepare_timit_corpus"
   ]
  },
  {
   "cell_type": "code",
   "execution_count": 4,
   "metadata": {},
   "outputs": [],
   "source": [
    "model_checkpoint = \"out/ce_model_phoneme_within_word_prefix_6_32/checkpoint-600\"\n",
    "equiv_dataset_path = \"data/timit_equiv_phoneme_within_word_prefix_1.pkl\""
   ]
  },
  {
   "cell_type": "code",
   "execution_count": 5,
   "metadata": {},
   "outputs": [
    {
     "data": {
      "text/plain": [
       "ContrastiveEmbeddingModel(\n",
       "  (rnn): RNNModel(\n",
       "    (rnn): LSTM(768, 32, batch_first=True)\n",
       "    (fc): Linear(in_features=32, out_features=32, bias=True)\n",
       "  )\n",
       ")"
      ]
     },
     "execution_count": 5,
     "metadata": {},
     "output_type": "execute_result"
    }
   ],
   "source": [
    "model = ContrastiveEmbeddingModel.from_pretrained(model_checkpoint)\n",
    "model.eval()"
   ]
  },
  {
   "cell_type": "code",
   "execution_count": 6,
   "metadata": {},
   "outputs": [],
   "source": [
    "with open(equiv_dataset_path, \"rb\") as f:\n",
    "    equiv_dataset: SpeechEquivalenceDataset = pickle.load(f)"
   ]
  },
  {
   "cell_type": "code",
   "execution_count": 7,
   "metadata": {},
   "outputs": [],
   "source": [
    "assert model.is_compatible_with(equiv_dataset)"
   ]
  },
  {
   "cell_type": "code",
   "execution_count": 8,
   "metadata": {},
   "outputs": [
    {
     "data": {
      "application/vnd.jupyter.widget-view+json": {
       "model_id": "b63cfc78ae1f43ebba766b051bcb9b2b",
       "version_major": 2,
       "version_minor": 0
      },
      "text/plain": [
       "  0%|          | 0/989 [00:00<?, ?it/s]"
      ]
     },
     "metadata": {},
     "output_type": "display_data"
    }
   ],
   "source": [
    "# Compute representations in batch\n",
    "model_representations = []\n",
    "\n",
    "batch_size = 16\n",
    "non_null_frames = (equiv_dataset.Q != -1).nonzero(as_tuple=True)[0]\n",
    "F = equiv_dataset.hidden_state_dataset.get_layer(model.config.base_model_layer)\n",
    "for batch_start in trange(0, len(non_null_frames), batch_size):\n",
    "    batch_idxs = non_null_frames[batch_start:batch_start + batch_size]\n",
    "\n",
    "    batch = torch.stack([get_sequence(F, equiv_dataset.S[idx], idx, model.config.max_length)\n",
    "                         for idx in batch_idxs])\n",
    "    lengths = torch.minimum(equiv_dataset.lengths[batch_idxs], torch.tensor(model.config.max_length))\n",
    "    lengths[lengths == 0] = 1\n",
    "\n",
    "    with torch.no_grad():\n",
    "        model_representations.append(model.compute_embeddings(batch, lengths).cpu().numpy())"
   ]
  },
  {
   "cell_type": "code",
   "execution_count": 9,
   "metadata": {},
   "outputs": [
    {
     "data": {
      "text/plain": [
       "(15824, 32)"
      ]
     },
     "execution_count": 9,
     "metadata": {},
     "output_type": "execute_result"
    }
   ],
   "source": [
    "model_representations = np.concatenate(model_representations, axis=0)\n",
    "model_representations.shape"
   ]
  },
  {
   "cell_type": "code",
   "execution_count": 10,
   "metadata": {},
   "outputs": [],
   "source": [
    "assert non_null_frames.shape[0] == model_representations.shape[0]"
   ]
  },
  {
   "cell_type": "code",
   "execution_count": 11,
   "metadata": {},
   "outputs": [],
   "source": [
    "# Subset representations where we have class labels.\n",
    "labels = equiv_dataset.Q[non_null_frames]\n",
    "readable_labels = [equiv_dataset.class_labels[label] for label in labels]"
   ]
  },
  {
   "cell_type": "code",
   "execution_count": 12,
   "metadata": {},
   "outputs": [],
   "source": [
    "pca = PCA(n_components=2)\n",
    "model_representations_pca = pca.fit_transform(model_representations)"
   ]
  },
  {
   "cell_type": "code",
   "execution_count": 13,
   "metadata": {},
   "outputs": [
    {
     "data": {
      "text/plain": [
       "[('SH',),\n",
       " ('SH', 'AA'),\n",
       " ('SH', 'AA', 'K'),\n",
       " ('SH', 'AA', 'K', 'S'),\n",
       " ('SH', 'AA', 'K', 'T'),\n",
       " ('SH', 'AA', 'R'),\n",
       " ('SH', 'AA', 'R', 'P'),\n",
       " ('SH', 'AH'),\n",
       " ('SH', 'AO'),\n",
       " ('SH', 'AO', 'N'),\n",
       " ('SH', 'AO', 'R'),\n",
       " ('SH', 'AO', 'R', 'T'),\n",
       " ('SH', 'AO', 'R', 'T', 'AH'),\n",
       " ('SH', 'AO', 'R', 'T', 'AH', 'N'),\n",
       " ('SH', 'AO', 'R', 'T', 'IH'),\n",
       " ('SH', 'AO', 'R', 'T', 'IH', 'D'),\n",
       " ('SH', 'AO', 'R', 'T', 'IH', 'D', 'JH'),\n",
       " ('SH', 'AO', 'T'),\n",
       " ('SH', 'AO', 'T', 'AH'),\n",
       " ('SH', 'AO', 'T', 'AH', 'N'),\n",
       " ('SH', 'AO', 'T', 'IH'),\n",
       " ('SH', 'AO', 'T', 'IH', 'D'),\n",
       " ('SH', 'AO', 'T', 'IH', 'D', 'JH'),\n",
       " ('SH', 'AW'),\n",
       " ('SH', 'AW', 'ER'),\n",
       " ('SH', 'AW', 'ER', 'S'),\n",
       " ('SH', 'AY'),\n",
       " ('SH', 'EH'),\n",
       " ('SH', 'EH', 'D'),\n",
       " ('SH', 'EH', 'L'),\n",
       " ('SH', 'EH', 'L', 'F'),\n",
       " ('SH', 'EH', 'L', 'F', 'IH'),\n",
       " ('SH', 'EH', 'L', 'F', 'IH', 'SH'),\n",
       " ('SH', 'EH', 'L', 'T'),\n",
       " ('SH', 'EH', 'L', 'T', 'ER'),\n",
       " ('SH', 'ER'),\n",
       " ('SH', 'ER', 'B'),\n",
       " ('SH', 'ER', 'B', 'ER'),\n",
       " ('SH', 'ER', 'B', 'ER', 'T'),\n",
       " ('SH', 'ER', 'IH'),\n",
       " ('SH', 'ER', 'IH', 'F'),\n",
       " ('SH', 'ER', 'L'),\n",
       " ('SH', 'ER', 'L', 'IY'),\n",
       " ('SH', 'EY'),\n",
       " ('SH', 'EY', 'P'),\n",
       " ('SH', 'IH'),\n",
       " ('SH', 'IH', 'D'),\n",
       " ('SH', 'IH', 'M'),\n",
       " ('SH', 'IH', 'M', 'ER'),\n",
       " ('SH', 'IH', 'M', 'ER', 'D'),\n",
       " ('SH', 'IH', 'M', 'IH'),\n",
       " ('SH', 'IH', 'M', 'IH', 'D'),\n",
       " ('SH', 'IH', 'P'),\n",
       " ('SH', 'IH', 'P', 'B'),\n",
       " ('SH', 'IH', 'P', 'B', 'IH'),\n",
       " ('SH', 'IH', 'P', 'B', 'IH', 'L'),\n",
       " ('SH', 'IH', 'P', 'B', 'IH', 'L', 'T'),\n",
       " ('SH', 'IH', 'P', 'B', 'IH', 'L', 'T', 'IH'),\n",
       " ('SH', 'IH', 'P', 'B', 'IH', 'L', 'T', 'IH', 'NG'),\n",
       " ('SH', 'IY'),\n",
       " ('SH', 'IY', 'L'),\n",
       " ('SH', 'IY', 'L', 'AH'),\n",
       " ('SH', 'IY', 'L', 'IH'),\n",
       " ('SH', 'OW'),\n",
       " ('SH', 'OW', 'N'),\n",
       " ('SH', 'R'),\n",
       " ('SH', 'R', 'AE'),\n",
       " ('SH', 'R', 'AE', 'P'),\n",
       " ('SH', 'R', 'AE', 'P', 'N'),\n",
       " ('SH', 'R', 'AE', 'P', 'N', 'AH'),\n",
       " ('SH', 'R', 'AE', 'P', 'N', 'AH', 'L'),\n",
       " ('SH', 'R', 'EH'),\n",
       " ('SH', 'R', 'EH', 'T'),\n",
       " ('SH', 'R', 'EH', 'T', 'IH'),\n",
       " ('SH', 'R', 'EH', 'T', 'IH', 'D'),\n",
       " ('SH', 'R', 'IY'),\n",
       " ('SH', 'T'),\n",
       " ('SH', 'T', 'IH'),\n",
       " ('SH', 'UH'),\n",
       " ('SH', 'UH', 'D'),\n",
       " ('SH', 'UW'),\n",
       " ('SH', 'UW', 'AH'),\n",
       " ('SH', 'UW', 'Z'),\n",
       " ('SH', 'Y'),\n",
       " ('SH', '[SIL]'),\n",
       " ('SH', '[SIL]', 'AH'),\n",
       " ('SH', '[SIL]', 'AH', 'L'),\n",
       " ('SH', '[SIL]', 'R'),\n",
       " ('SH', '[SIL]', 'R', 'AE'),\n",
       " ('SH', '[SIL]', 'R', 'AE', 'P'),\n",
       " ('SH', '[SIL]', 'R', 'AE', 'P', 'N'),\n",
       " ('SH', '[SIL]', 'R', 'AE', 'P', 'N', 'OW')]"
      ]
     },
     "execution_count": 13,
     "metadata": {},
     "output_type": "execute_result"
    }
   ],
   "source": [
    "[x for x in sorted(equiv_dataset.class_labels) if x[0] == \"SH\"]"
   ]
  },
  {
   "cell_type": "markdown",
   "metadata": {},
   "source": [
    "## Plot animation"
   ]
  },
  {
   "cell_type": "code",
   "execution_count": 14,
   "metadata": {},
   "outputs": [],
   "source": [
    "# TODO look for an interesting cohort trajectory in the stimulus, maybe by looking at counts?\n",
    "label_trajectories = [\n",
    "    # # trajectory 1\n",
    "    # [\n",
    "    #     # frame 1\n",
    "    #     (\"SH\",),\n",
    "    #     # frame 2\n",
    "    #     (\"SH\", \"IH\"),\n",
    "    # ],\n",
    "    # [(\"SH\",), (\"SH\", \"AA\"),],\n",
    "    [(\"SH\",), (\"SH\", \"AO\"), (\"SH\", \"AO\"), (\"SH\", \"AO\", \"R\")],\n",
    "    [(\"SH\",), (\"SH\", \"AO\"), (\"SH\", \"AO\"), (\"SH\", \"AO\", \"T\")],\n",
    "]\n",
    "\n",
    "label_idx_trajectories = [\n",
    "    [equiv_dataset.class_labels.index(label) for label in trajectory]\n",
    "    for trajectory in label_trajectories\n",
    "]\n",
    "\n",
    "# Extract matching model representations for each frame of each trajectory.\n",
    "trajectory_representations = []\n",
    "for trajectory in label_idx_trajectories:\n",
    "    # Select only samples consistent with the end of the trajectory.\n",
    "    # TODO how? they are different instances\n",
    "    \n",
    "    trajectory_representations_i = []\n",
    "    for label_idx in trajectory:\n",
    "        idxs = np.where(labels == label_idx)[0]\n",
    "        trajectory_representations_i.append(model_representations_pca[idxs])\n",
    "\n",
    "    trajectory_representations.append(trajectory_representations_i)"
   ]
  },
  {
   "cell_type": "code",
   "execution_count": 15,
   "metadata": {},
   "outputs": [
    {
     "data": {
      "text/plain": [
       "[('SH-SH AO-SH AO-SH AO R', 2), ('SH-SH AO-SH AO-SH AO T', 3)]"
      ]
     },
     "execution_count": 15,
     "metadata": {},
     "output_type": "execute_result"
    }
   ],
   "source": [
    "list(zip([\"-\".join(\" \".join(x) for x in traj) for traj in label_trajectories],\n",
    "         [traj[-1].shape[0] for traj in trajectory_representations]))"
   ]
  },
  {
   "cell_type": "code",
   "execution_count": 16,
   "metadata": {},
   "outputs": [],
   "source": [
    "%matplotlib ipympl"
   ]
  },
  {
   "cell_type": "code",
   "execution_count": 17,
   "metadata": {},
   "outputs": [
    {
     "data": {
      "application/vnd.jupyter.widget-view+json": {
       "model_id": "4dab30fd4c93461786359c54728db185",
       "version_major": 2,
       "version_minor": 0
      },
      "image/png": "[encoded data removed]",
      "text/html": [
       "\n",
       "            <div style=\"display: inline-block;\">\n",
       "                <div class=\"jupyter-widgets widget-label\" style=\"text-align: center;\">\n",
       "                    Figure\n",
       "                </div>\n",
       "                <img src='data:image/png;base64,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' width=640.0/>\n",
       "            </div>\n",
       "        "
      ],
      "text/plain": [
       "Canvas(toolbar=Toolbar(toolitems=[('Home', 'Reset original view', 'home', 'home'), ('Back', 'Back to previous …"
      ]
     },
     "metadata": {},
     "output_type": "display_data"
    }
   ],
   "source": [
    "# Animate\n",
    "import matplotlib.pyplot as plt\n",
    "import matplotlib.animation as animation\n",
    "\n",
    "fig, ax = plt.subplots()\n",
    "ax.set_xlim(-1, 1)\n",
    "ax.set_ylim(-1, 1)\n",
    "annot_frame = ax.text(-0.75, 0.75, \"-1\")\n",
    "scats = [ax.scatter([], []) for _ in trajectory_representations]\n",
    "\n",
    "def init():\n",
    "    for scat in scats:\n",
    "        scat.set_offsets(np.zeros((0, 2)))\n",
    "    return tuple(scats)\n",
    "\n",
    "def update(frame):\n",
    "    for scat, trajectory in zip(scats, trajectory_representations):\n",
    "        scat.set_offsets(trajectory[frame])\n",
    "    annot_frame.set_text(str(frame))\n",
    "    return tuple(scats) + (annot_frame,)\n",
    "\n",
    "ani = animation.FuncAnimation(fig, update, frames=len(label_trajectories[0]), interval=500,\n",
    "                              init_func=init, blit=True)\n",
    "plt.show()"
   ]
  },
  {
   "cell_type": "markdown",
   "metadata": {},
   "source": [
    "## Plot matched phonemes in different contexts"
   ]
  },
  {
   "cell_type": "code",
   "execution_count": null,
   "metadata": {},
   "outputs": [],
   "source": [
    "target_phoneme = \"N\""
   ]
  },
  {
   "cell_type": "code",
   "execution_count": 7,
   "metadata": {},
   "outputs": [
    {
     "data": {
      "text/plain": [
       "array([1, 5])"
      ]
     },
     "execution_count": 7,
     "metadata": {},
     "output_type": "execute_result"
    }
   ],
   "source": [
    "import numpy as np\n",
    "np.intersect1d([1, 2, 3, 4, 5, 7], [1, 5])"
   ]
  },
  {
   "cell_type": "code",
   "execution_count": null,
   "metadata": {},
   "outputs": [],
   "source": [
    "matching_label_idxs = [idx for idx, label in enumerate(equiv_dataset.class_labels) if label[-1] == target_phoneme]\n",
    "\n",
    "phoneme_reprs = [model_representations[labels == idx] for idx in matching_label_idxs]\n",
    "phoneme_labels = [np.repeat(equiv_dataset.class_labels[idx], len(repr))\n",
    "                  for idx, repr in zip(matching_label_idxs, phoneme_reprs)]\n",
    "phoneme_reprs = np.concatenate(phoneme_reprs)\n",
    "phoneme_labels = np.concatenate(phoneme_labels)"
   ]
  },
  {
   "cell_type": "code",
   "execution_count": null,
   "metadata": {},
   "outputs": [
    {
     "ename": "AttributeError",
     "evalue": "'tuple' object has no attribute 'endswith'",
     "output_type": "error",
     "traceback": [
      "\u001b[0;31m---------------------------------------------------------------------------\u001b[0m\n",
      "\u001b[0;31mAttributeError\u001b[0m                            Traceback (most recent call last)\n",
      "Cell \u001b[0;32mIn[3], line 1\u001b[0m\n",
      "\u001b[0;32m----> 1\u001b[0m \u001b[43m(\u001b[49m\u001b[38;5;241;43m1\u001b[39;49m\u001b[43m,\u001b[49m\u001b[43m \u001b[49m\u001b[38;5;241;43m2\u001b[39;49m\u001b[43m)\u001b[49m\u001b[38;5;241;43m.\u001b[39;49m\u001b[43mendswith\u001b[49m(\u001b[38;5;241m2\u001b[39m)\n",
      "\n",
      "\u001b[0;31mAttributeError\u001b[0m: 'tuple' object has no attribute 'endswith'"
     ]
    }
   ],
   "source": [
    "phoneme_reprs_pca = PCA(n_components=2).fit_transform(phoneme_reprs)"
   ]
  },
  {
   "cell_type": "code",
   "execution_count": null,
   "metadata": {},
   "outputs": [],
   "source": [
    "f, ax = plt.subplots()\n",
    "ax.scatter(phoneme_reprs_pca[:, 0], phoneme_reprs_pca[:, 1])\n",
    "\n",
    "annotate_idxs = np.random.choice(len(phoneme_reprs), 10, replace=False)\n",
    "for idx in annotate_idxs:\n",
    "    ax.annotate(\" \".join(phoneme_labels[idx]), phoneme_reprs_pca[idx])"
   ]
  }
 ],
 "metadata": {
  "kernelspec": {
   "display_name": "explore310",
   "language": "python",
   "name": "python3"
  },
  "language_info": {
   "codemirror_mode": {
    "name": "ipython",
    "version": 3
   },
   "file_extension": ".py",
   "mimetype": "text/x-python",
   "name": "python",
   "nbconvert_exporter": "python",
   "pygments_lexer": "ipython3",
   "version": "3.10.13"
  }
 },
 "nbformat": 4,
 "nbformat_minor": 2
}
