{
 "cells": [
  {
   "cell_type": "markdown",
   "metadata": {},
   "source": [
    "Join together and summarize all CCA notebooks"
   ]
  },
  {
   "cell_type": "code",
   "execution_count": 1,
   "metadata": {},
   "outputs": [],
   "source": [
    "%load_ext autoreload\n",
    "%autoreload 2"
   ]
  },
  {
   "cell_type": "code",
   "execution_count": 17,
   "metadata": {},
   "outputs": [],
   "source": [
    "import pandas as pd\n",
    "import numpy as np\n",
    "import seaborn as sns\n",
    "from pathlib import Path\n",
    "import re\n",
    "from typing import Union, Callable"
   ]
  },
  {
   "cell_type": "code",
   "execution_count": 15,
   "metadata": {},
   "outputs": [
    {
     "ename": "AttributeError",
     "evalue": "'PosixPath' object has no attribute 'extract'",
     "output_type": "error",
     "traceback": [
      "\u001b[0;31m---------------------------------------------------------------------------\u001b[0m",
      "\u001b[0;31mAttributeError\u001b[0m                            Traceback (most recent call last)",
      "Cell \u001b[0;32mIn[15], line 1\u001b[0m\n\u001b[0;32m----> 1\u001b[0m \u001b[43mPath\u001b[49m\u001b[43m(\u001b[49m\u001b[38;5;124;43m\"\u001b[39;49m\u001b[38;5;124;43mtest\u001b[39;49m\u001b[38;5;124;43m\"\u001b[39;49m\u001b[43m)\u001b[49m\u001b[38;5;241;43m.\u001b[39;49m\u001b[43mextract\u001b[49m\n",
      "\u001b[0;31mAttributeError\u001b[0m: 'PosixPath' object has no attribute 'extract'"
     ]
    }
   ],
   "source": [
    "Path(\"test\").extract"
   ]
  },
  {
   "cell_type": "code",
   "execution_count": 32,
   "metadata": {},
   "outputs": [],
   "source": [
    "def concat_csv_with_indices(path_glob: str,\n",
    "                            path_patterns: list[Union[re.Pattern, Callable[[Path], str]]],\n",
    "                            index_names: list[str]):\n",
    "    \"\"\"\n",
    "    Load a collection of dataframes organized within folders, and use patterns on the\n",
    "    folder names to create a concatenated multi-indexed dataframe.\n",
    "\n",
    "    Args:\n",
    "    path_glob: a glob pattern for the folders containing the dataframes\n",
    "    path_patterns: a list of patterns to apply to the path names to extract indices\n",
    "    index_names: a list of names for the indices\n",
    "    \"\"\"\n",
    "    assert len(path_patterns) == len(index_names)\n",
    "\n",
    "    paths = list(Path().glob(path_glob))\n",
    "    dfs = [pd.read_csv(p) for p in paths]\n",
    "    print(paths)\n",
    "    index_keys = [\n",
    "        tuple([patt(p) if callable(patt) else re.search(patt, str(p)).group(1)\n",
    "               for patt in path_patterns])\n",
    "        for p in paths\n",
    "    ]\n",
    "    print(index_keys)\n",
    "\n",
    "    return pd.concat(dfs, keys=index_keys, names=index_names)"
   ]
  },
  {
   "cell_type": "code",
   "execution_count": 38,
   "metadata": {},
   "outputs": [
    {
     "name": "stdout",
     "output_type": "stream",
     "text": [
      "[PosixPath('../outputs/notebooks/librispeech-train-clean-100/w2v2_8/rnn_32-aniso1/word_broad_10frames/word_id/cca_scores-mean_within_phoneme.csv'), PosixPath('../outputs/notebooks/librispeech-train-clean-100/w2v2_8/rnn_32-aniso1/word_broad_10frames/word_id/cca_scores-none.csv'), PosixPath('../outputs/notebooks/librispeech-train-clean-100/w2v2_8/rnn_32-aniso1/word_broad_10frames/word_id/cca_scores-mean.csv'), PosixPath('../outputs/notebooks/librispeech-train-clean-100/w2v2_8/rnn_32-aniso1/word_broad_10frames/word_id/cca_scores-max.csv'), PosixPath('../outputs/notebooks/librispeech-train-clean-100/w2v2_8/rnn_32-aniso1/word_broad_10frames/word_id/cca_scores-mean_within_syllable.csv'), PosixPath('../outputs/notebooks/librispeech-train-clean-100/w2v2_8/rnn_32-aniso1/word_broad_10frames/word_id/cca_scores-last_frame.csv'), PosixPath('../outputs/notebooks/librispeech-train-clean-100/w2v2_8/rnn_32-aniso2/word_broad_10frames/word_id/cca_scores-none.csv'), PosixPath('../outputs/notebooks/librispeech-train-clean-100/w2v2_8/rnn_32-aniso2/word_broad_10frames/word_id/cca_scores-mean.csv'), PosixPath('../outputs/notebooks/librispeech-train-clean-100/w2v2_8/rnn_32-aniso2/word_broad_10frames/word_id/cca_scores-mean_within_syllable.csv'), PosixPath('../outputs/notebooks/librispeech-train-clean-100/w2v2_8/rnn_32-aniso2/word_broad_10frames/word_id/cca_scores-mean_within_phoneme.csv'), PosixPath('../outputs/notebooks/librispeech-train-clean-100/w2v2_8/rnn_32-aniso2/word_broad_10frames/word_id/cca_scores-max.csv'), PosixPath('../outputs/notebooks/librispeech-train-clean-100/w2v2_8/rnn_32-aniso2/word_broad_10frames/word_id/cca_scores-last_frame.csv'), PosixPath('../outputs/notebooks/librispeech-train-clean-100/w2v2_8/rnn_32-aniso3/word_broad_10frames/word_id/cca_scores-last_frame.csv'), PosixPath('../outputs/notebooks/librispeech-train-clean-100/w2v2_8/rnn_32-aniso3/word_broad_10frames/word_id/cca_scores-mean_within_syllable.csv'), PosixPath('../outputs/notebooks/librispeech-train-clean-100/w2v2_8/rnn_32-aniso3/word_broad_10frames/word_id/cca_scores-max.csv'), PosixPath('../outputs/notebooks/librispeech-train-clean-100/w2v2_8/rnn_32-aniso3/word_broad_10frames/word_id/cca_scores-mean.csv'), PosixPath('../outputs/notebooks/librispeech-train-clean-100/w2v2_8/rnn_32-aniso3/word_broad_10frames/word_id/cca_scores-none.csv'), PosixPath('../outputs/notebooks/librispeech-train-clean-100/w2v2_8/rnn_32-aniso3/word_broad_10frames/word_id/cca_scores-mean_within_phoneme.csv')]\n",
      "[('mean_within_phoneme', 'word_broad_10frames', 'rnn_32-aniso1', 'w2v2_8'), ('none', 'word_broad_10frames', 'rnn_32-aniso1', 'w2v2_8'), ('mean', 'word_broad_10frames', 'rnn_32-aniso1', 'w2v2_8'), ('max', 'word_broad_10frames', 'rnn_32-aniso1', 'w2v2_8'), ('mean_within_syllable', 'word_broad_10frames', 'rnn_32-aniso1', 'w2v2_8'), ('last_frame', 'word_broad_10frames', 'rnn_32-aniso1', 'w2v2_8'), ('none', 'word_broad_10frames', 'rnn_32-aniso2', 'w2v2_8'), ('mean', 'word_broad_10frames', 'rnn_32-aniso2', 'w2v2_8'), ('mean_within_syllable', 'word_broad_10frames', 'rnn_32-aniso2', 'w2v2_8'), ('mean_within_phoneme', 'word_broad_10frames', 'rnn_32-aniso2', 'w2v2_8'), ('max', 'word_broad_10frames', 'rnn_32-aniso2', 'w2v2_8'), ('last_frame', 'word_broad_10frames', 'rnn_32-aniso2', 'w2v2_8'), ('last_frame', 'word_broad_10frames', 'rnn_32-aniso3', 'w2v2_8'), ('mean_within_syllable', 'word_broad_10frames', 'rnn_32-aniso3', 'w2v2_8'), ('max', 'word_broad_10frames', 'rnn_32-aniso3', 'w2v2_8'), ('mean', 'word_broad_10frames', 'rnn_32-aniso3', 'w2v2_8'), ('none', 'word_broad_10frames', 'rnn_32-aniso3', 'w2v2_8'), ('mean_within_phoneme', 'word_broad_10frames', 'rnn_32-aniso3', 'w2v2_8')]\n"
     ]
    }
   ],
   "source": [
    "df = concat_csv_with_indices(\"../outputs/notebooks/librispeech-train-clean-100/**/word_id/*.csv\",\n",
    "                        [r\"cca_scores-(.+?)\\.csv$\", lambda p: p.parents[1].name,\n",
    "                         lambda p: p.parents[2].name, lambda p: p.parents[3].name],\n",
    "                        [\"measure\", \"equivalence\", \"model\", \"base_model\"])"
   ]
  },
  {
   "cell_type": "code",
   "execution_count": 39,
   "metadata": {},
   "outputs": [
    {
     "data": {
      "text/html": [
       "<div>\n",
       "<style scoped>\n",
       "    .dataframe tbody tr th:only-of-type {\n",
       "        vertical-align: middle;\n",
       "    }\n",
       "\n",
       "    .dataframe tbody tr th {\n",
       "        vertical-align: top;\n",
       "    }\n",
       "\n",
       "    .dataframe thead th {\n",
       "        text-align: right;\n",
       "    }\n",
       "</style>\n",
       "<table border=\"1\" class=\"dataframe\">\n",
       "  <thead>\n",
       "    <tr style=\"text-align: right;\">\n",
       "      <th></th>\n",
       "      <th></th>\n",
       "      <th></th>\n",
       "      <th></th>\n",
       "      <th></th>\n",
       "      <th>frame_idx</th>\n",
       "      <th>fold_idx</th>\n",
       "      <th>measure</th>\n",
       "      <th>value</th>\n",
       "    </tr>\n",
       "    <tr>\n",
       "      <th>measure</th>\n",
       "      <th>equivalence</th>\n",
       "      <th>model</th>\n",
       "      <th>base_model</th>\n",
       "      <th></th>\n",
       "      <th></th>\n",
       "      <th></th>\n",
       "      <th></th>\n",
       "      <th></th>\n",
       "    </tr>\n",
       "  </thead>\n",
       "  <tbody>\n",
       "    <tr>\n",
       "      <th rowspan=\"11\" valign=\"top\">mean_within_phoneme</th>\n",
       "      <th rowspan=\"11\" valign=\"top\">word_broad_10frames</th>\n",
       "      <th rowspan=\"5\" valign=\"top\">rnn_32-aniso1</th>\n",
       "      <th rowspan=\"5\" valign=\"top\">w2v2_8</th>\n",
       "      <th>0</th>\n",
       "      <td>0</td>\n",
       "      <td>0</td>\n",
       "      <td>pw_x</td>\n",
       "      <td>0.446688</td>\n",
       "    </tr>\n",
       "    <tr>\n",
       "      <th>1</th>\n",
       "      <td>0</td>\n",
       "      <td>0</td>\n",
       "      <td>pw_y</td>\n",
       "      <td>0.476315</td>\n",
       "    </tr>\n",
       "    <tr>\n",
       "      <th>2</th>\n",
       "      <td>0</td>\n",
       "      <td>0</td>\n",
       "      <td>ew_x</td>\n",
       "      <td>0.465292</td>\n",
       "    </tr>\n",
       "    <tr>\n",
       "      <th>3</th>\n",
       "      <td>0</td>\n",
       "      <td>0</td>\n",
       "      <td>ew_y</td>\n",
       "      <td>0.465292</td>\n",
       "    </tr>\n",
       "    <tr>\n",
       "      <th>4</th>\n",
       "      <td>0</td>\n",
       "      <td>1</td>\n",
       "      <td>pw_x</td>\n",
       "      <td>0.502686</td>\n",
       "    </tr>\n",
       "    <tr>\n",
       "      <th>...</th>\n",
       "      <th>...</th>\n",
       "      <th>...</th>\n",
       "      <td>...</td>\n",
       "      <td>...</td>\n",
       "      <td>...</td>\n",
       "      <td>...</td>\n",
       "    </tr>\n",
       "    <tr>\n",
       "      <th rowspan=\"5\" valign=\"top\">rnn_32-aniso3</th>\n",
       "      <th rowspan=\"5\" valign=\"top\">w2v2_8</th>\n",
       "      <th>175</th>\n",
       "      <td>8</td>\n",
       "      <td>3</td>\n",
       "      <td>ew_y</td>\n",
       "      <td>NaN</td>\n",
       "    </tr>\n",
       "    <tr>\n",
       "      <th>176</th>\n",
       "      <td>8</td>\n",
       "      <td>4</td>\n",
       "      <td>pw_x</td>\n",
       "      <td>NaN</td>\n",
       "    </tr>\n",
       "    <tr>\n",
       "      <th>177</th>\n",
       "      <td>8</td>\n",
       "      <td>4</td>\n",
       "      <td>pw_y</td>\n",
       "      <td>NaN</td>\n",
       "    </tr>\n",
       "    <tr>\n",
       "      <th>178</th>\n",
       "      <td>8</td>\n",
       "      <td>4</td>\n",
       "      <td>ew_x</td>\n",
       "      <td>NaN</td>\n",
       "    </tr>\n",
       "    <tr>\n",
       "      <th>179</th>\n",
       "      <td>8</td>\n",
       "      <td>4</td>\n",
       "      <td>ew_y</td>\n",
       "      <td>NaN</td>\n",
       "    </tr>\n",
       "  </tbody>\n",
       "</table>\n",
       "<p>6380 rows × 4 columns</p>\n",
       "</div>"
      ],
      "text/plain": [
       "                                                                      frame_idx  \\\n",
       "measure             equivalence         model         base_model                  \n",
       "mean_within_phoneme word_broad_10frames rnn_32-aniso1 w2v2_8     0            0   \n",
       "                                                                 1            0   \n",
       "                                                                 2            0   \n",
       "                                                                 3            0   \n",
       "                                                                 4            0   \n",
       "...                                                                         ...   \n",
       "                                        rnn_32-aniso3 w2v2_8     175          8   \n",
       "                                                                 176          8   \n",
       "                                                                 177          8   \n",
       "                                                                 178          8   \n",
       "                                                                 179          8   \n",
       "\n",
       "                                                                      fold_idx  \\\n",
       "measure             equivalence         model         base_model                 \n",
       "mean_within_phoneme word_broad_10frames rnn_32-aniso1 w2v2_8     0           0   \n",
       "                                                                 1           0   \n",
       "                                                                 2           0   \n",
       "                                                                 3           0   \n",
       "                                                                 4           1   \n",
       "...                                                                        ...   \n",
       "                                        rnn_32-aniso3 w2v2_8     175         3   \n",
       "                                                                 176         4   \n",
       "                                                                 177         4   \n",
       "                                                                 178         4   \n",
       "                                                                 179         4   \n",
       "\n",
       "                                                                     measure  \\\n",
       "measure             equivalence         model         base_model               \n",
       "mean_within_phoneme word_broad_10frames rnn_32-aniso1 w2v2_8     0      pw_x   \n",
       "                                                                 1      pw_y   \n",
       "                                                                 2      ew_x   \n",
       "                                                                 3      ew_y   \n",
       "                                                                 4      pw_x   \n",
       "...                                                                      ...   \n",
       "                                        rnn_32-aniso3 w2v2_8     175    ew_y   \n",
       "                                                                 176    pw_x   \n",
       "                                                                 177    pw_y   \n",
       "                                                                 178    ew_x   \n",
       "                                                                 179    ew_y   \n",
       "\n",
       "                                                                         value  \n",
       "measure             equivalence         model         base_model                \n",
       "mean_within_phoneme word_broad_10frames rnn_32-aniso1 w2v2_8     0    0.446688  \n",
       "                                                                 1    0.476315  \n",
       "                                                                 2    0.465292  \n",
       "                                                                 3    0.465292  \n",
       "                                                                 4    0.502686  \n",
       "...                                                                        ...  \n",
       "                                        rnn_32-aniso3 w2v2_8     175       NaN  \n",
       "                                                                 176       NaN  \n",
       "                                                                 177       NaN  \n",
       "                                                                 178       NaN  \n",
       "                                                                 179       NaN  \n",
       "\n",
       "[6380 rows x 4 columns]"
      ]
     },
     "execution_count": 39,
     "metadata": {},
     "output_type": "execute_result"
    }
   ],
   "source": [
    "df"
   ]
  },
  {
   "cell_type": "code",
   "execution_count": 6,
   "metadata": {},
   "outputs": [],
   "source": [
    "cca_df_paths = list(Path(\"../outputs/notebooks/librispeech-train-clean-100\").glob(\"**/word_id/*.csv\"))\n",
    "cca_dfs = [pd.read_csv(p) for p in cca_df_paths]\n",
    "\n",
    "cca_df_descriptors = [()]"
   ]
  },
  {
   "cell_type": "code",
   "execution_count": 8,
   "metadata": {},
   "outputs": [
    {
     "data": {
      "text/plain": [
       "[PosixPath('../outputs/notebooks/librispeech-train-clean-100/w2v2_8/rnn_32-aniso1/word_broad_10frames/word_id/cca_scores-mean_within_phoneme.csv'),\n",
       " PosixPath('../outputs/notebooks/librispeech-train-clean-100/w2v2_8/rnn_32-aniso1/word_broad_10frames/word_id/cca_scores-none.csv'),\n",
       " PosixPath('../outputs/notebooks/librispeech-train-clean-100/w2v2_8/rnn_32-aniso1/word_broad_10frames/word_id/cca_scores-mean.csv'),\n",
       " PosixPath('../outputs/notebooks/librispeech-train-clean-100/w2v2_8/rnn_32-aniso1/word_broad_10frames/word_id/cca_scores-max.csv'),\n",
       " PosixPath('../outputs/notebooks/librispeech-train-clean-100/w2v2_8/rnn_32-aniso1/word_broad_10frames/word_id/cca_scores-mean_within_syllable.csv'),\n",
       " PosixPath('../outputs/notebooks/librispeech-train-clean-100/w2v2_8/rnn_32-aniso1/word_broad_10frames/word_id/cca_scores-last_frame.csv'),\n",
       " PosixPath('../outputs/notebooks/librispeech-train-clean-100/w2v2_8/rnn_32-aniso2/word_broad_10frames/word_id/cca_scores-none.csv'),\n",
       " PosixPath('../outputs/notebooks/librispeech-train-clean-100/w2v2_8/rnn_32-aniso2/word_broad_10frames/word_id/cca_scores-mean.csv'),\n",
       " PosixPath('../outputs/notebooks/librispeech-train-clean-100/w2v2_8/rnn_32-aniso2/word_broad_10frames/word_id/cca_scores-mean_within_syllable.csv'),\n",
       " PosixPath('../outputs/notebooks/librispeech-train-clean-100/w2v2_8/rnn_32-aniso2/word_broad_10frames/word_id/cca_scores-mean_within_phoneme.csv'),\n",
       " PosixPath('../outputs/notebooks/librispeech-train-clean-100/w2v2_8/rnn_32-aniso2/word_broad_10frames/word_id/cca_scores-max.csv'),\n",
       " PosixPath('../outputs/notebooks/librispeech-train-clean-100/w2v2_8/rnn_32-aniso2/word_broad_10frames/word_id/cca_scores-last_frame.csv'),\n",
       " PosixPath('../outputs/notebooks/librispeech-train-clean-100/w2v2_8/rnn_32-aniso3/word_broad_10frames/word_id/cca_scores-last_frame.csv'),\n",
       " PosixPath('../outputs/notebooks/librispeech-train-clean-100/w2v2_8/rnn_32-aniso3/word_broad_10frames/word_id/cca_scores-mean_within_syllable.csv'),\n",
       " PosixPath('../outputs/notebooks/librispeech-train-clean-100/w2v2_8/rnn_32-aniso3/word_broad_10frames/word_id/cca_scores-max.csv'),\n",
       " PosixPath('../outputs/notebooks/librispeech-train-clean-100/w2v2_8/rnn_32-aniso3/word_broad_10frames/word_id/cca_scores-mean.csv'),\n",
       " PosixPath('../outputs/notebooks/librispeech-train-clean-100/w2v2_8/rnn_32-aniso3/word_broad_10frames/word_id/cca_scores-none.csv'),\n",
       " PosixPath('../outputs/notebooks/librispeech-train-clean-100/w2v2_8/rnn_32-aniso3/word_broad_10frames/word_id/cca_scores-mean_within_phoneme.csv')]"
      ]
     },
     "execution_count": 8,
     "metadata": {},
     "output_type": "execute_result"
    }
   ],
   "source": [
    "cca_df_paths"
   ]
  }
 ],
 "metadata": {
  "kernelspec": {
   "display_name": "Python 3",
   "language": "python",
   "name": "python3"
  },
  "language_info": {
   "codemirror_mode": {
    "name": "ipython",
    "version": 3
   },
   "file_extension": ".py",
   "mimetype": "text/x-python",
   "name": "python",
   "nbconvert_exporter": "python",
   "pygments_lexer": "ipython3",
   "version": "3.10.13"
  }
 },
 "nbformat": 4,
 "nbformat_minor": 2
}
