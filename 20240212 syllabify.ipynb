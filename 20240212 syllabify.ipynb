{
 "cells": [
  {
   "cell_type": "code",
   "execution_count": 1,
   "metadata": {},
   "outputs": [],
   "source": [
    "%load_ext autoreload\n",
    "%autoreload 2"
   ]
  },
  {
   "cell_type": "code",
   "execution_count": 2,
   "metadata": {},
   "outputs": [],
   "source": [
    "import os\n",
    "os.environ[\"CUDA_VISIBLE_DEVICES\"] = \"\""
   ]
  },
  {
   "cell_type": "code",
   "execution_count": 3,
   "metadata": {},
   "outputs": [],
   "source": [
    "import itertools\n",
    "\n",
    "import datasets\n",
    "import transformers\n",
    "import torch\n",
    "\n",
    "from src.utils.timit import load_or_prepare_timit_corpus"
   ]
  },
  {
   "cell_type": "code",
   "execution_count": 4,
   "metadata": {},
   "outputs": [],
   "source": [
    "model_name = \"facebook/wav2vec2-base\"\n",
    "\n",
    "equivalence_classer = \"phoneme\"\n",
    "num_frames_per_phoneme = 1\n",
    "\n",
    "layer = 6\n",
    "output_dim = 32\n",
    "\n",
    "equiv_dataset_path = f\"data/timit_equiv_{equivalence_classer}_{layer}_{num_frames_per_phoneme}.pkl\"\n",
    "output_dir = f\"out/ce_model_{equivalence_classer}_{layer}_{output_dim}\""
   ]
  },
  {
   "cell_type": "code",
   "execution_count": 5,
   "metadata": {},
   "outputs": [
    {
     "name": "stderr",
     "output_type": "stream",
     "text": [
      "The tokenizer class you load from this checkpoint is not the same type as the class this function is called from. It may result in unexpected tokenization. \n",
      "The tokenizer class you load from this checkpoint is 'Wav2Vec2CTCTokenizer'. \n",
      "The class this function is called from is 'Wav2Vec2Tokenizer'.\n",
      "/home/jgauthier/u/transformers/lib/python3.10/site-packages/transformers/models/wav2vec2/tokenization_wav2vec2.py:733: FutureWarning: The class `Wav2Vec2Tokenizer` is deprecated and will be removed in version 5 of Transformers. Please use `Wav2Vec2Processor` or `Wav2Vec2CTCTokenizer` instead.\n",
      "  warnings.warn(\n"
     ]
    }
   ],
   "source": [
    "tokenizer = transformers.Wav2Vec2Tokenizer.from_pretrained(\"charsiu/tokenizer_en_cmu\")\n",
    "feature_extractor = transformers.Wav2Vec2FeatureExtractor(feature_size=1, sampling_rate=16000, padding_value=0.0, do_normalize=True, return_attention_mask=False)\n",
    "processor = transformers.Wav2Vec2Processor(feature_extractor=feature_extractor, tokenizer=tokenizer)"
   ]
  },
  {
   "cell_type": "code",
   "execution_count": 6,
   "metadata": {},
   "outputs": [
    {
     "data": {
      "application/vnd.jupyter.widget-view+json": {
       "model_id": "50718092322546238d55a01e39858c65",
       "version_major": 2,
       "version_minor": 0
      },
      "text/plain": [
       "Map:   0%|          | 0/4620 [00:00<?, ? examples/s]"
      ]
     },
     "metadata": {},
     "output_type": "display_data"
    },
    {
     "data": {
      "application/vnd.jupyter.widget-view+json": {
       "model_id": "7a50b1a532164a53911f2bc3f7cf19e8",
       "version_major": 2,
       "version_minor": 0
      },
      "text/plain": [
       "Map:   0%|          | 0/1680 [00:00<?, ? examples/s]"
      ]
     },
     "metadata": {},
     "output_type": "display_data"
    },
    {
     "data": {
      "application/vnd.jupyter.widget-view+json": {
       "model_id": "e6b6b5595cc44c80b8cdfcdf396edece",
       "version_major": 2,
       "version_minor": 0
      },
      "text/plain": [
       "Map:   0%|          | 0/4620 [00:00<?, ? examples/s]"
      ]
     },
     "metadata": {},
     "output_type": "display_data"
    },
    {
     "data": {
      "application/vnd.jupyter.widget-view+json": {
       "model_id": "7896b130e1094bb4ac16d9612bd422c6",
       "version_major": 2,
       "version_minor": 0
      },
      "text/plain": [
       "Map:   0%|          | 0/1680 [00:00<?, ? examples/s]"
      ]
     },
     "metadata": {},
     "output_type": "display_data"
    },
    {
     "data": {
      "application/vnd.jupyter.widget-view+json": {
       "model_id": "0e64a72fc7c546b99dda5f58f83987b2",
       "version_major": 2,
       "version_minor": 0
      },
      "text/plain": [
       "Map:   0%|          | 0/4620 [00:00<?, ? examples/s]"
      ]
     },
     "metadata": {},
     "output_type": "display_data"
    },
    {
     "data": {
      "application/vnd.jupyter.widget-view+json": {
       "model_id": "0f10a52300434acba3daf15feabb7ab3",
       "version_major": 2,
       "version_minor": 0
      },
      "text/plain": [
       "Map:   0%|          | 0/1680 [00:00<?, ? examples/s]"
      ]
     },
     "metadata": {},
     "output_type": "display_data"
    },
    {
     "data": {
      "application/vnd.jupyter.widget-view+json": {
       "model_id": "d2f0b5a0e93a48dca7a8d6da0c0fee3a",
       "version_major": 2,
       "version_minor": 0
      },
      "text/plain": [
       "Map:   0%|          | 0/4620 [00:00<?, ? examples/s]"
      ]
     },
     "metadata": {},
     "output_type": "display_data"
    },
    {
     "data": {
      "application/vnd.jupyter.widget-view+json": {
       "model_id": "522006198e764a6088683a025da471bf",
       "version_major": 2,
       "version_minor": 0
      },
      "text/plain": [
       "Map:   0%|          | 0/1680 [00:00<?, ? examples/s]"
      ]
     },
     "metadata": {},
     "output_type": "display_data"
    },
    {
     "data": {
      "application/vnd.jupyter.widget-view+json": {
       "model_id": "5426df05f4234d09a2f8a2b744d509d9",
       "version_major": 2,
       "version_minor": 0
      },
      "text/plain": [
       "Map:   0%|          | 0/4620 [00:00<?, ? examples/s]"
      ]
     },
     "metadata": {},
     "output_type": "display_data"
    },
    {
     "data": {
      "application/vnd.jupyter.widget-view+json": {
       "model_id": "980dfa5f9b374e1ca2617153089d28e5",
       "version_major": 2,
       "version_minor": 0
      },
      "text/plain": [
       "Map:   0%|          | 0/1680 [00:00<?, ? examples/s]"
      ]
     },
     "metadata": {},
     "output_type": "display_data"
    },
    {
     "data": {
      "application/vnd.jupyter.widget-view+json": {
       "model_id": "01f0617e8252411d831710ed298ec7ed",
       "version_major": 2,
       "version_minor": 0
      },
      "text/plain": [
       "Map:   0%|          | 0/4620 [00:00<?, ? examples/s]"
      ]
     },
     "metadata": {},
     "output_type": "display_data"
    },
    {
     "data": {
      "application/vnd.jupyter.widget-view+json": {
       "model_id": "c8f0a39697a847adb3d7a18b48640b22",
       "version_major": 2,
       "version_minor": 0
      },
      "text/plain": [
       "Map:   0%|          | 0/1680 [00:00<?, ? examples/s]"
      ]
     },
     "metadata": {},
     "output_type": "display_data"
    },
    {
     "data": {
      "application/vnd.jupyter.widget-view+json": {
       "model_id": "32092ca2d81d4999bb7bcd4e02d7bdc5",
       "version_major": 2,
       "version_minor": 0
      },
      "text/plain": [
       "Saving the dataset (0/3 shards):   0%|          | 0/4620 [00:00<?, ? examples/s]"
      ]
     },
     "metadata": {},
     "output_type": "display_data"
    },
    {
     "data": {
      "application/vnd.jupyter.widget-view+json": {
       "model_id": "57de6afef85a45e88d54f026949c977b",
       "version_major": 2,
       "version_minor": 0
      },
      "text/plain": [
       "Saving the dataset (0/2 shards):   0%|          | 0/1680 [00:00<?, ? examples/s]"
      ]
     },
     "metadata": {},
     "output_type": "display_data"
    },
    {
     "data": {
      "application/vnd.jupyter.widget-view+json": {
       "model_id": "b050731800e24ab1bffabb5319bd5cbf",
       "version_major": 2,
       "version_minor": 0
      },
      "text/plain": [
       "Map:   0%|          | 0/4620 [00:00<?, ? examples/s]"
      ]
     },
     "metadata": {},
     "output_type": "display_data"
    },
    {
     "data": {
      "application/vnd.jupyter.widget-view+json": {
       "model_id": "3b0e4adb03bf4f8fbb4ce68b932c8557",
       "version_major": 2,
       "version_minor": 0
      },
      "text/plain": [
       "Map:   0%|          | 0/1680 [00:00<?, ? examples/s]"
      ]
     },
     "metadata": {},
     "output_type": "display_data"
    }
   ],
   "source": [
    "dataset = load_or_prepare_timit_corpus(\"data/timit_syllables\", \"data/timit_raw\",\n",
    "                                       processor)\n",
    "\n",
    "def add_indices(item, idx):\n",
    "    item[\"idx\"] = idx\n",
    "    return item\n",
    "dataset = dataset.map(add_indices, batched=True, batch_size=2000, with_indices=True)"
   ]
  },
  {
   "cell_type": "code",
   "execution_count": 7,
   "metadata": {},
   "outputs": [
    {
     "data": {
      "text/plain": [
       "{'start': [3898, 6040, 9880, 12280, 12280, 15894, 18046, 21933, 25860, 28702],\n",
       " 'stop': [6040, 9880, 12280, 12280, 17343, 18046, 21933, 25860, 28702, 34500],\n",
       " 'utterance': [\"don't\",\n",
       "  'ask',\n",
       "  'me',\n",
       "  'to',\n",
       "  'carry',\n",
       "  'an',\n",
       "  'oily',\n",
       "  'rag',\n",
       "  'like',\n",
       "  'that']}"
      ]
     },
     "execution_count": 7,
     "metadata": {},
     "output_type": "execute_result"
    }
   ],
   "source": [
    "dataset[\"train\"][1561][\"word_detail\"]"
   ]
  },
  {
   "cell_type": "code",
   "execution_count": 8,
   "metadata": {},
   "outputs": [
    {
     "data": {
      "text/plain": [
       "[[{'idx': 0,\n",
       "   'phoneme_end_idx': 4,\n",
       "   'phoneme_start_idx': 0,\n",
       "   'phones': ['D', 'OW', 'N', 'T'],\n",
       "   'start': 3898,\n",
       "   'stop': 6040,\n",
       "   'stress': None}],\n",
       " [{'idx': 0,\n",
       "   'phoneme_end_idx': 3,\n",
       "   'phoneme_start_idx': 0,\n",
       "   'phones': ['AE', 'S', 'K'],\n",
       "   'start': 6040,\n",
       "   'stop': 9880,\n",
       "   'stress': None}],\n",
       " [{'idx': 0,\n",
       "   'phoneme_end_idx': 2,\n",
       "   'phoneme_start_idx': 0,\n",
       "   'phones': ['M', 'IH'],\n",
       "   'start': 9880,\n",
       "   'stop': 12280,\n",
       "   'stress': None}],\n",
       " [],\n",
       " [{'idx': 0,\n",
       "   'phoneme_end_idx': 2,\n",
       "   'phoneme_start_idx': 0,\n",
       "   'phones': ['K', 'EH'],\n",
       "   'start': 12280,\n",
       "   'stop': 14907,\n",
       "   'stress': None},\n",
       "  {'idx': 1,\n",
       "   'phoneme_end_idx': 4,\n",
       "   'phoneme_start_idx': 2,\n",
       "   'phones': ['R', 'IH'],\n",
       "   'start': 14907,\n",
       "   'stop': 17343,\n",
       "   'stress': None}],\n",
       " [{'idx': 0,\n",
       "   'phoneme_end_idx': 2,\n",
       "   'phoneme_start_idx': 0,\n",
       "   'phones': ['IH', 'N'],\n",
       "   'start': 15894,\n",
       "   'stop': 18046,\n",
       "   'stress': None}],\n",
       " [{'idx': 0,\n",
       "   'phoneme_end_idx': 1,\n",
       "   'phoneme_start_idx': 0,\n",
       "   'phones': ['OY'],\n",
       "   'start': 18046,\n",
       "   'stop': 19960,\n",
       "   'stress': None},\n",
       "  {'idx': 1,\n",
       "   'phoneme_end_idx': 3,\n",
       "   'phoneme_start_idx': 1,\n",
       "   'phones': ['L', 'IH'],\n",
       "   'start': 19960,\n",
       "   'stop': 21933,\n",
       "   'stress': None}],\n",
       " [{'idx': 0,\n",
       "   'phoneme_end_idx': 3,\n",
       "   'phoneme_start_idx': 0,\n",
       "   'phones': ['R', 'AE', 'G'],\n",
       "   'start': 21933,\n",
       "   'stop': 25860,\n",
       "   'stress': None}],\n",
       " [{'idx': 0,\n",
       "   'phoneme_end_idx': 3,\n",
       "   'phoneme_start_idx': 0,\n",
       "   'phones': ['L', 'AY', 'K'],\n",
       "   'start': 25860,\n",
       "   'stop': 28702,\n",
       "   'stress': None}],\n",
       " [{'idx': 0,\n",
       "   'phoneme_end_idx': 3,\n",
       "   'phoneme_start_idx': 0,\n",
       "   'phones': ['DH', 'AE', 'T'],\n",
       "   'start': 28702,\n",
       "   'stop': 34500,\n",
       "   'stress': None}]]"
      ]
     },
     "execution_count": 8,
     "metadata": {},
     "output_type": "execute_result"
    }
   ],
   "source": [
    "dataset[\"train\"][1561][\"word_syllable_detail\"]"
   ]
  },
  {
   "cell_type": "code",
   "execution_count": 9,
   "metadata": {},
   "outputs": [
    {
     "data": {
      "text/plain": [
       "[[{'idx_in_syllable': 0,\n",
       "   'phone': 'D',\n",
       "   'start': 3898,\n",
       "   'stop': 4410,\n",
       "   'stress': None,\n",
       "   'syllable_idx': 0,\n",
       "   'syllable_phones': ['D', 'OW', 'N', 'T'],\n",
       "   'syllable_start': 3898,\n",
       "   'syllable_stop': 6040},\n",
       "  {'idx_in_syllable': 1,\n",
       "   'phone': 'OW',\n",
       "   'start': 4410,\n",
       "   'stop': 5560,\n",
       "   'stress': None,\n",
       "   'syllable_idx': 0,\n",
       "   'syllable_phones': ['D', 'OW', 'N', 'T'],\n",
       "   'syllable_start': 3898,\n",
       "   'syllable_stop': 6040},\n",
       "  {'idx_in_syllable': 2,\n",
       "   'phone': 'N',\n",
       "   'start': 5560,\n",
       "   'stop': 6040,\n",
       "   'stress': None,\n",
       "   'syllable_idx': 0,\n",
       "   'syllable_phones': ['D', 'OW', 'N', 'T'],\n",
       "   'syllable_start': 3898,\n",
       "   'syllable_stop': 6040},\n",
       "  {'idx_in_syllable': 3,\n",
       "   'phone': 'T',\n",
       "   'start': 5560,\n",
       "   'stop': 6040,\n",
       "   'stress': None,\n",
       "   'syllable_idx': 0,\n",
       "   'syllable_phones': ['D', 'OW', 'N', 'T'],\n",
       "   'syllable_start': 3898,\n",
       "   'syllable_stop': 6040}],\n",
       " [{'idx_in_syllable': 0,\n",
       "   'phone': 'AE',\n",
       "   'start': 6040,\n",
       "   'stop': 8146,\n",
       "   'stress': None,\n",
       "   'syllable_idx': 0,\n",
       "   'syllable_phones': ['AE', 'S', 'K'],\n",
       "   'syllable_start': 6040,\n",
       "   'syllable_stop': 9880},\n",
       "  {'idx_in_syllable': 1,\n",
       "   'phone': 'S',\n",
       "   'start': 8146,\n",
       "   'stop': 9220,\n",
       "   'stress': None,\n",
       "   'syllable_idx': 0,\n",
       "   'syllable_phones': ['AE', 'S', 'K'],\n",
       "   'syllable_start': 6040,\n",
       "   'syllable_stop': 9880},\n",
       "  {'idx_in_syllable': 2,\n",
       "   'phone': 'K',\n",
       "   'start': 9220,\n",
       "   'stop': 9880,\n",
       "   'stress': None,\n",
       "   'syllable_idx': 0,\n",
       "   'syllable_phones': ['AE', 'S', 'K'],\n",
       "   'syllable_start': 6040,\n",
       "   'syllable_stop': 9880}],\n",
       " [{'idx_in_syllable': 0,\n",
       "   'phone': 'M',\n",
       "   'start': 9880,\n",
       "   'stop': 10275,\n",
       "   'stress': None,\n",
       "   'syllable_idx': 0,\n",
       "   'syllable_phones': ['M', 'IH'],\n",
       "   'syllable_start': 9880,\n",
       "   'syllable_stop': 12280},\n",
       "  {'idx_in_syllable': 1,\n",
       "   'phone': 'IH',\n",
       "   'start': 10275,\n",
       "   'stop': 12280,\n",
       "   'stress': None,\n",
       "   'syllable_idx': 0,\n",
       "   'syllable_phones': ['M', 'IH'],\n",
       "   'syllable_start': 9880,\n",
       "   'syllable_stop': 12280}],\n",
       " [],\n",
       " [{'idx_in_syllable': 0,\n",
       "   'phone': 'K',\n",
       "   'start': 12280,\n",
       "   'stop': 14260,\n",
       "   'stress': None,\n",
       "   'syllable_idx': 0,\n",
       "   'syllable_phones': ['K', 'EH'],\n",
       "   'syllable_start': 12280,\n",
       "   'syllable_stop': 14907},\n",
       "  {'idx_in_syllable': 1,\n",
       "   'phone': 'EH',\n",
       "   'start': 14260,\n",
       "   'stop': 14907,\n",
       "   'stress': None,\n",
       "   'syllable_idx': 0,\n",
       "   'syllable_phones': ['K', 'EH'],\n",
       "   'syllable_start': 12280,\n",
       "   'syllable_stop': 14907},\n",
       "  {'idx_in_syllable': 0,\n",
       "   'phone': 'R',\n",
       "   'start': 14907,\n",
       "   'stop': 15894,\n",
       "   'stress': None,\n",
       "   'syllable_idx': 1,\n",
       "   'syllable_phones': ['R', 'IH'],\n",
       "   'syllable_start': 14907,\n",
       "   'syllable_stop': 17343},\n",
       "  {'idx_in_syllable': 1,\n",
       "   'phone': 'IH',\n",
       "   'start': 15894,\n",
       "   'stop': 17343,\n",
       "   'stress': None,\n",
       "   'syllable_idx': 1,\n",
       "   'syllable_phones': ['R', 'IH'],\n",
       "   'syllable_start': 14907,\n",
       "   'syllable_stop': 17343}],\n",
       " [{'idx_in_syllable': 0,\n",
       "   'phone': 'IH',\n",
       "   'start': 15894,\n",
       "   'stop': 17343,\n",
       "   'stress': None,\n",
       "   'syllable_idx': 0,\n",
       "   'syllable_phones': ['IH', 'N'],\n",
       "   'syllable_start': 15894,\n",
       "   'syllable_stop': 18046},\n",
       "  {'idx_in_syllable': 1,\n",
       "   'phone': 'N',\n",
       "   'start': 17343,\n",
       "   'stop': 18046,\n",
       "   'stress': None,\n",
       "   'syllable_idx': 0,\n",
       "   'syllable_phones': ['IH', 'N'],\n",
       "   'syllable_start': 15894,\n",
       "   'syllable_stop': 18046}],\n",
       " [{'idx_in_syllable': 0,\n",
       "   'phone': 'OY',\n",
       "   'start': 18046,\n",
       "   'stop': 19960,\n",
       "   'stress': None,\n",
       "   'syllable_idx': 0,\n",
       "   'syllable_phones': ['OY'],\n",
       "   'syllable_start': 18046,\n",
       "   'syllable_stop': 19960},\n",
       "  {'idx_in_syllable': 0,\n",
       "   'phone': 'L',\n",
       "   'start': 19960,\n",
       "   'stop': 20760,\n",
       "   'stress': None,\n",
       "   'syllable_idx': 1,\n",
       "   'syllable_phones': ['L', 'IH'],\n",
       "   'syllable_start': 19960,\n",
       "   'syllable_stop': 21933},\n",
       "  {'idx_in_syllable': 1,\n",
       "   'phone': 'IH',\n",
       "   'start': 20760,\n",
       "   'stop': 21933,\n",
       "   'stress': None,\n",
       "   'syllable_idx': 1,\n",
       "   'syllable_phones': ['L', 'IH'],\n",
       "   'syllable_start': 19960,\n",
       "   'syllable_stop': 21933}],\n",
       " [{'idx_in_syllable': 0,\n",
       "   'phone': 'R',\n",
       "   'start': 21933,\n",
       "   'stop': 23134,\n",
       "   'stress': None,\n",
       "   'syllable_idx': 0,\n",
       "   'syllable_phones': ['R', 'AE', 'G'],\n",
       "   'syllable_start': 21933,\n",
       "   'syllable_stop': 25860},\n",
       "  {'idx_in_syllable': 1,\n",
       "   'phone': 'AE',\n",
       "   'start': 23134,\n",
       "   'stop': 25000,\n",
       "   'stress': None,\n",
       "   'syllable_idx': 0,\n",
       "   'syllable_phones': ['R', 'AE', 'G'],\n",
       "   'syllable_start': 21933,\n",
       "   'syllable_stop': 25860},\n",
       "  {'idx_in_syllable': 2,\n",
       "   'phone': 'G',\n",
       "   'start': 25000,\n",
       "   'stop': 25860,\n",
       "   'stress': None,\n",
       "   'syllable_idx': 0,\n",
       "   'syllable_phones': ['R', 'AE', 'G'],\n",
       "   'syllable_start': 21933,\n",
       "   'syllable_stop': 25860}],\n",
       " [{'idx_in_syllable': 0,\n",
       "   'phone': 'L',\n",
       "   'start': 25860,\n",
       "   'stop': 26480,\n",
       "   'stress': None,\n",
       "   'syllable_idx': 0,\n",
       "   'syllable_phones': ['L', 'AY', 'K'],\n",
       "   'syllable_start': 25860,\n",
       "   'syllable_stop': 28702},\n",
       "  {'idx_in_syllable': 1,\n",
       "   'phone': 'AY',\n",
       "   'start': 26480,\n",
       "   'stop': 27720,\n",
       "   'stress': None,\n",
       "   'syllable_idx': 0,\n",
       "   'syllable_phones': ['L', 'AY', 'K'],\n",
       "   'syllable_start': 25860,\n",
       "   'syllable_stop': 28702},\n",
       "  {'idx_in_syllable': 2,\n",
       "   'phone': 'K',\n",
       "   'start': 27720,\n",
       "   'stop': 28702,\n",
       "   'stress': None,\n",
       "   'syllable_idx': 0,\n",
       "   'syllable_phones': ['L', 'AY', 'K'],\n",
       "   'syllable_start': 25860,\n",
       "   'syllable_stop': 28702}],\n",
       " [{'idx_in_syllable': 0,\n",
       "   'phone': 'DH',\n",
       "   'start': 28702,\n",
       "   'stop': 29390,\n",
       "   'stress': None,\n",
       "   'syllable_idx': 0,\n",
       "   'syllable_phones': ['DH', 'AE', 'T'],\n",
       "   'syllable_start': 28702,\n",
       "   'syllable_stop': 34500},\n",
       "  {'idx_in_syllable': 1,\n",
       "   'phone': 'AE',\n",
       "   'start': 29390,\n",
       "   'stop': 33480,\n",
       "   'stress': None,\n",
       "   'syllable_idx': 0,\n",
       "   'syllable_phones': ['DH', 'AE', 'T'],\n",
       "   'syllable_start': 28702,\n",
       "   'syllable_stop': 34500},\n",
       "  {'idx_in_syllable': 2,\n",
       "   'phone': 'T',\n",
       "   'start': 33480,\n",
       "   'stop': 34500,\n",
       "   'stress': None,\n",
       "   'syllable_idx': 0,\n",
       "   'syllable_phones': ['DH', 'AE', 'T'],\n",
       "   'syllable_start': 28702,\n",
       "   'syllable_stop': 34500}]]"
      ]
     },
     "execution_count": 9,
     "metadata": {},
     "output_type": "execute_result"
    }
   ],
   "source": [
    "dataset[\"train\"][1561][\"word_phonemic_detail\"]"
   ]
  },
  {
   "cell_type": "code",
   "execution_count": null,
   "metadata": {},
   "outputs": [],
   "source": []
  }
 ],
 "metadata": {
  "kernelspec": {
   "display_name": "explore310",
   "language": "python",
   "name": "python3"
  },
  "language_info": {
   "codemirror_mode": {
    "name": "ipython",
    "version": 3
   },
   "file_extension": ".py",
   "mimetype": "text/x-python",
   "name": "python",
   "nbconvert_exporter": "python",
   "pygments_lexer": "ipython3",
   "version": "3.10.13"
  }
 },
 "nbformat": 4,
 "nbformat_minor": 2
}
