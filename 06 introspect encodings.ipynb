{
 "cells": [
  {
   "cell_type": "markdown",
   "metadata": {},
   "source": [
    "Analyze properties of ideal word encodings"
   ]
  },
  {
   "cell_type": "code",
   "execution_count": 54,
   "metadata": {},
   "outputs": [],
   "source": [
    "from collections import defaultdict\n",
    "import itertools\n",
    "\n",
    "import h5py\n",
    "import numpy as np\n",
    "import pandas as pd\n",
    "from scipy.spatial.distance import pdist, squareform\n",
    "from tqdm.auto import tqdm, trange"
   ]
  },
  {
   "cell_type": "code",
   "execution_count": 2,
   "metadata": {},
   "outputs": [],
   "source": [
    "word_encoding_path = \"word_encodings/nce.h5\""
   ]
  },
  {
   "cell_type": "code",
   "execution_count": 63,
   "metadata": {},
   "outputs": [],
   "source": [
    "with h5py.File(\"word_encodings/autoencoder.h5\", \"r\") as f:\n",
    "    word_encodings = f[\"encodings\"][()]\n",
    "    word_encoding_ids = f[\"ids\"][()]"
   ]
  },
  {
   "cell_type": "code",
   "execution_count": 64,
   "metadata": {},
   "outputs": [
    {
     "data": {
      "text/html": [
       "<div>\n",
       "<style scoped>\n",
       "    .dataframe tbody tr th:only-of-type {\n",
       "        vertical-align: middle;\n",
       "    }\n",
       "\n",
       "    .dataframe tbody tr th {\n",
       "        vertical-align: top;\n",
       "    }\n",
       "\n",
       "    .dataframe thead th {\n",
       "        text-align: right;\n",
       "    }\n",
       "</style>\n",
       "<table border=\"1\" class=\"dataframe\">\n",
       "  <thead>\n",
       "    <tr style=\"text-align: right;\">\n",
       "      <th></th>\n",
       "      <th></th>\n",
       "      <th></th>\n",
       "      <th></th>\n",
       "      <th>phone_idx</th>\n",
       "      <th>onset</th>\n",
       "      <th>offset_word</th>\n",
       "      <th>word</th>\n",
       "      <th>word_phon</th>\n",
       "    </tr>\n",
       "    <tr>\n",
       "      <th>dialect</th>\n",
       "      <th>speaker</th>\n",
       "      <th>sentence_idx</th>\n",
       "      <th>word_idx</th>\n",
       "      <th></th>\n",
       "      <th></th>\n",
       "      <th></th>\n",
       "      <th></th>\n",
       "      <th></th>\n",
       "    </tr>\n",
       "  </thead>\n",
       "  <tbody>\n",
       "    <tr>\n",
       "      <th rowspan=\"5\" valign=\"top\">DR1</th>\n",
       "      <th rowspan=\"5\" valign=\"top\">FCJF0</th>\n",
       "      <th rowspan=\"5\" valign=\"top\">SA1</th>\n",
       "      <th>0</th>\n",
       "      <td>1</td>\n",
       "      <td>3050</td>\n",
       "      <td>5723</td>\n",
       "      <td>she</td>\n",
       "      <td>sh ix</td>\n",
       "    </tr>\n",
       "    <tr>\n",
       "      <th>1</th>\n",
       "      <td>3</td>\n",
       "      <td>5723</td>\n",
       "      <td>10337</td>\n",
       "      <td>had</td>\n",
       "      <td>hv eh dcl</td>\n",
       "    </tr>\n",
       "    <tr>\n",
       "      <th>2</th>\n",
       "      <td>6</td>\n",
       "      <td>9190</td>\n",
       "      <td>11517</td>\n",
       "      <td>your</td>\n",
       "      <td>jh ih</td>\n",
       "    </tr>\n",
       "    <tr>\n",
       "      <th>3</th>\n",
       "      <td>8</td>\n",
       "      <td>11517</td>\n",
       "      <td>16334</td>\n",
       "      <td>dark</td>\n",
       "      <td>dcl d ah kcl k</td>\n",
       "    </tr>\n",
       "    <tr>\n",
       "      <th>4</th>\n",
       "      <td>13</td>\n",
       "      <td>16334</td>\n",
       "      <td>21199</td>\n",
       "      <td>suit</td>\n",
       "      <td>s ux q</td>\n",
       "    </tr>\n",
       "    <tr>\n",
       "      <th>...</th>\n",
       "      <th>...</th>\n",
       "      <th>...</th>\n",
       "      <th>...</th>\n",
       "      <td>...</td>\n",
       "      <td>...</td>\n",
       "      <td>...</td>\n",
       "      <td>...</td>\n",
       "      <td>...</td>\n",
       "    </tr>\n",
       "    <tr>\n",
       "      <th rowspan=\"5\" valign=\"top\">DR8</th>\n",
       "      <th rowspan=\"5\" valign=\"top\">MTCS0</th>\n",
       "      <th rowspan=\"5\" valign=\"top\">SX82</th>\n",
       "      <th>3</th>\n",
       "      <td>12</td>\n",
       "      <td>17110</td>\n",
       "      <td>18920</td>\n",
       "      <td>be</td>\n",
       "      <td>b iy</td>\n",
       "    </tr>\n",
       "    <tr>\n",
       "      <th>4</th>\n",
       "      <td>14</td>\n",
       "      <td>18920</td>\n",
       "      <td>26520</td>\n",
       "      <td>rewarded</td>\n",
       "      <td>r ix w ao r dx ih dcl</td>\n",
       "    </tr>\n",
       "    <tr>\n",
       "      <th>5</th>\n",
       "      <td>22</td>\n",
       "      <td>26520</td>\n",
       "      <td>28490</td>\n",
       "      <td>by</td>\n",
       "      <td>b ay</td>\n",
       "    </tr>\n",
       "    <tr>\n",
       "      <th>6</th>\n",
       "      <td>24</td>\n",
       "      <td>28490</td>\n",
       "      <td>33770</td>\n",
       "      <td>big</td>\n",
       "      <td>bcl b ih gcl</td>\n",
       "    </tr>\n",
       "    <tr>\n",
       "      <th>7</th>\n",
       "      <td>28</td>\n",
       "      <td>33770</td>\n",
       "      <td>40870</td>\n",
       "      <td>tips</td>\n",
       "      <td>t ih pcl p s</td>\n",
       "    </tr>\n",
       "  </tbody>\n",
       "</table>\n",
       "<p>39823 rows × 5 columns</p>\n",
       "</div>"
      ],
      "text/plain": [
       "                                       phone_idx  onset  offset_word  \\\n",
       "dialect speaker sentence_idx word_idx                                  \n",
       "DR1     FCJF0   SA1          0                 1   3050         5723   \n",
       "                             1                 3   5723        10337   \n",
       "                             2                 6   9190        11517   \n",
       "                             3                 8  11517        16334   \n",
       "                             4                13  16334        21199   \n",
       "...                                          ...    ...          ...   \n",
       "DR8     MTCS0   SX82         3                12  17110        18920   \n",
       "                             4                14  18920        26520   \n",
       "                             5                22  26520        28490   \n",
       "                             6                24  28490        33770   \n",
       "                             7                28  33770        40870   \n",
       "\n",
       "                                           word              word_phon  \n",
       "dialect speaker sentence_idx word_idx                                   \n",
       "DR1     FCJF0   SA1          0              she                  sh ix  \n",
       "                             1              had              hv eh dcl  \n",
       "                             2             your                  jh ih  \n",
       "                             3             dark         dcl d ah kcl k  \n",
       "                             4             suit                 s ux q  \n",
       "...                                         ...                    ...  \n",
       "DR8     MTCS0   SX82         3               be                   b iy  \n",
       "                             4         rewarded  r ix w ao r dx ih dcl  \n",
       "                             5               by                   b ay  \n",
       "                             6              big           bcl b ih gcl  \n",
       "                             7             tips           t ih pcl p s  \n",
       "\n",
       "[39823 rows x 5 columns]"
      ]
     },
     "execution_count": 64,
     "metadata": {},
     "output_type": "execute_result"
    }
   ],
   "source": [
    "timit_df = pd.read_csv(\"timit_merged.csv\", index_col=[\"dialect\", \"speaker\", \"sentence_idx\", \"word_idx\"])\n",
    "timit_word_df = timit_df.loc[~timit_df.index.duplicated(keep=\"first\")].drop(columns=[\"phone\", \"offset\"])\n",
    "timit_word_df"
   ]
  },
  {
   "cell_type": "code",
   "execution_count": 65,
   "metadata": {},
   "outputs": [
    {
     "data": {
      "text/plain": [
       "[(('FCJF0', 'SA1', 0), ['sh', 'ix']),\n",
       " (('FCJF0', 'SA1', 1), ['hv', 'eh', 'dcl']),\n",
       " (('FCJF0', 'SA1', 2), ['jh', 'ih']),\n",
       " (('FCJF0', 'SA1', 3), ['dcl', 'd', 'ah', 'kcl', 'k']),\n",
       " (('FCJF0', 'SA1', 4), ['s', 'ux', 'q'])]"
      ]
     },
     "execution_count": 65,
     "metadata": {},
     "output_type": "execute_result"
    }
   ],
   "source": [
    "word_id_to_phons = timit_word_df.reset_index().set_index([\"speaker\", \"sentence_idx\", \"word_idx\"]).apply(lambda x: x.word_phon.split(\" \"), axis=1)\n",
    "list(word_id_to_phons.items())[:5]"
   ]
  },
  {
   "cell_type": "code",
   "execution_count": 66,
   "metadata": {},
   "outputs": [],
   "source": [
    "word_id_to_idx = {(speaker, sentence_idx, int(word_idx)): idx\n",
    "                  for idx, (speaker, sentence_idx, word_idx)\n",
    "                  in enumerate(word_encoding_ids.astype(\"U\"))}"
   ]
  },
  {
   "cell_type": "markdown",
   "metadata": {},
   "source": [
    "### Cohort test"
   ]
  },
  {
   "cell_type": "code",
   "execution_count": 79,
   "metadata": {},
   "outputs": [],
   "source": [
    "def compute_cohorts(cohort_size):\n",
    "    words_by_prefix = defaultdict(list)\n",
    "    for word_id, phons in word_id_to_phons.items():\n",
    "        if len(phons) < cohort_size:\n",
    "            continue\n",
    "        prefix = tuple(phons[:cohort_size])\n",
    "        words_by_prefix[prefix].append(word_id)\n",
    "    return dict(words_by_prefix)\n",
    "\n",
    "\n",
    "def compute_average_cohort_distance(cohort_size):\n",
    "    cohorts = compute_cohorts(cohort_size)\n",
    "    cohort_distances = {}\n",
    "    \n",
    "    for cohort, ids in cohorts.items():\n",
    "        # Retrieve relevant encodings\n",
    "        word_idxs = [word_id_to_idx[word_id] for word_id in ids\n",
    "                     if word_id in word_id_to_idx]\n",
    "        encodings = word_encodings[word_idxs]\n",
    "        \n",
    "        dists = squareform(pdist(encodings))\n",
    "        dists = dists[np.tril_indices_from(dists)]\n",
    "        cohort_distances[cohort] = dists.mean()\n",
    "\n",
    "    return np.mean(list(cohort_distances.values()))"
   ]
  },
  {
   "cell_type": "code",
   "execution_count": 80,
   "metadata": {},
   "outputs": [
    {
     "data": {
      "text/plain": [
       "{1: 3.649191884897041,\n",
       " 2: 1.4465445522198006,\n",
       " 3: 0.4722180584214214,\n",
       " 4: 0.19796171486680023,\n",
       " 5: 0.08983308468185001}"
      ]
     },
     "execution_count": 80,
     "metadata": {},
     "output_type": "execute_result"
    }
   ],
   "source": [
    "cohort_options = [1, 2, 3, 4, 5]\n",
    "dists = {size: compute_average_cohort_distance(size) for size in cohort_options}\n",
    "dists"
   ]
  }
 ],
 "metadata": {
  "kernelspec": {
   "display_name": "explore310",
   "language": "python",
   "name": "python3"
  },
  "language_info": {
   "codemirror_mode": {
    "name": "ipython",
    "version": 3
   },
   "file_extension": ".py",
   "mimetype": "text/x-python",
   "name": "python",
   "nbconvert_exporter": "python",
   "pygments_lexer": "ipython3",
   "version": "3.10.13"
  }
 },
 "nbformat": 4,
 "nbformat_minor": 2
}
